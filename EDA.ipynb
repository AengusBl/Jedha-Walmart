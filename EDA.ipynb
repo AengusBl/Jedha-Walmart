{
 "cells": [
  {
   "cell_type": "code",
   "execution_count": null,
   "id": "96fce1b2",
   "metadata": {},
   "outputs": [
    {
     "data": {
      "text/html": [
       "<div>\n",
       "<style scoped>\n",
       "    .dataframe tbody tr th:only-of-type {\n",
       "        vertical-align: middle;\n",
       "    }\n",
       "\n",
       "    .dataframe tbody tr th {\n",
       "        vertical-align: top;\n",
       "    }\n",
       "\n",
       "    .dataframe thead th {\n",
       "        text-align: right;\n",
       "    }\n",
       "</style>\n",
       "<table border=\"1\" class=\"dataframe\">\n",
       "  <thead>\n",
       "    <tr style=\"text-align: right;\">\n",
       "      <th></th>\n",
       "      <th>Store</th>\n",
       "      <th>Date</th>\n",
       "      <th>Weekly_Sales</th>\n",
       "      <th>Holiday_Flag</th>\n",
       "      <th>Temperature</th>\n",
       "      <th>Fuel_Price</th>\n",
       "      <th>CPI</th>\n",
       "      <th>Unemployment</th>\n",
       "    </tr>\n",
       "  </thead>\n",
       "  <tbody>\n",
       "    <tr>\n",
       "      <th>0</th>\n",
       "      <td>6.0</td>\n",
       "      <td>18-02-2011</td>\n",
       "      <td>1572117.54</td>\n",
       "      <td>NaN</td>\n",
       "      <td>59.61</td>\n",
       "      <td>3.045</td>\n",
       "      <td>214.777523</td>\n",
       "      <td>6.858</td>\n",
       "    </tr>\n",
       "    <tr>\n",
       "      <th>1</th>\n",
       "      <td>13.0</td>\n",
       "      <td>25-03-2011</td>\n",
       "      <td>1807545.43</td>\n",
       "      <td>0.0</td>\n",
       "      <td>42.38</td>\n",
       "      <td>3.435</td>\n",
       "      <td>128.616064</td>\n",
       "      <td>7.470</td>\n",
       "    </tr>\n",
       "    <tr>\n",
       "      <th>2</th>\n",
       "      <td>17.0</td>\n",
       "      <td>27-07-2012</td>\n",
       "      <td>NaN</td>\n",
       "      <td>0.0</td>\n",
       "      <td>NaN</td>\n",
       "      <td>NaN</td>\n",
       "      <td>130.719581</td>\n",
       "      <td>5.936</td>\n",
       "    </tr>\n",
       "    <tr>\n",
       "      <th>3</th>\n",
       "      <td>11.0</td>\n",
       "      <td>NaN</td>\n",
       "      <td>1244390.03</td>\n",
       "      <td>0.0</td>\n",
       "      <td>84.57</td>\n",
       "      <td>NaN</td>\n",
       "      <td>214.556497</td>\n",
       "      <td>7.346</td>\n",
       "    </tr>\n",
       "    <tr>\n",
       "      <th>4</th>\n",
       "      <td>6.0</td>\n",
       "      <td>28-05-2010</td>\n",
       "      <td>1644470.66</td>\n",
       "      <td>0.0</td>\n",
       "      <td>78.89</td>\n",
       "      <td>2.759</td>\n",
       "      <td>212.412888</td>\n",
       "      <td>7.092</td>\n",
       "    </tr>\n",
       "  </tbody>\n",
       "</table>\n",
       "</div>"
      ],
      "text/plain": [
       "   Store        Date  Weekly_Sales  Holiday_Flag  Temperature  Fuel_Price  \\\n",
       "0    6.0  18-02-2011    1572117.54           NaN        59.61       3.045   \n",
       "1   13.0  25-03-2011    1807545.43           0.0        42.38       3.435   \n",
       "2   17.0  27-07-2012           NaN           0.0          NaN         NaN   \n",
       "3   11.0         NaN    1244390.03           0.0        84.57         NaN   \n",
       "4    6.0  28-05-2010    1644470.66           0.0        78.89       2.759   \n",
       "\n",
       "          CPI  Unemployment  \n",
       "0  214.777523         6.858  \n",
       "1  128.616064         7.470  \n",
       "2  130.719581         5.936  \n",
       "3  214.556497         7.346  \n",
       "4  212.412888         7.092  "
      ]
     },
     "metadata": {},
     "output_type": "display_data"
    }
   ],
   "source": [
    "import pandas as pd\n",
    "\n",
    "data_df = pd.read_csv(\"https://julie-resources.s3.eu-west-3.amazonaws.com/full-stack-full-time/projects-supervised-machine-learning-ft/walmart-sales-ft/Walmart_Store_sales.csv\")\n",
    "data_df.head()"
   ]
  },
  {
   "cell_type": "code",
   "execution_count": null,
   "id": "d8135d1e",
   "metadata": {},
   "outputs": [
    {
     "name": "stdout",
     "output_type": "stream",
     "text": [
      "Store\n",
      "3.0     15\n",
      "1.0     11\n",
      "18.0    10\n",
      "13.0     9\n",
      "5.0      9\n",
      "19.0     9\n",
      "14.0     9\n",
      "17.0     8\n",
      "2.0      8\n",
      "8.0      8\n",
      "7.0      8\n",
      "6.0      7\n",
      "20.0     7\n",
      "4.0      7\n",
      "10.0     5\n",
      "12.0     5\n",
      "16.0     4\n",
      "15.0     4\n",
      "9.0      4\n",
      "11.0     3\n",
      "Name: count, dtype: int64\n",
      "\n",
      "Date\n",
      "19-10-2012    4\n",
      "07-01-2011    4\n",
      "10-12-2010    3\n",
      "28-05-2010    3\n",
      "25-03-2011    3\n",
      "             ..\n",
      "22-04-2011    1\n",
      "25-05-2012    1\n",
      "07-10-2011    1\n",
      "04-06-2010    1\n",
      "11-06-2010    1\n",
      "Name: count, Length: 85, dtype: int64\n",
      "\n",
      "Weekly_Sales\n",
      "1572117.54    1\n",
      "1807545.43    1\n",
      "1244390.03    1\n",
      "1644470.66    1\n",
      "1857533.70    1\n",
      "             ..\n",
      "2248645.59    1\n",
      "716388.81     1\n",
      "845252.21     1\n",
      "856796.10     1\n",
      "1255087.26    1\n",
      "Name: count, Length: 136, dtype: int64\n",
      "\n",
      "Holiday_Flag\n",
      "0.0    127\n",
      "1.0     11\n",
      "Name: count, dtype: int64\n",
      "\n",
      "Temperature\n",
      "52.77    2\n",
      "68.91    2\n",
      "42.38    1\n",
      "59.61    1\n",
      "69.80    1\n",
      "        ..\n",
      "72.62    1\n",
      "20.74    1\n",
      "57.14    1\n",
      "86.05    1\n",
      "55.20    1\n",
      "Name: count, Length: 130, dtype: int64\n",
      "\n",
      "Fuel_Price\n",
      "3.594    4\n",
      "3.630    3\n",
      "2.780    2\n",
      "3.555    2\n",
      "2.619    2\n",
      "        ..\n",
      "2.705    1\n",
      "2.778    1\n",
      "2.841    1\n",
      "3.638    1\n",
      "4.170    1\n",
      "Name: count, Length: 120, dtype: int64\n",
      "\n",
      "CPI\n",
      "127.191774    2\n",
      "126.793400    2\n",
      "129.201581    2\n",
      "214.556497    1\n",
      "214.777523    1\n",
      "             ..\n",
      "226.968844    1\n",
      "182.442420    1\n",
      "126.111903    1\n",
      "219.007525    1\n",
      "137.923067    1\n",
      "Name: count, Length: 135, dtype: int64\n",
      "\n",
      "Unemployment\n",
      "8.150    4\n",
      "6.833    3\n",
      "6.664    3\n",
      "6.315    3\n",
      "6.425    2\n",
      "        ..\n",
      "6.855    1\n",
      "7.551    1\n",
      "6.768    1\n",
      "6.034    1\n",
      "8.899    1\n",
      "Name: count, Length: 104, dtype: int64\n",
      "\n"
     ]
    }
   ],
   "source": [
    "for col in data_df.columns:\n",
    "    print(data_df[col].value_counts(), end=\"\\n\\n\")"
   ]
  },
  {
   "cell_type": "code",
   "execution_count": null,
   "id": "fb41e4fb",
   "metadata": {},
   "outputs": [
    {
     "data": {
      "text/html": [
       "<div>\n",
       "<style scoped>\n",
       "    .dataframe tbody tr th:only-of-type {\n",
       "        vertical-align: middle;\n",
       "    }\n",
       "\n",
       "    .dataframe tbody tr th {\n",
       "        vertical-align: top;\n",
       "    }\n",
       "\n",
       "    .dataframe thead th {\n",
       "        text-align: right;\n",
       "    }\n",
       "</style>\n",
       "<table border=\"1\" class=\"dataframe\">\n",
       "  <thead>\n",
       "    <tr style=\"text-align: right;\">\n",
       "      <th></th>\n",
       "      <th>Store</th>\n",
       "      <th>Date</th>\n",
       "      <th>Weekly_Sales</th>\n",
       "      <th>Holiday_Flag</th>\n",
       "      <th>Temperature</th>\n",
       "      <th>Fuel_Price</th>\n",
       "      <th>CPI</th>\n",
       "      <th>Unemployment</th>\n",
       "    </tr>\n",
       "  </thead>\n",
       "  <tbody>\n",
       "    <tr>\n",
       "      <th>count</th>\n",
       "      <td>150.000000</td>\n",
       "      <td>132</td>\n",
       "      <td>1.360000e+02</td>\n",
       "      <td>138.000000</td>\n",
       "      <td>132.000000</td>\n",
       "      <td>136.000000</td>\n",
       "      <td>138.000000</td>\n",
       "      <td>135.000000</td>\n",
       "    </tr>\n",
       "    <tr>\n",
       "      <th>unique</th>\n",
       "      <td>NaN</td>\n",
       "      <td>85</td>\n",
       "      <td>NaN</td>\n",
       "      <td>NaN</td>\n",
       "      <td>NaN</td>\n",
       "      <td>NaN</td>\n",
       "      <td>NaN</td>\n",
       "      <td>NaN</td>\n",
       "    </tr>\n",
       "    <tr>\n",
       "      <th>top</th>\n",
       "      <td>NaN</td>\n",
       "      <td>19-10-2012</td>\n",
       "      <td>NaN</td>\n",
       "      <td>NaN</td>\n",
       "      <td>NaN</td>\n",
       "      <td>NaN</td>\n",
       "      <td>NaN</td>\n",
       "      <td>NaN</td>\n",
       "    </tr>\n",
       "    <tr>\n",
       "      <th>freq</th>\n",
       "      <td>NaN</td>\n",
       "      <td>4</td>\n",
       "      <td>NaN</td>\n",
       "      <td>NaN</td>\n",
       "      <td>NaN</td>\n",
       "      <td>NaN</td>\n",
       "      <td>NaN</td>\n",
       "      <td>NaN</td>\n",
       "    </tr>\n",
       "    <tr>\n",
       "      <th>mean</th>\n",
       "      <td>9.866667</td>\n",
       "      <td>NaN</td>\n",
       "      <td>1.249536e+06</td>\n",
       "      <td>0.079710</td>\n",
       "      <td>61.398106</td>\n",
       "      <td>3.320853</td>\n",
       "      <td>179.898509</td>\n",
       "      <td>7.598430</td>\n",
       "    </tr>\n",
       "    <tr>\n",
       "      <th>std</th>\n",
       "      <td>6.231191</td>\n",
       "      <td>NaN</td>\n",
       "      <td>6.474630e+05</td>\n",
       "      <td>0.271831</td>\n",
       "      <td>18.378901</td>\n",
       "      <td>0.478149</td>\n",
       "      <td>40.274956</td>\n",
       "      <td>1.577173</td>\n",
       "    </tr>\n",
       "    <tr>\n",
       "      <th>min</th>\n",
       "      <td>1.000000</td>\n",
       "      <td>NaN</td>\n",
       "      <td>2.689290e+05</td>\n",
       "      <td>0.000000</td>\n",
       "      <td>18.790000</td>\n",
       "      <td>2.514000</td>\n",
       "      <td>126.111903</td>\n",
       "      <td>5.143000</td>\n",
       "    </tr>\n",
       "    <tr>\n",
       "      <th>25%</th>\n",
       "      <td>4.000000</td>\n",
       "      <td>NaN</td>\n",
       "      <td>6.050757e+05</td>\n",
       "      <td>0.000000</td>\n",
       "      <td>45.587500</td>\n",
       "      <td>2.852250</td>\n",
       "      <td>131.970831</td>\n",
       "      <td>6.597500</td>\n",
       "    </tr>\n",
       "    <tr>\n",
       "      <th>50%</th>\n",
       "      <td>9.000000</td>\n",
       "      <td>NaN</td>\n",
       "      <td>1.261424e+06</td>\n",
       "      <td>0.000000</td>\n",
       "      <td>62.985000</td>\n",
       "      <td>3.451000</td>\n",
       "      <td>197.908893</td>\n",
       "      <td>7.470000</td>\n",
       "    </tr>\n",
       "    <tr>\n",
       "      <th>75%</th>\n",
       "      <td>15.750000</td>\n",
       "      <td>NaN</td>\n",
       "      <td>1.806386e+06</td>\n",
       "      <td>0.000000</td>\n",
       "      <td>76.345000</td>\n",
       "      <td>3.706250</td>\n",
       "      <td>214.934616</td>\n",
       "      <td>8.150000</td>\n",
       "    </tr>\n",
       "    <tr>\n",
       "      <th>max</th>\n",
       "      <td>20.000000</td>\n",
       "      <td>NaN</td>\n",
       "      <td>2.771397e+06</td>\n",
       "      <td>1.000000</td>\n",
       "      <td>91.650000</td>\n",
       "      <td>4.193000</td>\n",
       "      <td>226.968844</td>\n",
       "      <td>14.313000</td>\n",
       "    </tr>\n",
       "  </tbody>\n",
       "</table>\n",
       "</div>"
      ],
      "text/plain": [
       "             Store        Date  Weekly_Sales  Holiday_Flag  Temperature  \\\n",
       "count   150.000000         132  1.360000e+02    138.000000   132.000000   \n",
       "unique         NaN          85           NaN           NaN          NaN   \n",
       "top            NaN  19-10-2012           NaN           NaN          NaN   \n",
       "freq           NaN           4           NaN           NaN          NaN   \n",
       "mean      9.866667         NaN  1.249536e+06      0.079710    61.398106   \n",
       "std       6.231191         NaN  6.474630e+05      0.271831    18.378901   \n",
       "min       1.000000         NaN  2.689290e+05      0.000000    18.790000   \n",
       "25%       4.000000         NaN  6.050757e+05      0.000000    45.587500   \n",
       "50%       9.000000         NaN  1.261424e+06      0.000000    62.985000   \n",
       "75%      15.750000         NaN  1.806386e+06      0.000000    76.345000   \n",
       "max      20.000000         NaN  2.771397e+06      1.000000    91.650000   \n",
       "\n",
       "        Fuel_Price         CPI  Unemployment  \n",
       "count   136.000000  138.000000    135.000000  \n",
       "unique         NaN         NaN           NaN  \n",
       "top            NaN         NaN           NaN  \n",
       "freq           NaN         NaN           NaN  \n",
       "mean      3.320853  179.898509      7.598430  \n",
       "std       0.478149   40.274956      1.577173  \n",
       "min       2.514000  126.111903      5.143000  \n",
       "25%       2.852250  131.970831      6.597500  \n",
       "50%       3.451000  197.908893      7.470000  \n",
       "75%       3.706250  214.934616      8.150000  \n",
       "max       4.193000  226.968844     14.313000  "
      ]
     },
     "metadata": {},
     "output_type": "display_data"
    }
   ],
   "source": [
    "data_df.describe(include=\"all\")"
   ]
  },
  {
   "cell_type": "code",
   "execution_count": null,
   "id": "1d546110",
   "metadata": {},
   "outputs": [
    {
     "data": {
      "text/plain": [
       "Store            0\n",
       "Date            18\n",
       "Weekly_Sales    14\n",
       "Holiday_Flag    12\n",
       "Temperature     18\n",
       "Fuel_Price      14\n",
       "CPI             12\n",
       "Unemployment    15\n",
       "dtype: int64"
      ]
     },
     "metadata": {},
     "output_type": "display_data"
    }
   ],
   "source": [
    "data_df.isna().sum()"
   ]
  },
  {
   "cell_type": "code",
   "execution_count": null,
   "id": "1af70aed",
   "metadata": {},
   "outputs": [
    {
     "data": {
      "text/html": [
       "<div>\n",
       "<style scoped>\n",
       "    .dataframe tbody tr th:only-of-type {\n",
       "        vertical-align: middle;\n",
       "    }\n",
       "\n",
       "    .dataframe tbody tr th {\n",
       "        vertical-align: top;\n",
       "    }\n",
       "\n",
       "    .dataframe thead th {\n",
       "        text-align: right;\n",
       "    }\n",
       "</style>\n",
       "<table border=\"1\" class=\"dataframe\">\n",
       "  <thead>\n",
       "    <tr style=\"text-align: right;\">\n",
       "      <th></th>\n",
       "      <th>Date</th>\n",
       "      <th>Weekly_Sales</th>\n",
       "      <th>Holiday_Flag</th>\n",
       "      <th>Temperature</th>\n",
       "      <th>Fuel_Price</th>\n",
       "      <th>CPI</th>\n",
       "      <th>Unemployment</th>\n",
       "    </tr>\n",
       "  </thead>\n",
       "  <tbody>\n",
       "    <tr>\n",
       "      <th>0</th>\n",
       "      <td>18-02-2011</td>\n",
       "      <td>1572117.54</td>\n",
       "      <td>NaN</td>\n",
       "      <td>59.61</td>\n",
       "      <td>3.045</td>\n",
       "      <td>214.777523</td>\n",
       "      <td>6.858</td>\n",
       "    </tr>\n",
       "    <tr>\n",
       "      <th>1</th>\n",
       "      <td>25-03-2011</td>\n",
       "      <td>1807545.43</td>\n",
       "      <td>0.0</td>\n",
       "      <td>42.38</td>\n",
       "      <td>3.435</td>\n",
       "      <td>128.616064</td>\n",
       "      <td>7.470</td>\n",
       "    </tr>\n",
       "    <tr>\n",
       "      <th>2</th>\n",
       "      <td>27-07-2012</td>\n",
       "      <td>NaN</td>\n",
       "      <td>0.0</td>\n",
       "      <td>NaN</td>\n",
       "      <td>NaN</td>\n",
       "      <td>130.719581</td>\n",
       "      <td>5.936</td>\n",
       "    </tr>\n",
       "    <tr>\n",
       "      <th>3</th>\n",
       "      <td>NaN</td>\n",
       "      <td>1244390.03</td>\n",
       "      <td>0.0</td>\n",
       "      <td>84.57</td>\n",
       "      <td>NaN</td>\n",
       "      <td>214.556497</td>\n",
       "      <td>7.346</td>\n",
       "    </tr>\n",
       "    <tr>\n",
       "      <th>4</th>\n",
       "      <td>28-05-2010</td>\n",
       "      <td>1644470.66</td>\n",
       "      <td>0.0</td>\n",
       "      <td>78.89</td>\n",
       "      <td>2.759</td>\n",
       "      <td>212.412888</td>\n",
       "      <td>7.092</td>\n",
       "    </tr>\n",
       "  </tbody>\n",
       "</table>\n",
       "</div>"
      ],
      "text/plain": [
       "         Date  Weekly_Sales  Holiday_Flag  Temperature  Fuel_Price  \\\n",
       "0  18-02-2011    1572117.54           NaN        59.61       3.045   \n",
       "1  25-03-2011    1807545.43           0.0        42.38       3.435   \n",
       "2  27-07-2012           NaN           0.0          NaN         NaN   \n",
       "3         NaN    1244390.03           0.0        84.57         NaN   \n",
       "4  28-05-2010    1644470.66           0.0        78.89       2.759   \n",
       "\n",
       "          CPI  Unemployment  \n",
       "0  214.777523         6.858  \n",
       "1  128.616064         7.470  \n",
       "2  130.719581         5.936  \n",
       "3  214.556497         7.346  \n",
       "4  212.412888         7.092  "
      ]
     },
     "metadata": {},
     "output_type": "display_data"
    }
   ],
   "source": [
    "# I initially dropped the \"Store\" column during EDA, because my best guess as to what it corresponded to\n",
    "# was the IDs of  different Walmart franchises, which would make it a column to drop.\n",
    "# However, the IDs aren't unique, and that column ended up being very important.\n",
    "\n",
    "wsales_df = data_df.drop(columns=[\"Store\"])\n",
    "wsales_df.head()"
   ]
  },
  {
   "cell_type": "code",
   "execution_count": null,
   "id": "7b2880ed",
   "metadata": {},
   "outputs": [
    {
     "name": "stdout",
     "output_type": "stream",
     "text": [
      "150\n",
      "136\n"
     ]
    }
   ],
   "source": [
    "print(len(wsales_df))\n",
    "wsales_df = wsales_df.dropna(subset=[\"Weekly_Sales\"])\n",
    "print(len(wsales_df))"
   ]
  },
  {
   "cell_type": "code",
   "execution_count": null,
   "id": "e122f5b1",
   "metadata": {},
   "outputs": [
    {
     "name": "stdout",
     "output_type": "stream",
     "text": [
      "136\n",
      "134\n"
     ]
    }
   ],
   "source": [
    "print(len(wsales_df))\n",
    "wsales_df = wsales_df.dropna(thresh=5)\n",
    "print(len(wsales_df))"
   ]
  },
  {
   "cell_type": "code",
   "execution_count": null,
   "id": "e5a00143",
   "metadata": {},
   "outputs": [
    {
     "data": {
      "text/html": [
       "<div>\n",
       "<style scoped>\n",
       "    .dataframe tbody tr th:only-of-type {\n",
       "        vertical-align: middle;\n",
       "    }\n",
       "\n",
       "    .dataframe tbody tr th {\n",
       "        vertical-align: top;\n",
       "    }\n",
       "\n",
       "    .dataframe thead th {\n",
       "        text-align: right;\n",
       "    }\n",
       "</style>\n",
       "<table border=\"1\" class=\"dataframe\">\n",
       "  <thead>\n",
       "    <tr style=\"text-align: right;\">\n",
       "      <th></th>\n",
       "      <th>Date</th>\n",
       "      <th>Weekly_Sales</th>\n",
       "      <th>Holiday_Flag</th>\n",
       "      <th>Temperature</th>\n",
       "      <th>Fuel_Price</th>\n",
       "      <th>CPI</th>\n",
       "      <th>Unemployment</th>\n",
       "    </tr>\n",
       "  </thead>\n",
       "  <tbody>\n",
       "    <tr>\n",
       "      <th>3</th>\n",
       "      <td>NaN</td>\n",
       "      <td>1244390.03</td>\n",
       "      <td>0.0</td>\n",
       "      <td>84.57</td>\n",
       "      <td>NaN</td>\n",
       "      <td>214.556497</td>\n",
       "      <td>7.346</td>\n",
       "    </tr>\n",
       "    <tr>\n",
       "      <th>9</th>\n",
       "      <td>NaN</td>\n",
       "      <td>418925.47</td>\n",
       "      <td>0.0</td>\n",
       "      <td>60.12</td>\n",
       "      <td>3.555</td>\n",
       "      <td>224.132020</td>\n",
       "      <td>6.833</td>\n",
       "    </tr>\n",
       "    <tr>\n",
       "      <th>17</th>\n",
       "      <td>NaN</td>\n",
       "      <td>1205307.50</td>\n",
       "      <td>0.0</td>\n",
       "      <td>21.33</td>\n",
       "      <td>2.788</td>\n",
       "      <td>131.527903</td>\n",
       "      <td>9.202</td>\n",
       "    </tr>\n",
       "    <tr>\n",
       "      <th>34</th>\n",
       "      <td>NaN</td>\n",
       "      <td>1853161.99</td>\n",
       "      <td>0.0</td>\n",
       "      <td>87.70</td>\n",
       "      <td>3.480</td>\n",
       "      <td>214.929625</td>\n",
       "      <td>NaN</td>\n",
       "    </tr>\n",
       "    <tr>\n",
       "      <th>42</th>\n",
       "      <td>NaN</td>\n",
       "      <td>1661767.33</td>\n",
       "      <td>1.0</td>\n",
       "      <td>NaN</td>\n",
       "      <td>3.730</td>\n",
       "      <td>222.439015</td>\n",
       "      <td>6.908</td>\n",
       "    </tr>\n",
       "    <tr>\n",
       "      <th>65</th>\n",
       "      <td>NaN</td>\n",
       "      <td>1714309.90</td>\n",
       "      <td>NaN</td>\n",
       "      <td>43.43</td>\n",
       "      <td>3.287</td>\n",
       "      <td>127.191774</td>\n",
       "      <td>8.744</td>\n",
       "    </tr>\n",
       "    <tr>\n",
       "      <th>81</th>\n",
       "      <td>NaN</td>\n",
       "      <td>359206.21</td>\n",
       "      <td>0.0</td>\n",
       "      <td>NaN</td>\n",
       "      <td>3.630</td>\n",
       "      <td>221.434215</td>\n",
       "      <td>5.943</td>\n",
       "    </tr>\n",
       "    <tr>\n",
       "      <th>82</th>\n",
       "      <td>NaN</td>\n",
       "      <td>1569607.94</td>\n",
       "      <td>0.0</td>\n",
       "      <td>52.77</td>\n",
       "      <td>3.510</td>\n",
       "      <td>223.917015</td>\n",
       "      <td>6.833</td>\n",
       "    </tr>\n",
       "    <tr>\n",
       "      <th>83</th>\n",
       "      <td>NaN</td>\n",
       "      <td>607475.44</td>\n",
       "      <td>0.0</td>\n",
       "      <td>79.97</td>\n",
       "      <td>3.972</td>\n",
       "      <td>135.873839</td>\n",
       "      <td>7.806</td>\n",
       "    </tr>\n",
       "    <tr>\n",
       "      <th>86</th>\n",
       "      <td>NaN</td>\n",
       "      <td>986922.62</td>\n",
       "      <td>0.0</td>\n",
       "      <td>NaN</td>\n",
       "      <td>3.793</td>\n",
       "      <td>131.037548</td>\n",
       "      <td>6.235</td>\n",
       "    </tr>\n",
       "    <tr>\n",
       "      <th>88</th>\n",
       "      <td>NaN</td>\n",
       "      <td>2045837.55</td>\n",
       "      <td>0.0</td>\n",
       "      <td>39.79</td>\n",
       "      <td>3.739</td>\n",
       "      <td>213.472512</td>\n",
       "      <td>6.961</td>\n",
       "    </tr>\n",
       "    <tr>\n",
       "      <th>89</th>\n",
       "      <td>NaN</td>\n",
       "      <td>1797732.56</td>\n",
       "      <td>0.0</td>\n",
       "      <td>76.42</td>\n",
       "      <td>3.786</td>\n",
       "      <td>215.154482</td>\n",
       "      <td>7.931</td>\n",
       "    </tr>\n",
       "    <tr>\n",
       "      <th>91</th>\n",
       "      <td>NaN</td>\n",
       "      <td>1046782.52</td>\n",
       "      <td>0.0</td>\n",
       "      <td>68.91</td>\n",
       "      <td>3.630</td>\n",
       "      <td>NaN</td>\n",
       "      <td>5.936</td>\n",
       "    </tr>\n",
       "    <tr>\n",
       "      <th>102</th>\n",
       "      <td>NaN</td>\n",
       "      <td>1087051.26</td>\n",
       "      <td>0.0</td>\n",
       "      <td>69.75</td>\n",
       "      <td>3.815</td>\n",
       "      <td>135.446800</td>\n",
       "      <td>8.890</td>\n",
       "    </tr>\n",
       "    <tr>\n",
       "      <th>129</th>\n",
       "      <td>NaN</td>\n",
       "      <td>1048134.24</td>\n",
       "      <td>0.0</td>\n",
       "      <td>73.25</td>\n",
       "      <td>3.840</td>\n",
       "      <td>138.185710</td>\n",
       "      <td>8.535</td>\n",
       "    </tr>\n",
       "    <tr>\n",
       "      <th>137</th>\n",
       "      <td>NaN</td>\n",
       "      <td>1831676.03</td>\n",
       "      <td>0.0</td>\n",
       "      <td>88.44</td>\n",
       "      <td>3.112</td>\n",
       "      <td>126.128355</td>\n",
       "      <td>9.199</td>\n",
       "    </tr>\n",
       "  </tbody>\n",
       "</table>\n",
       "</div>"
      ],
      "text/plain": [
       "    Date  Weekly_Sales  Holiday_Flag  Temperature  Fuel_Price         CPI  \\\n",
       "3    NaN    1244390.03           0.0        84.57         NaN  214.556497   \n",
       "9    NaN     418925.47           0.0        60.12       3.555  224.132020   \n",
       "17   NaN    1205307.50           0.0        21.33       2.788  131.527903   \n",
       "34   NaN    1853161.99           0.0        87.70       3.480  214.929625   \n",
       "42   NaN    1661767.33           1.0          NaN       3.730  222.439015   \n",
       "65   NaN    1714309.90           NaN        43.43       3.287  127.191774   \n",
       "81   NaN     359206.21           0.0          NaN       3.630  221.434215   \n",
       "82   NaN    1569607.94           0.0        52.77       3.510  223.917015   \n",
       "83   NaN     607475.44           0.0        79.97       3.972  135.873839   \n",
       "86   NaN     986922.62           0.0          NaN       3.793  131.037548   \n",
       "88   NaN    2045837.55           0.0        39.79       3.739  213.472512   \n",
       "89   NaN    1797732.56           0.0        76.42       3.786  215.154482   \n",
       "91   NaN    1046782.52           0.0        68.91       3.630         NaN   \n",
       "102  NaN    1087051.26           0.0        69.75       3.815  135.446800   \n",
       "129  NaN    1048134.24           0.0        73.25       3.840  138.185710   \n",
       "137  NaN    1831676.03           0.0        88.44       3.112  126.128355   \n",
       "\n",
       "     Unemployment  \n",
       "3           7.346  \n",
       "9           6.833  \n",
       "17          9.202  \n",
       "34            NaN  \n",
       "42          6.908  \n",
       "65          8.744  \n",
       "81          5.943  \n",
       "82          6.833  \n",
       "83          7.806  \n",
       "86          6.235  \n",
       "88          6.961  \n",
       "89          7.931  \n",
       "91          5.936  \n",
       "102         8.890  \n",
       "129         8.535  \n",
       "137         9.199  "
      ]
     },
     "metadata": {},
     "output_type": "display_data"
    }
   ],
   "source": [
    "wsales_df[wsales_df.Date.isna()]"
   ]
  },
  {
   "cell_type": "code",
   "execution_count": null,
   "id": "fc160ca8",
   "metadata": {},
   "outputs": [
    {
     "name": "stdout",
     "output_type": "stream",
     "text": [
      "134\n",
      "118\n"
     ]
    }
   ],
   "source": [
    "# I decided that trying to impute a date is not a good idea, because once the Date column is split\n",
    "# into 4 columns, that'll be 4 imputed columns out of 9 for some observations\n",
    "# (7 columns - 1 target column - 1 \"Date\" column + 4 numerical date features that replace \"Date\")\n",
    "# so I will remove the rows with NaN date values\n",
    "\n",
    "print(len(wsales_df))\n",
    "wsales_df = wsales_df.dropna(subset=[\"Date\"])\n",
    "print(len(wsales_df))\n",
    "\n",
    "# In my second pre-processing attempt, I removed the \"Date\" column altogether"
   ]
  },
  {
   "cell_type": "code",
   "execution_count": null,
   "id": "c8f88a76",
   "metadata": {},
   "outputs": [
    {
     "data": {
      "text/html": [
       "<div>\n",
       "<style scoped>\n",
       "    .dataframe tbody tr th:only-of-type {\n",
       "        vertical-align: middle;\n",
       "    }\n",
       "\n",
       "    .dataframe tbody tr th {\n",
       "        vertical-align: top;\n",
       "    }\n",
       "\n",
       "    .dataframe thead th {\n",
       "        text-align: right;\n",
       "    }\n",
       "</style>\n",
       "<table border=\"1\" class=\"dataframe\">\n",
       "  <thead>\n",
       "    <tr style=\"text-align: right;\">\n",
       "      <th></th>\n",
       "      <th>Date</th>\n",
       "      <th>Weekly_Sales</th>\n",
       "      <th>Holiday_Flag</th>\n",
       "      <th>Temperature</th>\n",
       "      <th>Fuel_Price</th>\n",
       "      <th>CPI</th>\n",
       "      <th>Unemployment</th>\n",
       "    </tr>\n",
       "  </thead>\n",
       "  <tbody>\n",
       "    <tr>\n",
       "      <th>0</th>\n",
       "      <td>18-02-2011</td>\n",
       "      <td>1572117.54</td>\n",
       "      <td>NaN</td>\n",
       "      <td>59.61</td>\n",
       "      <td>3.045</td>\n",
       "      <td>214.777523</td>\n",
       "      <td>6.858</td>\n",
       "    </tr>\n",
       "    <tr>\n",
       "      <th>15</th>\n",
       "      <td>30-04-2010</td>\n",
       "      <td>1498080.16</td>\n",
       "      <td>NaN</td>\n",
       "      <td>68.91</td>\n",
       "      <td>2.780</td>\n",
       "      <td>211.894272</td>\n",
       "      <td>7.092</td>\n",
       "    </tr>\n",
       "    <tr>\n",
       "      <th>43</th>\n",
       "      <td>26-08-2011</td>\n",
       "      <td>629994.47</td>\n",
       "      <td>NaN</td>\n",
       "      <td>57.60</td>\n",
       "      <td>3.485</td>\n",
       "      <td>194.379637</td>\n",
       "      <td>8.622</td>\n",
       "    </tr>\n",
       "    <tr>\n",
       "      <th>48</th>\n",
       "      <td>05-08-2011</td>\n",
       "      <td>1624383.75</td>\n",
       "      <td>NaN</td>\n",
       "      <td>91.65</td>\n",
       "      <td>3.684</td>\n",
       "      <td>215.544618</td>\n",
       "      <td>7.962</td>\n",
       "    </tr>\n",
       "    <tr>\n",
       "      <th>53</th>\n",
       "      <td>25-03-2011</td>\n",
       "      <td>1879451.23</td>\n",
       "      <td>NaN</td>\n",
       "      <td>41.76</td>\n",
       "      <td>3.625</td>\n",
       "      <td>184.994368</td>\n",
       "      <td>8.549</td>\n",
       "    </tr>\n",
       "    <tr>\n",
       "      <th>73</th>\n",
       "      <td>27-08-2010</td>\n",
       "      <td>1449142.92</td>\n",
       "      <td>NaN</td>\n",
       "      <td>85.22</td>\n",
       "      <td>2.619</td>\n",
       "      <td>211.567306</td>\n",
       "      <td>7.787</td>\n",
       "    </tr>\n",
       "    <tr>\n",
       "      <th>90</th>\n",
       "      <td>09-07-2010</td>\n",
       "      <td>485389.15</td>\n",
       "      <td>NaN</td>\n",
       "      <td>78.51</td>\n",
       "      <td>2.642</td>\n",
       "      <td>214.656430</td>\n",
       "      <td>6.442</td>\n",
       "    </tr>\n",
       "    <tr>\n",
       "      <th>118</th>\n",
       "      <td>18-06-2010</td>\n",
       "      <td>513073.87</td>\n",
       "      <td>NaN</td>\n",
       "      <td>82.99</td>\n",
       "      <td>2.637</td>\n",
       "      <td>215.016648</td>\n",
       "      <td>6.384</td>\n",
       "    </tr>\n",
       "    <tr>\n",
       "      <th>136</th>\n",
       "      <td>08-07-2011</td>\n",
       "      <td>2066541.86</td>\n",
       "      <td>NaN</td>\n",
       "      <td>84.59</td>\n",
       "      <td>3.469</td>\n",
       "      <td>129.112500</td>\n",
       "      <td>5.644</td>\n",
       "    </tr>\n",
       "  </tbody>\n",
       "</table>\n",
       "</div>"
      ],
      "text/plain": [
       "           Date  Weekly_Sales  Holiday_Flag  Temperature  Fuel_Price  \\\n",
       "0    18-02-2011    1572117.54           NaN        59.61       3.045   \n",
       "15   30-04-2010    1498080.16           NaN        68.91       2.780   \n",
       "43   26-08-2011     629994.47           NaN        57.60       3.485   \n",
       "48   05-08-2011    1624383.75           NaN        91.65       3.684   \n",
       "53   25-03-2011    1879451.23           NaN        41.76       3.625   \n",
       "73   27-08-2010    1449142.92           NaN        85.22       2.619   \n",
       "90   09-07-2010     485389.15           NaN        78.51       2.642   \n",
       "118  18-06-2010     513073.87           NaN        82.99       2.637   \n",
       "136  08-07-2011    2066541.86           NaN        84.59       3.469   \n",
       "\n",
       "            CPI  Unemployment  \n",
       "0    214.777523         6.858  \n",
       "15   211.894272         7.092  \n",
       "43   194.379637         8.622  \n",
       "48   215.544618         7.962  \n",
       "53   184.994368         8.549  \n",
       "73   211.567306         7.787  \n",
       "90   214.656430         6.442  \n",
       "118  215.016648         6.384  \n",
       "136  129.112500         5.644  "
      ]
     },
     "metadata": {},
     "output_type": "display_data"
    }
   ],
   "source": [
    "wsales_df[wsales_df.Holiday_Flag.isna()]"
   ]
  },
  {
   "cell_type": "code",
   "execution_count": null,
   "id": "583b7aaf",
   "metadata": {},
   "outputs": [],
   "source": [
    "wsales_df = wsales_df.fillna(value=dict(Holiday_Flag=0))"
   ]
  },
  {
   "cell_type": "code",
   "execution_count": null,
   "id": "d1def71e",
   "metadata": {},
   "outputs": [
    {
     "data": {
      "text/plain": [
       "Date\n",
       "12    11\n",
       "25     7\n",
       "10     7\n",
       "19     7\n",
       "16     6\n",
       "18     6\n",
       "30     6\n",
       "20     5\n",
       "6      5\n",
       "26     5\n",
       "27     5\n",
       "17     4\n",
       "2      4\n",
       "7      4\n",
       "22     4\n",
       "28     3\n",
       "15     3\n",
       "13     3\n",
       "11     3\n",
       "24     3\n",
       "1      2\n",
       "3      2\n",
       "14     2\n",
       "23     2\n",
       "4      2\n",
       "5      2\n",
       "9      2\n",
       "31     1\n",
       "29     1\n",
       "8      1\n",
       "Name: count, dtype: int64"
      ]
     },
     "metadata": {},
     "output_type": "display_data"
    }
   ],
   "source": [
    "pd.to_datetime(wsales_df[\"Date\"], dayfirst=True).dt.day.value_counts()"
   ]
  },
  {
   "cell_type": "code",
   "execution_count": null,
   "id": "8a058596",
   "metadata": {},
   "outputs": [
    {
     "data": {
      "text/html": [
       "<div>\n",
       "<style scoped>\n",
       "    .dataframe tbody tr th:only-of-type {\n",
       "        vertical-align: middle;\n",
       "    }\n",
       "\n",
       "    .dataframe tbody tr th {\n",
       "        vertical-align: top;\n",
       "    }\n",
       "\n",
       "    .dataframe thead th {\n",
       "        text-align: right;\n",
       "    }\n",
       "</style>\n",
       "<table border=\"1\" class=\"dataframe\">\n",
       "  <thead>\n",
       "    <tr style=\"text-align: right;\">\n",
       "      <th></th>\n",
       "      <th>Date</th>\n",
       "      <th>Weekly_Sales</th>\n",
       "      <th>Holiday_Flag</th>\n",
       "      <th>Temperature</th>\n",
       "      <th>Fuel_Price</th>\n",
       "      <th>CPI</th>\n",
       "      <th>Unemployment</th>\n",
       "      <th>Year</th>\n",
       "      <th>Month</th>\n",
       "      <th>day</th>\n",
       "      <th>day_of_year</th>\n",
       "    </tr>\n",
       "  </thead>\n",
       "  <tbody>\n",
       "    <tr>\n",
       "      <th>0</th>\n",
       "      <td>2011-02-18</td>\n",
       "      <td>1572117.54</td>\n",
       "      <td>0.0</td>\n",
       "      <td>59.61</td>\n",
       "      <td>3.045</td>\n",
       "      <td>214.777523</td>\n",
       "      <td>6.858</td>\n",
       "      <td>2011</td>\n",
       "      <td>2</td>\n",
       "      <td>18</td>\n",
       "      <td>49</td>\n",
       "    </tr>\n",
       "    <tr>\n",
       "      <th>1</th>\n",
       "      <td>2011-03-25</td>\n",
       "      <td>1807545.43</td>\n",
       "      <td>0.0</td>\n",
       "      <td>42.38</td>\n",
       "      <td>3.435</td>\n",
       "      <td>128.616064</td>\n",
       "      <td>7.470</td>\n",
       "      <td>2011</td>\n",
       "      <td>3</td>\n",
       "      <td>25</td>\n",
       "      <td>84</td>\n",
       "    </tr>\n",
       "    <tr>\n",
       "      <th>4</th>\n",
       "      <td>2010-05-28</td>\n",
       "      <td>1644470.66</td>\n",
       "      <td>0.0</td>\n",
       "      <td>78.89</td>\n",
       "      <td>2.759</td>\n",
       "      <td>212.412888</td>\n",
       "      <td>7.092</td>\n",
       "      <td>2010</td>\n",
       "      <td>5</td>\n",
       "      <td>28</td>\n",
       "      <td>148</td>\n",
       "    </tr>\n",
       "    <tr>\n",
       "      <th>5</th>\n",
       "      <td>2010-05-28</td>\n",
       "      <td>1857533.70</td>\n",
       "      <td>0.0</td>\n",
       "      <td>NaN</td>\n",
       "      <td>2.756</td>\n",
       "      <td>126.160226</td>\n",
       "      <td>7.896</td>\n",
       "      <td>2010</td>\n",
       "      <td>5</td>\n",
       "      <td>28</td>\n",
       "      <td>148</td>\n",
       "    </tr>\n",
       "    <tr>\n",
       "      <th>6</th>\n",
       "      <td>2011-06-03</td>\n",
       "      <td>695396.19</td>\n",
       "      <td>0.0</td>\n",
       "      <td>69.80</td>\n",
       "      <td>4.069</td>\n",
       "      <td>134.855161</td>\n",
       "      <td>7.658</td>\n",
       "      <td>2011</td>\n",
       "      <td>6</td>\n",
       "      <td>3</td>\n",
       "      <td>154</td>\n",
       "    </tr>\n",
       "  </tbody>\n",
       "</table>\n",
       "</div>"
      ],
      "text/plain": [
       "        Date  Weekly_Sales  Holiday_Flag  Temperature  Fuel_Price         CPI  \\\n",
       "0 2011-02-18    1572117.54           0.0        59.61       3.045  214.777523   \n",
       "1 2011-03-25    1807545.43           0.0        42.38       3.435  128.616064   \n",
       "4 2010-05-28    1644470.66           0.0        78.89       2.759  212.412888   \n",
       "5 2010-05-28    1857533.70           0.0          NaN       2.756  126.160226   \n",
       "6 2011-06-03     695396.19           0.0        69.80       4.069  134.855161   \n",
       "\n",
       "   Unemployment  Year  Month  day  day_of_year  \n",
       "0         6.858  2011      2   18           49  \n",
       "1         7.470  2011      3   25           84  \n",
       "4         7.092  2010      5   28          148  \n",
       "5         7.896  2010      5   28          148  \n",
       "6         7.658  2011      6    3          154  "
      ]
     },
     "metadata": {},
     "output_type": "display_data"
    }
   ],
   "source": [
    "date_col = pd.to_datetime(wsales_df[\"Date\"], dayfirst=True)\n",
    "wsales_df[\"Date\"] = date_col\n",
    "wsales_df[\"Year\"] = date_col.dt.year\n",
    "wsales_df[\"Month\"] = date_col.dt.month\n",
    "wsales_df[\"day\"] = date_col.dt.day # I found that the `day_of_week` is always 4 (Friday)\n",
    "                                   # so I picked `day`, which is essentially `day_of_month``\n",
    "wsales_df[\"day_of_year\"] = date_col.dt.day_of_year # There are too few years (3) for `day_of_year` to be useful as the main \"day\" variable,\n",
    "                                                # but it could be useful as the secondary one, instead of the redundant \"day of week\"\n",
    "wsales_df.head()\n"
   ]
  },
  {
   "cell_type": "code",
   "execution_count": null,
   "id": "778b6c22",
   "metadata": {},
   "outputs": [
    {
     "data": {
      "application/vnd.plotly.v1+json": {
       "config": {
        "plotlyServerURL": "https://plot.ly"
       },
       "data": [
        {
         "line": {
          "width": 2
         },
         "mode": "lines",
         "name": "Percentage hindered rentals",
         "type": "scatter",
         "x": [
          "2010-02-05T00:00:00.000000000",
          "2010-02-12T00:00:00.000000000",
          "2010-02-12T00:00:00.000000000",
          "2010-02-19T00:00:00.000000000",
          "2010-02-19T00:00:00.000000000",
          "2010-02-26T00:00:00.000000000",
          "2010-03-12T00:00:00.000000000",
          "2010-03-26T00:00:00.000000000",
          "2010-04-02T00:00:00.000000000",
          "2010-04-16T00:00:00.000000000",
          "2010-04-30T00:00:00.000000000",
          "2010-04-30T00:00:00.000000000",
          "2010-05-14T00:00:00.000000000",
          "2010-05-28T00:00:00.000000000",
          "2010-05-28T00:00:00.000000000",
          "2010-05-28T00:00:00.000000000",
          "2010-06-04T00:00:00.000000000",
          "2010-06-11T00:00:00.000000000",
          "2010-06-18T00:00:00.000000000",
          "2010-06-18T00:00:00.000000000",
          "2010-06-18T00:00:00.000000000",
          "2010-06-25T00:00:00.000000000",
          "2010-06-25T00:00:00.000000000",
          "2010-06-25T00:00:00.000000000",
          "2010-07-02T00:00:00.000000000",
          "2010-07-02T00:00:00.000000000",
          "2010-07-09T00:00:00.000000000",
          "2010-07-09T00:00:00.000000000",
          "2010-07-30T00:00:00.000000000",
          "2010-07-30T00:00:00.000000000",
          "2010-07-30T00:00:00.000000000",
          "2010-08-06T00:00:00.000000000",
          "2010-08-20T00:00:00.000000000",
          "2010-08-27T00:00:00.000000000",
          "2010-08-27T00:00:00.000000000",
          "2010-09-10T00:00:00.000000000",
          "2010-09-17T00:00:00.000000000",
          "2010-09-24T00:00:00.000000000",
          "2010-10-01T00:00:00.000000000",
          "2010-10-15T00:00:00.000000000",
          "2010-11-12T00:00:00.000000000",
          "2010-11-12T00:00:00.000000000",
          "2010-11-12T00:00:00.000000000",
          "2010-11-19T00:00:00.000000000",
          "2010-11-26T00:00:00.000000000",
          "2010-12-10T00:00:00.000000000",
          "2010-12-10T00:00:00.000000000",
          "2010-12-10T00:00:00.000000000",
          "2010-12-17T00:00:00.000000000",
          "2010-12-17T00:00:00.000000000",
          "2010-12-31T00:00:00.000000000",
          "2011-01-07T00:00:00.000000000",
          "2011-01-07T00:00:00.000000000",
          "2011-02-18T00:00:00.000000000",
          "2011-03-25T00:00:00.000000000",
          "2011-03-25T00:00:00.000000000",
          "2011-03-25T00:00:00.000000000",
          "2011-04-15T00:00:00.000000000",
          "2011-04-22T00:00:00.000000000",
          "2011-05-06T00:00:00.000000000",
          "2011-05-06T00:00:00.000000000",
          "2011-05-13T00:00:00.000000000",
          "2011-05-13T00:00:00.000000000",
          "2011-05-20T00:00:00.000000000",
          "2011-05-27T00:00:00.000000000",
          "2011-05-27T00:00:00.000000000",
          "2011-06-03T00:00:00.000000000",
          "2011-06-10T00:00:00.000000000",
          "2011-06-24T00:00:00.000000000",
          "2011-07-08T00:00:00.000000000",
          "2011-07-15T00:00:00.000000000",
          "2011-07-22T00:00:00.000000000",
          "2011-07-29T00:00:00.000000000",
          "2011-08-05T00:00:00.000000000",
          "2011-08-12T00:00:00.000000000",
          "2011-08-12T00:00:00.000000000",
          "2011-08-12T00:00:00.000000000",
          "2011-08-19T00:00:00.000000000",
          "2011-08-26T00:00:00.000000000",
          "2011-08-26T00:00:00.000000000",
          "2011-09-23T00:00:00.000000000",
          "2011-09-23T00:00:00.000000000",
          "2011-10-07T00:00:00.000000000",
          "2011-11-11T00:00:00.000000000",
          "2011-11-18T00:00:00.000000000",
          "2011-11-18T00:00:00.000000000",
          "2011-12-16T00:00:00.000000000",
          "2011-12-16T00:00:00.000000000",
          "2012-01-06T00:00:00.000000000",
          "2012-01-13T00:00:00.000000000",
          "2012-01-20T00:00:00.000000000",
          "2012-02-03T00:00:00.000000000",
          "2012-02-10T00:00:00.000000000",
          "2012-02-10T00:00:00.000000000",
          "2012-02-17T00:00:00.000000000",
          "2012-02-24T00:00:00.000000000",
          "2012-03-02T00:00:00.000000000",
          "2012-03-16T00:00:00.000000000",
          "2012-03-16T00:00:00.000000000",
          "2012-03-16T00:00:00.000000000",
          "2012-03-30T00:00:00.000000000",
          "2012-04-20T00:00:00.000000000",
          "2012-04-20T00:00:00.000000000",
          "2012-04-27T00:00:00.000000000",
          "2012-05-04T00:00:00.000000000",
          "2012-05-11T00:00:00.000000000",
          "2012-05-25T00:00:00.000000000",
          "2012-06-01T00:00:00.000000000",
          "2012-06-22T00:00:00.000000000",
          "2012-06-22T00:00:00.000000000",
          "2012-07-06T00:00:00.000000000",
          "2012-09-07T00:00:00.000000000",
          "2012-09-14T00:00:00.000000000",
          "2012-10-12T00:00:00.000000000",
          "2012-10-12T00:00:00.000000000",
          "2012-10-19T00:00:00.000000000",
          "2012-10-19T00:00:00.000000000",
          "2012-10-19T00:00:00.000000000"
         ],
         "xaxis": "x",
         "y": {
          "bdata": "FK5H4dgsHEEK16Nw5Q05Qc3MzMziWy5BAAAAgM0qJEFSuB7FUTVAQRSuR6Hn+T9BH4XrUWBBKkEzMzNzT8Y1QXsUrkfyHyFBUrgehdUfJ0GPwvUo4Ns2QcP1KFwnOxJBAAAAgOvMNkEzMzOz/Vc8QY/C9ai2FzlBpHA9ylorM0EzMzMzozoYQbgehWuIyylBZmZmZrM4FkGuR+F6x1AfQbgehcviJ0FB7FG4Hj0VH0H2KFxP7Po6QexRuN6PGz5BXI/CtQrMPkHhehSu2qI3QZqZmZk0oB1Bj8L1qNq+IkF7FK7HlGE3QexRuB4EahBBXI/C9XvZNEGamZnZJcsxQRSuR6FVej5BuB6F67YcNkH2KFyP4R8rQfYoXA+ejytBMzMzs8eIKUFmZmam9047QaRwPYouTilBMzMzM+RrL0EK16NwDWwSQbgehetHGypB16NwvYw/PUEzMzMzPbofQSlcj4I60DpB4XoUbhSRQUHNzMwsjsdCQRSuR6Ej10NBXI/Ctc48OEGamZlZ9cQzQaRwPco5djtBpHA9ymLTOkGamZkZKnQ8QaRwPYoV/TdB4XoUbrmUO0GuR+E6m608QQrXo/CEUzNBCtejcPsnLkHhehTuvgM5QVyPwvXEKS9B4XoU7u/5P0EzMzMzOEYZQaRwPQrIwRFBKVyPwhSTGkG4HoWrvl42QVK4HgXZbS1BFK5HYcg4JUEUrkehUWQ2QbgehesYpT5Bw/Uo3G2IP0EpXI/CCM89QT0K12MHEj9B4XoUrhjLEEEAAADAP8k4QRSuR2GlED5Bw/UoXBMsLUEzMzMzuCUqQQAAAAC1UCtBCtej8NQ5I0GPwvVodaw1QSlcj8IDSxZBXI/C9YYwPEGamZmZOZ4YQc3MzMyKCRNBMzMzs5t9N0EUrkfh21cYQVyPwpXiJEVBKVyPQnCPQkE9CtcjYHU7Qa5H4Xo6bRZBXI/CNZakO0GamZmZwc9AQaRwPYoJMiFB16NwPUiyP0HXo3D9xtQ+QTMzM7OqaDxBUrgeBeNePkF7FK7HoJg5QexRuJ5u6D5BXI/CdeZpIUE9CtejnZsdQSlcj0KvJjNB16NwPfDpG0Fcj8J1RFUtQQrXo3BPcDVBCtejcMVdGkGkcD2KB0IgQT0K12PnDj9Bw/UoXL5nNkHNzMzMp5oZQaRwPcqvjjtBmpmZGek+IkEfhetRehEgQeF6FK6MEixBAAAAAJ9jMEGamZmZOCATQR+F61EE6RlBUrgexeQCN0E=",
          "dtype": "f8"
         },
         "yaxis": "y"
        },
        {
         "line": {
          "width": 2
         },
         "mode": "lines",
         "name": "Percentage hindered rentals",
         "type": "scatter",
         "x": [
          "2010-02-05T00:00:00.000000000",
          "2010-02-12T00:00:00.000000000",
          "2010-02-12T00:00:00.000000000",
          "2010-02-19T00:00:00.000000000",
          "2010-02-19T00:00:00.000000000",
          "2010-02-26T00:00:00.000000000",
          "2010-03-12T00:00:00.000000000",
          "2010-03-26T00:00:00.000000000",
          "2010-04-02T00:00:00.000000000",
          "2010-04-16T00:00:00.000000000",
          "2010-04-30T00:00:00.000000000",
          "2010-04-30T00:00:00.000000000",
          "2010-05-14T00:00:00.000000000",
          "2010-05-28T00:00:00.000000000",
          "2010-05-28T00:00:00.000000000",
          "2010-05-28T00:00:00.000000000",
          "2010-06-04T00:00:00.000000000",
          "2010-06-11T00:00:00.000000000",
          "2010-06-18T00:00:00.000000000",
          "2010-06-18T00:00:00.000000000",
          "2010-06-18T00:00:00.000000000",
          "2010-06-25T00:00:00.000000000",
          "2010-06-25T00:00:00.000000000",
          "2010-06-25T00:00:00.000000000",
          "2010-07-02T00:00:00.000000000",
          "2010-07-02T00:00:00.000000000",
          "2010-07-09T00:00:00.000000000",
          "2010-07-09T00:00:00.000000000",
          "2010-07-30T00:00:00.000000000",
          "2010-07-30T00:00:00.000000000",
          "2010-07-30T00:00:00.000000000",
          "2010-08-06T00:00:00.000000000",
          "2010-08-20T00:00:00.000000000",
          "2010-08-27T00:00:00.000000000",
          "2010-08-27T00:00:00.000000000",
          "2010-09-10T00:00:00.000000000",
          "2010-09-17T00:00:00.000000000",
          "2010-09-24T00:00:00.000000000",
          "2010-10-01T00:00:00.000000000",
          "2010-10-15T00:00:00.000000000",
          "2010-11-12T00:00:00.000000000",
          "2010-11-12T00:00:00.000000000",
          "2010-11-12T00:00:00.000000000",
          "2010-11-19T00:00:00.000000000",
          "2010-11-26T00:00:00.000000000",
          "2010-12-10T00:00:00.000000000",
          "2010-12-10T00:00:00.000000000",
          "2010-12-10T00:00:00.000000000",
          "2010-12-17T00:00:00.000000000",
          "2010-12-17T00:00:00.000000000",
          "2010-12-31T00:00:00.000000000",
          "2011-01-07T00:00:00.000000000",
          "2011-01-07T00:00:00.000000000",
          "2011-02-18T00:00:00.000000000",
          "2011-03-25T00:00:00.000000000",
          "2011-03-25T00:00:00.000000000",
          "2011-03-25T00:00:00.000000000",
          "2011-04-15T00:00:00.000000000",
          "2011-04-22T00:00:00.000000000",
          "2011-05-06T00:00:00.000000000",
          "2011-05-06T00:00:00.000000000",
          "2011-05-13T00:00:00.000000000",
          "2011-05-13T00:00:00.000000000",
          "2011-05-20T00:00:00.000000000",
          "2011-05-27T00:00:00.000000000",
          "2011-05-27T00:00:00.000000000",
          "2011-06-03T00:00:00.000000000",
          "2011-06-10T00:00:00.000000000",
          "2011-06-24T00:00:00.000000000",
          "2011-07-08T00:00:00.000000000",
          "2011-07-15T00:00:00.000000000",
          "2011-07-22T00:00:00.000000000",
          "2011-07-29T00:00:00.000000000",
          "2011-08-05T00:00:00.000000000",
          "2011-08-12T00:00:00.000000000",
          "2011-08-12T00:00:00.000000000",
          "2011-08-12T00:00:00.000000000",
          "2011-08-19T00:00:00.000000000",
          "2011-08-26T00:00:00.000000000",
          "2011-08-26T00:00:00.000000000",
          "2011-09-23T00:00:00.000000000",
          "2011-09-23T00:00:00.000000000",
          "2011-10-07T00:00:00.000000000",
          "2011-11-11T00:00:00.000000000",
          "2011-11-18T00:00:00.000000000",
          "2011-11-18T00:00:00.000000000",
          "2011-12-16T00:00:00.000000000",
          "2011-12-16T00:00:00.000000000",
          "2012-01-06T00:00:00.000000000",
          "2012-01-13T00:00:00.000000000",
          "2012-01-20T00:00:00.000000000",
          "2012-02-03T00:00:00.000000000",
          "2012-02-10T00:00:00.000000000",
          "2012-02-10T00:00:00.000000000",
          "2012-02-17T00:00:00.000000000",
          "2012-02-24T00:00:00.000000000",
          "2012-03-02T00:00:00.000000000",
          "2012-03-16T00:00:00.000000000",
          "2012-03-16T00:00:00.000000000",
          "2012-03-16T00:00:00.000000000",
          "2012-03-30T00:00:00.000000000",
          "2012-04-20T00:00:00.000000000",
          "2012-04-20T00:00:00.000000000",
          "2012-04-27T00:00:00.000000000",
          "2012-05-04T00:00:00.000000000",
          "2012-05-11T00:00:00.000000000",
          "2012-05-25T00:00:00.000000000",
          "2012-06-01T00:00:00.000000000",
          "2012-06-22T00:00:00.000000000",
          "2012-06-22T00:00:00.000000000",
          "2012-07-06T00:00:00.000000000",
          "2012-09-07T00:00:00.000000000",
          "2012-09-14T00:00:00.000000000",
          "2012-10-12T00:00:00.000000000",
          "2012-10-12T00:00:00.000000000",
          "2012-10-19T00:00:00.000000000",
          "2012-10-19T00:00:00.000000000",
          "2012-10-19T00:00:00.000000000"
         ],
         "xaxis": "x2",
         "y": {
          "bdata": "AAAAAAAAAAAAAAAAAADwPwAAAAAAAPA/AAAAAAAAAAAAAAAAAAAAAAAAAAAAAAAAAAAAAAAAAAAAAAAAAAAAAAAAAAAAAAAAAAAAAAAAAAAAAAAAAAAAAAAAAAAAAAAAAAAAAAAAAAAAAAAAAAAAAAAAAAAAAAAAAAAAAAAAAAAAAAAAAAAAAAAAAAAAAAAAAAAAAAAAAAAAAAAAAAAAAAAAAAAAAAAAAAAAAAAAAAAAAAAAAAAAAAAAAAAAAAAAAAAAAAAAAAAAAAAAAAAAAAAAAAAAAAAAAAAAAAAAAAAAAAAAAAAAAAAAAAAAAAAAAAAAAAAAAAAAAAAAAAAAAAAAAAAAAAAAAAAAAAAAAAAAAAAAAAAAAAAAAAAAAPA/AAAAAAAAAAAAAAAAAAAAAAAAAAAAAAAAAAAAAAAAAAAAAAAAAAAAAAAAAAAAAAAAAAAAAAAAAAAAAAAAAAAAAAAAAAAAAPA/AAAAAAAAAAAAAAAAAAAAAAAAAAAAAAAAAAAAAAAAAAAAAAAAAAAAAAAAAAAAAPA/AAAAAAAAAAAAAAAAAAAAAAAAAAAAAAAAAAAAAAAAAAAAAAAAAAAAAAAAAAAAAAAAAAAAAAAAAAAAAAAAAAAAAAAAAAAAAAAAAAAAAAAAAAAAAAAAAAAAAAAAAAAAAAAAAAAAAAAAAAAAAAAAAAAAAAAAAAAAAAAAAAAAAAAAAAAAAAAAAAAAAAAAAAAAAAAAAAAAAAAAAAAAAAAAAAAAAAAAAAAAAAAAAAAAAAAAAAAAAAAAAAAAAAAAAAAAAAAAAAAAAAAAAAAAAAAAAAAAAAAAAAAAAAAAAAAAAAAAAAAAAAAAAAAAAAAAAAAAAAAAAAAAAAAAAAAAAAAAAAAAAAAAAAAAAAAAAAAAAAAAAAAAAAAAAAAAAAAAAAAAAAAAAAAAAAAAAAAAAAAAAAAAAAAAAAAAAAAAAAAAAAAAAAAAAAAAAAAAAAAAAAAAAPA/AAAAAAAA8D8AAAAAAAAAAAAAAAAAAAAAAAAAAAAAAAAAAAAAAAAAAAAAAAAAAAAAAAAAAAAAAAAAAAAAAAAAAAAAAAAAAAAAAAAAAAAAAAAAAAAAAAAAAAAAAAAAAAAAAAAAAAAAAAAAAAAAAAAAAAAAAAAAAAAAAAAAAAAAAAAAAAAAAAAAAAAAAAAAAAAAAAAAAAAA8D8AAAAAAAAAAAAAAAAAAAAAAAAAAAAAAAAAAAAAAAAAAAAAAAAAAAAAAAAAAAAAAAA=",
          "dtype": "f8"
         },
         "yaxis": "y2"
        },
        {
         "line": {
          "width": 2
         },
         "mode": "lines",
         "name": "Percentage hindered rentals",
         "type": "scatter",
         "x": [
          "2010-02-05T00:00:00.000000000",
          "2010-02-12T00:00:00.000000000",
          "2010-02-12T00:00:00.000000000",
          "2010-02-19T00:00:00.000000000",
          "2010-02-19T00:00:00.000000000",
          "2010-02-26T00:00:00.000000000",
          "2010-03-12T00:00:00.000000000",
          "2010-03-26T00:00:00.000000000",
          "2010-04-02T00:00:00.000000000",
          "2010-04-16T00:00:00.000000000",
          "2010-04-30T00:00:00.000000000",
          "2010-04-30T00:00:00.000000000",
          "2010-05-14T00:00:00.000000000",
          "2010-05-28T00:00:00.000000000",
          "2010-05-28T00:00:00.000000000",
          "2010-05-28T00:00:00.000000000",
          "2010-06-04T00:00:00.000000000",
          "2010-06-11T00:00:00.000000000",
          "2010-06-18T00:00:00.000000000",
          "2010-06-18T00:00:00.000000000",
          "2010-06-18T00:00:00.000000000",
          "2010-06-25T00:00:00.000000000",
          "2010-06-25T00:00:00.000000000",
          "2010-06-25T00:00:00.000000000",
          "2010-07-02T00:00:00.000000000",
          "2010-07-02T00:00:00.000000000",
          "2010-07-09T00:00:00.000000000",
          "2010-07-09T00:00:00.000000000",
          "2010-07-30T00:00:00.000000000",
          "2010-07-30T00:00:00.000000000",
          "2010-07-30T00:00:00.000000000",
          "2010-08-06T00:00:00.000000000",
          "2010-08-20T00:00:00.000000000",
          "2010-08-27T00:00:00.000000000",
          "2010-08-27T00:00:00.000000000",
          "2010-09-10T00:00:00.000000000",
          "2010-09-17T00:00:00.000000000",
          "2010-09-24T00:00:00.000000000",
          "2010-10-01T00:00:00.000000000",
          "2010-10-15T00:00:00.000000000",
          "2010-11-12T00:00:00.000000000",
          "2010-11-12T00:00:00.000000000",
          "2010-11-12T00:00:00.000000000",
          "2010-11-19T00:00:00.000000000",
          "2010-11-26T00:00:00.000000000",
          "2010-12-10T00:00:00.000000000",
          "2010-12-10T00:00:00.000000000",
          "2010-12-10T00:00:00.000000000",
          "2010-12-17T00:00:00.000000000",
          "2010-12-17T00:00:00.000000000",
          "2010-12-31T00:00:00.000000000",
          "2011-01-07T00:00:00.000000000",
          "2011-01-07T00:00:00.000000000",
          "2011-02-18T00:00:00.000000000",
          "2011-03-25T00:00:00.000000000",
          "2011-03-25T00:00:00.000000000",
          "2011-03-25T00:00:00.000000000",
          "2011-04-15T00:00:00.000000000",
          "2011-04-22T00:00:00.000000000",
          "2011-05-06T00:00:00.000000000",
          "2011-05-06T00:00:00.000000000",
          "2011-05-13T00:00:00.000000000",
          "2011-05-13T00:00:00.000000000",
          "2011-05-20T00:00:00.000000000",
          "2011-05-27T00:00:00.000000000",
          "2011-05-27T00:00:00.000000000",
          "2011-06-03T00:00:00.000000000",
          "2011-06-10T00:00:00.000000000",
          "2011-06-24T00:00:00.000000000",
          "2011-07-08T00:00:00.000000000",
          "2011-07-15T00:00:00.000000000",
          "2011-07-22T00:00:00.000000000",
          "2011-07-29T00:00:00.000000000",
          "2011-08-05T00:00:00.000000000",
          "2011-08-12T00:00:00.000000000",
          "2011-08-12T00:00:00.000000000",
          "2011-08-12T00:00:00.000000000",
          "2011-08-19T00:00:00.000000000",
          "2011-08-26T00:00:00.000000000",
          "2011-08-26T00:00:00.000000000",
          "2011-09-23T00:00:00.000000000",
          "2011-09-23T00:00:00.000000000",
          "2011-10-07T00:00:00.000000000",
          "2011-11-11T00:00:00.000000000",
          "2011-11-18T00:00:00.000000000",
          "2011-11-18T00:00:00.000000000",
          "2011-12-16T00:00:00.000000000",
          "2011-12-16T00:00:00.000000000",
          "2012-01-06T00:00:00.000000000",
          "2012-01-13T00:00:00.000000000",
          "2012-01-20T00:00:00.000000000",
          "2012-02-03T00:00:00.000000000",
          "2012-02-10T00:00:00.000000000",
          "2012-02-10T00:00:00.000000000",
          "2012-02-17T00:00:00.000000000",
          "2012-02-24T00:00:00.000000000",
          "2012-03-02T00:00:00.000000000",
          "2012-03-16T00:00:00.000000000",
          "2012-03-16T00:00:00.000000000",
          "2012-03-16T00:00:00.000000000",
          "2012-03-30T00:00:00.000000000",
          "2012-04-20T00:00:00.000000000",
          "2012-04-20T00:00:00.000000000",
          "2012-04-27T00:00:00.000000000",
          "2012-05-04T00:00:00.000000000",
          "2012-05-11T00:00:00.000000000",
          "2012-05-25T00:00:00.000000000",
          "2012-06-01T00:00:00.000000000",
          "2012-06-22T00:00:00.000000000",
          "2012-06-22T00:00:00.000000000",
          "2012-07-06T00:00:00.000000000",
          "2012-09-07T00:00:00.000000000",
          "2012-09-14T00:00:00.000000000",
          "2012-10-12T00:00:00.000000000",
          "2012-10-12T00:00:00.000000000",
          "2012-10-19T00:00:00.000000000",
          "2012-10-19T00:00:00.000000000",
          "2012-10-19T00:00:00.000000000"
         ],
         "xaxis": "x3",
         "y": {
          "bdata": "exSuR+HaRkDhehSuR0FDQOxRuB6Fq0BAAAAAAAAA+H+4HoXrUdhDQFK4HoXrcUFA4XoUrkfhSEApXI/C9YhDQOF6FK5HIUNAXI/C9SicRkAK16NwPTpRQFK4HoXr4VBAUrgeheuxUkAAAAAAAAD4fylcj8L1uFNASOF6FK5HUUBSuB6F66FTQFK4HoXrkUxA4XoUrkfhVECPwvUoXL9UQEjhehSuJ1JA4XoUrkdBVUAUrkfhepRWQHsUrkfhylJAFK5H4Xq0U0AAAAAAAJBQQHE9CtejoFNAhetRuB7lTkAAAAAAAAD4fz0K16NwnVRAhetRuB41UkB7FK5H4WpSQPYoXI/CFVNArkfhehROVUB7FK5H4bpSQLgehetR6FRAFK5H4XrUUkBI4XoUrldRQClcj8L1CE5Aw/UoXI8CSkCPwvUoXC9PQAAAAAAAAPh/uB6F61HYTUB7FK5H4fpIQJqZmZmZeVFAMzMzMzMzRUCkcD0K12NCQArXo3A9ij5AZmZmZmZmO0DD9Shcj2JKQJqZmZmZ2TxAuB6F61FYRkApXI/C9ShBQK5H4XoUzk1AcT0K16MwRUDhehSuR+FEQOF6FK5HoUBAAAAAAAAA+H+PwvUoXI9SQJqZmZmZGVFAAAAAAAAA+H+uR+F6FE5CQLgehetRWFNAmpmZmZn5RUAAAAAAAAD4fwAAAAAAAPh/MzMzMzNzUUBxPQrXoxBRQGZmZmZmdlRA9ihcj8IlVUCuR+F6FJ5TQPYoXI/CtVRAexSuR+FaVkCamZmZmelWQM3MzMzM/FJAw/UoXI/CVkAzMzMzM4NVQHsUrkfhulRAzczMzMzMTEAAAAAAAAD4f1yPwvUoDFRAzczMzMzMT0DD9Shcj+JSQHsUrkfhWk5AAAAAAAAgT0AUrkfhevRPQLgehetROEJAcT0K16MQSUAAAAAAAGBHQK5H4XoU7klAexSuR+FaQEDXo3A9CvdDQArXo3A9yjJAAAAAAACAQkDNzMzMzGxCQHE9CtejUEtAj8L1KFzPTECPwvUoXC9QQAAAAAAAQEpA9ihcj8K1R0CF61G4HiVIQJqZmZmZmUtAZmZmZmamQ0DXo3A9CjdJQOF6FK5HYUlAXI/C9SjMUkDNzMzMzExJQK5H4XoUjk5AAAAAAAAA+H/NzMzMzKxUQEjhehSut1VA7FG4HoXrTEAAAAAAAAD4fylcj8L1aEZAXI/C9Sh8SUB7FK5H4UpRQFyPwvUoXFJArkfhehT+UEA=",
          "dtype": "f8"
         },
         "yaxis": "y3"
        },
        {
         "line": {
          "width": 2
         },
         "mode": "lines",
         "name": "Percentage hindered rentals",
         "type": "scatter",
         "x": [
          "2010-02-05T00:00:00.000000000",
          "2010-02-12T00:00:00.000000000",
          "2010-02-12T00:00:00.000000000",
          "2010-02-19T00:00:00.000000000",
          "2010-02-19T00:00:00.000000000",
          "2010-02-26T00:00:00.000000000",
          "2010-03-12T00:00:00.000000000",
          "2010-03-26T00:00:00.000000000",
          "2010-04-02T00:00:00.000000000",
          "2010-04-16T00:00:00.000000000",
          "2010-04-30T00:00:00.000000000",
          "2010-04-30T00:00:00.000000000",
          "2010-05-14T00:00:00.000000000",
          "2010-05-28T00:00:00.000000000",
          "2010-05-28T00:00:00.000000000",
          "2010-05-28T00:00:00.000000000",
          "2010-06-04T00:00:00.000000000",
          "2010-06-11T00:00:00.000000000",
          "2010-06-18T00:00:00.000000000",
          "2010-06-18T00:00:00.000000000",
          "2010-06-18T00:00:00.000000000",
          "2010-06-25T00:00:00.000000000",
          "2010-06-25T00:00:00.000000000",
          "2010-06-25T00:00:00.000000000",
          "2010-07-02T00:00:00.000000000",
          "2010-07-02T00:00:00.000000000",
          "2010-07-09T00:00:00.000000000",
          "2010-07-09T00:00:00.000000000",
          "2010-07-30T00:00:00.000000000",
          "2010-07-30T00:00:00.000000000",
          "2010-07-30T00:00:00.000000000",
          "2010-08-06T00:00:00.000000000",
          "2010-08-20T00:00:00.000000000",
          "2010-08-27T00:00:00.000000000",
          "2010-08-27T00:00:00.000000000",
          "2010-09-10T00:00:00.000000000",
          "2010-09-17T00:00:00.000000000",
          "2010-09-24T00:00:00.000000000",
          "2010-10-01T00:00:00.000000000",
          "2010-10-15T00:00:00.000000000",
          "2010-11-12T00:00:00.000000000",
          "2010-11-12T00:00:00.000000000",
          "2010-11-12T00:00:00.000000000",
          "2010-11-19T00:00:00.000000000",
          "2010-11-26T00:00:00.000000000",
          "2010-12-10T00:00:00.000000000",
          "2010-12-10T00:00:00.000000000",
          "2010-12-10T00:00:00.000000000",
          "2010-12-17T00:00:00.000000000",
          "2010-12-17T00:00:00.000000000",
          "2010-12-31T00:00:00.000000000",
          "2011-01-07T00:00:00.000000000",
          "2011-01-07T00:00:00.000000000",
          "2011-02-18T00:00:00.000000000",
          "2011-03-25T00:00:00.000000000",
          "2011-03-25T00:00:00.000000000",
          "2011-03-25T00:00:00.000000000",
          "2011-04-15T00:00:00.000000000",
          "2011-04-22T00:00:00.000000000",
          "2011-05-06T00:00:00.000000000",
          "2011-05-06T00:00:00.000000000",
          "2011-05-13T00:00:00.000000000",
          "2011-05-13T00:00:00.000000000",
          "2011-05-20T00:00:00.000000000",
          "2011-05-27T00:00:00.000000000",
          "2011-05-27T00:00:00.000000000",
          "2011-06-03T00:00:00.000000000",
          "2011-06-10T00:00:00.000000000",
          "2011-06-24T00:00:00.000000000",
          "2011-07-08T00:00:00.000000000",
          "2011-07-15T00:00:00.000000000",
          "2011-07-22T00:00:00.000000000",
          "2011-07-29T00:00:00.000000000",
          "2011-08-05T00:00:00.000000000",
          "2011-08-12T00:00:00.000000000",
          "2011-08-12T00:00:00.000000000",
          "2011-08-12T00:00:00.000000000",
          "2011-08-19T00:00:00.000000000",
          "2011-08-26T00:00:00.000000000",
          "2011-08-26T00:00:00.000000000",
          "2011-09-23T00:00:00.000000000",
          "2011-09-23T00:00:00.000000000",
          "2011-10-07T00:00:00.000000000",
          "2011-11-11T00:00:00.000000000",
          "2011-11-18T00:00:00.000000000",
          "2011-11-18T00:00:00.000000000",
          "2011-12-16T00:00:00.000000000",
          "2011-12-16T00:00:00.000000000",
          "2012-01-06T00:00:00.000000000",
          "2012-01-13T00:00:00.000000000",
          "2012-01-20T00:00:00.000000000",
          "2012-02-03T00:00:00.000000000",
          "2012-02-10T00:00:00.000000000",
          "2012-02-10T00:00:00.000000000",
          "2012-02-17T00:00:00.000000000",
          "2012-02-24T00:00:00.000000000",
          "2012-03-02T00:00:00.000000000",
          "2012-03-16T00:00:00.000000000",
          "2012-03-16T00:00:00.000000000",
          "2012-03-16T00:00:00.000000000",
          "2012-03-30T00:00:00.000000000",
          "2012-04-20T00:00:00.000000000",
          "2012-04-20T00:00:00.000000000",
          "2012-04-27T00:00:00.000000000",
          "2012-05-04T00:00:00.000000000",
          "2012-05-11T00:00:00.000000000",
          "2012-05-25T00:00:00.000000000",
          "2012-06-01T00:00:00.000000000",
          "2012-06-22T00:00:00.000000000",
          "2012-06-22T00:00:00.000000000",
          "2012-07-06T00:00:00.000000000",
          "2012-09-07T00:00:00.000000000",
          "2012-09-14T00:00:00.000000000",
          "2012-10-12T00:00:00.000000000",
          "2012-10-12T00:00:00.000000000",
          "2012-10-19T00:00:00.000000000",
          "2012-10-19T00:00:00.000000000",
          "2012-10-19T00:00:00.000000000"
         ],
         "xaxis": "x4",
         "y": {
          "bdata": "+n5qvHSTBED8qfHSTWIEQPyp8dJNYgRAEoPAyqFFB0DpJjEIrBwEQAAAAAAAAPh/AAAAAAAA+H9OYhBYObQHQM3MzMzMzAVAUrgehetRB0A9CtejcD0GQAAAAAAAAPh/okW28/3UBkA/NV66SQwGQN9PjZduEgZAc2iR7Xw/B0CkcD0K16MFQO58PzVeugZAf2q8dJMYBUB/arx0kxgFQD0K16NwPQZA001iEFg5BUAAAAAAAAD4fxFYObTIdgZAUI2XbhKDBkBEi2zn+6kHQIlBYOXQIgVA5KWbxCCwBUAfhetRuB4FQB+F61G4HgVA2/l+arx0B0C8dJMYBFYGQM3MzMzMzAZAwcqhRbbzBEDByqFFtvMEQCcxCKwcWghADi2yne+nBEAAAAAAAAD4f23n+6nx0gZAoBov3SQGB0AAAAAAAAD4f9rO91PjpQZAbef7qfHSBUBfukkMAisGQOF6FK5H4QVA4XoUrkfhBkDwp8ZLN4kGQKwcWmQ73whA6SYxCKwcCUAX2c73U+MJQDvfT42XbglAAyuHFtnOB0AlBoGVQ4sJQFyPwvUoXAhAexSuR+F6C0AAAAAAAAANQB1aZDvfTw5AL90kBoGVDkDb+X5qvHQOQBODwMqhxRBAyXa+nxovEECJQWDl0CIOQP7UeOkmMQ9AObTIdr6fDkB9PzVeukkOQAwCK4cWWRBALbKd76dGEEAAAAAAAAD4f4/C9ShcjwxAjZduEoPAC0AUrkfhehQOQGq8dJMYBA1A2/l+arx0DUBGtvP91HgNQAwCK4cW2QxAz/dT46WbDUC0yHa+nxoNQDvfT42XbgxA4XoUrkfhC0DJdr6fGi8MQCPb+X5qvAtAyXa+nxovDUBI4XoUrkcKQMdLN4lBYApAEVg5tMh2CkARWDm0yHYKQP7UeOkmMQlAAAAAAAAA+H8AAAAAAAD4f0oMAiuHFgpAAAAAAAAA+H9WDi2yne8MQG3n+6nx0ghAAAAAAAAA+H+PwvUoXI8NQHE9CtejcAxAdZMYBFYOD0CsHFpkO98NQAisHFpkOwxAL90kBoEVEEAAAAAAAAAOQK5H4XoUrhBAsHJoke18D0BkO99PjRcQQOXQItv5fhBAGy/dJAaBDUA730+Nl24OQOf7qfHSTQ5ALbKd76fGDUD4U+Olm8QKQIcW2c73Uw1A+FPjpZvEDEASg8DKoUUNQMdLN4lBYA5ABFYOLbIdEECNl24Sg8AMQI2XbhKDwAxAjZduEoPADEA=",
          "dtype": "f8"
         },
         "yaxis": "y4"
        },
        {
         "line": {
          "width": 2
         },
         "mode": "lines",
         "name": "Percentage hindered rentals",
         "type": "scatter",
         "x": [
          "2010-02-05T00:00:00.000000000",
          "2010-02-12T00:00:00.000000000",
          "2010-02-12T00:00:00.000000000",
          "2010-02-19T00:00:00.000000000",
          "2010-02-19T00:00:00.000000000",
          "2010-02-26T00:00:00.000000000",
          "2010-03-12T00:00:00.000000000",
          "2010-03-26T00:00:00.000000000",
          "2010-04-02T00:00:00.000000000",
          "2010-04-16T00:00:00.000000000",
          "2010-04-30T00:00:00.000000000",
          "2010-04-30T00:00:00.000000000",
          "2010-05-14T00:00:00.000000000",
          "2010-05-28T00:00:00.000000000",
          "2010-05-28T00:00:00.000000000",
          "2010-05-28T00:00:00.000000000",
          "2010-06-04T00:00:00.000000000",
          "2010-06-11T00:00:00.000000000",
          "2010-06-18T00:00:00.000000000",
          "2010-06-18T00:00:00.000000000",
          "2010-06-18T00:00:00.000000000",
          "2010-06-25T00:00:00.000000000",
          "2010-06-25T00:00:00.000000000",
          "2010-06-25T00:00:00.000000000",
          "2010-07-02T00:00:00.000000000",
          "2010-07-02T00:00:00.000000000",
          "2010-07-09T00:00:00.000000000",
          "2010-07-09T00:00:00.000000000",
          "2010-07-30T00:00:00.000000000",
          "2010-07-30T00:00:00.000000000",
          "2010-07-30T00:00:00.000000000",
          "2010-08-06T00:00:00.000000000",
          "2010-08-20T00:00:00.000000000",
          "2010-08-27T00:00:00.000000000",
          "2010-08-27T00:00:00.000000000",
          "2010-09-10T00:00:00.000000000",
          "2010-09-17T00:00:00.000000000",
          "2010-09-24T00:00:00.000000000",
          "2010-10-01T00:00:00.000000000",
          "2010-10-15T00:00:00.000000000",
          "2010-11-12T00:00:00.000000000",
          "2010-11-12T00:00:00.000000000",
          "2010-11-12T00:00:00.000000000",
          "2010-11-19T00:00:00.000000000",
          "2010-11-26T00:00:00.000000000",
          "2010-12-10T00:00:00.000000000",
          "2010-12-10T00:00:00.000000000",
          "2010-12-10T00:00:00.000000000",
          "2010-12-17T00:00:00.000000000",
          "2010-12-17T00:00:00.000000000",
          "2010-12-31T00:00:00.000000000",
          "2011-01-07T00:00:00.000000000",
          "2011-01-07T00:00:00.000000000",
          "2011-02-18T00:00:00.000000000",
          "2011-03-25T00:00:00.000000000",
          "2011-03-25T00:00:00.000000000",
          "2011-03-25T00:00:00.000000000",
          "2011-04-15T00:00:00.000000000",
          "2011-04-22T00:00:00.000000000",
          "2011-05-06T00:00:00.000000000",
          "2011-05-06T00:00:00.000000000",
          "2011-05-13T00:00:00.000000000",
          "2011-05-13T00:00:00.000000000",
          "2011-05-20T00:00:00.000000000",
          "2011-05-27T00:00:00.000000000",
          "2011-05-27T00:00:00.000000000",
          "2011-06-03T00:00:00.000000000",
          "2011-06-10T00:00:00.000000000",
          "2011-06-24T00:00:00.000000000",
          "2011-07-08T00:00:00.000000000",
          "2011-07-15T00:00:00.000000000",
          "2011-07-22T00:00:00.000000000",
          "2011-07-29T00:00:00.000000000",
          "2011-08-05T00:00:00.000000000",
          "2011-08-12T00:00:00.000000000",
          "2011-08-12T00:00:00.000000000",
          "2011-08-12T00:00:00.000000000",
          "2011-08-19T00:00:00.000000000",
          "2011-08-26T00:00:00.000000000",
          "2011-08-26T00:00:00.000000000",
          "2011-09-23T00:00:00.000000000",
          "2011-09-23T00:00:00.000000000",
          "2011-10-07T00:00:00.000000000",
          "2011-11-11T00:00:00.000000000",
          "2011-11-18T00:00:00.000000000",
          "2011-11-18T00:00:00.000000000",
          "2011-12-16T00:00:00.000000000",
          "2011-12-16T00:00:00.000000000",
          "2012-01-06T00:00:00.000000000",
          "2012-01-13T00:00:00.000000000",
          "2012-01-20T00:00:00.000000000",
          "2012-02-03T00:00:00.000000000",
          "2012-02-10T00:00:00.000000000",
          "2012-02-10T00:00:00.000000000",
          "2012-02-17T00:00:00.000000000",
          "2012-02-24T00:00:00.000000000",
          "2012-03-02T00:00:00.000000000",
          "2012-03-16T00:00:00.000000000",
          "2012-03-16T00:00:00.000000000",
          "2012-03-16T00:00:00.000000000",
          "2012-03-30T00:00:00.000000000",
          "2012-04-20T00:00:00.000000000",
          "2012-04-20T00:00:00.000000000",
          "2012-04-27T00:00:00.000000000",
          "2012-05-04T00:00:00.000000000",
          "2012-05-11T00:00:00.000000000",
          "2012-05-25T00:00:00.000000000",
          "2012-06-01T00:00:00.000000000",
          "2012-06-22T00:00:00.000000000",
          "2012-06-22T00:00:00.000000000",
          "2012-07-06T00:00:00.000000000",
          "2012-09-07T00:00:00.000000000",
          "2012-09-14T00:00:00.000000000",
          "2012-10-12T00:00:00.000000000",
          "2012-10-12T00:00:00.000000000",
          "2012-10-19T00:00:00.000000000",
          "2012-10-19T00:00:00.000000000",
          "2012-10-19T00:00:00.000000000"
         ],
         "xaxis": "x5",
         "y": {
          "bdata": "7VV1oJjNakCHYuHav2dqQLqT46ni02pAqvHSTWJ0YEASnzvBPl5qQAAAAAAAAPh/PMZw0PnXakBVZ7XAnntgQJGA0eWNtmdAOUVHcvmjX0DKplzhnXxqQChIbHcPXmpAIwrSMcxKakBuvrYjQYpfQCYd5WA2jWpARfRr62eJYEBxoxLo3c9qQFYUCmwph19AMZtbfCXZakD8sDliiOBqQDAzx00ozmZAiAxQv7DcakAc6+I2GohfQFPvBFYpkmlAm+Ydp+iIX0DjK8shs5BgQIVzsnkB1WpAUrQXdr2wZ0DS+Cqen5xqQOuLKf2pfWpAJRu0/CWTYEBOfSB5p5NgQAAAAAAAAPh/ztoSXidyakB/rQEA9t1qQGJw3klVh19AVlbkIR3cakAAAAAAAAD4fxDpt68Dj19A1KcLZ22YYEDiua3j7pFqQNB1hk70ol9AQ5CDEiZ1akCXgPM9/u1qQJEsYAL34WpAXynLEMeyX0BfKcsQx7JfQAAAAAAAAPh/AAAAAAAA+H/y9tZ2SbhfQEANKVCVlGlAyWw1kBNiakA6gDRSJdNmQE7MH3jh2GpAQPflzLYTYEAmVqHc0R9nQMI5fgOuvmBAzTD/MunIYEA33sJfeCBrQE5LYv9rIWBAGKGOff89Z0CpZ0EobxpoQCYYc3wZEWtAfPMbJpoaaED2o5cHH/BqQPVXfs/+IWBAwgk7e13bYEC2HENbKd5gQDJ3LSEfImBAmpmZmZkjYEAswgO5ekRnQJRCaiTTJGBAAmswaHwBa0AEWrqCbfFqQEKQKFlzJmBAQpAoWXMmYED77NukPWBrQBcJXA0/YmtA1SpV/SVMaECy4DQzqShrQH0oLEy6d2tAsH23L5YwYEAAAAAAAAD4f7RuKCE9UmtAXo94aA5Ha0AHANjKlbRrQFsmw/G8PGBAAAAAAAAA+H+hoBStXGtrQAAAAAAAAPh/Yebxau9IYEBkHvmDwaBqQKUPApdsnWhAAAAAAAAA+H+ITb+f9bpnQOHwgojUiGtAcI9KVqpUYECO23ksx6ZrQF/VWS1wWmBAiVaTTLMyYUDf4jz3Oa1oQNoQLcOJPWFA7KF9rCC3aEAd1DTeTD9hQEVHcvkPQWFAXDV0WIYnbEDOaFDZ1bJoQFcPTvqxXmBAl5APejZFYUDZXDXP0SlsQJoTajwHV2BAMDHxogrDaECl+b4TDsRoQCuSZXd3Y2BAbHh6pSxdYUBNV2YAngBsQGs9jcUAX2xApVR4hp/ta0A=",
          "dtype": "f8"
         },
         "yaxis": "y5"
        },
        {
         "line": {
          "width": 2
         },
         "mode": "lines",
         "name": "Percentage hindered rentals",
         "type": "scatter",
         "x": [
          "2010-02-05T00:00:00.000000000",
          "2010-02-12T00:00:00.000000000",
          "2010-02-12T00:00:00.000000000",
          "2010-02-19T00:00:00.000000000",
          "2010-02-19T00:00:00.000000000",
          "2010-02-26T00:00:00.000000000",
          "2010-03-12T00:00:00.000000000",
          "2010-03-26T00:00:00.000000000",
          "2010-04-02T00:00:00.000000000",
          "2010-04-16T00:00:00.000000000",
          "2010-04-30T00:00:00.000000000",
          "2010-04-30T00:00:00.000000000",
          "2010-05-14T00:00:00.000000000",
          "2010-05-28T00:00:00.000000000",
          "2010-05-28T00:00:00.000000000",
          "2010-05-28T00:00:00.000000000",
          "2010-06-04T00:00:00.000000000",
          "2010-06-11T00:00:00.000000000",
          "2010-06-18T00:00:00.000000000",
          "2010-06-18T00:00:00.000000000",
          "2010-06-18T00:00:00.000000000",
          "2010-06-25T00:00:00.000000000",
          "2010-06-25T00:00:00.000000000",
          "2010-06-25T00:00:00.000000000",
          "2010-07-02T00:00:00.000000000",
          "2010-07-02T00:00:00.000000000",
          "2010-07-09T00:00:00.000000000",
          "2010-07-09T00:00:00.000000000",
          "2010-07-30T00:00:00.000000000",
          "2010-07-30T00:00:00.000000000",
          "2010-07-30T00:00:00.000000000",
          "2010-08-06T00:00:00.000000000",
          "2010-08-20T00:00:00.000000000",
          "2010-08-27T00:00:00.000000000",
          "2010-08-27T00:00:00.000000000",
          "2010-09-10T00:00:00.000000000",
          "2010-09-17T00:00:00.000000000",
          "2010-09-24T00:00:00.000000000",
          "2010-10-01T00:00:00.000000000",
          "2010-10-15T00:00:00.000000000",
          "2010-11-12T00:00:00.000000000",
          "2010-11-12T00:00:00.000000000",
          "2010-11-12T00:00:00.000000000",
          "2010-11-19T00:00:00.000000000",
          "2010-11-26T00:00:00.000000000",
          "2010-12-10T00:00:00.000000000",
          "2010-12-10T00:00:00.000000000",
          "2010-12-10T00:00:00.000000000",
          "2010-12-17T00:00:00.000000000",
          "2010-12-17T00:00:00.000000000",
          "2010-12-31T00:00:00.000000000",
          "2011-01-07T00:00:00.000000000",
          "2011-01-07T00:00:00.000000000",
          "2011-02-18T00:00:00.000000000",
          "2011-03-25T00:00:00.000000000",
          "2011-03-25T00:00:00.000000000",
          "2011-03-25T00:00:00.000000000",
          "2011-04-15T00:00:00.000000000",
          "2011-04-22T00:00:00.000000000",
          "2011-05-06T00:00:00.000000000",
          "2011-05-06T00:00:00.000000000",
          "2011-05-13T00:00:00.000000000",
          "2011-05-13T00:00:00.000000000",
          "2011-05-20T00:00:00.000000000",
          "2011-05-27T00:00:00.000000000",
          "2011-05-27T00:00:00.000000000",
          "2011-06-03T00:00:00.000000000",
          "2011-06-10T00:00:00.000000000",
          "2011-06-24T00:00:00.000000000",
          "2011-07-08T00:00:00.000000000",
          "2011-07-15T00:00:00.000000000",
          "2011-07-22T00:00:00.000000000",
          "2011-07-29T00:00:00.000000000",
          "2011-08-05T00:00:00.000000000",
          "2011-08-12T00:00:00.000000000",
          "2011-08-12T00:00:00.000000000",
          "2011-08-12T00:00:00.000000000",
          "2011-08-19T00:00:00.000000000",
          "2011-08-26T00:00:00.000000000",
          "2011-08-26T00:00:00.000000000",
          "2011-09-23T00:00:00.000000000",
          "2011-09-23T00:00:00.000000000",
          "2011-10-07T00:00:00.000000000",
          "2011-11-11T00:00:00.000000000",
          "2011-11-18T00:00:00.000000000",
          "2011-11-18T00:00:00.000000000",
          "2011-12-16T00:00:00.000000000",
          "2011-12-16T00:00:00.000000000",
          "2012-01-06T00:00:00.000000000",
          "2012-01-13T00:00:00.000000000",
          "2012-01-20T00:00:00.000000000",
          "2012-02-03T00:00:00.000000000",
          "2012-02-10T00:00:00.000000000",
          "2012-02-10T00:00:00.000000000",
          "2012-02-17T00:00:00.000000000",
          "2012-02-24T00:00:00.000000000",
          "2012-03-02T00:00:00.000000000",
          "2012-03-16T00:00:00.000000000",
          "2012-03-16T00:00:00.000000000",
          "2012-03-16T00:00:00.000000000",
          "2012-03-30T00:00:00.000000000",
          "2012-04-20T00:00:00.000000000",
          "2012-04-20T00:00:00.000000000",
          "2012-04-27T00:00:00.000000000",
          "2012-05-04T00:00:00.000000000",
          "2012-05-11T00:00:00.000000000",
          "2012-05-25T00:00:00.000000000",
          "2012-06-01T00:00:00.000000000",
          "2012-06-22T00:00:00.000000000",
          "2012-06-22T00:00:00.000000000",
          "2012-07-06T00:00:00.000000000",
          "2012-09-07T00:00:00.000000000",
          "2012-09-14T00:00:00.000000000",
          "2012-10-12T00:00:00.000000000",
          "2012-10-12T00:00:00.000000000",
          "2012-10-19T00:00:00.000000000",
          "2012-10-19T00:00:00.000000000",
          "2012-10-19T00:00:00.000000000"
         ],
         "xaxis": "x6",
         "y": {
          "bdata": "RLbz/dR4HUCDwMqhRTYgQBkEVg4tMhlAAAAAAAAA+H8AAAAAAAD4f5ZDi2zn+yFAGQRWDi0yGUAzMzMzM7MgQJMYBFYO7SFACtejcD2KGkCS7Xw/NV4cQAAAAAAAAPh/CKwcWmQ7H0Av3SQGgZUfQJLtfD81XhxAAAAAAAAA+H+sHFpkO18dQAAAAAAAAPh/rBxaZDtfHUDwp8ZLN4kZQD81XrpJzCFAAAAAAAAA+H8/NV66SQwjQAaBlUOLbB9A5/up8dLNH0Cmm8QgsDIgQPhT46WbxBlARbbz/dR4G0AxCKwcWuQbQJZDi2zn+xlAppvEILAyIEDJdr6fGq8iQOf7qfHSzR9A2s73U+MlH0DD9Shcj0IZQFyPwvUoXCxAw/UoXI9CGUDP91PjpRseQArXo3A9ihtAtvP91HipIkDfT42XbhIbQAAAAAAAAPh/+n5qvHRTIEA9CtejcD0aQKjGSzeJQR5AN166SQyCHECuR+F6FC4fQAAAAAAAAPh/tvP91HipIkDHSzeJQaAsQFYOLbKd7x1AdJMYBFYOIEAAAAAAAAD4fzvfT42XbhtA4XoUrkfhHUAMAiuHFhkhQC/dJAaBFR9AMzMzMzPzIUDsUbgehWsbQEa28/3UeCtAmG4Sg8AKIUBxPQrXozAhQNv5fmq89BlAQmDl0CJbGUDufD81XroeQEa28/3UeCtAbRKDwMqhHkBtEoPAyqEeQGQQWDm0yBdA+n5qvHSTFkAAAAAAAEAhQPp+arx0kxZABFYOLbIdGkAOAiuHFtkfQDdeukkMghtAqMZLN4kBK0AAAAAAAAD4fzMzMzMzsxlAWDm0yHY+IUAzMzMzM7MbQPhT46WbRB5AN166SQyCG0B9PzVeuskcQDMzMzMzMxlAEFg5tMh2H0B9PzVeuskcQN9PjZdukhRA3SQGgZXDHUDufD81XjocQKBFtvP9VBtA0SLb+X5qGEDy0k1iENgbQFCNl24SgyBADAIrhxbZIEAMAiuHFtkgQO58PzVeOhxArkfhehQuHkAxCKwcWmQdQNEi2/l+ahhAEoPAyqHFH0DazvdT46UYQM3MzMzMTCBArkfhehQuIEDP91PjpZsgQM3MzMzMTCBADi2yne+nGkCuR+F6FC4gQFyPwvUo3BdAzczMzMxMIEAOLbKd76caQK5H4XoUrhxAsXJoke18H0BYObTIdj4YQM/3U+OlGxZAI9v5fmp8IEDlpZvEILAVQIlBYOXQIhhAAAAAAAAA+H8=",
          "dtype": "f8"
         },
         "yaxis": "y6"
        }
       ],
       "layout": {
        "height": 700,
        "showlegend": false,
        "template": {
         "data": {
          "bar": [
           {
            "error_x": {
             "color": "#2a3f5f"
            },
            "error_y": {
             "color": "#2a3f5f"
            },
            "marker": {
             "line": {
              "color": "#E5ECF6",
              "width": 0.5
             },
             "pattern": {
              "fillmode": "overlay",
              "size": 10,
              "solidity": 0.2
             }
            },
            "type": "bar"
           }
          ],
          "barpolar": [
           {
            "marker": {
             "line": {
              "color": "#E5ECF6",
              "width": 0.5
             },
             "pattern": {
              "fillmode": "overlay",
              "size": 10,
              "solidity": 0.2
             }
            },
            "type": "barpolar"
           }
          ],
          "carpet": [
           {
            "aaxis": {
             "endlinecolor": "#2a3f5f",
             "gridcolor": "white",
             "linecolor": "white",
             "minorgridcolor": "white",
             "startlinecolor": "#2a3f5f"
            },
            "baxis": {
             "endlinecolor": "#2a3f5f",
             "gridcolor": "white",
             "linecolor": "white",
             "minorgridcolor": "white",
             "startlinecolor": "#2a3f5f"
            },
            "type": "carpet"
           }
          ],
          "choropleth": [
           {
            "colorbar": {
             "outlinewidth": 0,
             "ticks": ""
            },
            "type": "choropleth"
           }
          ],
          "contour": [
           {
            "colorbar": {
             "outlinewidth": 0,
             "ticks": ""
            },
            "colorscale": [
             [
              0,
              "#0d0887"
             ],
             [
              0.1111111111111111,
              "#46039f"
             ],
             [
              0.2222222222222222,
              "#7201a8"
             ],
             [
              0.3333333333333333,
              "#9c179e"
             ],
             [
              0.4444444444444444,
              "#bd3786"
             ],
             [
              0.5555555555555556,
              "#d8576b"
             ],
             [
              0.6666666666666666,
              "#ed7953"
             ],
             [
              0.7777777777777778,
              "#fb9f3a"
             ],
             [
              0.8888888888888888,
              "#fdca26"
             ],
             [
              1,
              "#f0f921"
             ]
            ],
            "type": "contour"
           }
          ],
          "contourcarpet": [
           {
            "colorbar": {
             "outlinewidth": 0,
             "ticks": ""
            },
            "type": "contourcarpet"
           }
          ],
          "heatmap": [
           {
            "colorbar": {
             "outlinewidth": 0,
             "ticks": ""
            },
            "colorscale": [
             [
              0,
              "#0d0887"
             ],
             [
              0.1111111111111111,
              "#46039f"
             ],
             [
              0.2222222222222222,
              "#7201a8"
             ],
             [
              0.3333333333333333,
              "#9c179e"
             ],
             [
              0.4444444444444444,
              "#bd3786"
             ],
             [
              0.5555555555555556,
              "#d8576b"
             ],
             [
              0.6666666666666666,
              "#ed7953"
             ],
             [
              0.7777777777777778,
              "#fb9f3a"
             ],
             [
              0.8888888888888888,
              "#fdca26"
             ],
             [
              1,
              "#f0f921"
             ]
            ],
            "type": "heatmap"
           }
          ],
          "histogram": [
           {
            "marker": {
             "pattern": {
              "fillmode": "overlay",
              "size": 10,
              "solidity": 0.2
             }
            },
            "type": "histogram"
           }
          ],
          "histogram2d": [
           {
            "colorbar": {
             "outlinewidth": 0,
             "ticks": ""
            },
            "colorscale": [
             [
              0,
              "#0d0887"
             ],
             [
              0.1111111111111111,
              "#46039f"
             ],
             [
              0.2222222222222222,
              "#7201a8"
             ],
             [
              0.3333333333333333,
              "#9c179e"
             ],
             [
              0.4444444444444444,
              "#bd3786"
             ],
             [
              0.5555555555555556,
              "#d8576b"
             ],
             [
              0.6666666666666666,
              "#ed7953"
             ],
             [
              0.7777777777777778,
              "#fb9f3a"
             ],
             [
              0.8888888888888888,
              "#fdca26"
             ],
             [
              1,
              "#f0f921"
             ]
            ],
            "type": "histogram2d"
           }
          ],
          "histogram2dcontour": [
           {
            "colorbar": {
             "outlinewidth": 0,
             "ticks": ""
            },
            "colorscale": [
             [
              0,
              "#0d0887"
             ],
             [
              0.1111111111111111,
              "#46039f"
             ],
             [
              0.2222222222222222,
              "#7201a8"
             ],
             [
              0.3333333333333333,
              "#9c179e"
             ],
             [
              0.4444444444444444,
              "#bd3786"
             ],
             [
              0.5555555555555556,
              "#d8576b"
             ],
             [
              0.6666666666666666,
              "#ed7953"
             ],
             [
              0.7777777777777778,
              "#fb9f3a"
             ],
             [
              0.8888888888888888,
              "#fdca26"
             ],
             [
              1,
              "#f0f921"
             ]
            ],
            "type": "histogram2dcontour"
           }
          ],
          "mesh3d": [
           {
            "colorbar": {
             "outlinewidth": 0,
             "ticks": ""
            },
            "type": "mesh3d"
           }
          ],
          "parcoords": [
           {
            "line": {
             "colorbar": {
              "outlinewidth": 0,
              "ticks": ""
             }
            },
            "type": "parcoords"
           }
          ],
          "pie": [
           {
            "automargin": true,
            "type": "pie"
           }
          ],
          "scatter": [
           {
            "fillpattern": {
             "fillmode": "overlay",
             "size": 10,
             "solidity": 0.2
            },
            "type": "scatter"
           }
          ],
          "scatter3d": [
           {
            "line": {
             "colorbar": {
              "outlinewidth": 0,
              "ticks": ""
             }
            },
            "marker": {
             "colorbar": {
              "outlinewidth": 0,
              "ticks": ""
             }
            },
            "type": "scatter3d"
           }
          ],
          "scattercarpet": [
           {
            "marker": {
             "colorbar": {
              "outlinewidth": 0,
              "ticks": ""
             }
            },
            "type": "scattercarpet"
           }
          ],
          "scattergeo": [
           {
            "marker": {
             "colorbar": {
              "outlinewidth": 0,
              "ticks": ""
             }
            },
            "type": "scattergeo"
           }
          ],
          "scattergl": [
           {
            "marker": {
             "colorbar": {
              "outlinewidth": 0,
              "ticks": ""
             }
            },
            "type": "scattergl"
           }
          ],
          "scattermap": [
           {
            "marker": {
             "colorbar": {
              "outlinewidth": 0,
              "ticks": ""
             }
            },
            "type": "scattermap"
           }
          ],
          "scattermapbox": [
           {
            "marker": {
             "colorbar": {
              "outlinewidth": 0,
              "ticks": ""
             }
            },
            "type": "scattermapbox"
           }
          ],
          "scatterpolar": [
           {
            "marker": {
             "colorbar": {
              "outlinewidth": 0,
              "ticks": ""
             }
            },
            "type": "scatterpolar"
           }
          ],
          "scatterpolargl": [
           {
            "marker": {
             "colorbar": {
              "outlinewidth": 0,
              "ticks": ""
             }
            },
            "type": "scatterpolargl"
           }
          ],
          "scatterternary": [
           {
            "marker": {
             "colorbar": {
              "outlinewidth": 0,
              "ticks": ""
             }
            },
            "type": "scatterternary"
           }
          ],
          "surface": [
           {
            "colorbar": {
             "outlinewidth": 0,
             "ticks": ""
            },
            "colorscale": [
             [
              0,
              "#0d0887"
             ],
             [
              0.1111111111111111,
              "#46039f"
             ],
             [
              0.2222222222222222,
              "#7201a8"
             ],
             [
              0.3333333333333333,
              "#9c179e"
             ],
             [
              0.4444444444444444,
              "#bd3786"
             ],
             [
              0.5555555555555556,
              "#d8576b"
             ],
             [
              0.6666666666666666,
              "#ed7953"
             ],
             [
              0.7777777777777778,
              "#fb9f3a"
             ],
             [
              0.8888888888888888,
              "#fdca26"
             ],
             [
              1,
              "#f0f921"
             ]
            ],
            "type": "surface"
           }
          ],
          "table": [
           {
            "cells": {
             "fill": {
              "color": "#EBF0F8"
             },
             "line": {
              "color": "white"
             }
            },
            "header": {
             "fill": {
              "color": "#C8D4E3"
             },
             "line": {
              "color": "white"
             }
            },
            "type": "table"
           }
          ]
         },
         "layout": {
          "annotationdefaults": {
           "arrowcolor": "#2a3f5f",
           "arrowhead": 0,
           "arrowwidth": 1
          },
          "autotypenumbers": "strict",
          "coloraxis": {
           "colorbar": {
            "outlinewidth": 0,
            "ticks": ""
           }
          },
          "colorscale": {
           "diverging": [
            [
             0,
             "#8e0152"
            ],
            [
             0.1,
             "#c51b7d"
            ],
            [
             0.2,
             "#de77ae"
            ],
            [
             0.3,
             "#f1b6da"
            ],
            [
             0.4,
             "#fde0ef"
            ],
            [
             0.5,
             "#f7f7f7"
            ],
            [
             0.6,
             "#e6f5d0"
            ],
            [
             0.7,
             "#b8e186"
            ],
            [
             0.8,
             "#7fbc41"
            ],
            [
             0.9,
             "#4d9221"
            ],
            [
             1,
             "#276419"
            ]
           ],
           "sequential": [
            [
             0,
             "#0d0887"
            ],
            [
             0.1111111111111111,
             "#46039f"
            ],
            [
             0.2222222222222222,
             "#7201a8"
            ],
            [
             0.3333333333333333,
             "#9c179e"
            ],
            [
             0.4444444444444444,
             "#bd3786"
            ],
            [
             0.5555555555555556,
             "#d8576b"
            ],
            [
             0.6666666666666666,
             "#ed7953"
            ],
            [
             0.7777777777777778,
             "#fb9f3a"
            ],
            [
             0.8888888888888888,
             "#fdca26"
            ],
            [
             1,
             "#f0f921"
            ]
           ],
           "sequentialminus": [
            [
             0,
             "#0d0887"
            ],
            [
             0.1111111111111111,
             "#46039f"
            ],
            [
             0.2222222222222222,
             "#7201a8"
            ],
            [
             0.3333333333333333,
             "#9c179e"
            ],
            [
             0.4444444444444444,
             "#bd3786"
            ],
            [
             0.5555555555555556,
             "#d8576b"
            ],
            [
             0.6666666666666666,
             "#ed7953"
            ],
            [
             0.7777777777777778,
             "#fb9f3a"
            ],
            [
             0.8888888888888888,
             "#fdca26"
            ],
            [
             1,
             "#f0f921"
            ]
           ]
          },
          "colorway": [
           "#636efa",
           "#EF553B",
           "#00cc96",
           "#ab63fa",
           "#FFA15A",
           "#19d3f3",
           "#FF6692",
           "#B6E880",
           "#FF97FF",
           "#FECB52"
          ],
          "font": {
           "color": "#2a3f5f"
          },
          "geo": {
           "bgcolor": "white",
           "lakecolor": "white",
           "landcolor": "#E5ECF6",
           "showlakes": true,
           "showland": true,
           "subunitcolor": "white"
          },
          "hoverlabel": {
           "align": "left"
          },
          "hovermode": "closest",
          "mapbox": {
           "style": "light"
          },
          "paper_bgcolor": "white",
          "plot_bgcolor": "#E5ECF6",
          "polar": {
           "angularaxis": {
            "gridcolor": "white",
            "linecolor": "white",
            "ticks": ""
           },
           "bgcolor": "#E5ECF6",
           "radialaxis": {
            "gridcolor": "white",
            "linecolor": "white",
            "ticks": ""
           }
          },
          "scene": {
           "xaxis": {
            "backgroundcolor": "#E5ECF6",
            "gridcolor": "white",
            "gridwidth": 2,
            "linecolor": "white",
            "showbackground": true,
            "ticks": "",
            "zerolinecolor": "white"
           },
           "yaxis": {
            "backgroundcolor": "#E5ECF6",
            "gridcolor": "white",
            "gridwidth": 2,
            "linecolor": "white",
            "showbackground": true,
            "ticks": "",
            "zerolinecolor": "white"
           },
           "zaxis": {
            "backgroundcolor": "#E5ECF6",
            "gridcolor": "white",
            "gridwidth": 2,
            "linecolor": "white",
            "showbackground": true,
            "ticks": "",
            "zerolinecolor": "white"
           }
          },
          "shapedefaults": {
           "line": {
            "color": "#2a3f5f"
           }
          },
          "ternary": {
           "aaxis": {
            "gridcolor": "white",
            "linecolor": "white",
            "ticks": ""
           },
           "baxis": {
            "gridcolor": "white",
            "linecolor": "white",
            "ticks": ""
           },
           "bgcolor": "#E5ECF6",
           "caxis": {
            "gridcolor": "white",
            "linecolor": "white",
            "ticks": ""
           }
          },
          "title": {
           "x": 0.05
          },
          "xaxis": {
           "automargin": true,
           "gridcolor": "white",
           "linecolor": "white",
           "ticks": "",
           "title": {
            "standoff": 15
           },
           "zerolinecolor": "white",
           "zerolinewidth": 2
          },
          "yaxis": {
           "automargin": true,
           "gridcolor": "white",
           "linecolor": "white",
           "ticks": "",
           "title": {
            "standoff": 15
           },
           "zerolinecolor": "white",
           "zerolinewidth": 2
          }
         }
        },
        "title": {
         "text": "Evolution along Date"
        },
        "width": 1200,
        "xaxis": {
         "anchor": "y",
         "domain": [
          0,
          0.45
         ],
         "title": {
          "text": "Weekly_Sales"
         }
        },
        "xaxis2": {
         "anchor": "y2",
         "domain": [
          0.55,
          1
         ],
         "title": {
          "text": "Holiday_Flag"
         }
        },
        "xaxis3": {
         "anchor": "y3",
         "domain": [
          0,
          0.45
         ],
         "title": {
          "text": "Temperature"
         }
        },
        "xaxis4": {
         "anchor": "y4",
         "domain": [
          0.55,
          1
         ],
         "title": {
          "text": "Fuel_Price"
         }
        },
        "xaxis5": {
         "anchor": "y5",
         "domain": [
          0,
          0.45
         ],
         "title": {
          "text": "CPI"
         }
        },
        "xaxis6": {
         "anchor": "y6",
         "domain": [
          0.55,
          1
         ],
         "title": {
          "text": "Unemployment"
         }
        },
        "yaxis": {
         "anchor": "x",
         "domain": [
          0.7333333333333333,
          1
         ]
        },
        "yaxis2": {
         "anchor": "x2",
         "domain": [
          0.7333333333333333,
          1
         ]
        },
        "yaxis3": {
         "anchor": "x3",
         "domain": [
          0.36666666666666664,
          0.6333333333333333
         ]
        },
        "yaxis4": {
         "anchor": "x4",
         "domain": [
          0.36666666666666664,
          0.6333333333333333
         ]
        },
        "yaxis5": {
         "anchor": "x5",
         "domain": [
          0,
          0.26666666666666666
         ]
        },
        "yaxis6": {
         "anchor": "x6",
         "domain": [
          0,
          0.26666666666666666
         ]
        }
       }
      }
     },
     "metadata": {},
     "output_type": "display_data"
    }
   ],
   "source": [
    "import plotly.graph_objects as go\n",
    "from plotly.subplots import make_subplots\n",
    "\n",
    "x_axis = \"Date\"\n",
    "\n",
    "wsales_df_for_viz = wsales_df.sort_values(by=[x_axis])\n",
    "\n",
    "cols = [\"Weekly_Sales\", \"Holiday_Flag\", \"Temperature\", \"Fuel_Price\", \"CPI\", \"Unemployment\"]\n",
    "fig = make_subplots(rows=3, cols=2)\n",
    "\n",
    "positions = [(r, c) for r in range(1, 4) for c in range(1, 3)]\n",
    "\n",
    "for i, col in enumerate(cols):\n",
    "    row, col_pos = positions[i]\n",
    "\n",
    "    fig.add_trace(go.Scatter(\n",
    "        x=wsales_df_for_viz[x_axis], y=wsales_df_for_viz[col],\n",
    "        mode=\"lines\",\n",
    "        name=\"Percentage hindered rentals\",\n",
    "        line={\"width\": 2}\n",
    "    ),\n",
    "    row=row,\n",
    "    col=col_pos\n",
    "    )\n",
    "    axis_num = i + 1\n",
    "    fig.update_layout({f\"xaxis{axis_num}\": dict(title=col)})\n",
    "\n",
    "fig.update_layout(\n",
    "    height=700,\n",
    "    width=1200,\n",
    "    title_text=f\"Evolution along {x_axis}\",\n",
    "    showlegend=False\n",
    ")\n",
    "\n",
    "fig.show()\n",
    "\n",
    "# The gaps are caused by NaNs. I will be looking after those in the pre-processing phase"
   ]
  },
  {
   "cell_type": "code",
   "execution_count": null,
   "id": "4096fa5a",
   "metadata": {},
   "outputs": [
    {
     "data": {
      "application/vnd.plotly.v1+json": {
       "config": {
        "plotlyServerURL": "https://plot.ly"
       },
       "data": [
        {
         "mode": "markers",
         "name": "Percentage hindered rentals",
         "type": "scatter",
         "x": {
          "bdata": "AQAAAAEAAAABAAAAAQAAAAEAAAACAAAAAgAAAAIAAAACAAAAAgAAAAIAAAACAAAAAgAAAAIAAAACAAAAAgAAAAIAAAADAAAAAwAAAAMAAAADAAAAAwAAAAMAAAADAAAAAwAAAAMAAAADAAAABAAAAAQAAAAEAAAABAAAAAQAAAAEAAAABAAAAAQAAAAEAAAABQAAAAUAAAAFAAAABQAAAAUAAAAFAAAABQAAAAUAAAAFAAAABQAAAAUAAAAFAAAABQAAAAUAAAAGAAAABgAAAAYAAAAGAAAABgAAAAYAAAAGAAAABgAAAAYAAAAGAAAABgAAAAYAAAAGAAAABgAAAAcAAAAHAAAABwAAAAcAAAAHAAAABwAAAAcAAAAHAAAABwAAAAcAAAAHAAAABwAAAAgAAAAIAAAACAAAAAgAAAAIAAAACAAAAAgAAAAIAAAACAAAAAgAAAAIAAAACQAAAAkAAAAJAAAACQAAAAkAAAAJAAAACQAAAAoAAAAKAAAACgAAAAoAAAAKAAAACgAAAAoAAAAKAAAACwAAAAsAAAALAAAACwAAAAsAAAALAAAACwAAAAsAAAAMAAAADAAAAAwAAAAMAAAADAAAAAwAAAAMAAAADAAAAA==",
          "dtype": "i4"
         },
         "xaxis": "x",
         "y": {
          "bdata": "rkfhejptFkFcj8I1lqQ7QT0K1yNgdTtBpHA9ymLTOkGamZkZKnQ8QaRwPYoV/TdB16NwPUiyP0GamZmZwc9AQdejcP3G1D5BAAAAgM0qJEEUrkeh5/k/Qc3MzMziWy5BpHA9igkyIUEUrkfh2CwcQQrXo3DlDTlBMzMzs6poPEFSuB7FUTVAQT0K16Odmx1BUrgeBeNePkGuR+E6m608QQrXo/CEUzNB7FG4nm7oPkFcj8J15mkhQR+F61FgQSpB4XoUbrmUO0EzMzNzT8Y1QXsUrsegmDlBXI/CdURVLUF7FK5H8h8hQY/C9Sjg2zZBCtejcPsnLkFSuB6F1R8nQcP1KFwnOxJB16NwPfDpG0EpXI9CryYzQeF6FO6+AzlBpHA9ylorM0EzMzMzOEYZQTMzM7P9VzxB4XoU7u/5P0Fcj8L1xCkvQSlcj8IUkxpBCtejcE9wNUFSuB4F2W0tQbgehau+XjZBCtejcMVdGkEAAACA68w2QaRwPYoHQiBBj8L1qLYXOUGkcD0KyMERQbgehcviJ0FB7FG43o8bPkE9Ctdj5w4/QRSuR6FRZDZBMzMzM6M6GEG4HoVriMspQa5H4XrHUB9Bw/UoXL5nNkHNzMzMp5oZQfYoXE/s+jpBZmZmZrM4FkEUrkdhyDglQexRuB49FR9BuB6F6xilPkFcj8K1Csw+QT0K12MHEj9Bj8L1qNq+IkHhehSuGMsQQcP1KNxtiD9BXI/C9XvZNEGamZmZNKAdQSlcj8IIzz1B4XoUrtqiN0GkcD3Kr447QexRuB4EahBBexSux5RhN0GamZnZJcsxQbgeheu2HDZBMzMzM7glKkEUrkdhpRA+QcP1KFwTLC1Bj8L1aHWsNUEK16Pw1DkjQQAAAMA/yThBAAAAALVQK0H2KFyP4R8rQRSuR6FVej5BKVyPwgNLFkGamZkZ6T4iQWZmZqb3TjtBMzMzs8eIKUH2KFwPno8rQVyPwvWGMDxBH4XrUXoRIEFSuB7F5AI3QZqZmZk4IBNB4XoUrowSLEEAAAAAn2MwQTMzMzPkay9BpHA9ii5OKUGamZmZOZ4YQR+F61EE6RlBzczMzIoJE0HXo3C9jD89QQrXo3ANbBJBuB6F60cbKkEpXI+COtA6QRSuR+HbVxhBMzMzs5t9N0EzMzMzPbofQSlcj0Jwj0JBFK5HoSPXQ0HNzMwsjsdCQVyPwrXOPDhBmpmZWfXEM0Fcj8KV4iRFQeF6FG4UkUFBpHA9yjl2O0E=",
          "dtype": "f8"
         },
         "yaxis": "y"
        },
        {
         "mode": "markers",
         "name": "Percentage hindered rentals",
         "type": "scatter",
         "x": {
          "bdata": "AQAAAAEAAAABAAAAAQAAAAEAAAACAAAAAgAAAAIAAAACAAAAAgAAAAIAAAACAAAAAgAAAAIAAAACAAAAAgAAAAIAAAADAAAAAwAAAAMAAAADAAAAAwAAAAMAAAADAAAAAwAAAAMAAAADAAAABAAAAAQAAAAEAAAABAAAAAQAAAAEAAAABAAAAAQAAAAEAAAABQAAAAUAAAAFAAAABQAAAAUAAAAFAAAABQAAAAUAAAAFAAAABQAAAAUAAAAFAAAABQAAAAUAAAAGAAAABgAAAAYAAAAGAAAABgAAAAYAAAAGAAAABgAAAAYAAAAGAAAABgAAAAYAAAAGAAAABgAAAAcAAAAHAAAABwAAAAcAAAAHAAAABwAAAAcAAAAHAAAABwAAAAcAAAAHAAAABwAAAAgAAAAIAAAACAAAAAgAAAAIAAAACAAAAAgAAAAIAAAACAAAAAgAAAAIAAAACQAAAAkAAAAJAAAACQAAAAkAAAAJAAAACQAAAAoAAAAKAAAACgAAAAoAAAAKAAAACgAAAAoAAAAKAAAACwAAAAsAAAALAAAACwAAAAsAAAALAAAACwAAAAsAAAAMAAAADAAAAAwAAAAMAAAADAAAAAwAAAAMAAAADAAAAA==",
          "dtype": "i4"
         },
         "xaxis": "x2",
         "y": {
          "bdata": "AAAAAAAAAAAAAAAAAAAAAAAAAAAAAAAAAAAAAAAAAAAAAAAAAAAAAAAAAAAAAAAAAAAAAAAA8D8AAAAAAAAAAAAAAAAAAAAAAAAAAAAAAAAAAAAAAAAAAAAAAAAAAPA/AAAAAAAA8D8AAAAAAAAAAAAAAAAAAPA/AAAAAAAAAAAAAAAAAAAAAAAAAAAAAAAAAAAAAAAAAAAAAAAAAAAAAAAAAAAAAAAAAAAAAAAAAAAAAAAAAAAAAAAAAAAAAAAAAAAAAAAAAAAAAAAAAAAAAAAAAAAAAAAAAAAAAAAAAAAAAAAAAAAAAAAAAAAAAAAAAAAAAAAAAAAAAAAAAAAAAAAAAAAAAAAAAAAAAAAAAAAAAAAAAAAAAAAAAAAAAAAAAAAAAAAAAAAAAAAAAAAAAAAAAAAAAAAAAAAAAAAAAAAAAAAAAAAAAAAAAAAAAAAAAAAAAAAAAAAAAAAAAAAAAAAAAAAAAAAAAAAAAAAAAAAAAAAAAAAAAAAAAAAAAAAAAAAAAAAAAAAAAAAAAAAAAAAAAAAAAAAAAAAAAAAAAAAAAAAAAAAAAAAAAAAAAAAAAAAAAAAAAAAAAAAAAAAAAAAAAAAAAAAAAAAAAAAAAAAAAAAAAAAAAAAAAAAAAAAAAAAAAAAAAAAAAAAAAAAAAAAAAAAAAAAAAAAAAAAAAAAAAAAAAAAAAAAAAAAAAAAAAAAAAAAAAAAAAAAAAAAAAAAAAAAAAAAAAAAAAAAAAAAAAAAAAAAAAAAAAAAAAAAAAAAAAAAAAAAAAAAAAAAAAAAAAAAAAAAAAAAAAAAAAAAAAAAAAAAAAAAAAAAAAAAAAAAAAAAAAAAAAAAAAAAAAAAAAAAAAAAAAAAAAAAAAAAAAAAAAAAAAAAAAAAAAAAAAAAAAAAAAAAAAAAAAAAAAAAAAAAAAAAAAAAAAAAAAAAAAAAAAADwPwAAAAAAAAAAAAAAAAAAAAAAAAAAAADwPwAAAAAAAAAAAAAAAAAAAAAAAAAAAAAAAAAAAAAAAAAAAAAAAAAAAAAAAAAAAAAAAAAAAAAAAAAAAAAAAAAAAAAAAAAAAAAAAAAAAAAAAAAAAAAAAAAAAAAAAAAAAAAAAAAAAAAAAAAAAAAAAAAAAAAAAAAAAADwPwAAAAAAAAAAAAAAAAAAAAAAAAAAAAAAAAAAAAAAAAAAAAAAAAAAAAAAAAAAAAAAAAAAAAAAAAAAAAAAAAAAAAAAAAAAAAAAAAAAAAAAAAAAAAAAAAAA8D8=",
          "dtype": "f8"
         },
         "yaxis": "y2"
        },
        {
         "mode": "markers",
         "name": "Percentage hindered rentals",
         "type": "scatter",
         "x": {
          "bdata": "AQAAAAEAAAABAAAAAQAAAAEAAAACAAAAAgAAAAIAAAACAAAAAgAAAAIAAAACAAAAAgAAAAIAAAACAAAAAgAAAAIAAAADAAAAAwAAAAMAAAADAAAAAwAAAAMAAAADAAAAAwAAAAMAAAADAAAABAAAAAQAAAAEAAAABAAAAAQAAAAEAAAABAAAAAQAAAAEAAAABQAAAAUAAAAFAAAABQAAAAUAAAAFAAAABQAAAAUAAAAFAAAABQAAAAUAAAAFAAAABQAAAAUAAAAGAAAABgAAAAYAAAAGAAAABgAAAAYAAAAGAAAABgAAAAYAAAAGAAAABgAAAAYAAAAGAAAABgAAAAcAAAAHAAAABwAAAAcAAAAHAAAABwAAAAcAAAAHAAAABwAAAAcAAAAHAAAABwAAAAgAAAAIAAAACAAAAAgAAAAIAAAACAAAAAgAAAAIAAAACAAAAAgAAAAIAAAACQAAAAkAAAAJAAAACQAAAAkAAAAJAAAACQAAAAoAAAAKAAAACgAAAAoAAAAKAAAACgAAAAoAAAAKAAAACwAAAAsAAAALAAAACwAAAAsAAAALAAAACwAAAAsAAAAMAAAADAAAAAwAAAAMAAAADAAAAAwAAAAMAAAADAAAAA==",
          "dtype": "i4"
         },
         "xaxis": "x3",
         "y": {
          "bdata": "rkfhehTuSUB7FK5H4VpAQAAAAAAAYEdAuB6F61FYRkApXI/C9ShBQK5H4XoUzk1AAAAAAACAQkDXo3A9CvdDQM3MzMzMbEJAAAAAAAAA+H9SuB6F63FBQOxRuB6Fq0BACtejcD3KMkB7FK5H4dpGQOF6FK5HQUNAcT0K16NQS0C4HoXrUdhDQIXrUbgeJUhAj8L1KFzPTEDhehSuR+FEQOF6FK5HoUBAAAAAAABASkD2KFyPwrVHQOF6FK5H4UhAcT0K16MwRUApXI/C9YhDQI/C9ShcL1BA16NwPQo3SUDhehSuRyFDQArXo3A9OlFAAAAAAAAA+H9cj8L1KJxGQFK4HoXr4VBAZmZmZmamQ0CamZmZmZlLQI/C9Shcj1JASOF6FK5HUUCuR+F6FE5CQAAAAAAAAPh/AAAAAAAA+H+amZmZmRlRQJqZmZmZ+UVA4XoUrkdhSUAAAAAAAAD4fwAAAAAAAPh/XI/C9SjMUkBSuB6F67FSQM3MzMzMTElAKVyPwvW4U0C4HoXrUVhTQEjhehSuJ1JAexSuR+HKUkCuR+F6FI5OQHE9CtejEFFAUrgeheuhU0BSuB6F65FMQI/C9Shcv1RAAAAAAAAA+H/NzMzMzKxUQBSuR+F6lFZA4XoUrkfhVEAzMzMzM3NRQOF6FK5HQVVAZmZmZmZ2VEAUrkfherRTQPYoXI/CtVRAhetRuB7lTkB7FK5H4VpWQPYoXI/CJVVAhetRuB41UkBxPQrXo6BTQK5H4XoUnlNAAAAAAACQUEBI4XoUrrdVQD0K16NwnVRAAAAAAAAA+H97FK5H4WpSQK5H4XoUTlVAMzMzMzODVUDNzMzMzPxSQMP1KFyPwlZAAAAAAAAA+H/NzMzMzMxMQJqZmZmZ6VZAexSuR+G6VEB7FK5H4bpSQPYoXI/CFVNAXI/C9SgMVEDsUbgehetMQEjhehSuV1FAFK5H4XrUUkC4HoXrUehUQM3MzMzMzE9AAAAAAAAA+H+uR+F6FP5QQHsUrkfhSlFAKVyPwvVoRkBcj8L1KHxJQMP1KFyPAkpAKVyPwvUITkDD9Shcj+JSQFyPwvUoXFJAexSuR+FaTkC4HoXrUdhNQI/C9ShcL09AAAAAAAAA+H+amZmZmXlRQBSuR+F69E9AAAAAAAAgT0B7FK5H4fpIQHE9CtejEElACtejcD2KPkCkcD0K12NCQGZmZmZmZjtAw/UoXI9iSkC4HoXrUThCQDMzMzMzM0VAmpmZmZnZPEA=",
          "dtype": "f8"
         },
         "yaxis": "y3"
        },
        {
         "mode": "markers",
         "name": "Percentage hindered rentals",
         "type": "scatter",
         "x": {
          "bdata": "AQAAAAEAAAABAAAAAQAAAAEAAAACAAAAAgAAAAIAAAACAAAAAgAAAAIAAAACAAAAAgAAAAIAAAACAAAAAgAAAAIAAAADAAAAAwAAAAMAAAADAAAAAwAAAAMAAAADAAAAAwAAAAMAAAADAAAABAAAAAQAAAAEAAAABAAAAAQAAAAEAAAABAAAAAQAAAAEAAAABQAAAAUAAAAFAAAABQAAAAUAAAAFAAAABQAAAAUAAAAFAAAABQAAAAUAAAAFAAAABQAAAAUAAAAGAAAABgAAAAYAAAAGAAAABgAAAAYAAAAGAAAABgAAAAYAAAAGAAAABgAAAAYAAAAGAAAABgAAAAcAAAAHAAAABwAAAAcAAAAHAAAABwAAAAcAAAAHAAAABwAAAAcAAAAHAAAABwAAAAgAAAAIAAAACAAAAAgAAAAIAAAACAAAAAgAAAAIAAAACAAAAAgAAAAIAAAACQAAAAkAAAAJAAAACQAAAAkAAAAJAAAACQAAAAoAAAAKAAAACgAAAAoAAAAKAAAACgAAAAoAAAAKAAAACwAAAAsAAAALAAAACwAAAAsAAAALAAAACwAAAAsAAAAMAAAADAAAAAwAAAAMAAAADAAAAAwAAAAMAAAADAAAAA==",
          "dtype": "i4"
         },
         "xaxis": "x4",
         "y": {
          "bdata": "SgwCK4cWCkAAAAAAAAD4fwAAAAAAAPh/AyuHFtnOB0AlBoGVQ4sJQFyPwvUoXAhAAAAAAAAA+H9WDi2yne8MQI/C9Shcjw1AEoPAyqFFB0AAAAAAAAD4f/yp8dJNYgRAbef7qfHSCED6fmq8dJMEQPyp8dJNYgRAcT0K16NwDEDpJjEIrBwEQAAAAAAAAA5AdZMYBFYOD0AAAAAAAAANQB1aZDvfTw5ACKwcWmQ7DEAv3SQGgRUQQAAAAAAAAPh/exSuR+F6C0BOYhBYObQHQKwcWmQ73w1AZDvfT40XEEDNzMzMzMwFQD0K16NwPQZAL90kBoGVDkBSuB6F61EHQAAAAAAAAPh/sHJoke18D0CuR+F6FK4QQNv5fmq8dA5Ac2iR7Xw/B0CJQWDl0CIOQD81XrpJDAZAyXa+nxovEEATg8DKocUQQDm0yHa+nw5A5dAi2/l+EEAMAiuHFlkQQH0/NV66SQ5AGy/dJAaBDUCiRbbz/dQGQDvfT42Xbg5A30+Nl24SBkD+1HjpJjEPQD0K16NwPQZAEVg5tMh2BkDn+6nx0k0OQAAAAAAAAPh/pHA9CtejBUDufD81XroGQH9qvHSTGAVALbKd76fGDUD4U+Olm8QKQAAAAAAAAPh/f2q8dJMYBUAtsp3vp0YQQNNNYhBYOQVAj8L1KFyPDEBQjZduEoMGQGq8dJMYBA1A5KWbxCCwBUDb+X5qvHQNQI2XbhKDwAtA2/l+arx0B0CJQWDl0CIFQBSuR+F6FA5ARIts5/upB0CHFtnO91MNQB+F61G4HgVAH4XrUbgeBUC8dJMYBFYGQMHKoUW28wRAtMh2vp8aDUAMAiuHFtkMQM/3U+Olmw1AyXa+nxovDEDhehSuR+ELQEa28/3UeA1AO99PjZduDEDByqFFtvMEQM3MzMzMzAZAI9v5fmq8C0D4U+Olm8QMQAAAAAAAAPh/Di2yne+nBEAnMQisHFoIQMl2vp8aLw1AEoPAyqFFDUCNl24Sg8AMQI2XbhKDwAxAx0s3iUFgDkAEVg4tsh0QQKAaL90kBgdAbef7qfHSBkBI4XoUrkcKQI2XbhKDwAxAx0s3iUFgCkBt5/up8dIFQAAAAAAAAPh/2s73U+OlBkDhehSuR+EFQBFYObTIdgpAEVg5tMh2CkBfukkMAisGQAAAAAAAAPh/rBxaZDvfCEDwp8ZLN4kGQOkmMQisHAlAF9nO91PjCUD+1HjpJjEJQOF6FK5H4QZAO99PjZduCUA=",
          "dtype": "f8"
         },
         "yaxis": "y4"
        },
        {
         "mode": "markers",
         "name": "Percentage hindered rentals",
         "type": "scatter",
         "x": {
          "bdata": "AQAAAAEAAAABAAAAAQAAAAEAAAACAAAAAgAAAAIAAAACAAAAAgAAAAIAAAACAAAAAgAAAAIAAAACAAAAAgAAAAIAAAADAAAAAwAAAAMAAAADAAAAAwAAAAMAAAADAAAAAwAAAAMAAAADAAAABAAAAAQAAAAEAAAABAAAAAQAAAAEAAAABAAAAAQAAAAEAAAABQAAAAUAAAAFAAAABQAAAAUAAAAFAAAABQAAAAUAAAAFAAAABQAAAAUAAAAFAAAABQAAAAUAAAAGAAAABgAAAAYAAAAGAAAABgAAAAYAAAAGAAAABgAAAAYAAAAGAAAABgAAAAYAAAAGAAAABgAAAAcAAAAHAAAABwAAAAcAAAAHAAAABwAAAAcAAAAHAAAABwAAAAcAAAAHAAAABwAAAAgAAAAIAAAACAAAAAgAAAAIAAAACAAAAAgAAAAIAAAACAAAAAgAAAAIAAAACQAAAAkAAAAJAAAACQAAAAkAAAAJAAAACQAAAAoAAAAKAAAACgAAAAoAAAAKAAAACgAAAAoAAAAKAAAACwAAAAsAAAALAAAACwAAAAsAAAALAAAACwAAAAsAAAAMAAAADAAAAAwAAAAMAAAADAAAAAwAAAAMAAAADAAAAA==",
          "dtype": "i4"
         },
         "xaxis": "x5",
         "y": {
          "bdata": "AAAAAAAA+H9h5vFq70hgQKGgFK1ca2tAyWw1kBNiakA6gDRSJdNmQE7MH3jh2GpAAAAAAAAA+H9kHvmDwaBqQIhNv5/1umdAqvHSTWJ0YEAAAAAAAAD4f7qT46ni02pApQ8Cl2ydaEDtVXWgmM1qQIdi4dq/Z2pA4fCCiNSIa0ASnzvBPl5qQN/iPPc5rWhAcI9KVqpUYEAmVqHc0R9nQMI5fgOuvmBAX9VZLXBaYECJVpNMszJhQDzGcND512pAQPflzLYTYEBVZ7XAnntgQI7beSzHpmtAHdQ03kw/YUCRgNHljbZnQMqmXOGdfGpAzTD/MunIYEA5RUdy+aNfQChIbHcPXmpA7KF9rCC3aEDaEC3DiT1hQDfewl94IGtARfRr62eJYECpZ0EobxpoQG6+tiNBil9AGKGOff89Z0BOS2L/ayFgQHzzGyaaGmhARUdy+Q9BYUD1V37P/iFgQPajlwcf8GpAXDV0WIYnbEAjCtIxzEpqQM5oUNnVsmhAJh3lYDaNakAmGHN8GRFrQDAzx00ozmZAU+8EVimSaUBXD076sV5gQLYcQ1sp3mBAcaMS6N3PakBWFApsKYdfQPywOWKI4GpAl5APejZFYUDZXDXP0SlsQBzr4jYaiF9AMZtbfCXZakDCCTt7XdtgQIgMUL+w3GpAMnctIR8iYECb5h2n6IhfQJRCaiTTJGBAUrQXdr2wZ0ACazBofAFrQJqZmZmZI2BAJRu0/CWTYECFc7J5AdVqQCzCA7l6RGdA4yvLIbOQYECaE2o8B1dgQOuLKf2pfWpA0vgqnp+cakBOfSB5p5NgQM7aEl4ncmpA++zbpD1ga0BCkChZcyZgQEKQKFlzJmBAsuA0M6koa0DVKlX9JUxoQARauoJt8WpAFwlcDT9ia0B/rQEA9t1qQAAAAAAAAPh/fSgsTLp3a0AwMfGiCsNoQAAAAAAAAPh/VlbkIR3cakBicN5JVYdfQLB9ty+WMGBApfm+Ew7EaEClVHiGn+1rQE1XZgCeAGxAK5Jld3djYEBseHqlLF1hQNSnC2dtmGBAEOm3rwOPX0AAAAAAAAD4f2s9jcUAX2xAtG4oIT1Sa0BDkIMSJnVqQOK5rePukWpA0HWGTvSiX0CRLGAC9+FqQAcA2MqVtGtAXo94aA5Ha0CXgPM9/u1qQAAAAAAAAPh/AAAAAAAA+H9fKcsQx7JfQAAAAAAAAPh/8vbWdkm4X0BbJsPxvDxgQF8pyxDHsl9AQA0pUJWUaUA=",
          "dtype": "f8"
         },
         "yaxis": "y5"
        },
        {
         "mode": "markers",
         "name": "Percentage hindered rentals",
         "type": "scatter",
         "x": {
          "bdata": "AQAAAAEAAAABAAAAAQAAAAEAAAACAAAAAgAAAAIAAAACAAAAAgAAAAIAAAACAAAAAgAAAAIAAAACAAAAAgAAAAIAAAADAAAAAwAAAAMAAAADAAAAAwAAAAMAAAADAAAAAwAAAAMAAAADAAAABAAAAAQAAAAEAAAABAAAAAQAAAAEAAAABAAAAAQAAAAEAAAABQAAAAUAAAAFAAAABQAAAAUAAAAFAAAABQAAAAUAAAAFAAAABQAAAAUAAAAFAAAABQAAAAUAAAAGAAAABgAAAAYAAAAGAAAABgAAAAYAAAAGAAAABgAAAAYAAAAGAAAABgAAAAYAAAAGAAAABgAAAAcAAAAHAAAABwAAAAcAAAAHAAAABwAAAAcAAAAHAAAABwAAAAcAAAAHAAAABwAAAAgAAAAIAAAACAAAAAgAAAAIAAAACAAAAAgAAAAIAAAACAAAAAgAAAAIAAAACQAAAAkAAAAJAAAACQAAAAkAAAAJAAAACQAAAAoAAAAKAAAACgAAAAoAAAAKAAAACgAAAAoAAAAKAAAACwAAAAsAAAALAAAACwAAAAsAAAALAAAACwAAAAsAAAAMAAAADAAAAAwAAAAMAAAADAAAAAwAAAAMAAAADAAAAA==",
          "dtype": "i4"
         },
         "xaxis": "x6",
         "y": {
          "bdata": "oEW28/1UG0DRItv5fmoYQO58PzVeOhxAdJMYBFYOIEAAAAAAAAD4fzvfT42XbhtADAIrhxbZIEDy0k1iENgbQAwCK4cW2SBAAAAAAAAA+H+WQ4ts5/shQBkEVg4tMhlAUI2XbhKDIEBEtvP91HgdQIPAyqFFNiBA7nw/NV46HEAAAAAAAAD4f9rO91PjpRhArkfhehQuHkAMAiuHFhkhQC/dJAaBFR9A0SLb+X5qGEASg8DKocUfQBkEVg4tMhlA4XoUrkfhHUAzMzMzM7MgQDEIrBxaZB1Az/dT46WbIECTGARWDu0hQJLtfD81XhxAMzMzMzPzIUAK16NwPYoaQAAAAAAAAPh/rkfhehQuIEDNzMzMzEwgQOxRuB6FaxtAAAAAAAAA+H9xPQrXozAhQC/dJAaBlR9AmG4Sg8AKIUBGtvP91HgrQEJg5dAiWxlAzczMzMxMIEBGtvP91HgrQO58PzVeuh5ADi2yne+nGkAIrBxaZDsfQK5H4XoULiBAku18PzVeHEDb+X5qvPQZQD81XrpJzCFABoGVQ4tsH0Bcj8L1KNwXQG0Sg8DKoR5ArBxaZDtfHUAAAAAAAAD4f/Cnxks3iRlAzczMzMxMIEAOLbKd76caQD81XrpJDCNArBxaZDtfHUBtEoPAyqEeQAAAAAAAAPh/ZBBYObTIF0Dn+6nx0s0fQPp+arx0kxZARbbz/dR4G0AEVg4tsh0aQPp+arx0kxZAppvEILAyIED4U+Olm8QZQAAAAAAAQCFAppvEILAyIECuR+F6FK4cQJZDi2zn+xlAMQisHFrkG0DJdr6fGq8iQNrO91PjJR9AAAAAAAAA+H83XrpJDIIbQKjGSzeJAStAMzMzMzOzG0BYObTIdj4hQA4CK4cW2R9AMzMzMzOzGUDD9Shcj0IZQOf7qfHSzR9A+FPjpZtEHkCxcmiR7XwfQM/3U+OlGx5Aw/UoXI9CGUBcj8L1KFwsQDdeukkMghtAWDm0yHY+GEAAAAAAAAD4f+Wlm8QgsBVAz/dT46UbFkAj2/l+anwgQLbz/dR4qSJACtejcD2KG0B9PzVeuskcQIlBYOXQIhhAMzMzMzMzGUD6fmq8dFMgQN9PjZduEhtAAAAAAAAA+H+oxks3iUEeQH0/NV66yRxAEFg5tMh2H0A9CtejcD0aQN0kBoGVwx1AAAAAAAAA+H+uR+F6FC4fQLbz/dR4qSJAx0s3iUGgLEDfT42XbpIUQDdeukkMghxAVg4tsp3vHUA=",
          "dtype": "f8"
         },
         "yaxis": "y6"
        }
       ],
       "layout": {
        "height": 700,
        "showlegend": false,
        "template": {
         "data": {
          "bar": [
           {
            "error_x": {
             "color": "#2a3f5f"
            },
            "error_y": {
             "color": "#2a3f5f"
            },
            "marker": {
             "line": {
              "color": "#E5ECF6",
              "width": 0.5
             },
             "pattern": {
              "fillmode": "overlay",
              "size": 10,
              "solidity": 0.2
             }
            },
            "type": "bar"
           }
          ],
          "barpolar": [
           {
            "marker": {
             "line": {
              "color": "#E5ECF6",
              "width": 0.5
             },
             "pattern": {
              "fillmode": "overlay",
              "size": 10,
              "solidity": 0.2
             }
            },
            "type": "barpolar"
           }
          ],
          "carpet": [
           {
            "aaxis": {
             "endlinecolor": "#2a3f5f",
             "gridcolor": "white",
             "linecolor": "white",
             "minorgridcolor": "white",
             "startlinecolor": "#2a3f5f"
            },
            "baxis": {
             "endlinecolor": "#2a3f5f",
             "gridcolor": "white",
             "linecolor": "white",
             "minorgridcolor": "white",
             "startlinecolor": "#2a3f5f"
            },
            "type": "carpet"
           }
          ],
          "choropleth": [
           {
            "colorbar": {
             "outlinewidth": 0,
             "ticks": ""
            },
            "type": "choropleth"
           }
          ],
          "contour": [
           {
            "colorbar": {
             "outlinewidth": 0,
             "ticks": ""
            },
            "colorscale": [
             [
              0,
              "#0d0887"
             ],
             [
              0.1111111111111111,
              "#46039f"
             ],
             [
              0.2222222222222222,
              "#7201a8"
             ],
             [
              0.3333333333333333,
              "#9c179e"
             ],
             [
              0.4444444444444444,
              "#bd3786"
             ],
             [
              0.5555555555555556,
              "#d8576b"
             ],
             [
              0.6666666666666666,
              "#ed7953"
             ],
             [
              0.7777777777777778,
              "#fb9f3a"
             ],
             [
              0.8888888888888888,
              "#fdca26"
             ],
             [
              1,
              "#f0f921"
             ]
            ],
            "type": "contour"
           }
          ],
          "contourcarpet": [
           {
            "colorbar": {
             "outlinewidth": 0,
             "ticks": ""
            },
            "type": "contourcarpet"
           }
          ],
          "heatmap": [
           {
            "colorbar": {
             "outlinewidth": 0,
             "ticks": ""
            },
            "colorscale": [
             [
              0,
              "#0d0887"
             ],
             [
              0.1111111111111111,
              "#46039f"
             ],
             [
              0.2222222222222222,
              "#7201a8"
             ],
             [
              0.3333333333333333,
              "#9c179e"
             ],
             [
              0.4444444444444444,
              "#bd3786"
             ],
             [
              0.5555555555555556,
              "#d8576b"
             ],
             [
              0.6666666666666666,
              "#ed7953"
             ],
             [
              0.7777777777777778,
              "#fb9f3a"
             ],
             [
              0.8888888888888888,
              "#fdca26"
             ],
             [
              1,
              "#f0f921"
             ]
            ],
            "type": "heatmap"
           }
          ],
          "histogram": [
           {
            "marker": {
             "pattern": {
              "fillmode": "overlay",
              "size": 10,
              "solidity": 0.2
             }
            },
            "type": "histogram"
           }
          ],
          "histogram2d": [
           {
            "colorbar": {
             "outlinewidth": 0,
             "ticks": ""
            },
            "colorscale": [
             [
              0,
              "#0d0887"
             ],
             [
              0.1111111111111111,
              "#46039f"
             ],
             [
              0.2222222222222222,
              "#7201a8"
             ],
             [
              0.3333333333333333,
              "#9c179e"
             ],
             [
              0.4444444444444444,
              "#bd3786"
             ],
             [
              0.5555555555555556,
              "#d8576b"
             ],
             [
              0.6666666666666666,
              "#ed7953"
             ],
             [
              0.7777777777777778,
              "#fb9f3a"
             ],
             [
              0.8888888888888888,
              "#fdca26"
             ],
             [
              1,
              "#f0f921"
             ]
            ],
            "type": "histogram2d"
           }
          ],
          "histogram2dcontour": [
           {
            "colorbar": {
             "outlinewidth": 0,
             "ticks": ""
            },
            "colorscale": [
             [
              0,
              "#0d0887"
             ],
             [
              0.1111111111111111,
              "#46039f"
             ],
             [
              0.2222222222222222,
              "#7201a8"
             ],
             [
              0.3333333333333333,
              "#9c179e"
             ],
             [
              0.4444444444444444,
              "#bd3786"
             ],
             [
              0.5555555555555556,
              "#d8576b"
             ],
             [
              0.6666666666666666,
              "#ed7953"
             ],
             [
              0.7777777777777778,
              "#fb9f3a"
             ],
             [
              0.8888888888888888,
              "#fdca26"
             ],
             [
              1,
              "#f0f921"
             ]
            ],
            "type": "histogram2dcontour"
           }
          ],
          "mesh3d": [
           {
            "colorbar": {
             "outlinewidth": 0,
             "ticks": ""
            },
            "type": "mesh3d"
           }
          ],
          "parcoords": [
           {
            "line": {
             "colorbar": {
              "outlinewidth": 0,
              "ticks": ""
             }
            },
            "type": "parcoords"
           }
          ],
          "pie": [
           {
            "automargin": true,
            "type": "pie"
           }
          ],
          "scatter": [
           {
            "fillpattern": {
             "fillmode": "overlay",
             "size": 10,
             "solidity": 0.2
            },
            "type": "scatter"
           }
          ],
          "scatter3d": [
           {
            "line": {
             "colorbar": {
              "outlinewidth": 0,
              "ticks": ""
             }
            },
            "marker": {
             "colorbar": {
              "outlinewidth": 0,
              "ticks": ""
             }
            },
            "type": "scatter3d"
           }
          ],
          "scattercarpet": [
           {
            "marker": {
             "colorbar": {
              "outlinewidth": 0,
              "ticks": ""
             }
            },
            "type": "scattercarpet"
           }
          ],
          "scattergeo": [
           {
            "marker": {
             "colorbar": {
              "outlinewidth": 0,
              "ticks": ""
             }
            },
            "type": "scattergeo"
           }
          ],
          "scattergl": [
           {
            "marker": {
             "colorbar": {
              "outlinewidth": 0,
              "ticks": ""
             }
            },
            "type": "scattergl"
           }
          ],
          "scattermap": [
           {
            "marker": {
             "colorbar": {
              "outlinewidth": 0,
              "ticks": ""
             }
            },
            "type": "scattermap"
           }
          ],
          "scattermapbox": [
           {
            "marker": {
             "colorbar": {
              "outlinewidth": 0,
              "ticks": ""
             }
            },
            "type": "scattermapbox"
           }
          ],
          "scatterpolar": [
           {
            "marker": {
             "colorbar": {
              "outlinewidth": 0,
              "ticks": ""
             }
            },
            "type": "scatterpolar"
           }
          ],
          "scatterpolargl": [
           {
            "marker": {
             "colorbar": {
              "outlinewidth": 0,
              "ticks": ""
             }
            },
            "type": "scatterpolargl"
           }
          ],
          "scatterternary": [
           {
            "marker": {
             "colorbar": {
              "outlinewidth": 0,
              "ticks": ""
             }
            },
            "type": "scatterternary"
           }
          ],
          "surface": [
           {
            "colorbar": {
             "outlinewidth": 0,
             "ticks": ""
            },
            "colorscale": [
             [
              0,
              "#0d0887"
             ],
             [
              0.1111111111111111,
              "#46039f"
             ],
             [
              0.2222222222222222,
              "#7201a8"
             ],
             [
              0.3333333333333333,
              "#9c179e"
             ],
             [
              0.4444444444444444,
              "#bd3786"
             ],
             [
              0.5555555555555556,
              "#d8576b"
             ],
             [
              0.6666666666666666,
              "#ed7953"
             ],
             [
              0.7777777777777778,
              "#fb9f3a"
             ],
             [
              0.8888888888888888,
              "#fdca26"
             ],
             [
              1,
              "#f0f921"
             ]
            ],
            "type": "surface"
           }
          ],
          "table": [
           {
            "cells": {
             "fill": {
              "color": "#EBF0F8"
             },
             "line": {
              "color": "white"
             }
            },
            "header": {
             "fill": {
              "color": "#C8D4E3"
             },
             "line": {
              "color": "white"
             }
            },
            "type": "table"
           }
          ]
         },
         "layout": {
          "annotationdefaults": {
           "arrowcolor": "#2a3f5f",
           "arrowhead": 0,
           "arrowwidth": 1
          },
          "autotypenumbers": "strict",
          "coloraxis": {
           "colorbar": {
            "outlinewidth": 0,
            "ticks": ""
           }
          },
          "colorscale": {
           "diverging": [
            [
             0,
             "#8e0152"
            ],
            [
             0.1,
             "#c51b7d"
            ],
            [
             0.2,
             "#de77ae"
            ],
            [
             0.3,
             "#f1b6da"
            ],
            [
             0.4,
             "#fde0ef"
            ],
            [
             0.5,
             "#f7f7f7"
            ],
            [
             0.6,
             "#e6f5d0"
            ],
            [
             0.7,
             "#b8e186"
            ],
            [
             0.8,
             "#7fbc41"
            ],
            [
             0.9,
             "#4d9221"
            ],
            [
             1,
             "#276419"
            ]
           ],
           "sequential": [
            [
             0,
             "#0d0887"
            ],
            [
             0.1111111111111111,
             "#46039f"
            ],
            [
             0.2222222222222222,
             "#7201a8"
            ],
            [
             0.3333333333333333,
             "#9c179e"
            ],
            [
             0.4444444444444444,
             "#bd3786"
            ],
            [
             0.5555555555555556,
             "#d8576b"
            ],
            [
             0.6666666666666666,
             "#ed7953"
            ],
            [
             0.7777777777777778,
             "#fb9f3a"
            ],
            [
             0.8888888888888888,
             "#fdca26"
            ],
            [
             1,
             "#f0f921"
            ]
           ],
           "sequentialminus": [
            [
             0,
             "#0d0887"
            ],
            [
             0.1111111111111111,
             "#46039f"
            ],
            [
             0.2222222222222222,
             "#7201a8"
            ],
            [
             0.3333333333333333,
             "#9c179e"
            ],
            [
             0.4444444444444444,
             "#bd3786"
            ],
            [
             0.5555555555555556,
             "#d8576b"
            ],
            [
             0.6666666666666666,
             "#ed7953"
            ],
            [
             0.7777777777777778,
             "#fb9f3a"
            ],
            [
             0.8888888888888888,
             "#fdca26"
            ],
            [
             1,
             "#f0f921"
            ]
           ]
          },
          "colorway": [
           "#636efa",
           "#EF553B",
           "#00cc96",
           "#ab63fa",
           "#FFA15A",
           "#19d3f3",
           "#FF6692",
           "#B6E880",
           "#FF97FF",
           "#FECB52"
          ],
          "font": {
           "color": "#2a3f5f"
          },
          "geo": {
           "bgcolor": "white",
           "lakecolor": "white",
           "landcolor": "#E5ECF6",
           "showlakes": true,
           "showland": true,
           "subunitcolor": "white"
          },
          "hoverlabel": {
           "align": "left"
          },
          "hovermode": "closest",
          "mapbox": {
           "style": "light"
          },
          "paper_bgcolor": "white",
          "plot_bgcolor": "#E5ECF6",
          "polar": {
           "angularaxis": {
            "gridcolor": "white",
            "linecolor": "white",
            "ticks": ""
           },
           "bgcolor": "#E5ECF6",
           "radialaxis": {
            "gridcolor": "white",
            "linecolor": "white",
            "ticks": ""
           }
          },
          "scene": {
           "xaxis": {
            "backgroundcolor": "#E5ECF6",
            "gridcolor": "white",
            "gridwidth": 2,
            "linecolor": "white",
            "showbackground": true,
            "ticks": "",
            "zerolinecolor": "white"
           },
           "yaxis": {
            "backgroundcolor": "#E5ECF6",
            "gridcolor": "white",
            "gridwidth": 2,
            "linecolor": "white",
            "showbackground": true,
            "ticks": "",
            "zerolinecolor": "white"
           },
           "zaxis": {
            "backgroundcolor": "#E5ECF6",
            "gridcolor": "white",
            "gridwidth": 2,
            "linecolor": "white",
            "showbackground": true,
            "ticks": "",
            "zerolinecolor": "white"
           }
          },
          "shapedefaults": {
           "line": {
            "color": "#2a3f5f"
           }
          },
          "ternary": {
           "aaxis": {
            "gridcolor": "white",
            "linecolor": "white",
            "ticks": ""
           },
           "baxis": {
            "gridcolor": "white",
            "linecolor": "white",
            "ticks": ""
           },
           "bgcolor": "#E5ECF6",
           "caxis": {
            "gridcolor": "white",
            "linecolor": "white",
            "ticks": ""
           }
          },
          "title": {
           "x": 0.05
          },
          "xaxis": {
           "automargin": true,
           "gridcolor": "white",
           "linecolor": "white",
           "ticks": "",
           "title": {
            "standoff": 15
           },
           "zerolinecolor": "white",
           "zerolinewidth": 2
          },
          "yaxis": {
           "automargin": true,
           "gridcolor": "white",
           "linecolor": "white",
           "ticks": "",
           "title": {
            "standoff": 15
           },
           "zerolinecolor": "white",
           "zerolinewidth": 2
          }
         }
        },
        "title": {
         "text": "Evolution along Month"
        },
        "width": 1200,
        "xaxis": {
         "anchor": "y",
         "domain": [
          0,
          0.45
         ],
         "title": {
          "text": "Weekly_Sales"
         }
        },
        "xaxis2": {
         "anchor": "y2",
         "domain": [
          0.55,
          1
         ],
         "title": {
          "text": "Holiday_Flag"
         }
        },
        "xaxis3": {
         "anchor": "y3",
         "domain": [
          0,
          0.45
         ],
         "title": {
          "text": "Temperature"
         }
        },
        "xaxis4": {
         "anchor": "y4",
         "domain": [
          0.55,
          1
         ],
         "title": {
          "text": "Fuel_Price"
         }
        },
        "xaxis5": {
         "anchor": "y5",
         "domain": [
          0,
          0.45
         ],
         "title": {
          "text": "CPI"
         }
        },
        "xaxis6": {
         "anchor": "y6",
         "domain": [
          0.55,
          1
         ],
         "title": {
          "text": "Unemployment"
         }
        },
        "yaxis": {
         "anchor": "x",
         "domain": [
          0.7333333333333333,
          1
         ]
        },
        "yaxis2": {
         "anchor": "x2",
         "domain": [
          0.7333333333333333,
          1
         ]
        },
        "yaxis3": {
         "anchor": "x3",
         "domain": [
          0.36666666666666664,
          0.6333333333333333
         ]
        },
        "yaxis4": {
         "anchor": "x4",
         "domain": [
          0.36666666666666664,
          0.6333333333333333
         ]
        },
        "yaxis5": {
         "anchor": "x5",
         "domain": [
          0,
          0.26666666666666666
         ]
        },
        "yaxis6": {
         "anchor": "x6",
         "domain": [
          0,
          0.26666666666666666
         ]
        }
       }
      }
     },
     "metadata": {},
     "output_type": "display_data"
    }
   ],
   "source": [
    "import plotly.graph_objects as go\n",
    "from plotly.subplots import make_subplots\n",
    "\n",
    "x_axis = \"Month\"\n",
    "\n",
    "wsales_df_for_viz = wsales_df.sort_values(by=[x_axis])\n",
    "\n",
    "cols = [\"Weekly_Sales\", \"Holiday_Flag\", \"Temperature\", \"Fuel_Price\", \"CPI\", \"Unemployment\"]\n",
    "fig = make_subplots(rows=3, cols=2)\n",
    "\n",
    "positions = [(r, c) for r in range(1, 4) for c in range(1, 3)]\n",
    "\n",
    "for i, col in enumerate(cols):\n",
    "    row, col_pos = positions[i]\n",
    "\n",
    "    fig.add_trace(go.Scatter(\n",
    "        x=wsales_df_for_viz[x_axis], y=wsales_df_for_viz[col],\n",
    "        mode=\"markers\",\n",
    "        name=\"Percentage hindered rentals\",\n",
    "    ),\n",
    "    row=row,\n",
    "    col=col_pos\n",
    "    )\n",
    "    axis_num = i + 1\n",
    "    fig.update_layout({f\"xaxis{axis_num}\": dict(title=col)})\n",
    "\n",
    "fig.update_layout(\n",
    "    height=700,\n",
    "    width=1200,\n",
    "    title_text=f\"Evolution along {x_axis}\",\n",
    "    showlegend=False\n",
    ")\n",
    "\n",
    "fig.show()"
   ]
  },
  {
   "cell_type": "code",
   "execution_count": null,
   "id": "287f77fd",
   "metadata": {},
   "outputs": [
    {
     "data": {
      "application/vnd.plotly.v1+json": {
       "config": {
        "plotlyServerURL": "https://plot.ly"
       },
       "data": [
        {
         "mode": "markers",
         "name": "Percentage hindered rentals",
         "type": "scatter",
         "x": {
          "bdata": "AQAAAAEAAAACAAAAAgAAAAIAAAACAAAAAwAAAAMAAAAEAAAABAAAAAUAAAAFAAAABgAAAAYAAAAGAAAABgAAAAYAAAAHAAAABwAAAAcAAAAHAAAACAAAAAkAAAAJAAAACgAAAAoAAAAKAAAACgAAAAoAAAAKAAAACgAAAAsAAAALAAAACwAAAAwAAAAMAAAADAAAAAwAAAAMAAAADAAAAAwAAAAMAAAADAAAAAwAAAAMAAAADQAAAA0AAAANAAAADgAAAA4AAAAPAAAADwAAAA8AAAAQAAAAEAAAABAAAAAQAAAAEAAAABAAAAARAAAAEQAAABEAAAARAAAAEgAAABIAAAASAAAAEgAAABIAAAASAAAAEwAAABMAAAATAAAAEwAAABMAAAATAAAAEwAAABQAAAAUAAAAFAAAABQAAAAUAAAAFgAAABYAAAAWAAAAFgAAABcAAAAXAAAAGAAAABgAAAAYAAAAGQAAABkAAAAZAAAAGQAAABkAAAAZAAAAGQAAABoAAAAaAAAAGgAAABoAAAAaAAAAGwAAABsAAAAbAAAAGwAAABsAAAAcAAAAHAAAABwAAAAdAAAAHgAAAB4AAAAeAAAAHgAAAB4AAAAeAAAAHwAAAA==",
          "dtype": "i4"
         },
         "xaxis": "x",
         "y": {
          "bdata": "pHA9ii5OKUE9Ctdj5w4/QeF6FK7aojdBexSuR/IfIUFSuB4F414+QVyPwrUKzD5BFK5HYcg4JUGamZmZwc9AQTMzMzOjOhhBCtejcE9wNUEAAADAP8k4QRSuR+HYLBxBpHA9yq+OO0Fcj8L1xCkvQZqZmdklyzFB4XoU7u/5P0E9CtcjYHU7QaRwPcpi0zpBmpmZmTmeGEGamZkZ6T4iQZqZmRkqdDxBw/Uo3G2IP0GPwvWo2r4iQZqZmZk0oB1B16NwPUiyP0HNzMwsjsdCQRSuR6Ej10NB4XoUbhSRQUH2KFwPno8rQRSuR6FRZDZBpHA9igkyIUHNzMzMigkTQbgehWuIyylBCtejcMVdGkEfhetRYEEqQeF6FK6MEixB16NwvYw/PUHD9ShcEywtQQAAAACfYzBBCtejcOUNOUEK16NwDWwSQTMzMzO4JSpBuB6F60cbKkEUrkdhpRA+Qc3MzMziWy5BpHA9CsjBEUGuR+F6Om0WQTMzMzM4RhlBAAAAgOvMNkEfhetRehEgQTMzMzPkay9BKVyPwgjPPUEK16Nw+ycuQVyPwpXiJEVBexSux6CYOUFcj8J15mkhQexRuJ5u6D5BKVyPQnCPQkFSuB6F1R8nQVyPwrXOPDhBmpmZWfXEM0HXo3D9xtQ+QTMzM7PHiClBpHA9ihX9N0EzMzOzm303QWZmZmazOBZBuB6Fy+InQUEUrkfh21cYQa5H4XrHUB9BAAAAgM0qJEFSuB7FUTVAQQAAAAC1UCtBUrgexeQCN0GamZmZOCATQR+F61EE6RlBMzMzMz26H0Fcj8I1lqQ7QdejcD3w6RtBFK5HoVV6PkEpXI9CryYzQSlcj8IUkxpBw/UoXL5nNkHhehTuvgM5QT0K12MHEj9BzczMzKeaGUEpXI/CA0sWQVyPwvWGMDxBMzMzs6poPEFmZmam9047QbgehesYpT5BCtej8IRTM0GkcD2KB0IgQexRuB49FR9BrkfhOputPEHhehRuuZQ7QexRuN6PGz5B9ihcT+z6OkGPwvVodaw1QQrXo/DUOSNBMzMzc0/GNUEpXI+COtA6QRSuR6Hn+T9BuB6Fq75eNkG4HoXrthw2QVyPwnVEVS1BUrgeBdltLUH2KFyP4R8rQaRwPcpaKzNBj8L1qLYXOUEzMzOz/Vc8QeF6FK4YyxBBj8L1KODbNkF7FK7HlGE3QT0K16Odmx1B7FG4HgRqEEHD9ShcJzsSQVyPwvV72TRBpHA9yjl2O0E=",
          "dtype": "f8"
         },
         "yaxis": "y"
        },
        {
         "mode": "markers",
         "name": "Percentage hindered rentals",
         "type": "scatter",
         "x": {
          "bdata": "AQAAAAEAAAACAAAAAgAAAAIAAAACAAAAAwAAAAMAAAAEAAAABAAAAAUAAAAFAAAABgAAAAYAAAAGAAAABgAAAAYAAAAHAAAABwAAAAcAAAAHAAAACAAAAAkAAAAJAAAACgAAAAoAAAAKAAAACgAAAAoAAAAKAAAACgAAAAsAAAALAAAACwAAAAwAAAAMAAAADAAAAAwAAAAMAAAADAAAAAwAAAAMAAAADAAAAAwAAAAMAAAADQAAAA0AAAANAAAADgAAAA4AAAAPAAAADwAAAA8AAAAQAAAAEAAAABAAAAAQAAAAEAAAABAAAAARAAAAEQAAABEAAAARAAAAEgAAABIAAAASAAAAEgAAABIAAAASAAAAEwAAABMAAAATAAAAEwAAABMAAAATAAAAEwAAABQAAAAUAAAAFAAAABQAAAAUAAAAFgAAABYAAAAWAAAAFgAAABcAAAAXAAAAGAAAABgAAAAYAAAAGQAAABkAAAAZAAAAGQAAABkAAAAZAAAAGQAAABoAAAAaAAAAGgAAABoAAAAaAAAAGwAAABsAAAAbAAAAGwAAABsAAAAcAAAAHAAAABwAAAAdAAAAHgAAAB4AAAAeAAAAHgAAAB4AAAAeAAAAHwAAAA==",
          "dtype": "i4"
         },
         "xaxis": "x2",
         "y": {
          "bdata": "AAAAAAAAAAAAAAAAAAAAAAAAAAAAAAAAAAAAAAAAAAAAAAAAAAAAAAAAAAAAAAAAAAAAAAAAAAAAAAAAAAAAAAAAAAAAAAAAAAAAAAAAAAAAAAAAAAAAAAAAAAAAAAAAAAAAAAAAAAAAAAAAAAAAAAAAAAAAAAAAAAAAAAAAAAAAAAAAAAAAAAAAAAAAAAAAAAAAAAAAAAAAAAAAAADwPwAAAAAAAAAAAAAAAAAAAAAAAAAAAAAAAAAAAAAAAAAAAAAAAAAA8D8AAAAAAAAAAAAAAAAAAAAAAAAAAAAAAAAAAAAAAADwPwAAAAAAAAAAAAAAAAAA8D8AAAAAAAAAAAAAAAAAAAAAAAAAAAAAAAAAAAAAAAAAAAAAAAAAAAAAAAAAAAAAAAAAAAAAAAAAAAAAAAAAAAAAAAAAAAAA8D8AAAAAAAAAAAAAAAAAAAAAAAAAAAAAAAAAAAAAAAAAAAAAAAAAAPA/AAAAAAAAAAAAAAAAAAAAAAAAAAAAAAAAAAAAAAAAAAAAAAAAAAAAAAAAAAAAAAAAAAAAAAAAAAAAAAAAAAAAAAAAAAAAAAAAAAAAAAAAAAAAAAAAAAAAAAAAAAAAAAAAAAAAAAAAAAAAAAAAAAAAAAAAAAAAAAAAAAAAAAAAAAAAAAAAAAAAAAAAAAAAAAAAAAAAAAAAAAAAAAAAAAAAAAAAAAAAAAAAAAAAAAAAAAAAAAAAAAAAAAAAAAAAAAAAAAAAAAAAAAAAAAAAAAAAAAAAAAAAAAAAAAAAAAAAAAAAAAAAAAAAAAAAAAAAAAAAAAAAAAAAAAAAAAAAAAAAAAAAAAAAAAAAAAAAAAAAAAAAAAAAAAAAAAAAAAAAAAAAAAAAAAAAAAAAAAAAAAAAAAAAAAAAAAAAAAAAAAAAAAAAAAAAAAAAAAAAAAAAAAAAAAAAAAAAAAAAAAAAAAAAAAAAAAAAAAAAAAAAAAAAAAAAAAAAAAAAAAAAAAAAAAAAAAAAAAAAAAAAAAAAAAAAAAAAAAAAAAAAAAAAAAAAAAAAAAAAAAAAAAAAAAAAAAAAAAAAAAAAAAAAAAAAAADwPwAAAAAAAAAAAAAAAAAAAAAAAAAAAAAAAAAAAAAAAAAAAAAAAAAAAAAAAAAAAAAAAAAAAAAAAAAAAAAAAAAAAAAAAAAAAAAAAAAAAAAAAAAAAAAAAAAAAAAAAAAAAAAAAAAAAAAAAAAAAAAAAAAAAAAAAAAAAAAAAAAAAAAAAAAAAAAAAAAA8D8=",
          "dtype": "f8"
         },
         "yaxis": "y2"
        },
        {
         "mode": "markers",
         "name": "Percentage hindered rentals",
         "type": "scatter",
         "x": {
          "bdata": "AQAAAAEAAAACAAAAAgAAAAIAAAACAAAAAwAAAAMAAAAEAAAABAAAAAUAAAAFAAAABgAAAAYAAAAGAAAABgAAAAYAAAAHAAAABwAAAAcAAAAHAAAACAAAAAkAAAAJAAAACgAAAAoAAAAKAAAACgAAAAoAAAAKAAAACgAAAAsAAAALAAAACwAAAAwAAAAMAAAADAAAAAwAAAAMAAAADAAAAAwAAAAMAAAADAAAAAwAAAAMAAAADQAAAA0AAAANAAAADgAAAA4AAAAPAAAADwAAAA8AAAAQAAAAEAAAABAAAAAQAAAAEAAAABAAAAARAAAAEQAAABEAAAARAAAAEgAAABIAAAASAAAAEgAAABIAAAASAAAAEwAAABMAAAATAAAAEwAAABMAAAATAAAAEwAAABQAAAAUAAAAFAAAABQAAAAUAAAAFgAAABYAAAAWAAAAFgAAABcAAAAXAAAAGAAAABgAAAAYAAAAGQAAABkAAAAZAAAAGQAAABkAAAAZAAAAGQAAABoAAAAaAAAAGgAAABoAAAAaAAAAGwAAABsAAAAbAAAAGwAAABsAAAAcAAAAHAAAABwAAAAdAAAAHgAAAB4AAAAeAAAAHgAAAB4AAAAeAAAAHwAAAA==",
          "dtype": "i4"
         },
         "xaxis": "x3",
         "y": {
          "bdata": "KVyPwvUITkCuR+F6FI5OQAAAAAAAkFBA4XoUrkchQ0CPwvUoXM9MQBSuR+F6tFNAMzMzMzNzUUDXo3A9CvdDQFK4HoXroVNA4XoUrkdhSUCamZmZmelWQHsUrkfh2kZASOF6FK63VUCamZmZmRlRQHsUrkfhalJAAAAAAAAA+H8AAAAAAGBHQLgehetRWEZAw/UoXI/iUkDsUbgehetMQClcj8L1KEFA9ihcj8IlVUCF61G4HuVOQHE9CtejoFNAAAAAAACAQkCkcD0K12NCQArXo3A9ij5AMzMzMzMzRUC4HoXrUehUQHE9CtejEFFACtejcD3KMkB7FK5H4VpOQFK4HoXrkUxAXI/C9SjMUkDhehSuR+FIQClcj8L1aEZAuB6F61HYTUDD9Shcj8JWQFyPwvUofElA4XoUrkdBQ0CPwvUoXC9PQDMzMzMzg1VAAAAAAAAA+H/NzMzMzPxSQOxRuB6Fq0BAuB6F61FYU0CuR+F6FO5JQK5H4XoUTkJAUrgeheuxUkAAAAAAAAD4f8P1KFyPAkpArkfhehSeU0AAAAAAAAD4f7gehetROEJAj8L1KFwvUED2KFyPwrVHQAAAAAAAQEpAcT0K16MQSUBcj8L1KJxGQGZmZmZmZjtAw/UoXI9iSkDNzMzMzGxCQBSuR+F61FJArkfhehTOTUAAAAAAACBPQOF6FK5H4VRASOF6FK4nUkAUrkfhevRPQI/C9Shcv1RAAAAAAAAA+H+4HoXrUdhDQHsUrkfhulRArkfhehT+UEB7FK5H4UpRQFyPwvUoXFJAexSuR+H6SEB7FK5H4VpAQGZmZmZmpkNA9ihcj8IVU0CamZmZmZlLQJqZmZmZ+UVAAAAAAAAA+H+PwvUoXI9SQPYoXI/CtVRAzczMzMysVEBcj8L1KAxUQM3MzMzMzE9AcT0K16NQS0BI4XoUrldRQGZmZmZmdlRA4XoUrkehQEDNzMzMzExJQOF6FK5HQVVA4XoUrkfhREBxPQrXozBFQHsUrkfhylJAFK5H4XqUVkAAAAAAAAD4f83MzMzMzExAKVyPwvWIQ0CamZmZmXlRQFK4HoXrcUFAAAAAAAAA+H+uR+F6FE5VQNejcD0KN0lAAAAAAAAA+H97FK5H4bpSQEjhehSuR1FAKVyPwvW4U0AAAAAAAAD4f3sUrkfhWlZACtejcD06UUAAAAAAAAD4f4XrUbgeJUhAPQrXo3CdVEBSuB6F6+FQQIXrUbgeNVJAmpmZmZnZPEA=",
          "dtype": "f8"
         },
         "yaxis": "y3"
        },
        {
         "mode": "markers",
         "name": "Percentage hindered rentals",
         "type": "scatter",
         "x": {
          "bdata": "AQAAAAEAAAACAAAAAgAAAAIAAAACAAAAAwAAAAMAAAAEAAAABAAAAAUAAAAFAAAABgAAAAYAAAAGAAAABgAAAAYAAAAHAAAABwAAAAcAAAAHAAAACAAAAAkAAAAJAAAACgAAAAoAAAAKAAAACgAAAAoAAAAKAAAACgAAAAsAAAALAAAACwAAAAwAAAAMAAAADAAAAAwAAAAMAAAADAAAAAwAAAAMAAAADAAAAAwAAAAMAAAADQAAAA0AAAANAAAADgAAAA4AAAAPAAAADwAAAA8AAAAQAAAAEAAAABAAAAAQAAAAEAAAABAAAAARAAAAEQAAABEAAAARAAAAEgAAABIAAAASAAAAEgAAABIAAAASAAAAEwAAABMAAAATAAAAEwAAABMAAAATAAAAEwAAABQAAAAUAAAAFAAAABQAAAAUAAAAFgAAABYAAAAWAAAAFgAAABcAAAAXAAAAGAAAABgAAAAYAAAAGQAAABkAAAAZAAAAGQAAABkAAAAZAAAAGQAAABoAAAAaAAAAGgAAABoAAAAaAAAAGwAAABsAAAAbAAAAGwAAABsAAAAcAAAAHAAAABwAAAAdAAAAHgAAAB4AAAAeAAAAHgAAAB4AAAAeAAAAHwAAAA==",
          "dtype": "i4"
         },
         "xaxis": "x4",
         "y": {
          "bdata": "bef7qfHSBkDn+6nx0k0OQESLbOf7qQdAzczMzMzMBUB1kxgEVg4PQFCNl24SgwZALbKd76dGEEBWDi2yne8MQKRwPQrXowVA5dAi2/l+EEBGtvP91HgNQPp+arx0kwRAhxbZzvdTDUATg8DKocUQQLx0kxgEVgZAyXa+nxovEEAAAAAAAAD4fwMrhxbZzgdASOF6FK5HCkD4U+Olm8QMQCUGgZVDiwlAjZduEoPAC0DkpZvEILAFQIlBYOXQIgVAAAAAAAAA+H/wp8ZLN4kGQKwcWmQ73whA4XoUrkfhBkAnMQisHFoIQAAAAAAAAPh/bef7qfHSCEDHSzeJQWAKQO58PzVeugZAGy/dJAaBDUAAAAAAAAD4f8dLN4lBYA5Abef7qfHSBUDP91PjpZsNQARWDi2yHRBA/Knx0k1iBEAAAAAAAAD4f7TIdr6fGg1A2s73U+OlBkAMAiuHFtkMQPyp8dJNYgRA/tR46SYxD0BKDAIrhxYKQIlBYOXQIg5AokW28/3UBkASg8DKoUUNQKAaL90kBgdAFK5H4XoUDkAv3SQGgZUOQP7UeOkmMQlArBxaZDvfDUAv3SQGgRUQQAisHFpkOwxAAAAAAAAA+H9SuB6F61EHQOkmMQisHAlAF9nO91PjCUCPwvUoXI8NQA4tsp3vpwRAXI/C9ShcCEARWDm0yHYKQH9qvHSTGAVAPQrXo3A9BkARWDm0yHYKQH9qvHSTGAVAEoPAyqFFB0DpJjEIrBwEQDvfT42XbgxAjZduEoPADECNl24Sg8AMQI2XbhKDwAxAX7pJDAIrBkAAAAAAAAD4f7ByaJHtfA9AzczMzMzMBkCuR+F6FK4QQDm0yHa+nw5ALbKd76fGDUDb+X5qvHQOQGq8dJMYBA1A+FPjpZvECkAj2/l+arwLQMl2vp8aLw1AcT0K16NwDEAAAAAAAAD4f4/C9ShcjwxAHVpkO99PDkA730+Nl24OQNNNYhBYOQVAAAAAAAAADUB7FK5H4XoLQBFYObTIdgZAAAAAAAAA+H/Jdr6fGi8MQOF6FK5H4QtATmIQWDm0B0DhehSuR+EFQAAAAAAAAPh/fT81XrpJDkDByqFFtvMEQGQ730+NFxBADAIrhxZZEEDByqFFtvMEQHNoke18PwdA30+Nl24SBkA/NV66SQwGQNv5fmq8dA1APQrXo3A9BkAfhetRuB4FQAAAAAAAAA5AH4XrUbgeBUAAAAAAAAD4f9v5fmq8dAdAO99PjZduCUA=",
          "dtype": "f8"
         },
         "yaxis": "y4"
        },
        {
         "mode": "markers",
         "name": "Percentage hindered rentals",
         "type": "scatter",
         "x": {
          "bdata": "AQAAAAEAAAACAAAAAgAAAAIAAAACAAAAAwAAAAMAAAAEAAAABAAAAAUAAAAFAAAABgAAAAYAAAAGAAAABgAAAAYAAAAHAAAABwAAAAcAAAAHAAAACAAAAAkAAAAJAAAACgAAAAoAAAAKAAAACgAAAAoAAAAKAAAACgAAAAsAAAALAAAACwAAAAwAAAAMAAAADAAAAAwAAAAMAAAADAAAAAwAAAAMAAAADAAAAAwAAAAMAAAADQAAAA0AAAANAAAADgAAAA4AAAAPAAAADwAAAA8AAAAQAAAAEAAAABAAAAAQAAAAEAAAABAAAAARAAAAEQAAABEAAAARAAAAEgAAABIAAAASAAAAEgAAABIAAAASAAAAEwAAABMAAAATAAAAEwAAABMAAAATAAAAEwAAABQAAAAUAAAAFAAAABQAAAAUAAAAFgAAABYAAAAWAAAAFgAAABcAAAAXAAAAGAAAABgAAAAYAAAAGQAAABkAAAAZAAAAGQAAABkAAAAZAAAAGQAAABoAAAAaAAAAGgAAABoAAAAaAAAAGwAAABsAAAAbAAAAGwAAABsAAAAcAAAAHAAAABwAAAAdAAAAHgAAAB4AAAAeAAAAHgAAAB4AAAAeAAAAHwAAAA==",
          "dtype": "i4"
         },
         "xaxis": "x5",
         "y": {
          "bdata": "EOm3rwOPX0BXD076sV5gQOMryyGzkGBAkYDR5Y22Z0Bwj0pWqlRgQJvmHafoiF9Awgk7e13bYEBkHvmDwaBqQHGjEujdz2pARUdy+Q9BYUAEWrqCbfFqQO1VdaCYzWpAmhNqPAdXYEBOS2L/ayFgQE59IHmnk2BAGKGOff89Z0ChoBStXGtrQMlsNZATYmpAAAAAAAAA+H8wMfGiCsNoQDqANFIl02ZAmpmZmZkjYEBStBd2vbBnQIVzsnkB1WpAAAAAAAAA+H9fKcsQx7JfQAAAAAAAAPh/XynLEMeyX0BicN5JVYdfQLYcQ1sp3mBApQ8Cl2ydaEC0bighPVJrQFYUCmwph19AXDV0WIYnbEA8xnDQ+ddqQCuSZXd3Y2BAQ5CDEiZ1akBCkChZcyZgQGx4eqUsXWFAh2Lh2r9nakDiua3j7pFqQPvs26Q9YGtA0HWGTvSiX0BCkChZcyZgQLqT46ni02pAJhhzfBkRa0AAAAAAAAD4f6lnQShvGmhAIwrSMcxKakCl+b4TDsRoQNSnC2dtmGBALMIDuXpEZ0DNMP8y6chgQFsmw/G8PGBAjtt5LMema0CJVpNMszJhQF/VWS1wWmBAAAAAAAAA+H85RUdy+aNfQAAAAAAAAPh/8vbWdkm4X0CITb+f9bpnQFZW5CEd3GpATswfeOHYakBej3hoDkdrQDGbW3wl2WpAMDPHTSjOZkAHANjKlbRrQPywOWKI4GpAqvHSTWJ0YEASnzvBPl5qQBcJXA0/YmtApVR4hp/ta0BNV2YAngBsQGs9jcUAX2xAl4DzPf7takBh5vFq70hgQOyhfawgt2hAAAAAAAAA+H/aEC3DiT1hQHzzGyaaGmhAl5APejZFYUA33sJfeCBrQJRCaiTTJGBA2Vw1z9EpbEB9KCxMundrQLB9ty+WMGBA4fCCiNSIa0AAAAAAAAD4fzJ3LSEfImBAwjl+A66+YEDOaFDZ1bJoQIgMUL+w3GpAJlah3NEfZ0BA9+XMthNgQFPvBFYpkmlAHOviNhqIX0Cy4DQzqShrQNUqVf0lTGhAVWe1wJ57YECRLGAC9+FqQAAAAAAAAPh/9qOXBx/wakDO2hJeJ3JqQB3UNN5MP2FA9Vd+z/4hYEB/rQEA9t1qQEX0a+tniWBAJh3lYDaNakBuvrYjQYpfQAJrMGh8AWtAyqZc4Z18akDS+Cqen5xqQN/iPPc5rWhA64sp/al9akAoSGx3D15qQCUbtPwlk2BAQA0pUJWUaUA=",
          "dtype": "f8"
         },
         "yaxis": "y5"
        },
        {
         "mode": "markers",
         "name": "Percentage hindered rentals",
         "type": "scatter",
         "x": {
          "bdata": "AQAAAAEAAAACAAAAAgAAAAIAAAACAAAAAwAAAAMAAAAEAAAABAAAAAUAAAAFAAAABgAAAAYAAAAGAAAABgAAAAYAAAAHAAAABwAAAAcAAAAHAAAACAAAAAkAAAAJAAAACgAAAAoAAAAKAAAACgAAAAoAAAAKAAAACgAAAAsAAAALAAAACwAAAAwAAAAMAAAADAAAAAwAAAAMAAAADAAAAAwAAAAMAAAADAAAAAwAAAAMAAAADQAAAA0AAAANAAAADgAAAA4AAAAPAAAADwAAAA8AAAAQAAAAEAAAABAAAAAQAAAAEAAAABAAAAARAAAAEQAAABEAAAARAAAAEgAAABIAAAASAAAAEgAAABIAAAASAAAAEwAAABMAAAATAAAAEwAAABMAAAATAAAAEwAAABQAAAAUAAAAFAAAABQAAAAUAAAAFgAAABYAAAAWAAAAFgAAABcAAAAXAAAAGAAAABgAAAAYAAAAGQAAABkAAAAZAAAAGQAAABkAAAAZAAAAGQAAABoAAAAaAAAAGgAAABoAAAAaAAAAGwAAABsAAAAbAAAAGwAAABsAAAAcAAAAHAAAABwAAAAdAAAAHgAAAB4AAAAeAAAAHgAAAB4AAAAeAAAAHwAAAA==",
          "dtype": "i4"
         },
         "xaxis": "x6",
         "y": {
          "bdata": "CtejcD2KG0Bcj8L1KNwXQKabxCCwMiBAkxgEVg7tIUCuR+F6FC4eQOf7qfHSzR9AbRKDwMqhHkDy0k1iENgbQKwcWmQ7Xx1AzczMzMxMIEAOAiuHFtkfQES28/3UeB1ArkfhehSuHEBGtvP91HgrQMl2vp8aryJAmG4Sg8AKIUDufD81XjocQHSTGARWDiBAfT81XrrJHECxcmiR7XwfQAAAAAAAAPh/+n5qvHSTFkBFtvP91HgbQPhT46WbxBlADAIrhxbZIECuR+F6FC4fQAAAAAAAAPh/N166SQyCHEBcj8L1KFwsQG0Sg8DKoR5AUI2XbhKDIEAzMzMzMzMZQAAAAAAAAPh/Di2yne+nGkAZBFYOLTIZQM/3U+OlGxZA+n5qvHRTIECoxks3iQErQCPb+X5qfCBAg8DKoUU2IEDfT42XbhIbQAAAAAAAAPh/AAAAAAAA+H83XrpJDIIbQBkEVg4tMhlA2/l+arz0GUCgRbbz/VQbQHE9CtejMCFACKwcWmQ7H0BYObTIdj4YQLbz/dR4qSJAAAAAAABAIUAzMzMzM/MhQN9PjZdukhRAMQisHFpkHUASg8DKocUfQNEi2/l+ahhA3SQGgZXDHUAK16NwPYoaQLbz/dR4qSJAx0s3iUGgLEAMAiuHFtkgQMP1KFyPQhlAO99PjZduG0AQWDm0yHYfQKwcWmQ7Xx1APzVeuknMIUB9PzVeuskcQPCnxks3iRlAAAAAAAAA+H8AAAAAAAD4fzMzMzMzsxlAAAAAAAAA+H/lpZvEILAVQIlBYOXQIhhAPQrXo3A9GkDRItv5fmoYQK5H4XoULiBA5/up8dLNH0DNzMzMzEwgQEJg5dAiWxlAzczMzMxMIEDsUbgehWsbQPp+arx0kxZADi2yne+nGkD4U+Olm0QeQDdeukkMghtA7nw/NV46HEDP91PjpRseQGQQWDm0yBdAL90kBoEVH0CuR+F6FC4gQAAAAAAAAPh/DAIrhxYZIUDhehSuR+EdQAaBlUOLbB9APzVeukkMI0AzMzMzM7MbQFg5tMh2PiFAMzMzMzOzIECoxks3iUEeQJZDi2zn+yFA7nw/NV66HkDazvdT4yUfQM/3U+OlmyBARrbz/dR4K0DD9Shcj0IZQAAAAAAAAPh/ku18PzVeHEAv3SQGgZUfQARWDi2yHRpAku18PzVeHEAxCKwcWuQbQNrO91PjpRhAlkOLbOf7GUAAAAAAAAD4f6abxCCwMiBAVg4tsp3vHUA=",
          "dtype": "f8"
         },
         "yaxis": "y6"
        }
       ],
       "layout": {
        "height": 700,
        "showlegend": false,
        "template": {
         "data": {
          "bar": [
           {
            "error_x": {
             "color": "#2a3f5f"
            },
            "error_y": {
             "color": "#2a3f5f"
            },
            "marker": {
             "line": {
              "color": "#E5ECF6",
              "width": 0.5
             },
             "pattern": {
              "fillmode": "overlay",
              "size": 10,
              "solidity": 0.2
             }
            },
            "type": "bar"
           }
          ],
          "barpolar": [
           {
            "marker": {
             "line": {
              "color": "#E5ECF6",
              "width": 0.5
             },
             "pattern": {
              "fillmode": "overlay",
              "size": 10,
              "solidity": 0.2
             }
            },
            "type": "barpolar"
           }
          ],
          "carpet": [
           {
            "aaxis": {
             "endlinecolor": "#2a3f5f",
             "gridcolor": "white",
             "linecolor": "white",
             "minorgridcolor": "white",
             "startlinecolor": "#2a3f5f"
            },
            "baxis": {
             "endlinecolor": "#2a3f5f",
             "gridcolor": "white",
             "linecolor": "white",
             "minorgridcolor": "white",
             "startlinecolor": "#2a3f5f"
            },
            "type": "carpet"
           }
          ],
          "choropleth": [
           {
            "colorbar": {
             "outlinewidth": 0,
             "ticks": ""
            },
            "type": "choropleth"
           }
          ],
          "contour": [
           {
            "colorbar": {
             "outlinewidth": 0,
             "ticks": ""
            },
            "colorscale": [
             [
              0,
              "#0d0887"
             ],
             [
              0.1111111111111111,
              "#46039f"
             ],
             [
              0.2222222222222222,
              "#7201a8"
             ],
             [
              0.3333333333333333,
              "#9c179e"
             ],
             [
              0.4444444444444444,
              "#bd3786"
             ],
             [
              0.5555555555555556,
              "#d8576b"
             ],
             [
              0.6666666666666666,
              "#ed7953"
             ],
             [
              0.7777777777777778,
              "#fb9f3a"
             ],
             [
              0.8888888888888888,
              "#fdca26"
             ],
             [
              1,
              "#f0f921"
             ]
            ],
            "type": "contour"
           }
          ],
          "contourcarpet": [
           {
            "colorbar": {
             "outlinewidth": 0,
             "ticks": ""
            },
            "type": "contourcarpet"
           }
          ],
          "heatmap": [
           {
            "colorbar": {
             "outlinewidth": 0,
             "ticks": ""
            },
            "colorscale": [
             [
              0,
              "#0d0887"
             ],
             [
              0.1111111111111111,
              "#46039f"
             ],
             [
              0.2222222222222222,
              "#7201a8"
             ],
             [
              0.3333333333333333,
              "#9c179e"
             ],
             [
              0.4444444444444444,
              "#bd3786"
             ],
             [
              0.5555555555555556,
              "#d8576b"
             ],
             [
              0.6666666666666666,
              "#ed7953"
             ],
             [
              0.7777777777777778,
              "#fb9f3a"
             ],
             [
              0.8888888888888888,
              "#fdca26"
             ],
             [
              1,
              "#f0f921"
             ]
            ],
            "type": "heatmap"
           }
          ],
          "histogram": [
           {
            "marker": {
             "pattern": {
              "fillmode": "overlay",
              "size": 10,
              "solidity": 0.2
             }
            },
            "type": "histogram"
           }
          ],
          "histogram2d": [
           {
            "colorbar": {
             "outlinewidth": 0,
             "ticks": ""
            },
            "colorscale": [
             [
              0,
              "#0d0887"
             ],
             [
              0.1111111111111111,
              "#46039f"
             ],
             [
              0.2222222222222222,
              "#7201a8"
             ],
             [
              0.3333333333333333,
              "#9c179e"
             ],
             [
              0.4444444444444444,
              "#bd3786"
             ],
             [
              0.5555555555555556,
              "#d8576b"
             ],
             [
              0.6666666666666666,
              "#ed7953"
             ],
             [
              0.7777777777777778,
              "#fb9f3a"
             ],
             [
              0.8888888888888888,
              "#fdca26"
             ],
             [
              1,
              "#f0f921"
             ]
            ],
            "type": "histogram2d"
           }
          ],
          "histogram2dcontour": [
           {
            "colorbar": {
             "outlinewidth": 0,
             "ticks": ""
            },
            "colorscale": [
             [
              0,
              "#0d0887"
             ],
             [
              0.1111111111111111,
              "#46039f"
             ],
             [
              0.2222222222222222,
              "#7201a8"
             ],
             [
              0.3333333333333333,
              "#9c179e"
             ],
             [
              0.4444444444444444,
              "#bd3786"
             ],
             [
              0.5555555555555556,
              "#d8576b"
             ],
             [
              0.6666666666666666,
              "#ed7953"
             ],
             [
              0.7777777777777778,
              "#fb9f3a"
             ],
             [
              0.8888888888888888,
              "#fdca26"
             ],
             [
              1,
              "#f0f921"
             ]
            ],
            "type": "histogram2dcontour"
           }
          ],
          "mesh3d": [
           {
            "colorbar": {
             "outlinewidth": 0,
             "ticks": ""
            },
            "type": "mesh3d"
           }
          ],
          "parcoords": [
           {
            "line": {
             "colorbar": {
              "outlinewidth": 0,
              "ticks": ""
             }
            },
            "type": "parcoords"
           }
          ],
          "pie": [
           {
            "automargin": true,
            "type": "pie"
           }
          ],
          "scatter": [
           {
            "fillpattern": {
             "fillmode": "overlay",
             "size": 10,
             "solidity": 0.2
            },
            "type": "scatter"
           }
          ],
          "scatter3d": [
           {
            "line": {
             "colorbar": {
              "outlinewidth": 0,
              "ticks": ""
             }
            },
            "marker": {
             "colorbar": {
              "outlinewidth": 0,
              "ticks": ""
             }
            },
            "type": "scatter3d"
           }
          ],
          "scattercarpet": [
           {
            "marker": {
             "colorbar": {
              "outlinewidth": 0,
              "ticks": ""
             }
            },
            "type": "scattercarpet"
           }
          ],
          "scattergeo": [
           {
            "marker": {
             "colorbar": {
              "outlinewidth": 0,
              "ticks": ""
             }
            },
            "type": "scattergeo"
           }
          ],
          "scattergl": [
           {
            "marker": {
             "colorbar": {
              "outlinewidth": 0,
              "ticks": ""
             }
            },
            "type": "scattergl"
           }
          ],
          "scattermap": [
           {
            "marker": {
             "colorbar": {
              "outlinewidth": 0,
              "ticks": ""
             }
            },
            "type": "scattermap"
           }
          ],
          "scattermapbox": [
           {
            "marker": {
             "colorbar": {
              "outlinewidth": 0,
              "ticks": ""
             }
            },
            "type": "scattermapbox"
           }
          ],
          "scatterpolar": [
           {
            "marker": {
             "colorbar": {
              "outlinewidth": 0,
              "ticks": ""
             }
            },
            "type": "scatterpolar"
           }
          ],
          "scatterpolargl": [
           {
            "marker": {
             "colorbar": {
              "outlinewidth": 0,
              "ticks": ""
             }
            },
            "type": "scatterpolargl"
           }
          ],
          "scatterternary": [
           {
            "marker": {
             "colorbar": {
              "outlinewidth": 0,
              "ticks": ""
             }
            },
            "type": "scatterternary"
           }
          ],
          "surface": [
           {
            "colorbar": {
             "outlinewidth": 0,
             "ticks": ""
            },
            "colorscale": [
             [
              0,
              "#0d0887"
             ],
             [
              0.1111111111111111,
              "#46039f"
             ],
             [
              0.2222222222222222,
              "#7201a8"
             ],
             [
              0.3333333333333333,
              "#9c179e"
             ],
             [
              0.4444444444444444,
              "#bd3786"
             ],
             [
              0.5555555555555556,
              "#d8576b"
             ],
             [
              0.6666666666666666,
              "#ed7953"
             ],
             [
              0.7777777777777778,
              "#fb9f3a"
             ],
             [
              0.8888888888888888,
              "#fdca26"
             ],
             [
              1,
              "#f0f921"
             ]
            ],
            "type": "surface"
           }
          ],
          "table": [
           {
            "cells": {
             "fill": {
              "color": "#EBF0F8"
             },
             "line": {
              "color": "white"
             }
            },
            "header": {
             "fill": {
              "color": "#C8D4E3"
             },
             "line": {
              "color": "white"
             }
            },
            "type": "table"
           }
          ]
         },
         "layout": {
          "annotationdefaults": {
           "arrowcolor": "#2a3f5f",
           "arrowhead": 0,
           "arrowwidth": 1
          },
          "autotypenumbers": "strict",
          "coloraxis": {
           "colorbar": {
            "outlinewidth": 0,
            "ticks": ""
           }
          },
          "colorscale": {
           "diverging": [
            [
             0,
             "#8e0152"
            ],
            [
             0.1,
             "#c51b7d"
            ],
            [
             0.2,
             "#de77ae"
            ],
            [
             0.3,
             "#f1b6da"
            ],
            [
             0.4,
             "#fde0ef"
            ],
            [
             0.5,
             "#f7f7f7"
            ],
            [
             0.6,
             "#e6f5d0"
            ],
            [
             0.7,
             "#b8e186"
            ],
            [
             0.8,
             "#7fbc41"
            ],
            [
             0.9,
             "#4d9221"
            ],
            [
             1,
             "#276419"
            ]
           ],
           "sequential": [
            [
             0,
             "#0d0887"
            ],
            [
             0.1111111111111111,
             "#46039f"
            ],
            [
             0.2222222222222222,
             "#7201a8"
            ],
            [
             0.3333333333333333,
             "#9c179e"
            ],
            [
             0.4444444444444444,
             "#bd3786"
            ],
            [
             0.5555555555555556,
             "#d8576b"
            ],
            [
             0.6666666666666666,
             "#ed7953"
            ],
            [
             0.7777777777777778,
             "#fb9f3a"
            ],
            [
             0.8888888888888888,
             "#fdca26"
            ],
            [
             1,
             "#f0f921"
            ]
           ],
           "sequentialminus": [
            [
             0,
             "#0d0887"
            ],
            [
             0.1111111111111111,
             "#46039f"
            ],
            [
             0.2222222222222222,
             "#7201a8"
            ],
            [
             0.3333333333333333,
             "#9c179e"
            ],
            [
             0.4444444444444444,
             "#bd3786"
            ],
            [
             0.5555555555555556,
             "#d8576b"
            ],
            [
             0.6666666666666666,
             "#ed7953"
            ],
            [
             0.7777777777777778,
             "#fb9f3a"
            ],
            [
             0.8888888888888888,
             "#fdca26"
            ],
            [
             1,
             "#f0f921"
            ]
           ]
          },
          "colorway": [
           "#636efa",
           "#EF553B",
           "#00cc96",
           "#ab63fa",
           "#FFA15A",
           "#19d3f3",
           "#FF6692",
           "#B6E880",
           "#FF97FF",
           "#FECB52"
          ],
          "font": {
           "color": "#2a3f5f"
          },
          "geo": {
           "bgcolor": "white",
           "lakecolor": "white",
           "landcolor": "#E5ECF6",
           "showlakes": true,
           "showland": true,
           "subunitcolor": "white"
          },
          "hoverlabel": {
           "align": "left"
          },
          "hovermode": "closest",
          "mapbox": {
           "style": "light"
          },
          "paper_bgcolor": "white",
          "plot_bgcolor": "#E5ECF6",
          "polar": {
           "angularaxis": {
            "gridcolor": "white",
            "linecolor": "white",
            "ticks": ""
           },
           "bgcolor": "#E5ECF6",
           "radialaxis": {
            "gridcolor": "white",
            "linecolor": "white",
            "ticks": ""
           }
          },
          "scene": {
           "xaxis": {
            "backgroundcolor": "#E5ECF6",
            "gridcolor": "white",
            "gridwidth": 2,
            "linecolor": "white",
            "showbackground": true,
            "ticks": "",
            "zerolinecolor": "white"
           },
           "yaxis": {
            "backgroundcolor": "#E5ECF6",
            "gridcolor": "white",
            "gridwidth": 2,
            "linecolor": "white",
            "showbackground": true,
            "ticks": "",
            "zerolinecolor": "white"
           },
           "zaxis": {
            "backgroundcolor": "#E5ECF6",
            "gridcolor": "white",
            "gridwidth": 2,
            "linecolor": "white",
            "showbackground": true,
            "ticks": "",
            "zerolinecolor": "white"
           }
          },
          "shapedefaults": {
           "line": {
            "color": "#2a3f5f"
           }
          },
          "ternary": {
           "aaxis": {
            "gridcolor": "white",
            "linecolor": "white",
            "ticks": ""
           },
           "baxis": {
            "gridcolor": "white",
            "linecolor": "white",
            "ticks": ""
           },
           "bgcolor": "#E5ECF6",
           "caxis": {
            "gridcolor": "white",
            "linecolor": "white",
            "ticks": ""
           }
          },
          "title": {
           "x": 0.05
          },
          "xaxis": {
           "automargin": true,
           "gridcolor": "white",
           "linecolor": "white",
           "ticks": "",
           "title": {
            "standoff": 15
           },
           "zerolinecolor": "white",
           "zerolinewidth": 2
          },
          "yaxis": {
           "automargin": true,
           "gridcolor": "white",
           "linecolor": "white",
           "ticks": "",
           "title": {
            "standoff": 15
           },
           "zerolinecolor": "white",
           "zerolinewidth": 2
          }
         }
        },
        "title": {
         "text": "Evolution along day"
        },
        "width": 1200,
        "xaxis": {
         "anchor": "y",
         "domain": [
          0,
          0.45
         ],
         "title": {
          "text": "Weekly_Sales"
         }
        },
        "xaxis2": {
         "anchor": "y2",
         "domain": [
          0.55,
          1
         ],
         "title": {
          "text": "Holiday_Flag"
         }
        },
        "xaxis3": {
         "anchor": "y3",
         "domain": [
          0,
          0.45
         ],
         "title": {
          "text": "Temperature"
         }
        },
        "xaxis4": {
         "anchor": "y4",
         "domain": [
          0.55,
          1
         ],
         "title": {
          "text": "Fuel_Price"
         }
        },
        "xaxis5": {
         "anchor": "y5",
         "domain": [
          0,
          0.45
         ],
         "title": {
          "text": "CPI"
         }
        },
        "xaxis6": {
         "anchor": "y6",
         "domain": [
          0.55,
          1
         ],
         "title": {
          "text": "Unemployment"
         }
        },
        "yaxis": {
         "anchor": "x",
         "domain": [
          0.7333333333333333,
          1
         ]
        },
        "yaxis2": {
         "anchor": "x2",
         "domain": [
          0.7333333333333333,
          1
         ]
        },
        "yaxis3": {
         "anchor": "x3",
         "domain": [
          0.36666666666666664,
          0.6333333333333333
         ]
        },
        "yaxis4": {
         "anchor": "x4",
         "domain": [
          0.36666666666666664,
          0.6333333333333333
         ]
        },
        "yaxis5": {
         "anchor": "x5",
         "domain": [
          0,
          0.26666666666666666
         ]
        },
        "yaxis6": {
         "anchor": "x6",
         "domain": [
          0,
          0.26666666666666666
         ]
        }
       }
      }
     },
     "metadata": {},
     "output_type": "display_data"
    }
   ],
   "source": [
    "import plotly.graph_objects as go\n",
    "from plotly.subplots import make_subplots\n",
    "\n",
    "x_axis = \"day\"\n",
    "\n",
    "wsales_df_for_viz = wsales_df.sort_values(by=[x_axis])\n",
    "\n",
    "cols = [\"Weekly_Sales\", \"Holiday_Flag\", \"Temperature\", \"Fuel_Price\", \"CPI\", \"Unemployment\"]\n",
    "fig = make_subplots(rows=3, cols=2)\n",
    "\n",
    "positions = [(r, c) for r in range(1, 4) for c in range(1, 3)]\n",
    "\n",
    "for i, col in enumerate(cols):\n",
    "    row, col_pos = positions[i]\n",
    "\n",
    "    fig.add_trace(go.Scatter(\n",
    "        x=wsales_df_for_viz[x_axis], y=wsales_df_for_viz[col],\n",
    "        mode=\"markers\",\n",
    "        name=\"Percentage hindered rentals\",\n",
    "    ),\n",
    "    row=row,\n",
    "    col=col_pos\n",
    "    )\n",
    "    axis_num = i + 1\n",
    "    fig.update_layout({f\"xaxis{axis_num}\": dict(title=col)})\n",
    "\n",
    "fig.update_layout(\n",
    "    height=700,\n",
    "    width=1200,\n",
    "    title_text=f\"Evolution along {x_axis}\",\n",
    "    showlegend=False\n",
    ")\n",
    "\n",
    "fig.show()"
   ]
  },
  {
   "cell_type": "code",
   "execution_count": null,
   "id": "b4f1bfe1",
   "metadata": {},
   "outputs": [
    {
     "data": {
      "application/vnd.plotly.v1+json": {
       "config": {
        "plotlyServerURL": "https://plot.ly"
       },
       "data": [
        {
         "mode": "markers",
         "name": "Percentage hindered rentals",
         "type": "scatter",
         "x": {
          "bdata": "BgAAAAcAAAAHAAAADQAAABQAAAAiAAAAJAAAACkAAAApAAAAKwAAACsAAAAwAAAAMQAAADIAAAAyAAAANwAAADkAAAA+AAAARwAAAEwAAABMAAAATAAAAFQAAABUAAAAVAAAAFUAAABaAAAAXAAAAGkAAABqAAAAbwAAAG8AAABwAAAAdgAAAHgAAAB4AAAAfQAAAH4AAAB+AAAAhAAAAIUAAACFAAAAhgAAAIwAAACSAAAAkwAAAJMAAACUAAAAlAAAAJQAAACZAAAAmgAAAJsAAAChAAAAogAAAKkAAACpAAAAqQAAAK4AAACuAAAArwAAALAAAACwAAAAsAAAALcAAAC3AAAAvAAAAL0AAAC+AAAAvgAAAMQAAADLAAAA0gAAANMAAADTAAAA0wAAANkAAADaAAAA4AAAAOAAAADgAAAA5wAAAOgAAADuAAAA7gAAAO8AAADvAAAA+wAAAP0AAAACAQAABAEAAAoBAAAKAQAACwEAABIBAAAYAQAAHgEAAB4BAAAgAQAAJQEAACUBAAAlAQAAOwEAADwBAAA8AQAAPAEAAEIBAABCAQAAQwEAAEoBAABYAQAAWAEAAFgBAABeAQAAXgEAAF8BAABfAQAAbQEAAA==",
          "dtype": "i4"
         },
         "xaxis": "x",
         "y": {
          "bdata": "PQrXI2B1O0GkcD3KYtM6QZqZmRkqdDxBrkfhejptFkFcj8I1lqQ7QZqZmZnBz0BBFK5H4dgsHEHXo3A9SLI/QaRwPYoJMiFBCtejcOUNOUHNzMzM4lsuQdejcP3G1D5BpHA9ihX9N0EAAACAzSokQVK4HsVRNUBBMzMzs6poPEEUrkeh5/k/QVK4HgXjXj5BH4XrUWBBKkF7FK7HoJg5QVyPwnXmaSFB7FG4nm7oPkEK16PwhFMzQa5H4TqbrTxB4XoUbrmUO0EzMzNzT8Y1QT0K16Odmx1BexSuR/IfIUEK16Nw+ycuQVK4HoXVHydB16NwPfDpG0EpXI9CryYzQeF6FO6+AzlBXI/CdURVLUGPwvUo4Ns2QcP1KFwnOxJBCtejcE9wNUFcj8L1xCkvQeF6FO7v+T9BCtejcMVdGkGkcD0KyMERQTMzMzM4RhlBAAAAgOvMNkEpXI/CFJMaQaRwPYoHQiBBUrgeBdltLUG4HoWrvl42QaRwPcpaKzNBMzMzs/1XPEGPwvWothc5QT0K12PnDj9BFK5HYcg4JUEzMzMzozoYQRSuR6FRZDZBuB6Fa4jLKUGuR+F6x1AfQWZmZmazOBZBuB6Fy+InQUHD9Shcvmc2Qc3MzMynmhlBuB6F6xilPkHsUbgePRUfQfYoXE/s+jpB7FG43o8bPkFcj8K1Csw+QeF6FK7aojdBpHA9yq+OO0HD9SjcbYg/QY/C9ajaviJBmpmZmTSgHUEpXI/CCM89QT0K12MHEj9B4XoUrhjLEEFcj8L1e9k0QexRuB4EahBBexSux5RhN0EAAADAP8k4QZqZmdklyzFBMzMzM7glKkEUrkdhpRA+QcP1KFwTLC1BAAAAALVQK0EUrkehVXo+QQrXo/DUOSNBj8L1aHWsNUG4HoXrthw2QfYoXI/hHytBmpmZGek+IkH2KFwPno8rQR+F61F6ESBBMzMzs8eIKUEpXI/CA0sWQVyPwvWGMDxBZmZmpvdOO0GkcD2KLk4pQZqZmZk5nhhB4XoUrowSLEEAAAAAn2MwQTMzMzPkay9BmpmZmTggE0FSuB7F5AI3QR+F61EE6RlBzczMzIoJE0HXo3C9jD89QQrXo3ANbBJBuB6F60cbKkEzMzOzm303QRSuR+HbVxhBMzMzMz26H0EpXI+COtA6QRSuR6Ej10NBzczMLI7HQkHhehRuFJFBQSlcj0Jwj0JBXI/CleIkRUGamZlZ9cQzQVyPwrXOPDhBpHA9yjl2O0E=",
          "dtype": "f8"
         },
         "yaxis": "y"
        },
        {
         "mode": "markers",
         "name": "Percentage hindered rentals",
         "type": "scatter",
         "x": {
          "bdata": "BgAAAAcAAAAHAAAADQAAABQAAAAiAAAAJAAAACkAAAApAAAAKwAAACsAAAAwAAAAMQAAADIAAAAyAAAANwAAADkAAAA+AAAARwAAAEwAAABMAAAATAAAAFQAAABUAAAAVAAAAFUAAABaAAAAXAAAAGkAAABqAAAAbwAAAG8AAABwAAAAdgAAAHgAAAB4AAAAfQAAAH4AAAB+AAAAhAAAAIUAAACFAAAAhgAAAIwAAACSAAAAkwAAAJMAAACUAAAAlAAAAJQAAACZAAAAmgAAAJsAAAChAAAAogAAAKkAAACpAAAAqQAAAK4AAACuAAAArwAAALAAAACwAAAAsAAAALcAAAC3AAAAvAAAAL0AAAC+AAAAvgAAAMQAAADLAAAA0gAAANMAAADTAAAA0wAAANkAAADaAAAA4AAAAOAAAADgAAAA5wAAAOgAAADuAAAA7gAAAO8AAADvAAAA+wAAAP0AAAACAQAABAEAAAoBAAAKAQAACwEAABIBAAAYAQAAHgEAAB4BAAAgAQAAJQEAACUBAAAlAQAAOwEAADwBAAA8AQAAPAEAAEIBAABCAQAAQwEAAEoBAABYAQAAWAEAAFgBAABeAQAAXgEAAF8BAABfAQAAbQEAAA==",
          "dtype": "i4"
         },
         "xaxis": "x2",
         "y": {
          "bdata": "AAAAAAAAAAAAAAAAAAAAAAAAAAAAAAAAAAAAAAAAAAAAAAAAAAAAAAAAAAAAAAAAAAAAAAAAAAAAAAAAAADwPwAAAAAAAPA/AAAAAAAA8D8AAAAAAADwPwAAAAAAAAAAAAAAAAAAAAAAAAAAAAAAAAAAAAAAAAAAAAAAAAAAAAAAAAAAAAAAAAAAAAAAAAAAAAAAAAAAAAAAAAAAAAAAAAAAAAAAAAAAAAAAAAAAAAAAAAAAAAAAAAAAAAAAAAAAAAAAAAAAAAAAAAAAAAAAAAAAAAAAAAAAAAAAAAAAAAAAAAAAAAAAAAAAAAAAAAAAAAAAAAAAAAAAAAAAAAAAAAAAAAAAAAAAAAAAAAAAAAAAAAAAAAAAAAAAAAAAAAAAAAAAAAAAAAAAAAAAAAAAAAAAAAAAAAAAAAAAAAAAAAAAAAAAAAAAAAAAAAAAAAAAAAAAAAAAAAAAAAAAAAAAAAAAAAAAAAAAAAAAAAAAAAAAAAAAAAAAAAAAAAAAAAAAAAAAAAAAAAAAAAAAAAAAAAAAAAAAAAAAAAAAAAAAAAAAAAAAAAAAAAAAAAAAAAAAAAAAAAAAAAAAAAAAAAAAAAAAAAAAAAAAAAAAAAAAAAAAAAAAAAAAAAAAAAAAAAAAAAAAAAAAAAAAAAAAAAAAAAAAAAAAAAAAAAAAAAAAAAAAAAAAAAAAAAAAAAAAAAAAAAAAAAAAAAAAAAAAAAAAAAAAAAAAAAAAAAAAAAAAAAAAAAAAAAAAAAAAAAAAAAAAAAAAAAAAAAAAAAAAAAAAAAAAAAAAAAAAAAAAAAAAAAAAAAAAAAAAAAAAAAAAAAAAAAAAAAAAAAAAAAAAAAAAAAAAAAAAAAAAAAAAAAAAAAAAAAAAAAAAAAAAAAAAAAAAAAAAAAAAAAAAAAAAAAAAAAAAAAAAAAAAAAAAAAAA8D8AAAAAAADwPwAAAAAAAAAAAAAAAAAAAAAAAAAAAAAAAAAAAAAAAAAAAAAAAAAAAAAAAAAAAAAAAAAAAAAAAAAAAAAAAAAAAAAAAAAAAAAAAAAAAAAAAAAAAAAAAAAAAAAAAAAAAAAAAAAAAAAAAAAAAAAAAAAAAAAAAAAAAAAAAAAAAAAAAAAAAAAAAAAAAAAAAAAAAAAAAAAAAAAAAAAAAAAAAAAAAAAAAAAAAADwPwAAAAAAAAAAAAAAAAAAAAAAAAAAAAAAAAAAAAAAAAAAAAAAAAAAAAAAAAAAAAAAAAAAAAAAAAAAAAAAAAAA8D8=",
          "dtype": "f8"
         },
         "yaxis": "y2"
        },
        {
         "mode": "markers",
         "name": "Percentage hindered rentals",
         "type": "scatter",
         "x": {
          "bdata": "BgAAAAcAAAAHAAAADQAAABQAAAAiAAAAJAAAACkAAAApAAAAKwAAACsAAAAwAAAAMQAAADIAAAAyAAAANwAAADkAAAA+AAAARwAAAEwAAABMAAAATAAAAFQAAABUAAAAVAAAAFUAAABaAAAAXAAAAGkAAABqAAAAbwAAAG8AAABwAAAAdgAAAHgAAAB4AAAAfQAAAH4AAAB+AAAAhAAAAIUAAACFAAAAhgAAAIwAAACSAAAAkwAAAJMAAACUAAAAlAAAAJQAAACZAAAAmgAAAJsAAAChAAAAogAAAKkAAACpAAAAqQAAAK4AAACuAAAArwAAALAAAACwAAAAsAAAALcAAAC3AAAAvAAAAL0AAAC+AAAAvgAAAMQAAADLAAAA0gAAANMAAADTAAAA0wAAANkAAADaAAAA4AAAAOAAAADgAAAA5wAAAOgAAADuAAAA7gAAAO8AAADvAAAA+wAAAP0AAAACAQAABAEAAAoBAAAKAQAACwEAABIBAAAYAQAAHgEAAB4BAAAgAQAAJQEAACUBAAAlAQAAOwEAADwBAAA8AQAAPAEAAEIBAABCAQAAQwEAAEoBAABYAQAAWAEAAFgBAABeAQAAXgEAAF8BAABfAQAAbQEAAA==",
          "dtype": "i4"
         },
         "xaxis": "x3",
         "y": {
          "bdata": "AAAAAABgR0C4HoXrUVhGQClcj8L1KEFArkfhehTuSUB7FK5H4VpAQNejcD0K90NAexSuR+HaRkAAAAAAAIBCQArXo3A9yjJA4XoUrkdBQ0DsUbgehatAQM3MzMzMbEJArkfhehTOTUAAAAAAAAD4f7gehetR2ENAcT0K16NQS0BSuB6F63FBQI/C9Shcz0xA4XoUrkfhSECPwvUoXC9QQPYoXI/CtUdAAAAAAABASkDhehSuR6FAQOF6FK5H4URAcT0K16MwRUApXI/C9YhDQIXrUbgeJUhA4XoUrkchQ0AAAAAAAAD4f1yPwvUonEZAZmZmZmamQ0CamZmZmZlLQI/C9Shcj1JA16NwPQo3SUAK16NwPTpRQFK4HoXr4VBA4XoUrkdhSUCamZmZmRlRQAAAAAAAAPh/XI/C9SjMUkC4HoXrUVhTQK5H4XoUTkJAUrgeheuxUkCamZmZmflFQM3MzMzMTElAAAAAAAAA+H8AAAAAAAD4f0jhehSuR1FAAAAAAAAA+H8pXI/C9bhTQK5H4XoUjk5AMzMzMzNzUUBSuB6F66FTQHE9CtejEFFAUrgeheuRTECPwvUoXL9UQOF6FK5H4VRASOF6FK4nUkAAAAAAAAD4f83MzMzMrFRAZmZmZmZ2VEDhehSuR0FVQBSuR+F6lFZAexSuR+HKUkAUrkfherRTQAAAAAAAkFBASOF6FK63VUD2KFyPwiVVQIXrUbge5U5AcT0K16OgU0CuR+F6FJ5TQPYoXI/CtVRAexSuR+FaVkCF61G4HjVSQD0K16NwnVRAAAAAAAAA+H+amZmZmelWQHsUrkfhalJAMzMzMzODVUDNzMzMzPxSQMP1KFyPwlZAexSuR+G6VED2KFyPwhVTQM3MzMzMzExAAAAAAAAA+H+uR+F6FE5VQHsUrkfhulJA7FG4HoXrTEC4HoXrUehUQAAAAAAAAPh/FK5H4XrUUkBcj8L1KAxUQM3MzMzMzE9ASOF6FK5XUUApXI/C9QhOQMP1KFyP4lJAKVyPwvVoRkBcj8L1KHxJQMP1KFyPAkpAexSuR+FKUUCuR+F6FP5QQFyPwvUoXFJAexSuR+FaTkC4HoXrUdhNQI/C9ShcL09AAAAAAAAA+H8AAAAAACBPQBSuR+F69E9AexSuR+H6SECamZmZmXlRQArXo3A9ij5ApHA9CtdjQkAzMzMzMzNFQHE9CtejEElAuB6F61E4QkDD9Shcj2JKQGZmZmZmZjtAmpmZmZnZPEA=",
          "dtype": "f8"
         },
         "yaxis": "y3"
        },
        {
         "mode": "markers",
         "name": "Percentage hindered rentals",
         "type": "scatter",
         "x": {
          "bdata": "BgAAAAcAAAAHAAAADQAAABQAAAAiAAAAJAAAACkAAAApAAAAKwAAACsAAAAwAAAAMQAAADIAAAAyAAAANwAAADkAAAA+AAAARwAAAEwAAABMAAAATAAAAFQAAABUAAAAVAAAAFUAAABaAAAAXAAAAGkAAABqAAAAbwAAAG8AAABwAAAAdgAAAHgAAAB4AAAAfQAAAH4AAAB+AAAAhAAAAIUAAACFAAAAhgAAAIwAAACSAAAAkwAAAJMAAACUAAAAlAAAAJQAAACZAAAAmgAAAJsAAAChAAAAogAAAKkAAACpAAAAqQAAAK4AAACuAAAArwAAALAAAACwAAAAsAAAALcAAAC3AAAAvAAAAL0AAAC+AAAAvgAAAMQAAADLAAAA0gAAANMAAADTAAAA0wAAANkAAADaAAAA4AAAAOAAAADgAAAA5wAAAOgAAADuAAAA7gAAAO8AAADvAAAA+wAAAP0AAAACAQAABAEAAAoBAAAKAQAACwEAABIBAAAYAQAAHgEAAB4BAAAgAQAAJQEAACUBAAAlAQAAOwEAADwBAAA8AQAAPAEAAEIBAABCAQAAQwEAAEoBAABYAQAAWAEAAFgBAABeAQAAXgEAAF8BAABfAQAAbQEAAA==",
          "dtype": "i4"
         },
         "xaxis": "x4",
         "y": {
          "bdata": "AAAAAAAA+H8DK4cW2c4HQCUGgZVDiwlASgwCK4cWCkAAAAAAAAD4f1YOLbKd7wxA+n5qvHSTBEAAAAAAAAD4f23n+6nx0ghA/Knx0k1iBED8qfHSTWIEQI/C9Shcjw1AXI/C9ShcCEASg8DKoUUHQOkmMQisHARAcT0K16NwDEAAAAAAAAD4f3WTGARWDg9AAAAAAAAA+H+sHFpkO98NQC/dJAaBFRBACKwcWmQ7DEAdWmQ7308OQAAAAAAAAA1AexSuR+F6C0BOYhBYObQHQAAAAAAAAA5AzczMzMzMBUAv3SQGgZUOQFK4HoXrUQdAsHJoke18D0CuR+F6FK4QQNv5fmq8dA5AZDvfT40XEEA9CtejcD0GQAAAAAAAAPh/5dAi2/l+EEATg8DKocUQQMl2vp8aLxBAGy/dJAaBDUD+1HjpJjEPQIlBYOXQIg5AokW28/3UBkA5tMh2vp8OQDvfT42Xbg5ADAIrhxZZEEB9PzVeukkOQHNoke18PwdAPzVeukkMBkDfT42XbhIGQOf7qfHSTQ5ALbKd76dGEECkcD0K16MFQAAAAAAAAPh/7nw/NV66BkB/arx0kxgFQH9qvHSTGAVAPQrXo3A9BkAtsp3vp8YNQPhT46WbxApAj8L1KFyPDEDTTWIQWDkFQAAAAAAAAPh/EVg5tMh2BkBQjZduEoMGQESLbOf7qQdAhxbZzvdTDUCNl24Sg8ALQOSlm8QgsAVAiUFg5dAiBUAUrkfhehQOQGq8dJMYBA1A2/l+arx0DUDb+X5qvHQHQB+F61G4HgVAH4XrUbgeBUBGtvP91HgNQLx0kxgEVgZAtMh2vp8aDUAMAiuHFtkMQM/3U+Olmw1AO99PjZduDEDNzMzMzMwGQOF6FK5H4QtAyXa+nxovDEDByqFFtvMEQMHKoUW28wRA+FPjpZvEDEAnMQisHFoIQBKDwMqhRQ1ADi2yne+nBEAj2/l+arwLQMl2vp8aLw1AAAAAAAAA+H9t5/up8dIGQEjhehSuRwpAx0s3iUFgDkAEVg4tsh0QQKAaL90kBgdAjZduEoPADECNl24Sg8AMQI2XbhKDwAxAx0s3iUFgCkBt5/up8dIFQAAAAAAAAPh/2s73U+OlBkARWDm0yHYKQBFYObTIdgpAX7pJDAIrBkDhehSuR+EFQKwcWmQ73whA8KfGSzeJBkDhehSuR+EGQAAAAAAAAPh//tR46SYxCUAX2c73U+MJQOkmMQisHAlAO99PjZduCUA=",
          "dtype": "f8"
         },
         "yaxis": "y4"
        },
        {
         "mode": "markers",
         "name": "Percentage hindered rentals",
         "type": "scatter",
         "x": {
          "bdata": "BgAAAAcAAAAHAAAADQAAABQAAAAiAAAAJAAAACkAAAApAAAAKwAAACsAAAAwAAAAMQAAADIAAAAyAAAANwAAADkAAAA+AAAARwAAAEwAAABMAAAATAAAAFQAAABUAAAAVAAAAFUAAABaAAAAXAAAAGkAAABqAAAAbwAAAG8AAABwAAAAdgAAAHgAAAB4AAAAfQAAAH4AAAB+AAAAhAAAAIUAAACFAAAAhgAAAIwAAACSAAAAkwAAAJMAAACUAAAAlAAAAJQAAACZAAAAmgAAAJsAAAChAAAAogAAAKkAAACpAAAAqQAAAK4AAACuAAAArwAAALAAAACwAAAAsAAAALcAAAC3AAAAvAAAAL0AAAC+AAAAvgAAAMQAAADLAAAA0gAAANMAAADTAAAA0wAAANkAAADaAAAA4AAAAOAAAADgAAAA5wAAAOgAAADuAAAA7gAAAO8AAADvAAAA+wAAAP0AAAACAQAABAEAAAoBAAAKAQAACwEAABIBAAAYAQAAHgEAAB4BAAAgAQAAJQEAACUBAAAlAQAAOwEAADwBAAA8AQAAPAEAAEIBAABCAQAAQwEAAEoBAABYAQAAWAEAAFgBAABeAQAAXgEAAF8BAABfAQAAbQEAAA==",
          "dtype": "i4"
         },
         "xaxis": "x5",
         "y": {
          "bdata": "oaAUrVxra0DJbDWQE2JqQDqANFIl02ZAAAAAAAAA+H9h5vFq70hgQGQe+YPBoGpA7VV1oJjNakAAAAAAAAD4f6UPApdsnWhAh2Lh2r9nakC6k+Op4tNqQIhNv5/1umdATswfeOHYakCq8dJNYnRgQBKfO8E+XmpA4fCCiNSIa0AAAAAAAAD4f3CPSlaqVGBAPMZw0PnXakCO23ksx6ZrQIlWk0yzMmFAX9VZLXBaYEDCOX4Drr5gQCZWodzRH2dAQPflzLYTYEBVZ7XAnntgQN/iPPc5rWhAkYDR5Y22Z0DNMP8y6chgQDlFR3L5o19A7KF9rCC3aEDaEC3DiT1hQDfewl94IGtAHdQ03kw/YUDKplzhnXxqQChIbHcPXmpARUdy+Q9BYUBOS2L/ayFgQBihjn3/PWdAXDV0WIYnbEAmGHN8GRFrQKlnQShvGmhAIwrSMcxKakB88xsmmhpoQM5oUNnVsmhA9Vd+z/4hYED2o5cHH/BqQEX0a+tniWBAbr62I0GKX0AmHeVgNo1qQFcPTvqxXmBAwgk7e13bYEBxoxLo3c9qQLYcQ1sp3mBAVhQKbCmHX0D8sDliiOBqQDGbW3wl2WpAMDPHTSjOZkCXkA96NkVhQNlcNc/RKWxAMnctIR8iYECIDFC/sNxqQBzr4jYaiF9AU+8EVimSaUCb5h2n6IhfQOMryyGzkGBAmhNqPAdXYECamZmZmSNgQFK0F3a9sGdAhXOyeQHVakAswgO5ekRnQJRCaiTTJGBAAmswaHwBa0AlG7T8JZNgQOuLKf2pfWpA0vgqnp+cakAEWrqCbfFqQE59IHmnk2BA++zbpD1ga0BCkChZcyZgQEKQKFlzJmBAFwlcDT9ia0AAAAAAAAD4f9UqVf0lTGhAsuA0M6koa0DO2hJeJ3JqQH+tAQD23WpAMDHxogrDaEBicN5JVYdfQKX5vhMOxGhAVlbkIR3cakB9KCxMundrQLB9ty+WMGBAAAAAAAAA+H8Q6bevA49fQAAAAAAAAPh/K5Jld3djYEBseHqlLF1hQNSnC2dtmGBATVdmAJ4AbEClVHiGn+1rQGs9jcUAX2xAtG4oIT1Sa0BDkIMSJnVqQOK5rePukWpA0HWGTvSiX0Bej3hoDkdrQAcA2MqVtGtAl4DzPf7takCRLGAC9+FqQAAAAAAAAPh/XynLEMeyX0BfKcsQx7JfQAAAAAAAAPh/WybD8bw8YEDy9tZ2SbhfQAAAAAAAAPh/QA0pUJWUaUA=",
          "dtype": "f8"
         },
         "yaxis": "y5"
        },
        {
         "mode": "markers",
         "name": "Percentage hindered rentals",
         "type": "scatter",
         "x": {
          "bdata": "BgAAAAcAAAAHAAAADQAAABQAAAAiAAAAJAAAACkAAAApAAAAKwAAACsAAAAwAAAAMQAAADIAAAAyAAAANwAAADkAAAA+AAAARwAAAEwAAABMAAAATAAAAFQAAABUAAAAVAAAAFUAAABaAAAAXAAAAGkAAABqAAAAbwAAAG8AAABwAAAAdgAAAHgAAAB4AAAAfQAAAH4AAAB+AAAAhAAAAIUAAACFAAAAhgAAAIwAAACSAAAAkwAAAJMAAACUAAAAlAAAAJQAAACZAAAAmgAAAJsAAAChAAAAogAAAKkAAACpAAAAqQAAAK4AAACuAAAArwAAALAAAACwAAAAsAAAALcAAAC3AAAAvAAAAL0AAAC+AAAAvgAAAMQAAADLAAAA0gAAANMAAADTAAAA0wAAANkAAADaAAAA4AAAAOAAAADgAAAA5wAAAOgAAADuAAAA7gAAAO8AAADvAAAA+wAAAP0AAAACAQAABAEAAAoBAAAKAQAACwEAABIBAAAYAQAAHgEAAB4BAAAgAQAAJQEAACUBAAAlAQAAOwEAADwBAAA8AQAAPAEAAEIBAABCAQAAQwEAAEoBAABYAQAAWAEAAFgBAABeAQAAXgEAAF8BAABfAQAAbQEAAA==",
          "dtype": "i4"
         },
         "xaxis": "x6",
         "y": {
          "bdata": "7nw/NV46HEB0kxgEVg4gQAAAAAAAAPh/oEW28/1UG0DRItv5fmoYQPLSTWIQ2BtARLbz/dR4HUAMAiuHFtkgQFCNl24SgyBAg8DKoUU2IEAZBFYOLTIZQAwCK4cW2SBAO99PjZduG0AAAAAAAAD4fwAAAAAAAPh/7nw/NV46HECWQ4ts5/shQK5H4XoULh5AGQRWDi0yGUAxCKwcWmQdQBKDwMqhxR9A0SLb+X5qGEAv3SQGgRUfQAwCK4cWGSFA4XoUrkfhHUAzMzMzM7MgQNrO91PjpRhAkxgEVg7tIUAzMzMzM/MhQArXo3A9ihpArkfhehQuIEDNzMzMzEwgQOxRuB6FaxtAz/dT46WbIECS7Xw/NV4cQAAAAAAAAPh/zczMzMxMIEBGtvP91HgrQJhuEoPACiFADi2yne+nGkDb+X5qvPQZQHE9CtejMCFACKwcWmQ7H0BCYOXQIlsZQK5H4XoULiBARrbz/dR4K0DufD81XroeQAAAAAAAAPh/L90kBoGVH0CS7Xw/NV4cQFyPwvUo3BdAbRKDwMqhHkCsHFpkO18dQG0Sg8DKoR5AAAAAAAAA+H/wp8ZLN4kZQKwcWmQ7Xx1APzVeuknMIUDNzMzMzEwgQA4tsp3vpxpAZBBYObTIF0AAAAAAAAD4fz81XrpJDCNABoGVQ4tsH0Dn+6nx0s0fQKabxCCwMiBArkfhehSuHED6fmq8dJMWQEW28/3UeBtA+FPjpZvEGUAAAAAAAEAhQPp+arx0kxZABFYOLbIdGkCmm8QgsDIgQJZDi2zn+xlAMQisHFrkG0AOAiuHFtkfQMl2vp8aryJAAAAAAAAA+H83XrpJDIIbQKjGSzeJAStAMzMzMzOzGUDn+6nx0s0fQFg5tMh2PiFAMzMzMzOzG0DazvdT4yUfQMP1KFyPQhlAsXJoke18H0Bcj8L1KFwsQFg5tMh2PhhAw/UoXI9CGUD4U+Olm0QeQDdeukkMghtAz/dT46UbHkAK16NwPYobQH0/NV66yRxAz/dT46UbFkAj2/l+anwgQLbz/dR4qSJA5aWbxCCwFUAAAAAAAAD4f4lBYOXQIhhAMzMzMzMzGUD6fmq8dFMgQN9PjZduEhtAAAAAAAAA+H8QWDm0yHYfQH0/NV66yRxAPQrXo3A9GkCoxks3iUEeQAAAAAAAAPh/rkfhehQuH0A3XrpJDIIcQN0kBoGVwx1A30+Nl26SFEDHSzeJQaAsQLbz/dR4qSJAVg4tsp3vHUA=",
          "dtype": "f8"
         },
         "yaxis": "y6"
        }
       ],
       "layout": {
        "height": 700,
        "showlegend": false,
        "template": {
         "data": {
          "bar": [
           {
            "error_x": {
             "color": "#2a3f5f"
            },
            "error_y": {
             "color": "#2a3f5f"
            },
            "marker": {
             "line": {
              "color": "#E5ECF6",
              "width": 0.5
             },
             "pattern": {
              "fillmode": "overlay",
              "size": 10,
              "solidity": 0.2
             }
            },
            "type": "bar"
           }
          ],
          "barpolar": [
           {
            "marker": {
             "line": {
              "color": "#E5ECF6",
              "width": 0.5
             },
             "pattern": {
              "fillmode": "overlay",
              "size": 10,
              "solidity": 0.2
             }
            },
            "type": "barpolar"
           }
          ],
          "carpet": [
           {
            "aaxis": {
             "endlinecolor": "#2a3f5f",
             "gridcolor": "white",
             "linecolor": "white",
             "minorgridcolor": "white",
             "startlinecolor": "#2a3f5f"
            },
            "baxis": {
             "endlinecolor": "#2a3f5f",
             "gridcolor": "white",
             "linecolor": "white",
             "minorgridcolor": "white",
             "startlinecolor": "#2a3f5f"
            },
            "type": "carpet"
           }
          ],
          "choropleth": [
           {
            "colorbar": {
             "outlinewidth": 0,
             "ticks": ""
            },
            "type": "choropleth"
           }
          ],
          "contour": [
           {
            "colorbar": {
             "outlinewidth": 0,
             "ticks": ""
            },
            "colorscale": [
             [
              0,
              "#0d0887"
             ],
             [
              0.1111111111111111,
              "#46039f"
             ],
             [
              0.2222222222222222,
              "#7201a8"
             ],
             [
              0.3333333333333333,
              "#9c179e"
             ],
             [
              0.4444444444444444,
              "#bd3786"
             ],
             [
              0.5555555555555556,
              "#d8576b"
             ],
             [
              0.6666666666666666,
              "#ed7953"
             ],
             [
              0.7777777777777778,
              "#fb9f3a"
             ],
             [
              0.8888888888888888,
              "#fdca26"
             ],
             [
              1,
              "#f0f921"
             ]
            ],
            "type": "contour"
           }
          ],
          "contourcarpet": [
           {
            "colorbar": {
             "outlinewidth": 0,
             "ticks": ""
            },
            "type": "contourcarpet"
           }
          ],
          "heatmap": [
           {
            "colorbar": {
             "outlinewidth": 0,
             "ticks": ""
            },
            "colorscale": [
             [
              0,
              "#0d0887"
             ],
             [
              0.1111111111111111,
              "#46039f"
             ],
             [
              0.2222222222222222,
              "#7201a8"
             ],
             [
              0.3333333333333333,
              "#9c179e"
             ],
             [
              0.4444444444444444,
              "#bd3786"
             ],
             [
              0.5555555555555556,
              "#d8576b"
             ],
             [
              0.6666666666666666,
              "#ed7953"
             ],
             [
              0.7777777777777778,
              "#fb9f3a"
             ],
             [
              0.8888888888888888,
              "#fdca26"
             ],
             [
              1,
              "#f0f921"
             ]
            ],
            "type": "heatmap"
           }
          ],
          "histogram": [
           {
            "marker": {
             "pattern": {
              "fillmode": "overlay",
              "size": 10,
              "solidity": 0.2
             }
            },
            "type": "histogram"
           }
          ],
          "histogram2d": [
           {
            "colorbar": {
             "outlinewidth": 0,
             "ticks": ""
            },
            "colorscale": [
             [
              0,
              "#0d0887"
             ],
             [
              0.1111111111111111,
              "#46039f"
             ],
             [
              0.2222222222222222,
              "#7201a8"
             ],
             [
              0.3333333333333333,
              "#9c179e"
             ],
             [
              0.4444444444444444,
              "#bd3786"
             ],
             [
              0.5555555555555556,
              "#d8576b"
             ],
             [
              0.6666666666666666,
              "#ed7953"
             ],
             [
              0.7777777777777778,
              "#fb9f3a"
             ],
             [
              0.8888888888888888,
              "#fdca26"
             ],
             [
              1,
              "#f0f921"
             ]
            ],
            "type": "histogram2d"
           }
          ],
          "histogram2dcontour": [
           {
            "colorbar": {
             "outlinewidth": 0,
             "ticks": ""
            },
            "colorscale": [
             [
              0,
              "#0d0887"
             ],
             [
              0.1111111111111111,
              "#46039f"
             ],
             [
              0.2222222222222222,
              "#7201a8"
             ],
             [
              0.3333333333333333,
              "#9c179e"
             ],
             [
              0.4444444444444444,
              "#bd3786"
             ],
             [
              0.5555555555555556,
              "#d8576b"
             ],
             [
              0.6666666666666666,
              "#ed7953"
             ],
             [
              0.7777777777777778,
              "#fb9f3a"
             ],
             [
              0.8888888888888888,
              "#fdca26"
             ],
             [
              1,
              "#f0f921"
             ]
            ],
            "type": "histogram2dcontour"
           }
          ],
          "mesh3d": [
           {
            "colorbar": {
             "outlinewidth": 0,
             "ticks": ""
            },
            "type": "mesh3d"
           }
          ],
          "parcoords": [
           {
            "line": {
             "colorbar": {
              "outlinewidth": 0,
              "ticks": ""
             }
            },
            "type": "parcoords"
           }
          ],
          "pie": [
           {
            "automargin": true,
            "type": "pie"
           }
          ],
          "scatter": [
           {
            "fillpattern": {
             "fillmode": "overlay",
             "size": 10,
             "solidity": 0.2
            },
            "type": "scatter"
           }
          ],
          "scatter3d": [
           {
            "line": {
             "colorbar": {
              "outlinewidth": 0,
              "ticks": ""
             }
            },
            "marker": {
             "colorbar": {
              "outlinewidth": 0,
              "ticks": ""
             }
            },
            "type": "scatter3d"
           }
          ],
          "scattercarpet": [
           {
            "marker": {
             "colorbar": {
              "outlinewidth": 0,
              "ticks": ""
             }
            },
            "type": "scattercarpet"
           }
          ],
          "scattergeo": [
           {
            "marker": {
             "colorbar": {
              "outlinewidth": 0,
              "ticks": ""
             }
            },
            "type": "scattergeo"
           }
          ],
          "scattergl": [
           {
            "marker": {
             "colorbar": {
              "outlinewidth": 0,
              "ticks": ""
             }
            },
            "type": "scattergl"
           }
          ],
          "scattermap": [
           {
            "marker": {
             "colorbar": {
              "outlinewidth": 0,
              "ticks": ""
             }
            },
            "type": "scattermap"
           }
          ],
          "scattermapbox": [
           {
            "marker": {
             "colorbar": {
              "outlinewidth": 0,
              "ticks": ""
             }
            },
            "type": "scattermapbox"
           }
          ],
          "scatterpolar": [
           {
            "marker": {
             "colorbar": {
              "outlinewidth": 0,
              "ticks": ""
             }
            },
            "type": "scatterpolar"
           }
          ],
          "scatterpolargl": [
           {
            "marker": {
             "colorbar": {
              "outlinewidth": 0,
              "ticks": ""
             }
            },
            "type": "scatterpolargl"
           }
          ],
          "scatterternary": [
           {
            "marker": {
             "colorbar": {
              "outlinewidth": 0,
              "ticks": ""
             }
            },
            "type": "scatterternary"
           }
          ],
          "surface": [
           {
            "colorbar": {
             "outlinewidth": 0,
             "ticks": ""
            },
            "colorscale": [
             [
              0,
              "#0d0887"
             ],
             [
              0.1111111111111111,
              "#46039f"
             ],
             [
              0.2222222222222222,
              "#7201a8"
             ],
             [
              0.3333333333333333,
              "#9c179e"
             ],
             [
              0.4444444444444444,
              "#bd3786"
             ],
             [
              0.5555555555555556,
              "#d8576b"
             ],
             [
              0.6666666666666666,
              "#ed7953"
             ],
             [
              0.7777777777777778,
              "#fb9f3a"
             ],
             [
              0.8888888888888888,
              "#fdca26"
             ],
             [
              1,
              "#f0f921"
             ]
            ],
            "type": "surface"
           }
          ],
          "table": [
           {
            "cells": {
             "fill": {
              "color": "#EBF0F8"
             },
             "line": {
              "color": "white"
             }
            },
            "header": {
             "fill": {
              "color": "#C8D4E3"
             },
             "line": {
              "color": "white"
             }
            },
            "type": "table"
           }
          ]
         },
         "layout": {
          "annotationdefaults": {
           "arrowcolor": "#2a3f5f",
           "arrowhead": 0,
           "arrowwidth": 1
          },
          "autotypenumbers": "strict",
          "coloraxis": {
           "colorbar": {
            "outlinewidth": 0,
            "ticks": ""
           }
          },
          "colorscale": {
           "diverging": [
            [
             0,
             "#8e0152"
            ],
            [
             0.1,
             "#c51b7d"
            ],
            [
             0.2,
             "#de77ae"
            ],
            [
             0.3,
             "#f1b6da"
            ],
            [
             0.4,
             "#fde0ef"
            ],
            [
             0.5,
             "#f7f7f7"
            ],
            [
             0.6,
             "#e6f5d0"
            ],
            [
             0.7,
             "#b8e186"
            ],
            [
             0.8,
             "#7fbc41"
            ],
            [
             0.9,
             "#4d9221"
            ],
            [
             1,
             "#276419"
            ]
           ],
           "sequential": [
            [
             0,
             "#0d0887"
            ],
            [
             0.1111111111111111,
             "#46039f"
            ],
            [
             0.2222222222222222,
             "#7201a8"
            ],
            [
             0.3333333333333333,
             "#9c179e"
            ],
            [
             0.4444444444444444,
             "#bd3786"
            ],
            [
             0.5555555555555556,
             "#d8576b"
            ],
            [
             0.6666666666666666,
             "#ed7953"
            ],
            [
             0.7777777777777778,
             "#fb9f3a"
            ],
            [
             0.8888888888888888,
             "#fdca26"
            ],
            [
             1,
             "#f0f921"
            ]
           ],
           "sequentialminus": [
            [
             0,
             "#0d0887"
            ],
            [
             0.1111111111111111,
             "#46039f"
            ],
            [
             0.2222222222222222,
             "#7201a8"
            ],
            [
             0.3333333333333333,
             "#9c179e"
            ],
            [
             0.4444444444444444,
             "#bd3786"
            ],
            [
             0.5555555555555556,
             "#d8576b"
            ],
            [
             0.6666666666666666,
             "#ed7953"
            ],
            [
             0.7777777777777778,
             "#fb9f3a"
            ],
            [
             0.8888888888888888,
             "#fdca26"
            ],
            [
             1,
             "#f0f921"
            ]
           ]
          },
          "colorway": [
           "#636efa",
           "#EF553B",
           "#00cc96",
           "#ab63fa",
           "#FFA15A",
           "#19d3f3",
           "#FF6692",
           "#B6E880",
           "#FF97FF",
           "#FECB52"
          ],
          "font": {
           "color": "#2a3f5f"
          },
          "geo": {
           "bgcolor": "white",
           "lakecolor": "white",
           "landcolor": "#E5ECF6",
           "showlakes": true,
           "showland": true,
           "subunitcolor": "white"
          },
          "hoverlabel": {
           "align": "left"
          },
          "hovermode": "closest",
          "mapbox": {
           "style": "light"
          },
          "paper_bgcolor": "white",
          "plot_bgcolor": "#E5ECF6",
          "polar": {
           "angularaxis": {
            "gridcolor": "white",
            "linecolor": "white",
            "ticks": ""
           },
           "bgcolor": "#E5ECF6",
           "radialaxis": {
            "gridcolor": "white",
            "linecolor": "white",
            "ticks": ""
           }
          },
          "scene": {
           "xaxis": {
            "backgroundcolor": "#E5ECF6",
            "gridcolor": "white",
            "gridwidth": 2,
            "linecolor": "white",
            "showbackground": true,
            "ticks": "",
            "zerolinecolor": "white"
           },
           "yaxis": {
            "backgroundcolor": "#E5ECF6",
            "gridcolor": "white",
            "gridwidth": 2,
            "linecolor": "white",
            "showbackground": true,
            "ticks": "",
            "zerolinecolor": "white"
           },
           "zaxis": {
            "backgroundcolor": "#E5ECF6",
            "gridcolor": "white",
            "gridwidth": 2,
            "linecolor": "white",
            "showbackground": true,
            "ticks": "",
            "zerolinecolor": "white"
           }
          },
          "shapedefaults": {
           "line": {
            "color": "#2a3f5f"
           }
          },
          "ternary": {
           "aaxis": {
            "gridcolor": "white",
            "linecolor": "white",
            "ticks": ""
           },
           "baxis": {
            "gridcolor": "white",
            "linecolor": "white",
            "ticks": ""
           },
           "bgcolor": "#E5ECF6",
           "caxis": {
            "gridcolor": "white",
            "linecolor": "white",
            "ticks": ""
           }
          },
          "title": {
           "x": 0.05
          },
          "xaxis": {
           "automargin": true,
           "gridcolor": "white",
           "linecolor": "white",
           "ticks": "",
           "title": {
            "standoff": 15
           },
           "zerolinecolor": "white",
           "zerolinewidth": 2
          },
          "yaxis": {
           "automargin": true,
           "gridcolor": "white",
           "linecolor": "white",
           "ticks": "",
           "title": {
            "standoff": 15
           },
           "zerolinecolor": "white",
           "zerolinewidth": 2
          }
         }
        },
        "title": {
         "text": "Evolution along day_of_year"
        },
        "width": 1200,
        "xaxis": {
         "anchor": "y",
         "domain": [
          0,
          0.45
         ],
         "title": {
          "text": "Weekly_Sales"
         }
        },
        "xaxis2": {
         "anchor": "y2",
         "domain": [
          0.55,
          1
         ],
         "title": {
          "text": "Holiday_Flag"
         }
        },
        "xaxis3": {
         "anchor": "y3",
         "domain": [
          0,
          0.45
         ],
         "title": {
          "text": "Temperature"
         }
        },
        "xaxis4": {
         "anchor": "y4",
         "domain": [
          0.55,
          1
         ],
         "title": {
          "text": "Fuel_Price"
         }
        },
        "xaxis5": {
         "anchor": "y5",
         "domain": [
          0,
          0.45
         ],
         "title": {
          "text": "CPI"
         }
        },
        "xaxis6": {
         "anchor": "y6",
         "domain": [
          0.55,
          1
         ],
         "title": {
          "text": "Unemployment"
         }
        },
        "yaxis": {
         "anchor": "x",
         "domain": [
          0.7333333333333333,
          1
         ]
        },
        "yaxis2": {
         "anchor": "x2",
         "domain": [
          0.7333333333333333,
          1
         ]
        },
        "yaxis3": {
         "anchor": "x3",
         "domain": [
          0.36666666666666664,
          0.6333333333333333
         ]
        },
        "yaxis4": {
         "anchor": "x4",
         "domain": [
          0.36666666666666664,
          0.6333333333333333
         ]
        },
        "yaxis5": {
         "anchor": "x5",
         "domain": [
          0,
          0.26666666666666666
         ]
        },
        "yaxis6": {
         "anchor": "x6",
         "domain": [
          0,
          0.26666666666666666
         ]
        }
       }
      }
     },
     "metadata": {},
     "output_type": "display_data"
    }
   ],
   "source": [
    "import plotly.graph_objects as go\n",
    "from plotly.subplots import make_subplots\n",
    "\n",
    "x_axis = \"day_of_year\"\n",
    "\n",
    "wsales_df_for_viz = wsales_df.sort_values(by=[x_axis])\n",
    "\n",
    "cols = [\"Weekly_Sales\", \"Holiday_Flag\", \"Temperature\", \"Fuel_Price\", \"CPI\", \"Unemployment\"]\n",
    "fig = make_subplots(rows=3, cols=2)\n",
    "\n",
    "positions = [(r, c) for r in range(1, 4) for c in range(1, 3)]\n",
    "\n",
    "for i, col in enumerate(cols):\n",
    "    row, col_pos = positions[i]\n",
    "\n",
    "    fig.add_trace(go.Scatter(\n",
    "        x=wsales_df_for_viz[x_axis], y=wsales_df_for_viz[col],\n",
    "        mode=\"markers\",\n",
    "        name=\"Percentage hindered rentals\",\n",
    "    ),\n",
    "    row=row,\n",
    "    col=col_pos\n",
    "    )\n",
    "    axis_num = i + 1\n",
    "    fig.update_layout({f\"xaxis{axis_num}\": dict(title=col)})\n",
    "\n",
    "fig.update_layout(\n",
    "    height=700,\n",
    "    width=1200,\n",
    "    title_text=f\"Evolution along {x_axis}\",\n",
    "    showlegend=False\n",
    ")\n",
    "\n",
    "fig.show()"
   ]
  },
  {
   "cell_type": "code",
   "execution_count": null,
   "id": "45c1f9ab",
   "metadata": {},
   "outputs": [
    {
     "data": {
      "application/vnd.plotly.v1+json": {
       "config": {
        "plotlyServerURL": "https://plot.ly"
       },
       "data": [
        {
         "mode": "markers",
         "name": "Percentage hindered rentals",
         "type": "scatter",
         "x": {
          "bdata": "CtejcD3KMkBmZmZmZmY7QJqZmZmZ2TxACtejcD2KPkB7FK5H4VpAQOF6FK5HoUBA7FG4HoWrQEApXI/C9ShBQFK4HoXrcUFAuB6F61E4QkCuR+F6FE5CQKRwPQrXY0JAzczMzMxsQkAAAAAAAIBCQOF6FK5HIUNA4XoUrkdBQ0ApXI/C9YhDQGZmZmZmpkNAuB6F61HYQ0DXo3A9CvdDQOF6FK5H4URAcT0K16MwRUAzMzMzMzNFQJqZmZmZ+UVAuB6F61FYRkApXI/C9WhGQFyPwvUonEZAexSuR+HaRkAAAAAAAGBHQPYoXI/CtUdAhetRuB4lSEDhehSuR+FIQHsUrkfh+khAcT0K16MQSUDXo3A9CjdJQM3MzMzMTElA4XoUrkdhSUBcj8L1KHxJQK5H4XoU7klAw/UoXI8CSkAAAAAAAEBKQMP1KFyPYkpAcT0K16NQS0CamZmZmZlLQFK4HoXrkUxAzczMzMzMTECPwvUoXM9MQOxRuB6F60xArkfhehTOTUC4HoXrUdhNQClcj8L1CE5AexSuR+FaTkCuR+F6FI5OQIXrUbge5U5AAAAAAAAgT0CPwvUoXC9PQM3MzMzMzE9AFK5H4Xr0T0CPwvUoXC9QQAAAAAAAkFBAUrgehevhUECuR+F6FP5QQHE9CtejEFFAmpmZmZkZUUAK16NwPTpRQEjhehSuR1FAexSuR+FKUUBI4XoUrldRQDMzMzMzc1FAmpmZmZl5UUBI4XoUridSQIXrUbgeNVJAXI/C9ShcUkB7FK5H4WpSQI/C9Shcj1JAUrgeheuxUkB7FK5H4bpSQHsUrkfhylJAXI/C9SjMUkAUrkfhetRSQMP1KFyP4lJAzczMzMz8UkD2KFyPwhVTQLgehetRWFNArkfhehSeU0BxPQrXo6BTQFK4HoXroVNAFK5H4Xq0U0ApXI/C9bhTQFyPwvUoDFRAZmZmZmZ2VEA9CtejcJ1UQM3MzMzMrFRA9ihcj8K1VEB7FK5H4bpUQI/C9Shcv1RA4XoUrkfhVEC4HoXrUehUQPYoXI/CJVVA4XoUrkdBVUCuR+F6FE5VQDMzMzMzg1VASOF6FK63VUB7FK5H4VpWQBSuR+F6lFZAw/UoXI/CVkCamZmZmelWQAAAAAAAAPh/AAAAAAAA+H8AAAAAAAD4fwAAAAAAAPh/AAAAAAAA+H8AAAAAAAD4fwAAAAAAAPh/AAAAAAAA+H8AAAAAAAD4fwAAAAAAAPh/AAAAAAAA+H8=",
          "dtype": "f8"
         },
         "xaxis": "x",
         "y": {
          "bdata": "pHA9igkyIUFcj8K1zjw4QaRwPco5djtBFK5HoSPXQ0Fcj8I1lqQ7QQrXo/CEUzNBzczMzOJbLkGamZkZKnQ8QRSuR6Hn+T9BXI/CleIkRUEzMzMzOEYZQc3MzCyOx0JB16Nw/cbUPkHXo3A9SLI/QXsUrkfyHyFBCtejcOUNOUEzMzNzT8Y1QdejcD3w6RtBUrgexVE1QEGamZmZwc9AQa5H4TqbrTxB4XoUbrmUO0HhehRuFJFBQSlcj8IUkxpBpHA9ymLTOkHhehSujBIsQVK4HoXVHydBFK5H4dgsHEE9CtcjYHU7QVyPwnXmaSFBPQrXo52bHUEfhetRYEEqQTMzMzM9uh9BKVyPQnCPQkFcj8J1RFUtQaRwPYoHQiBBCtejcE9wNUEAAAAAn2MwQa5H4Xo6bRZBMzMzM+RrL0HsUbiebug+QZqZmVn1xDNBMzMzs6poPEEpXI9CryYzQbgehWuIyylBCtej8NQ5I0FSuB4F414+QZqZmRnpPiJBpHA9ihX9N0HXo3C9jD89QaRwPYouTilBzczMzIoJE0E9Ctdj5w4/QY/C9ajaviJBMzMzs5t9N0EK16NwDWwSQVyPwvWGMDxBFK5H4dtXGEF7FK7HoJg5QeF6FK7aojdBw/UoXCc7EkFSuB7F5AI3QRSuR6FRZDZBXI/C9cQpL0GPwvUo4Ns2QaRwPcpaKzNBmpmZmTggE0FmZmam9047QRSuR2HIOCVBKVyPgjrQOkG4HoXL4idBQVyPwvV72TRBH4XrUQTpGUGamZnZJcsxQeF6FO6+AzlBAAAAgOvMNkH2KFyP4R8rQexRuN6PGz5BCtejcMVdGkEzMzOzx4gpQZqZmZk5nhhBFK5HYaUQPkEUrkehVXo+QaRwPQrIwRFBKVyPwgjPPUGamZmZNKAdQTMzMzOjOhhBXI/CtQrMPkGPwvWothc5QSlcj8IDSxZBuB6F6xilPkHsUbgeBGoQQc3MzMynmhlBPQrXYwcSP0EAAAAAtVArQa5H4XrHUB9BZmZmZrM4FkH2KFwPno8rQcP1KNxtiD9B7FG4Hj0VH0G4HoXrthw2QTMzMzO4JSpBpHA9yq+OO0HhehSuGMsQQfYoXE/s+jpBw/UoXBMsLUEAAADAP8k4QTMzM7P9VzxBj8L1aHWsNUEK16Nw+ycuQR+F61F6ESBBexSux5RhN0HhehTu7/k/QVK4HgXZbS1Bw/UoXL5nNkEAAACAzSokQbgehau+XjZBuB6F60cbKkE=",
          "dtype": "f8"
         },
         "yaxis": "y"
        },
        {
         "mode": "markers",
         "name": "Percentage hindered rentals",
         "type": "scatter",
         "x": {
          "bdata": "CtejcD3KMkBmZmZmZmY7QJqZmZmZ2TxACtejcD2KPkB7FK5H4VpAQOF6FK5HoUBA7FG4HoWrQEApXI/C9ShBQFK4HoXrcUFAuB6F61E4QkCuR+F6FE5CQKRwPQrXY0JAzczMzMxsQkAAAAAAAIBCQOF6FK5HIUNA4XoUrkdBQ0ApXI/C9YhDQGZmZmZmpkNAuB6F61HYQ0DXo3A9CvdDQOF6FK5H4URAcT0K16MwRUAzMzMzMzNFQJqZmZmZ+UVAuB6F61FYRkApXI/C9WhGQFyPwvUonEZAexSuR+HaRkAAAAAAAGBHQPYoXI/CtUdAhetRuB4lSEDhehSuR+FIQHsUrkfh+khAcT0K16MQSUDXo3A9CjdJQM3MzMzMTElA4XoUrkdhSUBcj8L1KHxJQK5H4XoU7klAw/UoXI8CSkAAAAAAAEBKQMP1KFyPYkpAcT0K16NQS0CamZmZmZlLQFK4HoXrkUxAzczMzMzMTECPwvUoXM9MQOxRuB6F60xArkfhehTOTUC4HoXrUdhNQClcj8L1CE5AexSuR+FaTkCuR+F6FI5OQIXrUbge5U5AAAAAAAAgT0CPwvUoXC9PQM3MzMzMzE9AFK5H4Xr0T0CPwvUoXC9QQAAAAAAAkFBAUrgehevhUECuR+F6FP5QQHE9CtejEFFAmpmZmZkZUUAK16NwPTpRQEjhehSuR1FAexSuR+FKUUBI4XoUrldRQDMzMzMzc1FAmpmZmZl5UUBI4XoUridSQIXrUbgeNVJAXI/C9ShcUkB7FK5H4WpSQI/C9Shcj1JAUrgeheuxUkB7FK5H4bpSQHsUrkfhylJAXI/C9SjMUkAUrkfhetRSQMP1KFyP4lJAzczMzMz8UkD2KFyPwhVTQLgehetRWFNArkfhehSeU0BxPQrXo6BTQFK4HoXroVNAFK5H4Xq0U0ApXI/C9bhTQFyPwvUoDFRAZmZmZmZ2VEA9CtejcJ1UQM3MzMzMrFRA9ihcj8K1VEB7FK5H4bpUQI/C9Shcv1RA4XoUrkfhVEC4HoXrUehUQPYoXI/CJVVA4XoUrkdBVUCuR+F6FE5VQDMzMzMzg1VASOF6FK63VUB7FK5H4VpWQBSuR+F6lFZAw/UoXI/CVkCamZmZmelWQAAAAAAAAPh/AAAAAAAA+H8AAAAAAAD4fwAAAAAAAPh/AAAAAAAA+H8AAAAAAAD4fwAAAAAAAPh/AAAAAAAA+H8AAAAAAAD4fwAAAAAAAPh/AAAAAAAA+H8=",
          "dtype": "f8"
         },
         "xaxis": "x2",
         "y": {
          "bdata": "AAAAAAAA8D8AAAAAAAAAAAAAAAAAAPA/AAAAAAAAAAAAAAAAAAAAAAAAAAAAAAAAAAAAAAAA8D8AAAAAAAAAAAAAAAAAAAAAAAAAAAAAAAAAAAAAAAAAAAAAAAAAAAAAAAAAAAAAAAAAAAAAAADwPwAAAAAAAAAAAAAAAAAA8D8AAAAAAAAAAAAAAAAAAAAAAAAAAAAAAAAAAAAAAAAAAAAAAAAAAAAAAAAAAAAAAAAAAAAAAAAAAAAAAAAAAAAAAAAAAAAAAAAAAAAAAAAAAAAAAAAAAAAAAAAAAAAAAAAAAAAAAAAAAAAAAAAAAAAAAAAAAAAAAAAAAAAAAAAAAAAAAAAAAAAAAAAAAAAAAAAAAAAAAAAAAAAAAAAAAAAAAAAAAAAAAAAAAAAAAAAAAAAAAAAAAAAAAAAAAAAAAAAAAAAAAAAAAAAAAAAAAAAAAAAAAAAAAAAAAAAAAAAAAAAAAAAAAAAAAAAAAAAAAAAAAAAAAAAAAAAAAAAAAPA/AAAAAAAAAAAAAAAAAAAAAAAAAAAAAAAAAAAAAAAAAAAAAAAAAAAAAAAAAAAAAAAAAAAAAAAAAAAAAAAAAAAAAAAAAAAAAAAAAAAAAAAAAAAAAAAAAAAAAAAAAAAAAAAAAAAAAAAAAAAAAAAAAAAAAAAAAAAAAAAAAAAAAAAAAAAAAAAAAAAAAAAAAAAAAAAAAAAAAAAAAAAAAAAAAAAAAAAAAAAAAAAAAAAAAAAA8D8AAAAAAAAAAAAAAAAAAAAAAAAAAAAAAAAAAAAAAAAAAAAAAAAAAAAAAAAAAAAAAAAAAAAAAAAAAAAAAAAAAAAAAAAAAAAAAAAAAAAAAAAAAAAAAAAAAAAAAAAAAAAAAAAAAAAAAAAAAAAAAAAAAAAAAAAAAAAAAAAAAAAAAAAAAAAAAAAAAAAAAAAAAAAAAAAAAAAAAAAAAAAAAAAAAAAAAAAAAAAAAAAAAAAAAAAAAAAAAAAAAAAAAAAAAAAAAAAAAAAAAAAAAAAAAAAAAAAAAAAAAAAAAAAAAAAAAADwPwAAAAAAAAAAAAAAAAAAAAAAAAAAAAAAAAAAAAAAAAAAAAAAAAAAAAAAAAAAAAAAAAAAAAAAAAAAAAAAAAAAAAAAAAAAAAAAAAAAAAAAAAAAAAAAAAAAAAAAAAAAAAAAAAAAAAAAAAAAAAAAAAAAAAAAAAAAAAAAAAAAAAAAAAAAAAAAAAAAAAAAAAAAAAAAAAAAAAAAAAAAAAAAAAAAAAA=",
          "dtype": "f8"
         },
         "yaxis": "y2"
        },
        {
         "mode": "markers",
         "name": "Percentage hindered rentals",
         "type": "scatter",
         "x": {
          "bdata": "CtejcD3KMkBmZmZmZmY7QJqZmZmZ2TxACtejcD2KPkB7FK5H4VpAQOF6FK5HoUBA7FG4HoWrQEApXI/C9ShBQFK4HoXrcUFAuB6F61E4QkCuR+F6FE5CQKRwPQrXY0JAzczMzMxsQkAAAAAAAIBCQOF6FK5HIUNA4XoUrkdBQ0ApXI/C9YhDQGZmZmZmpkNAuB6F61HYQ0DXo3A9CvdDQOF6FK5H4URAcT0K16MwRUAzMzMzMzNFQJqZmZmZ+UVAuB6F61FYRkApXI/C9WhGQFyPwvUonEZAexSuR+HaRkAAAAAAAGBHQPYoXI/CtUdAhetRuB4lSEDhehSuR+FIQHsUrkfh+khAcT0K16MQSUDXo3A9CjdJQM3MzMzMTElA4XoUrkdhSUBcj8L1KHxJQK5H4XoU7klAw/UoXI8CSkAAAAAAAEBKQMP1KFyPYkpAcT0K16NQS0CamZmZmZlLQFK4HoXrkUxAzczMzMzMTECPwvUoXM9MQOxRuB6F60xArkfhehTOTUC4HoXrUdhNQClcj8L1CE5AexSuR+FaTkCuR+F6FI5OQIXrUbge5U5AAAAAAAAgT0CPwvUoXC9PQM3MzMzMzE9AFK5H4Xr0T0CPwvUoXC9QQAAAAAAAkFBAUrgehevhUECuR+F6FP5QQHE9CtejEFFAmpmZmZkZUUAK16NwPTpRQEjhehSuR1FAexSuR+FKUUBI4XoUrldRQDMzMzMzc1FAmpmZmZl5UUBI4XoUridSQIXrUbgeNVJAXI/C9ShcUkB7FK5H4WpSQI/C9Shcj1JAUrgeheuxUkB7FK5H4bpSQHsUrkfhylJAXI/C9SjMUkAUrkfhetRSQMP1KFyP4lJAzczMzMz8UkD2KFyPwhVTQLgehetRWFNArkfhehSeU0BxPQrXo6BTQFK4HoXroVNAFK5H4Xq0U0ApXI/C9bhTQFyPwvUoDFRAZmZmZmZ2VEA9CtejcJ1UQM3MzMzMrFRA9ihcj8K1VEB7FK5H4bpUQI/C9Shcv1RA4XoUrkfhVEC4HoXrUehUQPYoXI/CJVVA4XoUrkdBVUCuR+F6FE5VQDMzMzMzg1VASOF6FK63VUB7FK5H4VpWQBSuR+F6lFZAw/UoXI/CVkCamZmZmelWQAAAAAAAAPh/AAAAAAAA+H8AAAAAAAD4fwAAAAAAAPh/AAAAAAAA+H8AAAAAAAD4fwAAAAAAAPh/AAAAAAAA+H8AAAAAAAD4fwAAAAAAAPh/AAAAAAAA+H8=",
          "dtype": "f8"
         },
         "xaxis": "x3",
         "y": {
          "bdata": "CtejcD3KMkBmZmZmZmY7QJqZmZmZ2TxACtejcD2KPkB7FK5H4VpAQOF6FK5HoUBA7FG4HoWrQEApXI/C9ShBQFK4HoXrcUFAuB6F61E4QkCuR+F6FE5CQKRwPQrXY0JAzczMzMxsQkAAAAAAAIBCQOF6FK5HIUNA4XoUrkdBQ0ApXI/C9YhDQGZmZmZmpkNAuB6F61HYQ0DXo3A9CvdDQOF6FK5H4URAcT0K16MwRUAzMzMzMzNFQJqZmZmZ+UVAuB6F61FYRkApXI/C9WhGQFyPwvUonEZAexSuR+HaRkAAAAAAAGBHQPYoXI/CtUdAhetRuB4lSEDhehSuR+FIQHsUrkfh+khAcT0K16MQSUDXo3A9CjdJQM3MzMzMTElA4XoUrkdhSUBcj8L1KHxJQK5H4XoU7klAw/UoXI8CSkAAAAAAAEBKQMP1KFyPYkpAcT0K16NQS0CamZmZmZlLQFK4HoXrkUxAzczMzMzMTECPwvUoXM9MQOxRuB6F60xArkfhehTOTUC4HoXrUdhNQClcj8L1CE5AexSuR+FaTkCuR+F6FI5OQIXrUbge5U5AAAAAAAAgT0CPwvUoXC9PQM3MzMzMzE9AFK5H4Xr0T0CPwvUoXC9QQAAAAAAAkFBAUrgehevhUECuR+F6FP5QQHE9CtejEFFAmpmZmZkZUUAK16NwPTpRQEjhehSuR1FAexSuR+FKUUBI4XoUrldRQDMzMzMzc1FAmpmZmZl5UUBI4XoUridSQIXrUbgeNVJAXI/C9ShcUkB7FK5H4WpSQI/C9Shcj1JAUrgeheuxUkB7FK5H4bpSQHsUrkfhylJAXI/C9SjMUkAUrkfhetRSQMP1KFyP4lJAzczMzMz8UkD2KFyPwhVTQLgehetRWFNArkfhehSeU0BxPQrXo6BTQFK4HoXroVNAFK5H4Xq0U0ApXI/C9bhTQFyPwvUoDFRAZmZmZmZ2VEA9CtejcJ1UQM3MzMzMrFRA9ihcj8K1VEB7FK5H4bpUQI/C9Shcv1RA4XoUrkfhVEC4HoXrUehUQPYoXI/CJVVA4XoUrkdBVUCuR+F6FE5VQDMzMzMzg1VASOF6FK63VUB7FK5H4VpWQBSuR+F6lFZAw/UoXI/CVkCamZmZmelWQAAAAAAAAPh/AAAAAAAA+H8AAAAAAAD4fwAAAAAAAPh/AAAAAAAA+H8AAAAAAAD4fwAAAAAAAPh/AAAAAAAA+H8AAAAAAAD4fwAAAAAAAPh/AAAAAAAA+H8=",
          "dtype": "f8"
         },
         "yaxis": "y3"
        },
        {
         "mode": "markers",
         "name": "Percentage hindered rentals",
         "type": "scatter",
         "x": {
          "bdata": "CtejcD3KMkBmZmZmZmY7QJqZmZmZ2TxACtejcD2KPkB7FK5H4VpAQOF6FK5HoUBA7FG4HoWrQEApXI/C9ShBQFK4HoXrcUFAuB6F61E4QkCuR+F6FE5CQKRwPQrXY0JAzczMzMxsQkAAAAAAAIBCQOF6FK5HIUNA4XoUrkdBQ0ApXI/C9YhDQGZmZmZmpkNAuB6F61HYQ0DXo3A9CvdDQOF6FK5H4URAcT0K16MwRUAzMzMzMzNFQJqZmZmZ+UVAuB6F61FYRkApXI/C9WhGQFyPwvUonEZAexSuR+HaRkAAAAAAAGBHQPYoXI/CtUdAhetRuB4lSEDhehSuR+FIQHsUrkfh+khAcT0K16MQSUDXo3A9CjdJQM3MzMzMTElA4XoUrkdhSUBcj8L1KHxJQK5H4XoU7klAw/UoXI8CSkAAAAAAAEBKQMP1KFyPYkpAcT0K16NQS0CamZmZmZlLQFK4HoXrkUxAzczMzMzMTECPwvUoXM9MQOxRuB6F60xArkfhehTOTUC4HoXrUdhNQClcj8L1CE5AexSuR+FaTkCuR+F6FI5OQIXrUbge5U5AAAAAAAAgT0CPwvUoXC9PQM3MzMzMzE9AFK5H4Xr0T0CPwvUoXC9QQAAAAAAAkFBAUrgehevhUECuR+F6FP5QQHE9CtejEFFAmpmZmZkZUUAK16NwPTpRQEjhehSuR1FAexSuR+FKUUBI4XoUrldRQDMzMzMzc1FAmpmZmZl5UUBI4XoUridSQIXrUbgeNVJAXI/C9ShcUkB7FK5H4WpSQI/C9Shcj1JAUrgeheuxUkB7FK5H4bpSQHsUrkfhylJAXI/C9SjMUkAUrkfhetRSQMP1KFyP4lJAzczMzMz8UkD2KFyPwhVTQLgehetRWFNArkfhehSeU0BxPQrXo6BTQFK4HoXroVNAFK5H4Xq0U0ApXI/C9bhTQFyPwvUoDFRAZmZmZmZ2VEA9CtejcJ1UQM3MzMzMrFRA9ihcj8K1VEB7FK5H4bpUQI/C9Shcv1RA4XoUrkfhVEC4HoXrUehUQPYoXI/CJVVA4XoUrkdBVUCuR+F6FE5VQDMzMzMzg1VASOF6FK63VUB7FK5H4VpWQBSuR+F6lFZAw/UoXI/CVkCamZmZmelWQAAAAAAAAPh/AAAAAAAA+H8AAAAAAAD4fwAAAAAAAPh/AAAAAAAA+H8AAAAAAAD4fwAAAAAAAPh/AAAAAAAA+H8AAAAAAAD4fwAAAAAAAPh/AAAAAAAA+H8=",
          "dtype": "f8"
         },
         "xaxis": "x4",
         "y": {
          "bdata": "bef7qfHSCEDpJjEIrBwJQDvfT42XbglArBxaZDvfCEAAAAAAAAD4fx1aZDvfTw5A/Knx0k1iBEAlBoGVQ4sJQAAAAAAAAPh//tR46SYxCUCJQWDl0CIOQPCnxks3iQZAj8L1KFyPDUAAAAAAAAD4f83MzMzMzAVA/Knx0k1iBEBOYhBYObQHQLByaJHtfA9A6SYxCKwcBEBWDi2yne8MQAAAAAAAAA1AexSuR+F6C0DhehSuR+EGQDm0yHa+nw5AAyuHFtnOB0DHSzeJQWAOQFK4HoXrUQdA+n5qvHSTBEAAAAAAAAD4fy/dJAaBFRBAAAAAAAAADkAAAAAAAAD4f1+6SQwCKwZAAAAAAAAA+H9kO99PjRcQQDvfT42Xbg5A5dAi2/l+EEAEVg4tsh0QQEoMAiuHFgpAoBov3SQGB0AIrBxaZDsMQBfZzvdT4wlAcT0K16NwDECuR+F6FK4QQO58PzVeugZA4XoUrkfhC0B1kxgEVg4PQPhT46WbxAxAXI/C9ShcCEBt5/up8dIFQG3n+6nx0gZAx0s3iUFgCkDn+6nx0k0OQOSlm8QgsAVAEVg5tMh2CkAAAAAAAAD4f8l2vp8aLw1AEVg5tMh2CkCsHFpkO98NQESLbOf7qQdAAAAAAAAA+H+Nl24Sg8AMQAAAAAAAAPh/E4PAyqHFEEA9CtejcD0GQHNoke18PwdAjZduEoPADEAAAAAAAAD4fy2yne+nRhBA4XoUrkfhBUA9CtejcD0GQNv5fmq8dAdAjZduEoPADEC8dJMYBFYGQNv5fmq8dA5AokW28/3UBkDByqFFtvMEQBFYObTIdgZAGy/dJAaBDUAOLbKd76cEQEjhehSuRwpADAIrhxbZDEDNzMzMzMwGQP7UeOkmMQ9AFK5H4XoUDkCJQWDl0CIFQKRwPQrXowVAUI2XbhKDBkDfT42XbhIGQCPb+X5qvAtAj8L1KFyPDEAfhetRuB4FQPhT46WbxApAarx0kxgEDUA730+Nl24MQH9qvHSTGAVAf2q8dJMYBUAnMQisHFoIQI2XbhKDwAtA001iEFg5BUDByqFFtvMEQLTIdr6fGg1AhxbZzvdTDUDb+X5qvHQNQAAAAAAAAPh/z/dT46WbDUBGtvP91HgNQD81XrpJDAZAyXa+nxovDEAv3SQGgZUOQBKDwMqhRQ1AH4XrUbgeBUDJdr6fGi8QQAwCK4cWWRBALbKd76fGDUASg8DKoUUHQH0/NV66SQ5A2s73U+OlBkA=",
          "dtype": "f8"
         },
         "yaxis": "y4"
        },
        {
         "mode": "markers",
         "name": "Percentage hindered rentals",
         "type": "scatter",
         "x": {
          "bdata": "CtejcD3KMkBmZmZmZmY7QJqZmZmZ2TxACtejcD2KPkB7FK5H4VpAQOF6FK5HoUBA7FG4HoWrQEApXI/C9ShBQFK4HoXrcUFAuB6F61E4QkCuR+F6FE5CQKRwPQrXY0JAzczMzMxsQkAAAAAAAIBCQOF6FK5HIUNA4XoUrkdBQ0ApXI/C9YhDQGZmZmZmpkNAuB6F61HYQ0DXo3A9CvdDQOF6FK5H4URAcT0K16MwRUAzMzMzMzNFQJqZmZmZ+UVAuB6F61FYRkApXI/C9WhGQFyPwvUonEZAexSuR+HaRkAAAAAAAGBHQPYoXI/CtUdAhetRuB4lSEDhehSuR+FIQHsUrkfh+khAcT0K16MQSUDXo3A9CjdJQM3MzMzMTElA4XoUrkdhSUBcj8L1KHxJQK5H4XoU7klAw/UoXI8CSkAAAAAAAEBKQMP1KFyPYkpAcT0K16NQS0CamZmZmZlLQFK4HoXrkUxAzczMzMzMTECPwvUoXM9MQOxRuB6F60xArkfhehTOTUC4HoXrUdhNQClcj8L1CE5AexSuR+FaTkCuR+F6FI5OQIXrUbge5U5AAAAAAAAgT0CPwvUoXC9PQM3MzMzMzE9AFK5H4Xr0T0CPwvUoXC9QQAAAAAAAkFBAUrgehevhUECuR+F6FP5QQHE9CtejEFFAmpmZmZkZUUAK16NwPTpRQEjhehSuR1FAexSuR+FKUUBI4XoUrldRQDMzMzMzc1FAmpmZmZl5UUBI4XoUridSQIXrUbgeNVJAXI/C9ShcUkB7FK5H4WpSQI/C9Shcj1JAUrgeheuxUkB7FK5H4bpSQHsUrkfhylJAXI/C9SjMUkAUrkfhetRSQMP1KFyP4lJAzczMzMz8UkD2KFyPwhVTQLgehetRWFNArkfhehSeU0BxPQrXo6BTQFK4HoXroVNAFK5H4Xq0U0ApXI/C9bhTQFyPwvUoDFRAZmZmZmZ2VEA9CtejcJ1UQM3MzMzMrFRA9ihcj8K1VEB7FK5H4bpUQI/C9Shcv1RA4XoUrkfhVEC4HoXrUehUQPYoXI/CJVVA4XoUrkdBVUCuR+F6FE5VQDMzMzMzg1VASOF6FK63VUB7FK5H4VpWQBSuR+F6lFZAw/UoXI/CVkCamZmZmelWQAAAAAAAAPh/AAAAAAAA+H8AAAAAAAD4fwAAAAAAAPh/AAAAAAAA+H8AAAAAAAD4fwAAAAAAAPh/AAAAAAAA+H8AAAAAAAD4fwAAAAAAAPh/AAAAAAAA+H8=",
          "dtype": "f8"
         },
         "xaxis": "x5",
         "y": {
          "bdata": "pQ8Cl2ydaEAAAAAAAAD4f0ANKVCVlGlAAAAAAAAA+H9h5vFq70hgQMI5fgOuvmBAupPjqeLTakA6gDRSJdNmQAAAAAAAAPh/WybD8bw8YECpZ0EobxpoQF8pyxDHsl9AiE2/n/W6Z0AAAAAAAAD4f5GA0eWNtmdAh2Lh2r9nakBVZ7XAnntgQOyhfawgt2hAEp87wT5eakBkHvmDwaBqQCZWodzRH2dAQPflzLYTYEBfKcsQx7JfQHzzGyaaGmhAyWw1kBNiakArkmV3d2NgQDlFR3L5o19A7VV1oJjNakChoBStXGtrQIlWk0yzMmFA3+I89zmtaEA8xnDQ+ddqQJeA8z3+7WpAAAAAAAAA+H8d1DTeTD9hQM5oUNnVsmhARUdy+Q9BYUBseHqlLF1hQAAAAAAAAPh/1KcLZ22YYEBf1VktcFpgQPL21nZJuF9A4fCCiNSIa0DaEC3DiT1hQFYUCmwph19A1SpV/SVMaEBwj0pWqlRgQDAx8aIKw2hATswfeOHYakBDkIMSJnVqQBDpt68Dj19AtG4oIT1Sa0BXD076sV5gQFK0F3a9sGdAXo94aA5Ha0Diua3j7pFqQLB9ty+WMGBABwDYypW0a0CO23ksx6ZrQOMryyGzkGBAKEhsdw9eakClVHiGn+1rQLYcQ1sp3mBATkti/2shYEDKplzhnXxqQEX0a+tniWBATVdmAJ4AbEAAAAAAAAD4f8IJO3td22BAkSxgAvfhakAwM8dNKM5mQCUbtPwlk2BAaz2NxQBfbEBOfSB5p5NgQDfewl94IGtAIwrSMcxKakB/rQEA9t1qQFPvBFYpkmlAXDV0WIYnbEBWVuQhHdxqQAAAAAAAAPh/QpAoWXMmYEAAAAAAAAD4fyYYc3wZEWtALMIDuXpEZ0CFc7J5AdVqQHGjEujdz2pAm+Ydp+iIX0AmHeVgNo1qQH0oLEy6d2tAMnctIR8iYEDriyn9qX1qQNlcNc/RKWxAlEJqJNMkYEAXCVwNP2JrQPywOWKI4GpAMZtbfCXZakBicN5JVYdfQJqZmZmZI2BAiAxQv7DcakDO2hJeJ3JqQPvs26Q9YGtAmhNqPAdXYEACazBofAFrQBzr4jYaiF9AQpAoWXMmYEAEWrqCbfFqQG6+tiNBil9AsuA0M6koa0DNMP8y6chgQKX5vhMOxGhA0vgqnp+cakAYoY59/z1nQPVXfs/+IWBAl5APejZFYUCq8dJNYnRgQPajlwcf8GpA0HWGTvSiX0A=",
          "dtype": "f8"
         },
         "yaxis": "y5"
        },
        {
         "mode": "markers",
         "name": "Percentage hindered rentals",
         "type": "scatter",
         "x": {
          "bdata": "CtejcD3KMkBmZmZmZmY7QJqZmZmZ2TxACtejcD2KPkB7FK5H4VpAQOF6FK5HoUBA7FG4HoWrQEApXI/C9ShBQFK4HoXrcUFAuB6F61E4QkCuR+F6FE5CQKRwPQrXY0JAzczMzMxsQkAAAAAAAIBCQOF6FK5HIUNA4XoUrkdBQ0ApXI/C9YhDQGZmZmZmpkNAuB6F61HYQ0DXo3A9CvdDQOF6FK5H4URAcT0K16MwRUAzMzMzMzNFQJqZmZmZ+UVAuB6F61FYRkApXI/C9WhGQFyPwvUonEZAexSuR+HaRkAAAAAAAGBHQPYoXI/CtUdAhetRuB4lSEDhehSuR+FIQHsUrkfh+khAcT0K16MQSUDXo3A9CjdJQM3MzMzMTElA4XoUrkdhSUBcj8L1KHxJQK5H4XoU7klAw/UoXI8CSkAAAAAAAEBKQMP1KFyPYkpAcT0K16NQS0CamZmZmZlLQFK4HoXrkUxAzczMzMzMTECPwvUoXM9MQOxRuB6F60xArkfhehTOTUC4HoXrUdhNQClcj8L1CE5AexSuR+FaTkCuR+F6FI5OQIXrUbge5U5AAAAAAAAgT0CPwvUoXC9PQM3MzMzMzE9AFK5H4Xr0T0CPwvUoXC9QQAAAAAAAkFBAUrgehevhUECuR+F6FP5QQHE9CtejEFFAmpmZmZkZUUAK16NwPTpRQEjhehSuR1FAexSuR+FKUUBI4XoUrldRQDMzMzMzc1FAmpmZmZl5UUBI4XoUridSQIXrUbgeNVJAXI/C9ShcUkB7FK5H4WpSQI/C9Shcj1JAUrgeheuxUkB7FK5H4bpSQHsUrkfhylJAXI/C9SjMUkAUrkfhetRSQMP1KFyP4lJAzczMzMz8UkD2KFyPwhVTQLgehetRWFNArkfhehSeU0BxPQrXo6BTQFK4HoXroVNAFK5H4Xq0U0ApXI/C9bhTQFyPwvUoDFRAZmZmZmZ2VEA9CtejcJ1UQM3MzMzMrFRA9ihcj8K1VEB7FK5H4bpUQI/C9Shcv1RA4XoUrkfhVEC4HoXrUehUQPYoXI/CJVVA4XoUrkdBVUCuR+F6FE5VQDMzMzMzg1VASOF6FK63VUB7FK5H4VpWQBSuR+F6lFZAw/UoXI/CVkCamZmZmelWQAAAAAAAAPh/AAAAAAAA+H8AAAAAAAD4fwAAAAAAAPh/AAAAAAAA+H8AAAAAAAD4fwAAAAAAAPh/AAAAAAAA+H8AAAAAAAD4fwAAAAAAAPh/AAAAAAAA+H8=",
          "dtype": "f8"
         },
         "xaxis": "x6",
         "y": {
          "bdata": "UI2XbhKDIEC28/3UeKkiQFYOLbKd7x1AAAAAAAAA+H/RItv5fmoYQC/dJAaBFR9AGQRWDi0yGUAAAAAAAAD4f5ZDi2zn+yFA30+Nl26SFEBxPQrXozAhQK5H4XoULh9ADAIrhxbZIEAMAiuHFtkgQJMYBFYO7SFAg8DKoUU2IEAzMzMzM7MgQK5H4XoULiBAAAAAAAAA+H/y0k1iENgbQAwCK4cWGSFA4XoUrkfhHUA3XrpJDIIcQEJg5dAiWxlAdJMYBFYOIEDP91PjpRsWQArXo3A9ihpARLbz/dR4HUDufD81XjocQBKDwMqhxR9A2s73U+OlGEAZBFYOLTIZQD0K16NwPRpA3SQGgZXDHUDP91PjpZsgQK5H4XoULiBAzczMzMxMIEAj2/l+anwgQKBFtvP9VBtAtvP91HipIkDRItv5fmoYQMdLN4lBoCxA7nw/NV46HEDNzMzMzEwgQAAAAAAAAPh/WDm0yHY+IUCuR+F6FC4eQLFyaJHtfB9AO99PjZduG0D6fmq8dFMgQArXo3A9ihtAMzMzMzMzGUBcj8L1KNwXQEW28/3UeBtAEFg5tMh2H0DfT42XbhIbQDdeukkMghtAfT81XrrJHEAxCKwcWmQdQKabxCCwMiBAAAAAAAAA+H8AAAAAAAD4f20Sg8DKoR5ARrbz/dR4K0CS7Xw/NV4cQAAAAAAAAPh/5aWbxCCwFUDP91PjpRseQG0Sg8DKoR5AqMZLN4lBHkA/NV66ScwhQKabxCCwMiBAiUFg5dAiGEDJdr6fGq8iQOxRuB6FaxtACKwcWmQ7H0DD9Shcj0IZQAaBlUOLbB9ADi2yne+nGkDD9Shcj0IZQH0/NV66yRxAN166SQyCG0Dn+6nx0s0fQNv5fmq89BlAAAAAAABAIUD4U+Olm8QZQKwcWmQ7Xx1A5/up8dLNH0CS7Xw/NV4cQPhT46WbRB5AZBBYObTIF0CWQ4ts5/sZQA4tsp3vpxpA+n5qvHSTFkAzMzMzM7MZQPCnxks3iRlArBxaZDtfHUBcj8L1KFwsQPp+arx0kxZAAAAAAAAA+H/azvdT4yUfQAAAAAAAAPh/rkfhehSuHEAEVg4tsh0aQD81XrpJDCNAqMZLN4kBK0AOAiuHFtkfQC/dJAaBlR9AMzMzMzOzG0AzMzMzM/MhQFg5tMh2PhhAMQisHFrkG0CYbhKDwAohQEa28/3UeCtAzczMzMxMIEAAAAAAAAD4f+58PzVeuh5AAAAAAAAA+H8=",
          "dtype": "f8"
         },
         "yaxis": "y6"
        }
       ],
       "layout": {
        "height": 700,
        "showlegend": false,
        "template": {
         "data": {
          "bar": [
           {
            "error_x": {
             "color": "#2a3f5f"
            },
            "error_y": {
             "color": "#2a3f5f"
            },
            "marker": {
             "line": {
              "color": "#E5ECF6",
              "width": 0.5
             },
             "pattern": {
              "fillmode": "overlay",
              "size": 10,
              "solidity": 0.2
             }
            },
            "type": "bar"
           }
          ],
          "barpolar": [
           {
            "marker": {
             "line": {
              "color": "#E5ECF6",
              "width": 0.5
             },
             "pattern": {
              "fillmode": "overlay",
              "size": 10,
              "solidity": 0.2
             }
            },
            "type": "barpolar"
           }
          ],
          "carpet": [
           {
            "aaxis": {
             "endlinecolor": "#2a3f5f",
             "gridcolor": "white",
             "linecolor": "white",
             "minorgridcolor": "white",
             "startlinecolor": "#2a3f5f"
            },
            "baxis": {
             "endlinecolor": "#2a3f5f",
             "gridcolor": "white",
             "linecolor": "white",
             "minorgridcolor": "white",
             "startlinecolor": "#2a3f5f"
            },
            "type": "carpet"
           }
          ],
          "choropleth": [
           {
            "colorbar": {
             "outlinewidth": 0,
             "ticks": ""
            },
            "type": "choropleth"
           }
          ],
          "contour": [
           {
            "colorbar": {
             "outlinewidth": 0,
             "ticks": ""
            },
            "colorscale": [
             [
              0,
              "#0d0887"
             ],
             [
              0.1111111111111111,
              "#46039f"
             ],
             [
              0.2222222222222222,
              "#7201a8"
             ],
             [
              0.3333333333333333,
              "#9c179e"
             ],
             [
              0.4444444444444444,
              "#bd3786"
             ],
             [
              0.5555555555555556,
              "#d8576b"
             ],
             [
              0.6666666666666666,
              "#ed7953"
             ],
             [
              0.7777777777777778,
              "#fb9f3a"
             ],
             [
              0.8888888888888888,
              "#fdca26"
             ],
             [
              1,
              "#f0f921"
             ]
            ],
            "type": "contour"
           }
          ],
          "contourcarpet": [
           {
            "colorbar": {
             "outlinewidth": 0,
             "ticks": ""
            },
            "type": "contourcarpet"
           }
          ],
          "heatmap": [
           {
            "colorbar": {
             "outlinewidth": 0,
             "ticks": ""
            },
            "colorscale": [
             [
              0,
              "#0d0887"
             ],
             [
              0.1111111111111111,
              "#46039f"
             ],
             [
              0.2222222222222222,
              "#7201a8"
             ],
             [
              0.3333333333333333,
              "#9c179e"
             ],
             [
              0.4444444444444444,
              "#bd3786"
             ],
             [
              0.5555555555555556,
              "#d8576b"
             ],
             [
              0.6666666666666666,
              "#ed7953"
             ],
             [
              0.7777777777777778,
              "#fb9f3a"
             ],
             [
              0.8888888888888888,
              "#fdca26"
             ],
             [
              1,
              "#f0f921"
             ]
            ],
            "type": "heatmap"
           }
          ],
          "histogram": [
           {
            "marker": {
             "pattern": {
              "fillmode": "overlay",
              "size": 10,
              "solidity": 0.2
             }
            },
            "type": "histogram"
           }
          ],
          "histogram2d": [
           {
            "colorbar": {
             "outlinewidth": 0,
             "ticks": ""
            },
            "colorscale": [
             [
              0,
              "#0d0887"
             ],
             [
              0.1111111111111111,
              "#46039f"
             ],
             [
              0.2222222222222222,
              "#7201a8"
             ],
             [
              0.3333333333333333,
              "#9c179e"
             ],
             [
              0.4444444444444444,
              "#bd3786"
             ],
             [
              0.5555555555555556,
              "#d8576b"
             ],
             [
              0.6666666666666666,
              "#ed7953"
             ],
             [
              0.7777777777777778,
              "#fb9f3a"
             ],
             [
              0.8888888888888888,
              "#fdca26"
             ],
             [
              1,
              "#f0f921"
             ]
            ],
            "type": "histogram2d"
           }
          ],
          "histogram2dcontour": [
           {
            "colorbar": {
             "outlinewidth": 0,
             "ticks": ""
            },
            "colorscale": [
             [
              0,
              "#0d0887"
             ],
             [
              0.1111111111111111,
              "#46039f"
             ],
             [
              0.2222222222222222,
              "#7201a8"
             ],
             [
              0.3333333333333333,
              "#9c179e"
             ],
             [
              0.4444444444444444,
              "#bd3786"
             ],
             [
              0.5555555555555556,
              "#d8576b"
             ],
             [
              0.6666666666666666,
              "#ed7953"
             ],
             [
              0.7777777777777778,
              "#fb9f3a"
             ],
             [
              0.8888888888888888,
              "#fdca26"
             ],
             [
              1,
              "#f0f921"
             ]
            ],
            "type": "histogram2dcontour"
           }
          ],
          "mesh3d": [
           {
            "colorbar": {
             "outlinewidth": 0,
             "ticks": ""
            },
            "type": "mesh3d"
           }
          ],
          "parcoords": [
           {
            "line": {
             "colorbar": {
              "outlinewidth": 0,
              "ticks": ""
             }
            },
            "type": "parcoords"
           }
          ],
          "pie": [
           {
            "automargin": true,
            "type": "pie"
           }
          ],
          "scatter": [
           {
            "fillpattern": {
             "fillmode": "overlay",
             "size": 10,
             "solidity": 0.2
            },
            "type": "scatter"
           }
          ],
          "scatter3d": [
           {
            "line": {
             "colorbar": {
              "outlinewidth": 0,
              "ticks": ""
             }
            },
            "marker": {
             "colorbar": {
              "outlinewidth": 0,
              "ticks": ""
             }
            },
            "type": "scatter3d"
           }
          ],
          "scattercarpet": [
           {
            "marker": {
             "colorbar": {
              "outlinewidth": 0,
              "ticks": ""
             }
            },
            "type": "scattercarpet"
           }
          ],
          "scattergeo": [
           {
            "marker": {
             "colorbar": {
              "outlinewidth": 0,
              "ticks": ""
             }
            },
            "type": "scattergeo"
           }
          ],
          "scattergl": [
           {
            "marker": {
             "colorbar": {
              "outlinewidth": 0,
              "ticks": ""
             }
            },
            "type": "scattergl"
           }
          ],
          "scattermap": [
           {
            "marker": {
             "colorbar": {
              "outlinewidth": 0,
              "ticks": ""
             }
            },
            "type": "scattermap"
           }
          ],
          "scattermapbox": [
           {
            "marker": {
             "colorbar": {
              "outlinewidth": 0,
              "ticks": ""
             }
            },
            "type": "scattermapbox"
           }
          ],
          "scatterpolar": [
           {
            "marker": {
             "colorbar": {
              "outlinewidth": 0,
              "ticks": ""
             }
            },
            "type": "scatterpolar"
           }
          ],
          "scatterpolargl": [
           {
            "marker": {
             "colorbar": {
              "outlinewidth": 0,
              "ticks": ""
             }
            },
            "type": "scatterpolargl"
           }
          ],
          "scatterternary": [
           {
            "marker": {
             "colorbar": {
              "outlinewidth": 0,
              "ticks": ""
             }
            },
            "type": "scatterternary"
           }
          ],
          "surface": [
           {
            "colorbar": {
             "outlinewidth": 0,
             "ticks": ""
            },
            "colorscale": [
             [
              0,
              "#0d0887"
             ],
             [
              0.1111111111111111,
              "#46039f"
             ],
             [
              0.2222222222222222,
              "#7201a8"
             ],
             [
              0.3333333333333333,
              "#9c179e"
             ],
             [
              0.4444444444444444,
              "#bd3786"
             ],
             [
              0.5555555555555556,
              "#d8576b"
             ],
             [
              0.6666666666666666,
              "#ed7953"
             ],
             [
              0.7777777777777778,
              "#fb9f3a"
             ],
             [
              0.8888888888888888,
              "#fdca26"
             ],
             [
              1,
              "#f0f921"
             ]
            ],
            "type": "surface"
           }
          ],
          "table": [
           {
            "cells": {
             "fill": {
              "color": "#EBF0F8"
             },
             "line": {
              "color": "white"
             }
            },
            "header": {
             "fill": {
              "color": "#C8D4E3"
             },
             "line": {
              "color": "white"
             }
            },
            "type": "table"
           }
          ]
         },
         "layout": {
          "annotationdefaults": {
           "arrowcolor": "#2a3f5f",
           "arrowhead": 0,
           "arrowwidth": 1
          },
          "autotypenumbers": "strict",
          "coloraxis": {
           "colorbar": {
            "outlinewidth": 0,
            "ticks": ""
           }
          },
          "colorscale": {
           "diverging": [
            [
             0,
             "#8e0152"
            ],
            [
             0.1,
             "#c51b7d"
            ],
            [
             0.2,
             "#de77ae"
            ],
            [
             0.3,
             "#f1b6da"
            ],
            [
             0.4,
             "#fde0ef"
            ],
            [
             0.5,
             "#f7f7f7"
            ],
            [
             0.6,
             "#e6f5d0"
            ],
            [
             0.7,
             "#b8e186"
            ],
            [
             0.8,
             "#7fbc41"
            ],
            [
             0.9,
             "#4d9221"
            ],
            [
             1,
             "#276419"
            ]
           ],
           "sequential": [
            [
             0,
             "#0d0887"
            ],
            [
             0.1111111111111111,
             "#46039f"
            ],
            [
             0.2222222222222222,
             "#7201a8"
            ],
            [
             0.3333333333333333,
             "#9c179e"
            ],
            [
             0.4444444444444444,
             "#bd3786"
            ],
            [
             0.5555555555555556,
             "#d8576b"
            ],
            [
             0.6666666666666666,
             "#ed7953"
            ],
            [
             0.7777777777777778,
             "#fb9f3a"
            ],
            [
             0.8888888888888888,
             "#fdca26"
            ],
            [
             1,
             "#f0f921"
            ]
           ],
           "sequentialminus": [
            [
             0,
             "#0d0887"
            ],
            [
             0.1111111111111111,
             "#46039f"
            ],
            [
             0.2222222222222222,
             "#7201a8"
            ],
            [
             0.3333333333333333,
             "#9c179e"
            ],
            [
             0.4444444444444444,
             "#bd3786"
            ],
            [
             0.5555555555555556,
             "#d8576b"
            ],
            [
             0.6666666666666666,
             "#ed7953"
            ],
            [
             0.7777777777777778,
             "#fb9f3a"
            ],
            [
             0.8888888888888888,
             "#fdca26"
            ],
            [
             1,
             "#f0f921"
            ]
           ]
          },
          "colorway": [
           "#636efa",
           "#EF553B",
           "#00cc96",
           "#ab63fa",
           "#FFA15A",
           "#19d3f3",
           "#FF6692",
           "#B6E880",
           "#FF97FF",
           "#FECB52"
          ],
          "font": {
           "color": "#2a3f5f"
          },
          "geo": {
           "bgcolor": "white",
           "lakecolor": "white",
           "landcolor": "#E5ECF6",
           "showlakes": true,
           "showland": true,
           "subunitcolor": "white"
          },
          "hoverlabel": {
           "align": "left"
          },
          "hovermode": "closest",
          "mapbox": {
           "style": "light"
          },
          "paper_bgcolor": "white",
          "plot_bgcolor": "#E5ECF6",
          "polar": {
           "angularaxis": {
            "gridcolor": "white",
            "linecolor": "white",
            "ticks": ""
           },
           "bgcolor": "#E5ECF6",
           "radialaxis": {
            "gridcolor": "white",
            "linecolor": "white",
            "ticks": ""
           }
          },
          "scene": {
           "xaxis": {
            "backgroundcolor": "#E5ECF6",
            "gridcolor": "white",
            "gridwidth": 2,
            "linecolor": "white",
            "showbackground": true,
            "ticks": "",
            "zerolinecolor": "white"
           },
           "yaxis": {
            "backgroundcolor": "#E5ECF6",
            "gridcolor": "white",
            "gridwidth": 2,
            "linecolor": "white",
            "showbackground": true,
            "ticks": "",
            "zerolinecolor": "white"
           },
           "zaxis": {
            "backgroundcolor": "#E5ECF6",
            "gridcolor": "white",
            "gridwidth": 2,
            "linecolor": "white",
            "showbackground": true,
            "ticks": "",
            "zerolinecolor": "white"
           }
          },
          "shapedefaults": {
           "line": {
            "color": "#2a3f5f"
           }
          },
          "ternary": {
           "aaxis": {
            "gridcolor": "white",
            "linecolor": "white",
            "ticks": ""
           },
           "baxis": {
            "gridcolor": "white",
            "linecolor": "white",
            "ticks": ""
           },
           "bgcolor": "#E5ECF6",
           "caxis": {
            "gridcolor": "white",
            "linecolor": "white",
            "ticks": ""
           }
          },
          "title": {
           "x": 0.05
          },
          "xaxis": {
           "automargin": true,
           "gridcolor": "white",
           "linecolor": "white",
           "ticks": "",
           "title": {
            "standoff": 15
           },
           "zerolinecolor": "white",
           "zerolinewidth": 2
          },
          "yaxis": {
           "automargin": true,
           "gridcolor": "white",
           "linecolor": "white",
           "ticks": "",
           "title": {
            "standoff": 15
           },
           "zerolinecolor": "white",
           "zerolinewidth": 2
          }
         }
        },
        "title": {
         "text": "Evolution along Temperature"
        },
        "width": 1200,
        "xaxis": {
         "anchor": "y",
         "domain": [
          0,
          0.45
         ],
         "title": {
          "text": "Weekly_Sales"
         }
        },
        "xaxis2": {
         "anchor": "y2",
         "domain": [
          0.55,
          1
         ],
         "title": {
          "text": "Holiday_Flag"
         }
        },
        "xaxis3": {
         "anchor": "y3",
         "domain": [
          0,
          0.45
         ],
         "title": {
          "text": "Temperature"
         }
        },
        "xaxis4": {
         "anchor": "y4",
         "domain": [
          0.55,
          1
         ],
         "title": {
          "text": "Fuel_Price"
         }
        },
        "xaxis5": {
         "anchor": "y5",
         "domain": [
          0,
          0.45
         ],
         "title": {
          "text": "CPI"
         }
        },
        "xaxis6": {
         "anchor": "y6",
         "domain": [
          0.55,
          1
         ],
         "title": {
          "text": "Unemployment"
         }
        },
        "yaxis": {
         "anchor": "x",
         "domain": [
          0.7333333333333333,
          1
         ]
        },
        "yaxis2": {
         "anchor": "x2",
         "domain": [
          0.7333333333333333,
          1
         ]
        },
        "yaxis3": {
         "anchor": "x3",
         "domain": [
          0.36666666666666664,
          0.6333333333333333
         ]
        },
        "yaxis4": {
         "anchor": "x4",
         "domain": [
          0.36666666666666664,
          0.6333333333333333
         ]
        },
        "yaxis5": {
         "anchor": "x5",
         "domain": [
          0,
          0.26666666666666666
         ]
        },
        "yaxis6": {
         "anchor": "x6",
         "domain": [
          0,
          0.26666666666666666
         ]
        }
       }
      }
     },
     "metadata": {},
     "output_type": "display_data"
    }
   ],
   "source": [
    "import plotly.graph_objects as go\n",
    "from plotly.subplots import make_subplots\n",
    "\n",
    "x_axis = \"Temperature\"\n",
    "\n",
    "wsales_df_for_viz = wsales_df.sort_values(by=[x_axis])\n",
    "\n",
    "cols = [\"Weekly_Sales\", \"Holiday_Flag\", \"Temperature\", \"Fuel_Price\", \"CPI\", \"Unemployment\"]\n",
    "fig = make_subplots(rows=3, cols=2)\n",
    "\n",
    "positions = [(r, c) for r in range(1, 4) for c in range(1, 3)]\n",
    "\n",
    "for i, col in enumerate(cols):\n",
    "    row, col_pos = positions[i]\n",
    "\n",
    "    fig.add_trace(go.Scatter(\n",
    "        x=wsales_df_for_viz[x_axis], y=wsales_df_for_viz[col],\n",
    "        mode=\"markers\",\n",
    "        name=\"Percentage hindered rentals\",\n",
    "    ),\n",
    "    row=row,\n",
    "    col=col_pos\n",
    "    )\n",
    "    axis_num = i + 1\n",
    "    fig.update_layout({f\"xaxis{axis_num}\": dict(title=col)})\n",
    "\n",
    "fig.update_layout(\n",
    "    height=700,\n",
    "    width=1200,\n",
    "    title_text=f\"Evolution along {x_axis}\",\n",
    "    showlegend=False\n",
    ")\n",
    "\n",
    "fig.show()"
   ]
  },
  {
   "cell_type": "code",
   "execution_count": null,
   "id": "3db42346",
   "metadata": {},
   "outputs": [
    {
     "data": {
      "application/vnd.plotly.v1+json": {
       "config": {
        "plotlyServerURL": "https://plot.ly"
       },
       "data": [
        {
         "mode": "markers",
         "name": "Percentage hindered rentals",
         "type": "scatter",
         "x": {
          "bdata": "7FG4HgRqEEHhehSuGMsQQaRwPQrIwRFBw/UoXCc7EkEK16NwDWwSQc3MzMyKCRNBmpmZmTggE0FmZmZmszgWQSlcj8IDSxZBrkfhejptFkEzMzMzozoYQRSuR+HbVxhBmpmZmTmeGEEzMzMzOEYZQc3MzMynmhlBH4XrUQTpGUEK16NwxV0aQSlcj8IUkxpB16NwPfDpG0EUrkfh2CwcQT0K16Odmx1BmpmZmTSgHUHsUbgePRUfQa5H4XrHUB9BMzMzMz26H0EfhetRehEgQaRwPYoHQiBBexSuR/IfIUGkcD2KCTIhQVyPwnXmaSFBmpmZGek+IkGPwvWo2r4iQQrXo/DUOSNBAAAAgM0qJEEUrkdhyDglQVK4HoXVHydBpHA9ii5OKUEzMzOzx4gpQbgehWuIyylBuB6F60cbKkEzMzMzuCUqQR+F61FgQSpB9ihcj+EfK0EAAAAAtVArQfYoXA+ejytB4XoUrowSLEHD9ShcEywtQVyPwnVEVS1BUrgeBdltLUEK16Nw+ycuQc3MzMziWy5BXI/C9cQpL0EzMzMz5GsvQQAAAACfYzBBmpmZ2SXLMUEpXI9CryYzQaRwPcpaKzNBCtej8IRTM0GamZlZ9cQzQVyPwvV72TRBCtejcE9wNUGPwvVodaw1QTMzM3NPxjVBuB6F67YcNkG4HoWrvl42QRSuR6FRZDZBw/UoXL5nNkEAAACA68w2QY/C9Sjg2zZBUrgexeQCN0F7FK7HlGE3QTMzM7ObfTdB4XoUrtqiN0GkcD2KFf03QVyPwrXOPDhBAAAAwD/JOEHhehTuvgM5QQrXo3DlDTlBj8L1qLYXOUF7FK7HoJg5QSlcj4I60DpBpHA9ymLTOkH2KFxP7Po6QWZmZqb3TjtBPQrXI2B1O0GkcD3KOXY7QaRwPcqvjjtB4XoUbrmUO0Fcj8I1lqQ7QVyPwvWGMDxBMzMzs/1XPEEzMzOzqmg8QZqZmRkqdDxBrkfhOputPEHXo3C9jD89QSlcj8IIzz1BFK5HYaUQPkHsUbjejxs+QVK4HgXjXj5BFK5HoVV6PkG4HoXrGKU+QVyPwrUKzD5B16Nw/cbUPkHsUbiebug+QT0K12PnDj9BPQrXYwcSP0HD9SjcbYg/QdejcD1Isj9BFK5Hoef5P0HhehTu7/k/QVK4HsVRNUBBmpmZmcHPQEG4HoXL4idBQeF6FG4UkUFBKVyPQnCPQkHNzMwsjsdCQRSuR6Ej10NBXI/CleIkRUE=",
          "dtype": "f8"
         },
         "xaxis": "x",
         "y": {
          "bdata": "7FG4HgRqEEHhehSuGMsQQaRwPQrIwRFBw/UoXCc7EkEK16NwDWwSQc3MzMyKCRNBmpmZmTggE0FmZmZmszgWQSlcj8IDSxZBrkfhejptFkEzMzMzozoYQRSuR+HbVxhBmpmZmTmeGEEzMzMzOEYZQc3MzMynmhlBH4XrUQTpGUEK16NwxV0aQSlcj8IUkxpB16NwPfDpG0EUrkfh2CwcQT0K16Odmx1BmpmZmTSgHUHsUbgePRUfQa5H4XrHUB9BMzMzMz26H0EfhetRehEgQaRwPYoHQiBBexSuR/IfIUGkcD2KCTIhQVyPwnXmaSFBmpmZGek+IkGPwvWo2r4iQQrXo/DUOSNBAAAAgM0qJEEUrkdhyDglQVK4HoXVHydBpHA9ii5OKUEzMzOzx4gpQbgehWuIyylBuB6F60cbKkEzMzMzuCUqQR+F61FgQSpB9ihcj+EfK0EAAAAAtVArQfYoXA+ejytB4XoUrowSLEHD9ShcEywtQVyPwnVEVS1BUrgeBdltLUEK16Nw+ycuQc3MzMziWy5BXI/C9cQpL0EzMzMz5GsvQQAAAACfYzBBmpmZ2SXLMUEpXI9CryYzQaRwPcpaKzNBCtej8IRTM0GamZlZ9cQzQVyPwvV72TRBCtejcE9wNUGPwvVodaw1QTMzM3NPxjVBuB6F67YcNkG4HoWrvl42QRSuR6FRZDZBw/UoXL5nNkEAAACA68w2QY/C9Sjg2zZBUrgexeQCN0F7FK7HlGE3QTMzM7ObfTdB4XoUrtqiN0GkcD2KFf03QVyPwrXOPDhBAAAAwD/JOEHhehTuvgM5QQrXo3DlDTlBj8L1qLYXOUF7FK7HoJg5QSlcj4I60DpBpHA9ymLTOkH2KFxP7Po6QWZmZqb3TjtBPQrXI2B1O0GkcD3KOXY7QaRwPcqvjjtB4XoUbrmUO0Fcj8I1lqQ7QVyPwvWGMDxBMzMzs/1XPEEzMzOzqmg8QZqZmRkqdDxBrkfhOputPEHXo3C9jD89QSlcj8IIzz1BFK5HYaUQPkHsUbjejxs+QVK4HgXjXj5BFK5HoVV6PkG4HoXrGKU+QVyPwrUKzD5B16Nw/cbUPkHsUbiebug+QT0K12PnDj9BPQrXYwcSP0HD9SjcbYg/QdejcD1Isj9BFK5Hoef5P0HhehTu7/k/QVK4HsVRNUBBmpmZmcHPQEG4HoXL4idBQeF6FG4UkUFBKVyPQnCPQkHNzMwsjsdCQRSuR6Ej10NBXI/CleIkRUE=",
          "dtype": "f8"
         },
         "yaxis": "y"
        },
        {
         "mode": "markers",
         "name": "Percentage hindered rentals",
         "type": "scatter",
         "x": {
          "bdata": "7FG4HgRqEEHhehSuGMsQQaRwPQrIwRFBw/UoXCc7EkEK16NwDWwSQc3MzMyKCRNBmpmZmTggE0FmZmZmszgWQSlcj8IDSxZBrkfhejptFkEzMzMzozoYQRSuR+HbVxhBmpmZmTmeGEEzMzMzOEYZQc3MzMynmhlBH4XrUQTpGUEK16NwxV0aQSlcj8IUkxpB16NwPfDpG0EUrkfh2CwcQT0K16Odmx1BmpmZmTSgHUHsUbgePRUfQa5H4XrHUB9BMzMzMz26H0EfhetRehEgQaRwPYoHQiBBexSuR/IfIUGkcD2KCTIhQVyPwnXmaSFBmpmZGek+IkGPwvWo2r4iQQrXo/DUOSNBAAAAgM0qJEEUrkdhyDglQVK4HoXVHydBpHA9ii5OKUEzMzOzx4gpQbgehWuIyylBuB6F60cbKkEzMzMzuCUqQR+F61FgQSpB9ihcj+EfK0EAAAAAtVArQfYoXA+ejytB4XoUrowSLEHD9ShcEywtQVyPwnVEVS1BUrgeBdltLUEK16Nw+ycuQc3MzMziWy5BXI/C9cQpL0EzMzMz5GsvQQAAAACfYzBBmpmZ2SXLMUEpXI9CryYzQaRwPcpaKzNBCtej8IRTM0GamZlZ9cQzQVyPwvV72TRBCtejcE9wNUGPwvVodaw1QTMzM3NPxjVBuB6F67YcNkG4HoWrvl42QRSuR6FRZDZBw/UoXL5nNkEAAACA68w2QY/C9Sjg2zZBUrgexeQCN0F7FK7HlGE3QTMzM7ObfTdB4XoUrtqiN0GkcD2KFf03QVyPwrXOPDhBAAAAwD/JOEHhehTuvgM5QQrXo3DlDTlBj8L1qLYXOUF7FK7HoJg5QSlcj4I60DpBpHA9ymLTOkH2KFxP7Po6QWZmZqb3TjtBPQrXI2B1O0GkcD3KOXY7QaRwPcqvjjtB4XoUbrmUO0Fcj8I1lqQ7QVyPwvWGMDxBMzMzs/1XPEEzMzOzqmg8QZqZmRkqdDxBrkfhOputPEHXo3C9jD89QSlcj8IIzz1BFK5HYaUQPkHsUbjejxs+QVK4HgXjXj5BFK5HoVV6PkG4HoXrGKU+QVyPwrUKzD5B16Nw/cbUPkHsUbiebug+QT0K12PnDj9BPQrXYwcSP0HD9SjcbYg/QdejcD1Isj9BFK5Hoef5P0HhehTu7/k/QVK4HsVRNUBBmpmZmcHPQEG4HoXL4idBQeF6FG4UkUFBKVyPQnCPQkHNzMwsjsdCQRSuR6Ej10NBXI/CleIkRUE=",
          "dtype": "f8"
         },
         "xaxis": "x2",
         "y": {
          "bdata": "AAAAAAAAAAAAAAAAAAAAAAAAAAAAAAAAAAAAAAAAAAAAAAAAAAAAAAAAAAAAAAAAAAAAAAAAAAAAAAAAAAAAAAAAAAAAAAAAAAAAAAAAAAAAAAAAAAAAAAAAAAAAAAAAAAAAAAAAAAAAAAAAAAAAAAAAAAAAAAAAAAAAAAAAAAAAAAAAAAAAAAAAAAAAAAAAAAAAAAAAAAAAAAAAAAAAAAAAAAAAAAAAAAAAAAAAAAAAAAAAAAAAAAAAAAAAAAAAAAAAAAAAAAAAAAAAAAAAAAAAAAAAAAAAAAAAAAAAAAAAAAAAAADwPwAAAAAAAAAAAAAAAAAA8D8AAAAAAAAAAAAAAAAAAAAAAAAAAAAAAAAAAAAAAAAAAAAAAAAAAAAAAAAAAAAAAAAAAAAAAAAAAAAAAAAAAAAAAAAAAAAAAAAAAAAAAAAAAAAAAAAAAAAAAAAAAAAAAAAAAAAAAAAAAAAAAAAAAPA/AAAAAAAAAAAAAAAAAAAAAAAAAAAAAAAAAAAAAAAAAAAAAAAAAAAAAAAAAAAAAPA/AAAAAAAAAAAAAAAAAAAAAAAAAAAAAAAAAAAAAAAAAAAAAAAAAAAAAAAAAAAAAAAAAAAAAAAAAAAAAAAAAAAAAAAAAAAAAAAAAAAAAAAAAAAAAAAAAAAAAAAAAAAAAAAAAAAAAAAAAAAAAAAAAAAAAAAAAAAAAAAAAAAAAAAAAAAAAAAAAAAAAAAAAAAAAAAAAAAAAAAAAAAAAAAAAAAAAAAAAAAAAAAAAAAAAAAAAAAAAAAAAAAAAAAAAAAAAAAAAAAAAAAAAAAAAAAAAAAAAAAAAAAAAPA/AAAAAAAAAAAAAAAAAAAAAAAAAAAAAPA/AAAAAAAAAAAAAAAAAAAAAAAAAAAAAAAAAAAAAAAAAAAAAAAAAADwPwAAAAAAAAAAAAAAAAAAAAAAAAAAAAAAAAAAAAAAAAAAAAAAAAAAAAAAAAAAAAAAAAAAAAAAAAAAAAAAAAAAAAAAAAAAAAAAAAAAAAAAAAAAAAAAAAAAAAAAAAAAAAAAAAAAAAAAAAAAAAAAAAAAAAAAAAAAAAAAAAAAAAAAAAAAAAAAAAAAAAAAAAAAAAAAAAAAAAAAAAAAAAAAAAAAAAAAAAAAAAAAAAAAAAAAAPA/AAAAAAAAAAAAAAAAAAAAAAAAAAAAAAAAAAAAAAAAAAAAAAAAAAAAAAAAAAAAAAAAAAAAAAAAAAAAAAAAAAAAAAAAAAAAAAAAAAAAAAAAAAA=",
          "dtype": "f8"
         },
         "yaxis": "y2"
        },
        {
         "mode": "markers",
         "name": "Percentage hindered rentals",
         "type": "scatter",
         "x": {
          "bdata": "7FG4HgRqEEHhehSuGMsQQaRwPQrIwRFBw/UoXCc7EkEK16NwDWwSQc3MzMyKCRNBmpmZmTggE0FmZmZmszgWQSlcj8IDSxZBrkfhejptFkEzMzMzozoYQRSuR+HbVxhBmpmZmTmeGEEzMzMzOEYZQc3MzMynmhlBH4XrUQTpGUEK16NwxV0aQSlcj8IUkxpB16NwPfDpG0EUrkfh2CwcQT0K16Odmx1BmpmZmTSgHUHsUbgePRUfQa5H4XrHUB9BMzMzMz26H0EfhetRehEgQaRwPYoHQiBBexSuR/IfIUGkcD2KCTIhQVyPwnXmaSFBmpmZGek+IkGPwvWo2r4iQQrXo/DUOSNBAAAAgM0qJEEUrkdhyDglQVK4HoXVHydBpHA9ii5OKUEzMzOzx4gpQbgehWuIyylBuB6F60cbKkEzMzMzuCUqQR+F61FgQSpB9ihcj+EfK0EAAAAAtVArQfYoXA+ejytB4XoUrowSLEHD9ShcEywtQVyPwnVEVS1BUrgeBdltLUEK16Nw+ycuQc3MzMziWy5BXI/C9cQpL0EzMzMz5GsvQQAAAACfYzBBmpmZ2SXLMUEpXI9CryYzQaRwPcpaKzNBCtej8IRTM0GamZlZ9cQzQVyPwvV72TRBCtejcE9wNUGPwvVodaw1QTMzM3NPxjVBuB6F67YcNkG4HoWrvl42QRSuR6FRZDZBw/UoXL5nNkEAAACA68w2QY/C9Sjg2zZBUrgexeQCN0F7FK7HlGE3QTMzM7ObfTdB4XoUrtqiN0GkcD2KFf03QVyPwrXOPDhBAAAAwD/JOEHhehTuvgM5QQrXo3DlDTlBj8L1qLYXOUF7FK7HoJg5QSlcj4I60DpBpHA9ymLTOkH2KFxP7Po6QWZmZqb3TjtBPQrXI2B1O0GkcD3KOXY7QaRwPcqvjjtB4XoUbrmUO0Fcj8I1lqQ7QVyPwvWGMDxBMzMzs/1XPEEzMzOzqmg8QZqZmRkqdDxBrkfhOputPEHXo3C9jD89QSlcj8IIzz1BFK5HYaUQPkHsUbjejxs+QVK4HgXjXj5BFK5HoVV6PkG4HoXrGKU+QVyPwrUKzD5B16Nw/cbUPkHsUbiebug+QT0K12PnDj9BPQrXYwcSP0HD9SjcbYg/QdejcD1Isj9BFK5Hoef5P0HhehTu7/k/QVK4HsVRNUBBmpmZmcHPQEG4HoXL4idBQeF6FG4UkUFBKVyPQnCPQkHNzMwsjsdCQRSuR6Ej10NBXI/CleIkRUE=",
          "dtype": "f8"
         },
         "xaxis": "x3",
         "y": {
          "bdata": "PQrXo3CdVEB7FK5H4VpWQLgehetRWFNAUrgehevhUECPwvUoXC9PQHsUrkfhWk5AexSuR+FKUUDhehSuR+FUQFyPwvUoDFRArkfhehTuSUBSuB6F66FTQBSuR+F69E9Aw/UoXI/iUkCuR+F6FE5CQM3MzMzMrFRAXI/C9ShcUkBcj8L1KMxSQJqZmZmZ+UVAZmZmZmamQ0B7FK5H4dpGQIXrUbgeJUhAcT0K16OgU0DhehSuR0FVQI/C9Shcv1RAexSuR+H6SEAAAAAAAAD4f83MzMzMTElA4XoUrkchQ0AK16NwPcoyQPYoXI/CtUdA7FG4HoXrTECF61G4HuVOQM3MzMzMzExAAAAAAAAA+H8zMzMzM3NRQFyPwvUonEZAKVyPwvUITkAUrkfhetRSQFK4HoXrkUxAAAAAAAAA+H8zMzMzM4NVQOF6FK5H4UhAexSuR+G6UkB7FK5H4bpUQLgehetR6FRAKVyPwvVoRkDD9Shcj8JWQNejcD0KN0lAAAAAAAAA+H8AAAAAAAD4f+xRuB6Fq0BAmpmZmZkZUUDD9ShcjwJKQFyPwvUofElAexSuR+FqUkCamZmZmZlLQEjhehSuR1FA4XoUrkehQEDD9Shcj2JKQIXrUbgeNVJA4XoUrkdhSUAAAAAAAAD4fylcj8L1iENArkfhehROVUAAAAAAAAD4f3E9CtejEFFAAAAAAAAA+H9SuB6F67FSQArXo3A9OlFArkfhehT+UEAAAAAAAAD4fwAAAAAAIE9AAAAAAACQUECuR+F6FM5NQGZmZmZmZjtAmpmZmZnpVkCPwvUoXI9SQOF6FK5HQUNAKVyPwvW4U0CPwvUoXC9QQJqZmZmZeVFAuB6F61FYRkAUrkfhepRWQEjhehSuV1FAAAAAAABgR0CamZmZmdk8QEjhehSut1VAcT0K16MwRUB7FK5H4VpAQM3MzMzMzE9AAAAAAAAA+H9xPQrXo1BLQClcj8L1KEFA4XoUrkfhREC4HoXrUdhNQK5H4XoUnlNAzczMzMz8UkB7FK5H4cpSQI/C9Shcz0xA9ihcj8IVU0BmZmZmZnZUQBSuR+F6tFNAzczMzMxsQkAAAAAAAEBKQK5H4XoUjk5A9ihcj8K1VED2KFyPwiVVQAAAAAAAgEJAUrgehetxQUAAAAAAAAD4f7gehetR2ENA16NwPQr3Q0BI4XoUridSQDMzMzMzM0VAcT0K16MQSUCkcD0K12NCQArXo3A9ij5AuB6F61E4QkA=",
          "dtype": "f8"
         },
         "yaxis": "y3"
        },
        {
         "mode": "markers",
         "name": "Percentage hindered rentals",
         "type": "scatter",
         "x": {
          "bdata": "7FG4HgRqEEHhehSuGMsQQaRwPQrIwRFBw/UoXCc7EkEK16NwDWwSQc3MzMyKCRNBmpmZmTggE0FmZmZmszgWQSlcj8IDSxZBrkfhejptFkEzMzMzozoYQRSuR+HbVxhBmpmZmTmeGEEzMzMzOEYZQc3MzMynmhlBH4XrUQTpGUEK16NwxV0aQSlcj8IUkxpB16NwPfDpG0EUrkfh2CwcQT0K16Odmx1BmpmZmTSgHUHsUbgePRUfQa5H4XrHUB9BMzMzMz26H0EfhetRehEgQaRwPYoHQiBBexSuR/IfIUGkcD2KCTIhQVyPwnXmaSFBmpmZGek+IkGPwvWo2r4iQQrXo/DUOSNBAAAAgM0qJEEUrkdhyDglQVK4HoXVHydBpHA9ii5OKUEzMzOzx4gpQbgehWuIyylBuB6F60cbKkEzMzMzuCUqQR+F61FgQSpB9ihcj+EfK0EAAAAAtVArQfYoXA+ejytB4XoUrowSLEHD9ShcEywtQVyPwnVEVS1BUrgeBdltLUEK16Nw+ycuQc3MzMziWy5BXI/C9cQpL0EzMzMz5GsvQQAAAACfYzBBmpmZ2SXLMUEpXI9CryYzQaRwPcpaKzNBCtej8IRTM0GamZlZ9cQzQVyPwvV72TRBCtejcE9wNUGPwvVodaw1QTMzM3NPxjVBuB6F67YcNkG4HoWrvl42QRSuR6FRZDZBw/UoXL5nNkEAAACA68w2QY/C9Sjg2zZBUrgexeQCN0F7FK7HlGE3QTMzM7ObfTdB4XoUrtqiN0GkcD2KFf03QVyPwrXOPDhBAAAAwD/JOEHhehTuvgM5QQrXo3DlDTlBj8L1qLYXOUF7FK7HoJg5QSlcj4I60DpBpHA9ymLTOkH2KFxP7Po6QWZmZqb3TjtBPQrXI2B1O0GkcD3KOXY7QaRwPcqvjjtB4XoUbrmUO0Fcj8I1lqQ7QVyPwvWGMDxBMzMzs/1XPEEzMzOzqmg8QZqZmRkqdDxBrkfhOputPEHXo3C9jD89QSlcj8IIzz1BFK5HYaUQPkHsUbjejxs+QVK4HgXjXj5BFK5HoVV6PkG4HoXrGKU+QVyPwrUKzD5B16Nw/cbUPkHsUbiebug+QT0K12PnDj9BPQrXYwcSP0HD9SjcbYg/QdejcD1Isj9BFK5Hoef5P0HhehTu7/k/QVK4HsVRNUBBmpmZmcHPQEG4HoXL4idBQeF6FG4UkUFBKVyPQnCPQkHNzMwsjsdCQRSuR6Ej10NBXI/CleIkRUE=",
          "dtype": "f8"
         },
         "xaxis": "x4",
         "y": {
          "bdata": "H4XrUbgeBUDb+X5qvHQNQP7UeOkmMQ9AAAAAAAAA+H8AAAAAAAD4f8dLN4lBYApAjZduEoPADEB/arx0kxgFQCPb+X5qvAtASgwCK4cWCkCkcD0K16MFQBFYObTIdgpASOF6FK5HCkCJQWDl0CIOQPhT46WbxApAjZduEoPADEAbL90kBoENQDm0yHa+nw5AsHJoke18D0D6fmq8dJMEQAAAAAAAAA5AiUFg5dAiBUDTTWIQWDkFQH9qvHSTGAVAX7pJDAIrBkASg8DKoUUNQDvfT42Xbg5AzczMzMzMBUBt5/up8dIIQC/dJAaBFRBA+FPjpZvEDEDkpZvEILAFQOF6FK5H4QtAEoPAyqFFB0Atsp3vp0YQQFK4HoXrUQdAbef7qfHSBkAOLbKd76cEQO58PzVeugZA2s73U+OlBkC0yHa+nxoNQAAAAAAAAPh/wcqhRbbzBEA730+Nl24MQCcxCKwcWghAx0s3iUFgDkDP91PjpZsNQGQ730+NFxBADAIrhxZZEEAv3SQGgZUOQPyp8dJNYgRAE4PAyqHFEECgGi/dJAYHQARWDi2yHRBAvHSTGARWBkCuR+F6FK4QQHNoke18PwdAHVpkO99PDkAX2c73U+MJQNv5fmq8dAdA5dAi2/l+EEDJdr6fGi8MQE5iEFg5tAdAwcqhRbbzBEB9PzVeukkOQAAAAAAAAPh/LbKd76fGDUCiRbbz/dQGQD0K16NwPQZAjZduEoPADEAfhetRuB4FQBFYObTIdgpARIts5/upB0Bcj8L1KFwIQOkmMQisHAlARrbz/dR4DUDb+X5qvHQOQPyp8dJNYgRA30+Nl24SBkCsHFpkO98NQOF6FK5H4QVAAyuHFtnOB0AAAAAAAAD4fwAAAAAAAPh/AAAAAAAA+H8730+Nl24JQIcW2c73Uw1AexSuR+F6C0AAAAAAAAD4f8l2vp8aLw1APzVeukkMBkBxPQrXo3AMQCUGgZVDiwlAAAAAAAAADUBt5/up8dIFQBSuR+F6FA5ADAIrhxbZDEARWDm0yHYGQHWTGARWDg9AzczMzMzMBkCPwvUoXI8MQFCNl24SgwZAj8L1KFyPDUAIrBxaZDsMQOf7qfHSTQ5Aarx0kxgEDUCNl24Sg8ALQAAAAAAAAPh/AAAAAAAA+H/Jdr6fGi8QQOkmMQisHARAVg4tsp3vDEA9CtejcD0GQOF6FK5H4QZAAAAAAAAA+H/wp8ZLN4kGQKwcWmQ73whA/tR46SYxCUA=",
          "dtype": "f8"
         },
         "yaxis": "y4"
        },
        {
         "mode": "markers",
         "name": "Percentage hindered rentals",
         "type": "scatter",
         "x": {
          "bdata": "7FG4HgRqEEHhehSuGMsQQaRwPQrIwRFBw/UoXCc7EkEK16NwDWwSQc3MzMyKCRNBmpmZmTggE0FmZmZmszgWQSlcj8IDSxZBrkfhejptFkEzMzMzozoYQRSuR+HbVxhBmpmZmTmeGEEzMzMzOEYZQc3MzMynmhlBH4XrUQTpGUEK16NwxV0aQSlcj8IUkxpB16NwPfDpG0EUrkfh2CwcQT0K16Odmx1BmpmZmTSgHUHsUbgePRUfQa5H4XrHUB9BMzMzMz26H0EfhetRehEgQaRwPYoHQiBBexSuR/IfIUGkcD2KCTIhQVyPwnXmaSFBmpmZGek+IkGPwvWo2r4iQQrXo/DUOSNBAAAAgM0qJEEUrkdhyDglQVK4HoXVHydBpHA9ii5OKUEzMzOzx4gpQbgehWuIyylBuB6F60cbKkEzMzMzuCUqQR+F61FgQSpB9ihcj+EfK0EAAAAAtVArQfYoXA+ejytB4XoUrowSLEHD9ShcEywtQVyPwnVEVS1BUrgeBdltLUEK16Nw+ycuQc3MzMziWy5BXI/C9cQpL0EzMzMz5GsvQQAAAACfYzBBmpmZ2SXLMUEpXI9CryYzQaRwPcpaKzNBCtej8IRTM0GamZlZ9cQzQVyPwvV72TRBCtejcE9wNUGPwvVodaw1QTMzM3NPxjVBuB6F67YcNkG4HoWrvl42QRSuR6FRZDZBw/UoXL5nNkEAAACA68w2QY/C9Sjg2zZBUrgexeQCN0F7FK7HlGE3QTMzM7ObfTdB4XoUrtqiN0GkcD2KFf03QVyPwrXOPDhBAAAAwD/JOEHhehTuvgM5QQrXo3DlDTlBj8L1qLYXOUF7FK7HoJg5QSlcj4I60DpBpHA9ymLTOkH2KFxP7Po6QWZmZqb3TjtBPQrXI2B1O0GkcD3KOXY7QaRwPcqvjjtB4XoUbrmUO0Fcj8I1lqQ7QVyPwvWGMDxBMzMzs/1XPEEzMzOzqmg8QZqZmRkqdDxBrkfhOputPEHXo3C9jD89QSlcj8IIzz1BFK5HYaUQPkHsUbjejxs+QVK4HgXjXj5BFK5HoVV6PkG4HoXrGKU+QVyPwrUKzD5B16Nw/cbUPkHsUbiebug+QT0K12PnDj9BPQrXYwcSP0HD9SjcbYg/QdejcD1Isj9BFK5Hoef5P0HhehTu7/k/QVK4HsVRNUBBmpmZmcHPQEG4HoXL4idBQeF6FG4UkUFBKVyPQnCPQkHNzMwsjsdCQRSuR6Ej10NBXI/CleIkRUE=",
          "dtype": "f8"
         },
         "xaxis": "x5",
         "y": {
          "bdata": "64sp/al9akACazBofAFrQCYYc3wZEWtAKEhsdw9eakDiua3j7pFqQLRuKCE9UmtATVdmAJ4AbEAxm1t8JdlqQH0oLEy6d2tAAAAAAAAA+H9xoxLo3c9qQAcA2MqVtGtAAAAAAAAA+H+pZ0EobxpoQNlcNc/RKWxAaz2NxQBfbEBcNXRYhidsQHzzGyaaGmhA7KF9rCC3aEDtVXWgmM1qQN/iPPc5rWhAhXOyeQHVakCIDFC/sNxqQPywOWKI4GpAl4DzPf7takCl+b4TDsRoQM5oUNnVsmhAkYDR5Y22Z0ClDwKXbJ1oQIlWk0yzMmFAMDHxogrDaEBStBd2vbBnQNUqVf0lTGhAqvHSTWJ0YEDCCTt7XdtgQDlFR3L5o19AEOm3rwOPX0BWVuQhHdxqQFYUCmwph19A0HWGTvSiX0D77NukPWBrQDzGcND512pAf60BAPbdakAXCVwNP2JrQGJw3klVh19AK5Jld3djYEBCkChZcyZgQB3UNN5MP2FA9Vd+z/4hYEDNMP8y6chgQLqT46ni02pATkti/2shYEDUpwtnbZhgQGx4eqUsXWFATn0geaeTYEDaEC3DiT1hQEX0a+tniWBAwjl+A66+YEDy9tZ2SbhfQCUbtPwlk2BARUdy+Q9BYUCy4DQzqShrQFVntcCee2BAztoSXidyakD2o5cHH/BqQLYcQ1sp3mBAl5APejZFYUAjCtIxzEpqQMqmXOGdfGpApVR4hp/ta0DS+Cqen5xqQF6PeGgOR2tA4yvLIbOQYEBOzB944dhqQAAAAAAAAPh/BFq6gm3xakA33sJfeCBrQIdi4dq/Z2pAJh3lYDaNakCO23ksx6ZrQJEsYAL34WpAyWw1kBNiakAc6+I2GohfQAAAAAAAAPh/oaAUrVxra0BADSlQlZRpQJoTajwHV2BAQPflzLYTYEBh5vFq70hgQLB9ty+WMGBAbr62I0GKX0Dh8IKI1IhrQDqANFIl02ZAJlah3NEfZ0BDkIMSJnVqQCzCA7l6RGdAQpAoWXMmYEBT7wRWKZJpQHCPSlaqVGBAAAAAAAAA+H8ydy0hHyJgQJvmHafoiF9AiE2/n/W6Z0Bf1VktcFpgQFcPTvqxXmBAlEJqJNMkYECamZmZmSNgQAAAAAAAAPh/AAAAAAAA+H8YoY59/z1nQBKfO8E+XmpAZB75g8GgakAwM8dNKM5mQF8pyxDHsl9AAAAAAAAA+H9fKcsQx7JfQAAAAAAAAPh/WybD8bw8YEA=",
          "dtype": "f8"
         },
         "yaxis": "y5"
        },
        {
         "mode": "markers",
         "name": "Percentage hindered rentals",
         "type": "scatter",
         "x": {
          "bdata": "7FG4HgRqEEHhehSuGMsQQaRwPQrIwRFBw/UoXCc7EkEK16NwDWwSQc3MzMyKCRNBmpmZmTggE0FmZmZmszgWQSlcj8IDSxZBrkfhejptFkEzMzMzozoYQRSuR+HbVxhBmpmZmTmeGEEzMzMzOEYZQc3MzMynmhlBH4XrUQTpGUEK16NwxV0aQSlcj8IUkxpB16NwPfDpG0EUrkfh2CwcQT0K16Odmx1BmpmZmTSgHUHsUbgePRUfQa5H4XrHUB9BMzMzMz26H0EfhetRehEgQaRwPYoHQiBBexSuR/IfIUGkcD2KCTIhQVyPwnXmaSFBmpmZGek+IkGPwvWo2r4iQQrXo/DUOSNBAAAAgM0qJEEUrkdhyDglQVK4HoXVHydBpHA9ii5OKUEzMzOzx4gpQbgehWuIyylBuB6F60cbKkEzMzMzuCUqQR+F61FgQSpB9ihcj+EfK0EAAAAAtVArQfYoXA+ejytB4XoUrowSLEHD9ShcEywtQVyPwnVEVS1BUrgeBdltLUEK16Nw+ycuQc3MzMziWy5BXI/C9cQpL0EzMzMz5GsvQQAAAACfYzBBmpmZ2SXLMUEpXI9CryYzQaRwPcpaKzNBCtej8IRTM0GamZlZ9cQzQVyPwvV72TRBCtejcE9wNUGPwvVodaw1QTMzM3NPxjVBuB6F67YcNkG4HoWrvl42QRSuR6FRZDZBw/UoXL5nNkEAAACA68w2QY/C9Sjg2zZBUrgexeQCN0F7FK7HlGE3QTMzM7ObfTdB4XoUrtqiN0GkcD2KFf03QVyPwrXOPDhBAAAAwD/JOEHhehTuvgM5QQrXo3DlDTlBj8L1qLYXOUF7FK7HoJg5QSlcj4I60DpBpHA9ymLTOkH2KFxP7Po6QWZmZqb3TjtBPQrXI2B1O0GkcD3KOXY7QaRwPcqvjjtB4XoUbrmUO0Fcj8I1lqQ7QVyPwvWGMDxBMzMzs/1XPEEzMzOzqmg8QZqZmRkqdDxBrkfhOputPEHXo3C9jD89QSlcj8IIzz1BFK5HYaUQPkHsUbjejxs+QVK4HgXjXj5BFK5HoVV6PkG4HoXrGKU+QVyPwrUKzD5B16Nw/cbUPkHsUbiebug+QT0K12PnDj9BPQrXYwcSP0HD9SjcbYg/QdejcD1Isj9BFK5Hoef5P0HhehTu7/k/QVK4HsVRNUBBmpmZmcHPQEG4HoXL4idBQeF6FG4UkUFBKVyPQnCPQkHNzMwsjsdCQRSuR6Ej10NBXI/CleIkRUE=",
          "dtype": "f8"
         },
         "xaxis": "x6",
         "y": {
          "bdata": "lkOLbOf7GUAEVg4tsh0aQNv5fmq89BlAAAAAAAAA+H/fT42XbhIbQDMzMzMzMxlA5aWbxCCwFUCsHFpkO18dQPhT46WbRB5AoEW28/1UG0CsHFpkO18dQH0/NV66yRxAfT81XrrJHEBxPQrXozAhQA4tsp3vpxpAiUFg5dAiGEAOLbKd76caQEJg5dAiWxlArkfhehQuIEBEtvP91HgdQNrO91PjpRhA+FPjpZvEGUAAAAAAAAD4f/Cnxks3iRlAPQrXo3A9GkBYObTIdj4YQK5H4XoULiBAkxgEVg7tIUBQjZduEoMgQBKDwMqhxR9AsXJoke18H0BFtvP91HgbQFg5tMh2PiFAAAAAAAAA+H9tEoPAyqEeQArXo3A9ihpACtejcD2KG0DD9Shcj0IZQAAAAAAAAPh/AAAAAAAA+H8AAAAAAAD4fxkEVg4tMhlAw/UoXI9CGUAzMzMzM7MZQFyPwvUoXCxAz/dT46UbFkCoxks3iQErQM/3U+OlmyBARrbz/dR4K0AzMzMzM/MhQBkEVg4tMhlARrbz/dR4K0C28/3UeKkiQCPb+X5qfCBAyXa+nxqvIkDNzMzMzEwgQAAAAAAAAPh/L90kBoEVH0DHSzeJQaAsQKabxCCwMiBAzczMzMxMIEAzMzMzM7MbQDMzMzMzsyBA2s73U+MlH0DufD81XroeQG0Sg8DKoR5AzczMzMxMIEAIrBxaZDsfQJLtfD81XhxAAAAAAAAA+H8xCKwcWuQbQBBYObTIdh9AppvEILAyIEA730+Nl24bQLbz/dR4qSJADgIrhxbZH0DsUbgehWsbQIPAyqFFNiBAku18PzVeHEAxCKwcWmQdQKjGSzeJQR5AdJMYBFYOIEA/NV66SQwjQM/3U+OlGx5A7nw/NV46HEBWDi2yne8dQK5H4XoUrhxA4XoUrkfhHUDRItv5fmoYQDdeukkMghtAL90kBoGVH0DufD81XjocQAAAAAAAAPh/DAIrhxYZIUD6fmq8dFMgQAAAAAAAQCFAN166SQyCG0AGgZVDi2wfQK5H4XoULh5A5/up8dLNH0BkEFg5tMgXQOf7qfHSzR9ADAIrhxbZIEDRItv5fmoYQFyPwvUo3BdA+n5qvHSTFkD6fmq8dJMWQAwCK4cW2SBAlkOLbOf7IUCYbhKDwAohQAAAAAAAAPh/8tJNYhDYG0A/NV66ScwhQDdeukkMghxA3SQGgZXDHUCuR+F6FC4fQAAAAAAAAPh/30+Nl26SFEA=",
          "dtype": "f8"
         },
         "yaxis": "y6"
        }
       ],
       "layout": {
        "height": 700,
        "showlegend": false,
        "template": {
         "data": {
          "bar": [
           {
            "error_x": {
             "color": "#2a3f5f"
            },
            "error_y": {
             "color": "#2a3f5f"
            },
            "marker": {
             "line": {
              "color": "#E5ECF6",
              "width": 0.5
             },
             "pattern": {
              "fillmode": "overlay",
              "size": 10,
              "solidity": 0.2
             }
            },
            "type": "bar"
           }
          ],
          "barpolar": [
           {
            "marker": {
             "line": {
              "color": "#E5ECF6",
              "width": 0.5
             },
             "pattern": {
              "fillmode": "overlay",
              "size": 10,
              "solidity": 0.2
             }
            },
            "type": "barpolar"
           }
          ],
          "carpet": [
           {
            "aaxis": {
             "endlinecolor": "#2a3f5f",
             "gridcolor": "white",
             "linecolor": "white",
             "minorgridcolor": "white",
             "startlinecolor": "#2a3f5f"
            },
            "baxis": {
             "endlinecolor": "#2a3f5f",
             "gridcolor": "white",
             "linecolor": "white",
             "minorgridcolor": "white",
             "startlinecolor": "#2a3f5f"
            },
            "type": "carpet"
           }
          ],
          "choropleth": [
           {
            "colorbar": {
             "outlinewidth": 0,
             "ticks": ""
            },
            "type": "choropleth"
           }
          ],
          "contour": [
           {
            "colorbar": {
             "outlinewidth": 0,
             "ticks": ""
            },
            "colorscale": [
             [
              0,
              "#0d0887"
             ],
             [
              0.1111111111111111,
              "#46039f"
             ],
             [
              0.2222222222222222,
              "#7201a8"
             ],
             [
              0.3333333333333333,
              "#9c179e"
             ],
             [
              0.4444444444444444,
              "#bd3786"
             ],
             [
              0.5555555555555556,
              "#d8576b"
             ],
             [
              0.6666666666666666,
              "#ed7953"
             ],
             [
              0.7777777777777778,
              "#fb9f3a"
             ],
             [
              0.8888888888888888,
              "#fdca26"
             ],
             [
              1,
              "#f0f921"
             ]
            ],
            "type": "contour"
           }
          ],
          "contourcarpet": [
           {
            "colorbar": {
             "outlinewidth": 0,
             "ticks": ""
            },
            "type": "contourcarpet"
           }
          ],
          "heatmap": [
           {
            "colorbar": {
             "outlinewidth": 0,
             "ticks": ""
            },
            "colorscale": [
             [
              0,
              "#0d0887"
             ],
             [
              0.1111111111111111,
              "#46039f"
             ],
             [
              0.2222222222222222,
              "#7201a8"
             ],
             [
              0.3333333333333333,
              "#9c179e"
             ],
             [
              0.4444444444444444,
              "#bd3786"
             ],
             [
              0.5555555555555556,
              "#d8576b"
             ],
             [
              0.6666666666666666,
              "#ed7953"
             ],
             [
              0.7777777777777778,
              "#fb9f3a"
             ],
             [
              0.8888888888888888,
              "#fdca26"
             ],
             [
              1,
              "#f0f921"
             ]
            ],
            "type": "heatmap"
           }
          ],
          "histogram": [
           {
            "marker": {
             "pattern": {
              "fillmode": "overlay",
              "size": 10,
              "solidity": 0.2
             }
            },
            "type": "histogram"
           }
          ],
          "histogram2d": [
           {
            "colorbar": {
             "outlinewidth": 0,
             "ticks": ""
            },
            "colorscale": [
             [
              0,
              "#0d0887"
             ],
             [
              0.1111111111111111,
              "#46039f"
             ],
             [
              0.2222222222222222,
              "#7201a8"
             ],
             [
              0.3333333333333333,
              "#9c179e"
             ],
             [
              0.4444444444444444,
              "#bd3786"
             ],
             [
              0.5555555555555556,
              "#d8576b"
             ],
             [
              0.6666666666666666,
              "#ed7953"
             ],
             [
              0.7777777777777778,
              "#fb9f3a"
             ],
             [
              0.8888888888888888,
              "#fdca26"
             ],
             [
              1,
              "#f0f921"
             ]
            ],
            "type": "histogram2d"
           }
          ],
          "histogram2dcontour": [
           {
            "colorbar": {
             "outlinewidth": 0,
             "ticks": ""
            },
            "colorscale": [
             [
              0,
              "#0d0887"
             ],
             [
              0.1111111111111111,
              "#46039f"
             ],
             [
              0.2222222222222222,
              "#7201a8"
             ],
             [
              0.3333333333333333,
              "#9c179e"
             ],
             [
              0.4444444444444444,
              "#bd3786"
             ],
             [
              0.5555555555555556,
              "#d8576b"
             ],
             [
              0.6666666666666666,
              "#ed7953"
             ],
             [
              0.7777777777777778,
              "#fb9f3a"
             ],
             [
              0.8888888888888888,
              "#fdca26"
             ],
             [
              1,
              "#f0f921"
             ]
            ],
            "type": "histogram2dcontour"
           }
          ],
          "mesh3d": [
           {
            "colorbar": {
             "outlinewidth": 0,
             "ticks": ""
            },
            "type": "mesh3d"
           }
          ],
          "parcoords": [
           {
            "line": {
             "colorbar": {
              "outlinewidth": 0,
              "ticks": ""
             }
            },
            "type": "parcoords"
           }
          ],
          "pie": [
           {
            "automargin": true,
            "type": "pie"
           }
          ],
          "scatter": [
           {
            "fillpattern": {
             "fillmode": "overlay",
             "size": 10,
             "solidity": 0.2
            },
            "type": "scatter"
           }
          ],
          "scatter3d": [
           {
            "line": {
             "colorbar": {
              "outlinewidth": 0,
              "ticks": ""
             }
            },
            "marker": {
             "colorbar": {
              "outlinewidth": 0,
              "ticks": ""
             }
            },
            "type": "scatter3d"
           }
          ],
          "scattercarpet": [
           {
            "marker": {
             "colorbar": {
              "outlinewidth": 0,
              "ticks": ""
             }
            },
            "type": "scattercarpet"
           }
          ],
          "scattergeo": [
           {
            "marker": {
             "colorbar": {
              "outlinewidth": 0,
              "ticks": ""
             }
            },
            "type": "scattergeo"
           }
          ],
          "scattergl": [
           {
            "marker": {
             "colorbar": {
              "outlinewidth": 0,
              "ticks": ""
             }
            },
            "type": "scattergl"
           }
          ],
          "scattermap": [
           {
            "marker": {
             "colorbar": {
              "outlinewidth": 0,
              "ticks": ""
             }
            },
            "type": "scattermap"
           }
          ],
          "scattermapbox": [
           {
            "marker": {
             "colorbar": {
              "outlinewidth": 0,
              "ticks": ""
             }
            },
            "type": "scattermapbox"
           }
          ],
          "scatterpolar": [
           {
            "marker": {
             "colorbar": {
              "outlinewidth": 0,
              "ticks": ""
             }
            },
            "type": "scatterpolar"
           }
          ],
          "scatterpolargl": [
           {
            "marker": {
             "colorbar": {
              "outlinewidth": 0,
              "ticks": ""
             }
            },
            "type": "scatterpolargl"
           }
          ],
          "scatterternary": [
           {
            "marker": {
             "colorbar": {
              "outlinewidth": 0,
              "ticks": ""
             }
            },
            "type": "scatterternary"
           }
          ],
          "surface": [
           {
            "colorbar": {
             "outlinewidth": 0,
             "ticks": ""
            },
            "colorscale": [
             [
              0,
              "#0d0887"
             ],
             [
              0.1111111111111111,
              "#46039f"
             ],
             [
              0.2222222222222222,
              "#7201a8"
             ],
             [
              0.3333333333333333,
              "#9c179e"
             ],
             [
              0.4444444444444444,
              "#bd3786"
             ],
             [
              0.5555555555555556,
              "#d8576b"
             ],
             [
              0.6666666666666666,
              "#ed7953"
             ],
             [
              0.7777777777777778,
              "#fb9f3a"
             ],
             [
              0.8888888888888888,
              "#fdca26"
             ],
             [
              1,
              "#f0f921"
             ]
            ],
            "type": "surface"
           }
          ],
          "table": [
           {
            "cells": {
             "fill": {
              "color": "#EBF0F8"
             },
             "line": {
              "color": "white"
             }
            },
            "header": {
             "fill": {
              "color": "#C8D4E3"
             },
             "line": {
              "color": "white"
             }
            },
            "type": "table"
           }
          ]
         },
         "layout": {
          "annotationdefaults": {
           "arrowcolor": "#2a3f5f",
           "arrowhead": 0,
           "arrowwidth": 1
          },
          "autotypenumbers": "strict",
          "coloraxis": {
           "colorbar": {
            "outlinewidth": 0,
            "ticks": ""
           }
          },
          "colorscale": {
           "diverging": [
            [
             0,
             "#8e0152"
            ],
            [
             0.1,
             "#c51b7d"
            ],
            [
             0.2,
             "#de77ae"
            ],
            [
             0.3,
             "#f1b6da"
            ],
            [
             0.4,
             "#fde0ef"
            ],
            [
             0.5,
             "#f7f7f7"
            ],
            [
             0.6,
             "#e6f5d0"
            ],
            [
             0.7,
             "#b8e186"
            ],
            [
             0.8,
             "#7fbc41"
            ],
            [
             0.9,
             "#4d9221"
            ],
            [
             1,
             "#276419"
            ]
           ],
           "sequential": [
            [
             0,
             "#0d0887"
            ],
            [
             0.1111111111111111,
             "#46039f"
            ],
            [
             0.2222222222222222,
             "#7201a8"
            ],
            [
             0.3333333333333333,
             "#9c179e"
            ],
            [
             0.4444444444444444,
             "#bd3786"
            ],
            [
             0.5555555555555556,
             "#d8576b"
            ],
            [
             0.6666666666666666,
             "#ed7953"
            ],
            [
             0.7777777777777778,
             "#fb9f3a"
            ],
            [
             0.8888888888888888,
             "#fdca26"
            ],
            [
             1,
             "#f0f921"
            ]
           ],
           "sequentialminus": [
            [
             0,
             "#0d0887"
            ],
            [
             0.1111111111111111,
             "#46039f"
            ],
            [
             0.2222222222222222,
             "#7201a8"
            ],
            [
             0.3333333333333333,
             "#9c179e"
            ],
            [
             0.4444444444444444,
             "#bd3786"
            ],
            [
             0.5555555555555556,
             "#d8576b"
            ],
            [
             0.6666666666666666,
             "#ed7953"
            ],
            [
             0.7777777777777778,
             "#fb9f3a"
            ],
            [
             0.8888888888888888,
             "#fdca26"
            ],
            [
             1,
             "#f0f921"
            ]
           ]
          },
          "colorway": [
           "#636efa",
           "#EF553B",
           "#00cc96",
           "#ab63fa",
           "#FFA15A",
           "#19d3f3",
           "#FF6692",
           "#B6E880",
           "#FF97FF",
           "#FECB52"
          ],
          "font": {
           "color": "#2a3f5f"
          },
          "geo": {
           "bgcolor": "white",
           "lakecolor": "white",
           "landcolor": "#E5ECF6",
           "showlakes": true,
           "showland": true,
           "subunitcolor": "white"
          },
          "hoverlabel": {
           "align": "left"
          },
          "hovermode": "closest",
          "mapbox": {
           "style": "light"
          },
          "paper_bgcolor": "white",
          "plot_bgcolor": "#E5ECF6",
          "polar": {
           "angularaxis": {
            "gridcolor": "white",
            "linecolor": "white",
            "ticks": ""
           },
           "bgcolor": "#E5ECF6",
           "radialaxis": {
            "gridcolor": "white",
            "linecolor": "white",
            "ticks": ""
           }
          },
          "scene": {
           "xaxis": {
            "backgroundcolor": "#E5ECF6",
            "gridcolor": "white",
            "gridwidth": 2,
            "linecolor": "white",
            "showbackground": true,
            "ticks": "",
            "zerolinecolor": "white"
           },
           "yaxis": {
            "backgroundcolor": "#E5ECF6",
            "gridcolor": "white",
            "gridwidth": 2,
            "linecolor": "white",
            "showbackground": true,
            "ticks": "",
            "zerolinecolor": "white"
           },
           "zaxis": {
            "backgroundcolor": "#E5ECF6",
            "gridcolor": "white",
            "gridwidth": 2,
            "linecolor": "white",
            "showbackground": true,
            "ticks": "",
            "zerolinecolor": "white"
           }
          },
          "shapedefaults": {
           "line": {
            "color": "#2a3f5f"
           }
          },
          "ternary": {
           "aaxis": {
            "gridcolor": "white",
            "linecolor": "white",
            "ticks": ""
           },
           "baxis": {
            "gridcolor": "white",
            "linecolor": "white",
            "ticks": ""
           },
           "bgcolor": "#E5ECF6",
           "caxis": {
            "gridcolor": "white",
            "linecolor": "white",
            "ticks": ""
           }
          },
          "title": {
           "x": 0.05
          },
          "xaxis": {
           "automargin": true,
           "gridcolor": "white",
           "linecolor": "white",
           "ticks": "",
           "title": {
            "standoff": 15
           },
           "zerolinecolor": "white",
           "zerolinewidth": 2
          },
          "yaxis": {
           "automargin": true,
           "gridcolor": "white",
           "linecolor": "white",
           "ticks": "",
           "title": {
            "standoff": 15
           },
           "zerolinecolor": "white",
           "zerolinewidth": 2
          }
         }
        },
        "title": {
         "text": "Evolution along Weekly_Sales"
        },
        "width": 1200,
        "xaxis": {
         "anchor": "y",
         "domain": [
          0,
          0.45
         ],
         "title": {
          "text": "Weekly_Sales"
         }
        },
        "xaxis2": {
         "anchor": "y2",
         "domain": [
          0.55,
          1
         ],
         "title": {
          "text": "Holiday_Flag"
         }
        },
        "xaxis3": {
         "anchor": "y3",
         "domain": [
          0,
          0.45
         ],
         "title": {
          "text": "Temperature"
         }
        },
        "xaxis4": {
         "anchor": "y4",
         "domain": [
          0.55,
          1
         ],
         "title": {
          "text": "Fuel_Price"
         }
        },
        "xaxis5": {
         "anchor": "y5",
         "domain": [
          0,
          0.45
         ],
         "title": {
          "text": "CPI"
         }
        },
        "xaxis6": {
         "anchor": "y6",
         "domain": [
          0.55,
          1
         ],
         "title": {
          "text": "Unemployment"
         }
        },
        "yaxis": {
         "anchor": "x",
         "domain": [
          0.7333333333333333,
          1
         ]
        },
        "yaxis2": {
         "anchor": "x2",
         "domain": [
          0.7333333333333333,
          1
         ]
        },
        "yaxis3": {
         "anchor": "x3",
         "domain": [
          0.36666666666666664,
          0.6333333333333333
         ]
        },
        "yaxis4": {
         "anchor": "x4",
         "domain": [
          0.36666666666666664,
          0.6333333333333333
         ]
        },
        "yaxis5": {
         "anchor": "x5",
         "domain": [
          0,
          0.26666666666666666
         ]
        },
        "yaxis6": {
         "anchor": "x6",
         "domain": [
          0,
          0.26666666666666666
         ]
        }
       }
      }
     },
     "metadata": {},
     "output_type": "display_data"
    }
   ],
   "source": [
    "import plotly.graph_objects as go\n",
    "from plotly.subplots import make_subplots\n",
    "\n",
    "x_axis = \"Weekly_Sales\"\n",
    "\n",
    "wsales_df_for_viz = wsales_df.sort_values(by=[x_axis])\n",
    "\n",
    "cols = [\"Weekly_Sales\", \"Holiday_Flag\", \"Temperature\", \"Fuel_Price\", \"CPI\", \"Unemployment\"]\n",
    "fig = make_subplots(rows=3, cols=2)\n",
    "\n",
    "positions = [(r, c) for r in range(1, 4) for c in range(1, 3)]\n",
    "\n",
    "for i, col in enumerate(cols):\n",
    "    row, col_pos = positions[i]\n",
    "\n",
    "    fig.add_trace(go.Scatter(\n",
    "        x=wsales_df_for_viz[x_axis], y=wsales_df_for_viz[col],\n",
    "        mode=\"markers\",\n",
    "        name=\"Percentage hindered rentals\",\n",
    "    ),\n",
    "    row=row,\n",
    "    col=col_pos\n",
    "    )\n",
    "    axis_num = i + 1\n",
    "    fig.update_layout({f\"xaxis{axis_num}\": dict(title=col)})\n",
    "\n",
    "fig.update_layout(\n",
    "    height=700,\n",
    "    width=1200,\n",
    "    title_text=f\"Evolution along {x_axis}\",\n",
    "    showlegend=False\n",
    ")\n",
    "\n",
    "fig.show()"
   ]
  },
  {
   "cell_type": "code",
   "execution_count": null,
   "id": "58136de7",
   "metadata": {},
   "outputs": [
    {
     "data": {
      "application/vnd.plotly.v1+json": {
       "config": {
        "plotlyServerURL": "https://plot.ly"
       },
       "data": [
        {
         "mode": "markers",
         "name": "Percentage hindered rentals",
         "type": "scatter",
         "x": {
          "bdata": "VhQKbCmHX0BicN5JVYdfQBzr4jYaiF9Am+Ydp+iIX0BuvrYjQYpfQBDpt68Dj19A0HWGTvSiX0A5RUdy+aNfQF8pyxDHsl9AXynLEMeyX0Dy9tZ2SbhfQED35cy2E2BATkti/2shYED1V37P/iFgQDJ3LSEfImBAmpmZmZkjYECUQmok0yRgQEKQKFlzJmBAQpAoWXMmYECwfbcvljBgQFsmw/G8PGBAYebxau9IYEBwj0pWqlRgQJoTajwHV2BAX9VZLXBaYEBXD076sV5gQCuSZXd3Y2BAqvHSTWJ0YEBVZ7XAnntgQEX0a+tniWBA4yvLIbOQYEAlG7T8JZNgQE59IHmnk2BA1KcLZ22YYEDCOX4Drr5gQM0w/zLpyGBAwgk7e13bYEC2HENbKd5gQIlWk0yzMmFA2hAtw4k9YUAd1DTeTD9hQEVHcvkPQWFAl5APejZFYUBseHqlLF1hQDAzx00ozmZAOoA0UiXTZkAmVqHc0R9nQBihjn3/PWdALMIDuXpEZ0BStBd2vbBnQJGA0eWNtmdAiE2/n/W6Z0CpZ0EobxpoQHzzGyaaGmhA1SpV/SVMaEClDwKXbJ1oQN/iPPc5rWhAzmhQ2dWyaEDsoX2sILdoQDAx8aIKw2hApfm+Ew7EaEBT7wRWKZJpQEANKVCVlGlAIwrSMcxKakAoSGx3D15qQBKfO8E+XmpAyWw1kBNiakCHYuHav2dqQM7aEl4ncmpAQ5CDEiZ1akDKplzhnXxqQOuLKf2pfWpAJh3lYDaNakDiua3j7pFqQNL4Kp6fnGpAZB75g8GgakDtVXWgmM1qQHGjEujdz2pAupPjqeLTakCFc7J5AdVqQDzGcND512pATswfeOHYakAxm1t8JdlqQFZW5CEd3GpAiAxQv7DcakB/rQEA9t1qQPywOWKI4GpAkSxgAvfhakCXgPM9/u1qQPajlwcf8GpABFq6gm3xakACazBofAFrQCYYc3wZEWtAN97CX3gga0Cy4DQzqShrQF6PeGgOR2tAtG4oIT1Sa0D77NukPWBrQBcJXA0/YmtAoaAUrVxra0B9KCxMundrQOHwgojUiGtAjtt5LMema0AHANjKlbRrQKVUeIaf7WtATVdmAJ4AbEBcNXRYhidsQNlcNc/RKWxAaz2NxQBfbEAAAAAAAAD4fwAAAAAAAPh/AAAAAAAA+H8AAAAAAAD4fwAAAAAAAPh/AAAAAAAA+H8AAAAAAAD4fwAAAAAAAPh/AAAAAAAA+H8=",
          "dtype": "f8"
         },
         "xaxis": "x",
         "y": {
          "bdata": "uB6Fa4jLKUH2KFwPno8rQfYoXE/s+jpBXI/CtQrMPkEzMzOz/Vc8QaRwPYouTilBuB6F60cbKkFSuB6F1R8nQeF6FG4UkUFBzczMLI7HQkGamZlZ9cQzQeF6FG65lDtBXI/C9cQpL0FSuB4F2W0tQbgehesYpT5Bw/Uo3G2IP0E9CtdjBxI/QcP1KFwTLC1BFK5HYaUQPkFcj8L1hjA8QVyPwpXiJEVBXI/CNZakO0FSuB4F414+QaRwPcqvjjtB7FG4nm7oPkE9Ctdj5w4/QeF6FK6MEixBAAAAgM0qJEEzMzNzT8Y1QaRwPcpaKzNB4XoUrtqiN0Fcj8L1e9k0QZqZmdklyzFBMzMzM+RrL0EK16PwhFMzQQrXo3D7Jy5BFK5HYcg4JUEUrkehUWQ2QVyPwnXmaSFBKVyPQq8mM0Fcj8J1RFUtQQrXo3BPcDVBw/UoXL5nNkEAAAAAn2MwQbgehcviJ0FBmpmZGSp0PEGuR+E6m608QeF6FO7v+T9BKVyPwgjPPUGPwvWo2r4iQXsUrkfyHyFB16Nw/cbUPkEzMzMzOEYZQSlcj8IUkxpBCtej8NQ5I0GkcD2KCTIhQT0K16Odmx1BpHA9igdCIEHXo3A98OkbQZqZmRnpPiJBH4XrUXoRIEHsUbjejxs+QaRwPco5djtBAAAAgOvMNkHD9ShcJzsSQVK4HsVRNUBBpHA9ymLTOkEK16Nw5Q05Qbgeheu2HDZB16NwvYw/PUGPwvUo4Ns2QexRuB4EahBBj8L1qLYXOUEK16NwDWwSQXsUrseUYTdBmpmZmcHPQEEUrkfh2CwcQTMzMzOjOhhBzczMzOJbLkGamZmZNKAdQR+F61FgQSpBpHA9ihX9N0FmZmZmszgWQTMzM7PHiClB7FG4Hj0VH0H2KFyP4R8rQa5H4XrHUB9BKVyPgjrQOkEzMzMzPbofQbgehau+XjZBAAAAwD/JOEHhehSuGMsQQaRwPQrIwRFB4XoU7r4DOUGPwvVodaw1QTMzM7ObfTdBzczMzIoJE0EzMzMzuCUqQQAAAAC1UCtBPQrXI2B1O0EpXI/CA0sWQTMzM7OqaDxBexSux6CYOUEUrkfh21cYQVK4HsXkAjdBmpmZmTggE0EK16NwxV0aQc3MzMynmhlBH4XrUQTpGUEUrkehI9dDQRSuR6FVej5BKVyPQnCPQkGuR+F6Om0WQdejcD1Isj9BXI/Ctc48OEFmZmam9047QRSuR6Hn+T9BmpmZmTmeGEE=",
          "dtype": "f8"
         },
         "yaxis": "y"
        },
        {
         "mode": "markers",
         "name": "Percentage hindered rentals",
         "type": "scatter",
         "x": {
          "bdata": "VhQKbCmHX0BicN5JVYdfQBzr4jYaiF9Am+Ydp+iIX0BuvrYjQYpfQBDpt68Dj19A0HWGTvSiX0A5RUdy+aNfQF8pyxDHsl9AXynLEMeyX0Dy9tZ2SbhfQED35cy2E2BATkti/2shYED1V37P/iFgQDJ3LSEfImBAmpmZmZkjYECUQmok0yRgQEKQKFlzJmBAQpAoWXMmYECwfbcvljBgQFsmw/G8PGBAYebxau9IYEBwj0pWqlRgQJoTajwHV2BAX9VZLXBaYEBXD076sV5gQCuSZXd3Y2BAqvHSTWJ0YEBVZ7XAnntgQEX0a+tniWBA4yvLIbOQYEAlG7T8JZNgQE59IHmnk2BA1KcLZ22YYEDCOX4Drr5gQM0w/zLpyGBAwgk7e13bYEC2HENbKd5gQIlWk0yzMmFA2hAtw4k9YUAd1DTeTD9hQEVHcvkPQWFAl5APejZFYUBseHqlLF1hQDAzx00ozmZAOoA0UiXTZkAmVqHc0R9nQBihjn3/PWdALMIDuXpEZ0BStBd2vbBnQJGA0eWNtmdAiE2/n/W6Z0CpZ0EobxpoQHzzGyaaGmhA1SpV/SVMaEClDwKXbJ1oQN/iPPc5rWhAzmhQ2dWyaEDsoX2sILdoQDAx8aIKw2hApfm+Ew7EaEBT7wRWKZJpQEANKVCVlGlAIwrSMcxKakAoSGx3D15qQBKfO8E+XmpAyWw1kBNiakCHYuHav2dqQM7aEl4ncmpAQ5CDEiZ1akDKplzhnXxqQOuLKf2pfWpAJh3lYDaNakDiua3j7pFqQNL4Kp6fnGpAZB75g8GgakDtVXWgmM1qQHGjEujdz2pAupPjqeLTakCFc7J5AdVqQDzGcND512pATswfeOHYakAxm1t8JdlqQFZW5CEd3GpAiAxQv7DcakB/rQEA9t1qQPywOWKI4GpAkSxgAvfhakCXgPM9/u1qQPajlwcf8GpABFq6gm3xakACazBofAFrQCYYc3wZEWtAN97CX3gga0Cy4DQzqShrQF6PeGgOR2tAtG4oIT1Sa0D77NukPWBrQBcJXA0/YmtAoaAUrVxra0B9KCxMundrQOHwgojUiGtAjtt5LMema0AHANjKlbRrQKVUeIaf7WtATVdmAJ4AbEBcNXRYhidsQNlcNc/RKWxAaz2NxQBfbEAAAAAAAAD4fwAAAAAAAPh/AAAAAAAA+H8AAAAAAAD4fwAAAAAAAPh/AAAAAAAA+H8AAAAAAAD4fwAAAAAAAPh/AAAAAAAA+H8=",
          "dtype": "f8"
         },
         "xaxis": "x2",
         "y": {
          "bdata": "AAAAAAAAAAAAAAAAAADwPwAAAAAAAAAAAAAAAAAAAAAAAAAAAAAAAAAAAAAAAAAAAAAAAAAAAAAAAAAAAAAAAAAAAAAAAAAAAAAAAAAAAAAAAAAAAAAAAAAAAAAAAAAAAAAAAAAAAAAAAAAAAAAAAAAAAAAAAAAAAAAAAAAAAAAAAAAAAAAAAAAAAAAAAAAAAAAAAAAAAAAAAAAAAAAAAAAAAAAAAAAAAAAAAAAAAAAAAAAAAAAAAAAAAAAAAAAAAAAAAAAAAAAAAAAAAAAAAAAAAAAAAAAAAAAAAAAAAAAAAAAAAAAAAAAAAAAAAAAAAAAAAAAAAAAAAAAAAAAAAAAAAAAAAAAAAAAAAAAAAAAAAAAAAAAAAAAAAAAAAAAAAAAAAAAAAAAAAAAAAAAAAAAAAAAAAAAAAAAAAAAAAAAAAAAAAAAAAAAAAAAAAAAAAAAAAAAAAAAAAAAAAAAAAAAAAAAAAAAAAAAAAAAAAAAAAAAAAAAAAAAAAAAAAAAAAAAAAAAAAAAAAAAAAAAAAAAAAAAAAAAAAAAAAAAAAAAAAAAAAAAAAAAAAAAAAAAAAAAAAAAAAAAAAAAAAADwPwAAAAAAAAAAAAAAAAAAAAAAAAAAAAAAAAAAAAAAAPA/AAAAAAAAAAAAAAAAAAAAAAAAAAAAAPA/AAAAAAAAAAAAAAAAAAAAAAAAAAAAAAAAAAAAAAAAAAAAAAAAAADwPwAAAAAAAAAAAAAAAAAAAAAAAAAAAAAAAAAAAAAAAAAAAAAAAAAAAAAAAAAAAAAAAAAAAAAAAAAAAAAAAAAAAAAAAAAAAAAAAAAAAAAAAAAAAAAAAAAA8D8AAAAAAAAAAAAAAAAAAAAAAAAAAAAAAAAAAAAAAAAAAAAAAAAAAAAAAAAAAAAAAAAAAAAAAAAAAAAAAAAAAAAAAAAAAAAA8D8AAAAAAAAAAAAAAAAAAAAAAAAAAAAAAAAAAAAAAAAAAAAAAAAAAAAAAAAAAAAAAAAAAAAAAAAAAAAAAAAAAAAAAAAAAAAAAAAAAAAAAAAAAAAAAAAAAAAAAAAAAAAAAAAAAAAAAAAAAAAAAAAAAAAAAAAAAAAAAAAAAAAAAAAAAAAAAAAAAAAAAAAAAAAAAAAAAAAAAAAAAAAAAAAAAAAAAAAAAAAAAAAAAAAAAAAAAAAAAAAAAAAAAAAAAAAAAAAAAAAAAAAAAAAAAAAAAPA/AAAAAAAAAAAAAAAAAAAAAAAAAAAAAAAAAAAAAAAAAAA=",
          "dtype": "f8"
         },
         "yaxis": "y2"
        },
        {
         "mode": "markers",
         "name": "Percentage hindered rentals",
         "type": "scatter",
         "x": {
          "bdata": "VhQKbCmHX0BicN5JVYdfQBzr4jYaiF9Am+Ydp+iIX0BuvrYjQYpfQBDpt68Dj19A0HWGTvSiX0A5RUdy+aNfQF8pyxDHsl9AXynLEMeyX0Dy9tZ2SbhfQED35cy2E2BATkti/2shYED1V37P/iFgQDJ3LSEfImBAmpmZmZkjYECUQmok0yRgQEKQKFlzJmBAQpAoWXMmYECwfbcvljBgQFsmw/G8PGBAYebxau9IYEBwj0pWqlRgQJoTajwHV2BAX9VZLXBaYEBXD076sV5gQCuSZXd3Y2BAqvHSTWJ0YEBVZ7XAnntgQEX0a+tniWBA4yvLIbOQYEAlG7T8JZNgQE59IHmnk2BA1KcLZ22YYEDCOX4Drr5gQM0w/zLpyGBAwgk7e13bYEC2HENbKd5gQIlWk0yzMmFA2hAtw4k9YUAd1DTeTD9hQEVHcvkPQWFAl5APejZFYUBseHqlLF1hQDAzx00ozmZAOoA0UiXTZkAmVqHc0R9nQBihjn3/PWdALMIDuXpEZ0BStBd2vbBnQJGA0eWNtmdAiE2/n/W6Z0CpZ0EobxpoQHzzGyaaGmhA1SpV/SVMaEClDwKXbJ1oQN/iPPc5rWhAzmhQ2dWyaEDsoX2sILdoQDAx8aIKw2hApfm+Ew7EaEBT7wRWKZJpQEANKVCVlGlAIwrSMcxKakAoSGx3D15qQBKfO8E+XmpAyWw1kBNiakCHYuHav2dqQM7aEl4ncmpAQ5CDEiZ1akDKplzhnXxqQOuLKf2pfWpAJh3lYDaNakDiua3j7pFqQNL4Kp6fnGpAZB75g8GgakDtVXWgmM1qQHGjEujdz2pAupPjqeLTakCFc7J5AdVqQDzGcND512pATswfeOHYakAxm1t8JdlqQFZW5CEd3GpAiAxQv7DcakB/rQEA9t1qQPywOWKI4GpAkSxgAvfhakCXgPM9/u1qQPajlwcf8GpABFq6gm3xakACazBofAFrQCYYc3wZEWtAN97CX3gga0Cy4DQzqShrQF6PeGgOR2tAtG4oIT1Sa0D77NukPWBrQBcJXA0/YmtAoaAUrVxra0B9KCxMundrQOHwgojUiGtAjtt5LMema0AHANjKlbRrQKVUeIaf7WtATVdmAJ4AbEBcNXRYhidsQNlcNc/RKWxAaz2NxQBfbEAAAAAAAAD4fwAAAAAAAPh/AAAAAAAA+H8AAAAAAAD4fwAAAAAAAPh/AAAAAAAA+H8AAAAAAAD4fwAAAAAAAPh/AAAAAAAA+H8=",
          "dtype": "f8"
         },
         "xaxis": "x3",
         "y": {
          "bdata": "UrgeheuRTEC4HoXrUehUQBSuR+F6lFZAFK5H4Xq0U0AAAAAAAAD4fylcj8L1CE5AAAAAAAAA+H9cj8L1KJxGQDMzMzMzM0VApHA9CtdjQkDD9Shcj2JKQHE9CtejMEVAmpmZmZkZUUAAAAAAAAD4f2ZmZmZmdlRA9ihcj8IlVUD2KFyPwrVUQMP1KFyPwlZAzczMzMz8UkDNzMzMzMxPQLgehetROEJAexSuR+FaQECPwvUoXM9MQEjhehSut1VAAAAAAABASkCuR+F6FI5OQClcj8L1aEZAAAAAAAAA+H8pXI/C9YhDQEjhehSuR1FAAAAAAACQUECF61G4HjVSQHsUrkfhalJAw/UoXI8CSkDhehSuR6FAQAAAAAAAAPh/MzMzMzNzUUBxPQrXoxBRQPYoXI/CtUdAmpmZmZmZS0DXo3A9CjdJQOF6FK5HYUlAAAAAAAAA+H9cj8L1KHxJQEjhehSuJ1JAKVyPwvUoQUDhehSuR+FEQAAAAAAAAPh/rkfhehSeU0CF61G4HuVOQOF6FK5HIUNAzczMzMxsQkCuR+F6FE5CQJqZmZmZ+UVAzczMzMzMTEAK16NwPcoyQIXrUbgeJUhAzczMzMxMSUBmZmZmZqZDQOxRuB6F60xAAAAAAAAA+H97FK5H4cpSQJqZmZmZ2TxAUrgeheuxUkBSuB6F6+FQQLgehetR2ENAuB6F61FYRkDhehSuR0FDQK5H4XoUTlVAuB6F61HYTUAK16NwPTpRQD0K16NwnVRAKVyPwvW4U0CPwvUoXC9PQAAAAAAAAPh/16NwPQr3Q0B7FK5H4dpGQFK4HoXroVNA7FG4HoWrQEBxPQrXo6BTQOF6FK5H4UhArkfhehTOTUDhehSuR+FUQBSuR+F61FJA4XoUrkdBVUB7FK5H4bpSQI/C9Shcv1RAmpmZmZl5UUB7FK5H4fpIQAAAAAAAAPh/mpmZmZnpVkB7FK5H4VpWQLgehetRWFNAj8L1KFyPUkAAAAAAAAD4fwAAAAAAIE9AexSuR+FaTkAzMzMzM4NVQHsUrkfhulRAAAAAAABgR0Bcj8L1KAxUQHE9CtejUEtAj8L1KFwvUEAUrkfhevRPQK5H4XoU/lBAexSuR+FKUUBcj8L1KMxSQM3MzMzMrFRAXI/C9ShcUkAK16NwPYo+QPYoXI/CFVNAcT0K16MQSUCuR+F6FO5JQAAAAAAAgEJAZmZmZmZmO0BI4XoUrldRQFK4HoXrcUFAw/UoXI/iUkA=",
          "dtype": "f8"
         },
         "yaxis": "y3"
        },
        {
         "mode": "markers",
         "name": "Percentage hindered rentals",
         "type": "scatter",
         "x": {
          "bdata": "VhQKbCmHX0BicN5JVYdfQBzr4jYaiF9Am+Ydp+iIX0BuvrYjQYpfQBDpt68Dj19A0HWGTvSiX0A5RUdy+aNfQF8pyxDHsl9AXynLEMeyX0Dy9tZ2SbhfQED35cy2E2BATkti/2shYED1V37P/iFgQDJ3LSEfImBAmpmZmZkjYECUQmok0yRgQEKQKFlzJmBAQpAoWXMmYECwfbcvljBgQFsmw/G8PGBAYebxau9IYEBwj0pWqlRgQJoTajwHV2BAX9VZLXBaYEBXD076sV5gQCuSZXd3Y2BAqvHSTWJ0YEBVZ7XAnntgQEX0a+tniWBA4yvLIbOQYEAlG7T8JZNgQE59IHmnk2BA1KcLZ22YYEDCOX4Drr5gQM0w/zLpyGBAwgk7e13bYEC2HENbKd5gQIlWk0yzMmFA2hAtw4k9YUAd1DTeTD9hQEVHcvkPQWFAl5APejZFYUBseHqlLF1hQDAzx00ozmZAOoA0UiXTZkAmVqHc0R9nQBihjn3/PWdALMIDuXpEZ0BStBd2vbBnQJGA0eWNtmdAiE2/n/W6Z0CpZ0EobxpoQHzzGyaaGmhA1SpV/SVMaEClDwKXbJ1oQN/iPPc5rWhAzmhQ2dWyaEDsoX2sILdoQDAx8aIKw2hApfm+Ew7EaEBT7wRWKZJpQEANKVCVlGlAIwrSMcxKakAoSGx3D15qQBKfO8E+XmpAyWw1kBNiakCHYuHav2dqQM7aEl4ncmpAQ5CDEiZ1akDKplzhnXxqQOuLKf2pfWpAJh3lYDaNakDiua3j7pFqQNL4Kp6fnGpAZB75g8GgakDtVXWgmM1qQHGjEujdz2pAupPjqeLTakCFc7J5AdVqQDzGcND512pATswfeOHYakAxm1t8JdlqQFZW5CEd3GpAiAxQv7DcakB/rQEA9t1qQPywOWKI4GpAkSxgAvfhakCXgPM9/u1qQPajlwcf8GpABFq6gm3xakACazBofAFrQCYYc3wZEWtAN97CX3gga0Cy4DQzqShrQF6PeGgOR2tAtG4oIT1Sa0D77NukPWBrQBcJXA0/YmtAoaAUrVxra0B9KCxMundrQOHwgojUiGtAjtt5LMema0AHANjKlbRrQKVUeIaf7WtATVdmAJ4AbEBcNXRYhidsQNlcNc/RKWxAaz2NxQBfbEAAAAAAAAD4fwAAAAAAAPh/AAAAAAAA+H8AAAAAAAD4fwAAAAAAAPh/AAAAAAAA+H8AAAAAAAD4fwAAAAAAAPh/AAAAAAAA+H8=",
          "dtype": "f8"
         },
         "xaxis": "x4",
         "y": {
          "bdata": "7nw/NV66BkAnMQisHFoIQAAAAAAAAPh/UI2XbhKDBkA/NV66SQwGQG3n+6nx0gZA2s73U+OlBkBSuB6F61EHQOF6FK5H4QZA8KfGSzeJBkAX2c73U+MJQHsUrkfhegtAE4PAyqHFEEAMAiuHFlkQQI/C9ShcjwxAjZduEoPAC0BqvHSTGAQNQM/3U+Olmw1ADAIrhxbZDEDJdr6fGi8NQP7UeOkmMQlAAAAAAAAA+H91kxgEVg4PQIcW2c73Uw1ACKwcWmQ7DEDn+6nx0k0OQMdLN4lBYA5AEoPAyqFFB0BOYhBYObQHQHNoke18PwdARIts5/upB0Db+X5qvHQHQLx0kxgEVgZAoBov3SQGB0AdWmQ7308OQC/dJAaBlQ5ALbKd76dGEEAAAAAAAAD4fy/dJAaBFRBArkfhehSuEEBkO99PjRcQQOXQItv5fhBALbKd76fGDUAEVg4tsh0QQD0K16NwPQZAJQaBlUOLCUAAAAAAAAANQMl2vp8aLxBAFK5H4XoUDkDkpZvEILAFQM3MzMzMzAVAj8L1KFyPDUCJQWDl0CIOQDm0yHa+nw5A4XoUrkfhC0Bt5/up8dIIQAAAAAAAAA5AO99PjZduDkCwcmiR7XwPQPhT46WbxAxAEoPAyqFFDUARWDm0yHYGQDvfT42XbglAokW28/3UBkAAAAAAAAD4f+kmMQisHARAAyuHFtnOB0D8qfHSTWIEQMHKoUW28wRAbef7qfHSBUA9CtejcD0GQB+F61G4HgVA30+Nl24SBkAAAAAAAAD4fx+F61G4HgVAVg4tsp3vDED6fmq8dJMEQKRwPQrXowVA/Knx0k1iBECJQWDl0CIFQAAAAAAAAPh/XI/C9ShcCEB/arx0kxgFQA4tsp3vpwRA001iEFg5BUDByqFFtvMEQH9qvHSTGAVA4XoUrkfhBUBfukkMAisGQH0/NV66SQ5ARrbz/dR4DUDb+X5qvHQNQP7UeOkmMQ9A2/l+arx0DkDJdr6fGi8MQBFYObTIdgpAx0s3iUFgCkC0yHa+nxoNQDvfT42XbgxAAAAAAAAA+H8j2/l+arwLQHE9CtejcAxArBxaZDvfDUARWDm0yHYKQI2XbhKDwAxAjZduEoPADEAbL90kBoENQPhT46WbxApAjZduEoPADECsHFpkO98IQM3MzMzMzAZAAAAAAAAA+H9KDAIrhxYKQAAAAAAAAPh/6SYxCKwcCUAAAAAAAAD4fwAAAAAAAPh/SOF6FK5HCkA=",
          "dtype": "f8"
         },
         "yaxis": "y4"
        },
        {
         "mode": "markers",
         "name": "Percentage hindered rentals",
         "type": "scatter",
         "x": {
          "bdata": "VhQKbCmHX0BicN5JVYdfQBzr4jYaiF9Am+Ydp+iIX0BuvrYjQYpfQBDpt68Dj19A0HWGTvSiX0A5RUdy+aNfQF8pyxDHsl9AXynLEMeyX0Dy9tZ2SbhfQED35cy2E2BATkti/2shYED1V37P/iFgQDJ3LSEfImBAmpmZmZkjYECUQmok0yRgQEKQKFlzJmBAQpAoWXMmYECwfbcvljBgQFsmw/G8PGBAYebxau9IYEBwj0pWqlRgQJoTajwHV2BAX9VZLXBaYEBXD076sV5gQCuSZXd3Y2BAqvHSTWJ0YEBVZ7XAnntgQEX0a+tniWBA4yvLIbOQYEAlG7T8JZNgQE59IHmnk2BA1KcLZ22YYEDCOX4Drr5gQM0w/zLpyGBAwgk7e13bYEC2HENbKd5gQIlWk0yzMmFA2hAtw4k9YUAd1DTeTD9hQEVHcvkPQWFAl5APejZFYUBseHqlLF1hQDAzx00ozmZAOoA0UiXTZkAmVqHc0R9nQBihjn3/PWdALMIDuXpEZ0BStBd2vbBnQJGA0eWNtmdAiE2/n/W6Z0CpZ0EobxpoQHzzGyaaGmhA1SpV/SVMaEClDwKXbJ1oQN/iPPc5rWhAzmhQ2dWyaEDsoX2sILdoQDAx8aIKw2hApfm+Ew7EaEBT7wRWKZJpQEANKVCVlGlAIwrSMcxKakAoSGx3D15qQBKfO8E+XmpAyWw1kBNiakCHYuHav2dqQM7aEl4ncmpAQ5CDEiZ1akDKplzhnXxqQOuLKf2pfWpAJh3lYDaNakDiua3j7pFqQNL4Kp6fnGpAZB75g8GgakDtVXWgmM1qQHGjEujdz2pAupPjqeLTakCFc7J5AdVqQDzGcND512pATswfeOHYakAxm1t8JdlqQFZW5CEd3GpAiAxQv7DcakB/rQEA9t1qQPywOWKI4GpAkSxgAvfhakCXgPM9/u1qQPajlwcf8GpABFq6gm3xakACazBofAFrQCYYc3wZEWtAN97CX3gga0Cy4DQzqShrQF6PeGgOR2tAtG4oIT1Sa0D77NukPWBrQBcJXA0/YmtAoaAUrVxra0B9KCxMundrQOHwgojUiGtAjtt5LMema0AHANjKlbRrQKVUeIaf7WtATVdmAJ4AbEBcNXRYhidsQNlcNc/RKWxAaz2NxQBfbEAAAAAAAAD4fwAAAAAAAPh/AAAAAAAA+H8AAAAAAAD4fwAAAAAAAPh/AAAAAAAA+H8AAAAAAAD4fwAAAAAAAPh/AAAAAAAA+H8=",
          "dtype": "f8"
         },
         "xaxis": "x5",
         "y": {
          "bdata": "VhQKbCmHX0BicN5JVYdfQBzr4jYaiF9Am+Ydp+iIX0BuvrYjQYpfQBDpt68Dj19A0HWGTvSiX0A5RUdy+aNfQF8pyxDHsl9AXynLEMeyX0Dy9tZ2SbhfQED35cy2E2BATkti/2shYED1V37P/iFgQDJ3LSEfImBAmpmZmZkjYECUQmok0yRgQEKQKFlzJmBAQpAoWXMmYECwfbcvljBgQFsmw/G8PGBAYebxau9IYEBwj0pWqlRgQJoTajwHV2BAX9VZLXBaYEBXD076sV5gQCuSZXd3Y2BAqvHSTWJ0YEBVZ7XAnntgQEX0a+tniWBA4yvLIbOQYEAlG7T8JZNgQE59IHmnk2BA1KcLZ22YYEDCOX4Drr5gQM0w/zLpyGBAwgk7e13bYEC2HENbKd5gQIlWk0yzMmFA2hAtw4k9YUAd1DTeTD9hQEVHcvkPQWFAl5APejZFYUBseHqlLF1hQDAzx00ozmZAOoA0UiXTZkAmVqHc0R9nQBihjn3/PWdALMIDuXpEZ0BStBd2vbBnQJGA0eWNtmdAiE2/n/W6Z0CpZ0EobxpoQHzzGyaaGmhA1SpV/SVMaEClDwKXbJ1oQN/iPPc5rWhAzmhQ2dWyaEDsoX2sILdoQDAx8aIKw2hApfm+Ew7EaEBT7wRWKZJpQEANKVCVlGlAIwrSMcxKakAoSGx3D15qQBKfO8E+XmpAyWw1kBNiakCHYuHav2dqQM7aEl4ncmpAQ5CDEiZ1akDKplzhnXxqQOuLKf2pfWpAJh3lYDaNakDiua3j7pFqQNL4Kp6fnGpAZB75g8GgakDtVXWgmM1qQHGjEujdz2pAupPjqeLTakCFc7J5AdVqQDzGcND512pATswfeOHYakAxm1t8JdlqQFZW5CEd3GpAiAxQv7DcakB/rQEA9t1qQPywOWKI4GpAkSxgAvfhakCXgPM9/u1qQPajlwcf8GpABFq6gm3xakACazBofAFrQCYYc3wZEWtAN97CX3gga0Cy4DQzqShrQF6PeGgOR2tAtG4oIT1Sa0D77NukPWBrQBcJXA0/YmtAoaAUrVxra0B9KCxMundrQOHwgojUiGtAjtt5LMema0AHANjKlbRrQKVUeIaf7WtATVdmAJ4AbEBcNXRYhidsQNlcNc/RKWxAaz2NxQBfbEAAAAAAAAD4fwAAAAAAAPh/AAAAAAAA+H8AAAAAAAD4fwAAAAAAAPh/AAAAAAAA+H8AAAAAAAD4fwAAAAAAAPh/AAAAAAAA+H8=",
          "dtype": "f8"
         },
         "yaxis": "y5"
        },
        {
         "mode": "markers",
         "name": "Percentage hindered rentals",
         "type": "scatter",
         "x": {
          "bdata": "VhQKbCmHX0BicN5JVYdfQBzr4jYaiF9Am+Ydp+iIX0BuvrYjQYpfQBDpt68Dj19A0HWGTvSiX0A5RUdy+aNfQF8pyxDHsl9AXynLEMeyX0Dy9tZ2SbhfQED35cy2E2BATkti/2shYED1V37P/iFgQDJ3LSEfImBAmpmZmZkjYECUQmok0yRgQEKQKFlzJmBAQpAoWXMmYECwfbcvljBgQFsmw/G8PGBAYebxau9IYEBwj0pWqlRgQJoTajwHV2BAX9VZLXBaYEBXD076sV5gQCuSZXd3Y2BAqvHSTWJ0YEBVZ7XAnntgQEX0a+tniWBA4yvLIbOQYEAlG7T8JZNgQE59IHmnk2BA1KcLZ22YYEDCOX4Drr5gQM0w/zLpyGBAwgk7e13bYEC2HENbKd5gQIlWk0yzMmFA2hAtw4k9YUAd1DTeTD9hQEVHcvkPQWFAl5APejZFYUBseHqlLF1hQDAzx00ozmZAOoA0UiXTZkAmVqHc0R9nQBihjn3/PWdALMIDuXpEZ0BStBd2vbBnQJGA0eWNtmdAiE2/n/W6Z0CpZ0EobxpoQHzzGyaaGmhA1SpV/SVMaEClDwKXbJ1oQN/iPPc5rWhAzmhQ2dWyaEDsoX2sILdoQDAx8aIKw2hApfm+Ew7EaEBT7wRWKZJpQEANKVCVlGlAIwrSMcxKakAoSGx3D15qQBKfO8E+XmpAyWw1kBNiakCHYuHav2dqQM7aEl4ncmpAQ5CDEiZ1akDKplzhnXxqQOuLKf2pfWpAJh3lYDaNakDiua3j7pFqQNL4Kp6fnGpAZB75g8GgakDtVXWgmM1qQHGjEujdz2pAupPjqeLTakCFc7J5AdVqQDzGcND512pATswfeOHYakAxm1t8JdlqQFZW5CEd3GpAiAxQv7DcakB/rQEA9t1qQPywOWKI4GpAkSxgAvfhakCXgPM9/u1qQPajlwcf8GpABFq6gm3xakACazBofAFrQCYYc3wZEWtAN97CX3gga0Cy4DQzqShrQF6PeGgOR2tAtG4oIT1Sa0D77NukPWBrQBcJXA0/YmtAoaAUrVxra0B9KCxMundrQOHwgojUiGtAjtt5LMema0AHANjKlbRrQKVUeIaf7WtATVdmAJ4AbEBcNXRYhidsQNlcNc/RKWxAaz2NxQBfbEAAAAAAAAD4fwAAAAAAAPh/AAAAAAAA+H8AAAAAAAD4fwAAAAAAAPh/AAAAAAAA+H8AAAAAAAD4fwAAAAAAAPh/AAAAAAAA+H8=",
          "dtype": "f8"
         },
         "xaxis": "x6",
         "y": {
          "bdata": "AAAAAAAA+H9cj8L1KFwsQD81XrpJDCNA5/up8dLNH0Av3SQGgZUfQArXo3A9ihtAAAAAAAAA+H8K16NwPYoaQDdeukkMghxArkfhehQuH0DHSzeJQaAsQOF6FK5H4R1ARrbz/dR4K0BGtvP91HgrQGQQWDm0yBdA+n5qvHSTFkD6fmq8dJMWQKjGSzeJAStAN166SQyCG0A3XrpJDIIbQN9PjZdukhRA0SLb+X5qGECuR+F6FC4eQK5H4XoUrhxA0SLb+X5qGEBcj8L1KNwXQM/3U+OlGxZAAAAAAAAA+H8zMzMzM7MgQAAAAAAAAPh/ppvEILAyIECmm8QgsDIgQMl2vp8aryJAtvP91HipIkAv3SQGgRUfQDMzMzMz8yFAbRKDwMqhHkBtEoPAyqEeQBKDwMqhxR9AzczMzMxMIEDP91PjpZsgQM3MzMzMTCBAzczMzMxMIEAj2/l+anwgQD81XrpJzCFAAAAAAAAA+H8MAiuHFhkhQJhuEoPACiFAAAAAAABAIUBFtvP91HgbQJMYBFYO7SFADAIrhxbZIEBxPQrXozAhQEJg5dAiWxlAWDm0yHY+IUBQjZduEoMgQNrO91PjpRhArkfhehQuIECuR+F6FC4gQLFyaJHtfB9AWDm0yHY+GEAGgZVDi2wfQFYOLbKd7x1ACKwcWmQ7H0AAAAAAAAD4fwAAAAAAAPh/dJMYBFYOIECDwMqhRTYgQNrO91PjJR9A+n5qvHRTIECS7Xw/NV4cQJZDi2zn+xlAku18PzVeHEDfT42XbhIbQDEIrBxa5BtA8tJNYhDYG0BEtvP91HgdQKwcWmQ7Xx1AGQRWDi0yGUD4U+Olm8QZQBkEVg4tMhlAO99PjZduG0CsHFpkO18dQMP1KFyPQhlAAAAAAAAA+H/D9Shcj0IZQPCnxks3iRlAqMZLN4lBHkA9CtejcD0aQO58PzVeuh5ADgIrhxbZH0AEVg4tsh0aQNv5fmq89BlA7FG4HoVrG0AzMzMzM7MbQBBYObTIdh9AMzMzMzMzGUAAAAAAAAD4fzMzMzMzsxlA7nw/NV46HED4U+Olm0QeQO58PzVeOhxAMQisHFpkHUB9PzVeuskcQAAAAAAAAPh/5aWbxCCwFUAOLbKd76caQA4tsp3vpxpAiUFg5dAiGEAAAAAAAAD4f+f7qfHSzR9A3SQGgZXDHUCgRbbz/VQbQAwCK4cW2SBAtvP91HipIkDP91PjpRseQJZDi2zn+yFAfT81XrrJHEA=",
          "dtype": "f8"
         },
         "yaxis": "y6"
        }
       ],
       "layout": {
        "height": 700,
        "showlegend": false,
        "template": {
         "data": {
          "bar": [
           {
            "error_x": {
             "color": "#2a3f5f"
            },
            "error_y": {
             "color": "#2a3f5f"
            },
            "marker": {
             "line": {
              "color": "#E5ECF6",
              "width": 0.5
             },
             "pattern": {
              "fillmode": "overlay",
              "size": 10,
              "solidity": 0.2
             }
            },
            "type": "bar"
           }
          ],
          "barpolar": [
           {
            "marker": {
             "line": {
              "color": "#E5ECF6",
              "width": 0.5
             },
             "pattern": {
              "fillmode": "overlay",
              "size": 10,
              "solidity": 0.2
             }
            },
            "type": "barpolar"
           }
          ],
          "carpet": [
           {
            "aaxis": {
             "endlinecolor": "#2a3f5f",
             "gridcolor": "white",
             "linecolor": "white",
             "minorgridcolor": "white",
             "startlinecolor": "#2a3f5f"
            },
            "baxis": {
             "endlinecolor": "#2a3f5f",
             "gridcolor": "white",
             "linecolor": "white",
             "minorgridcolor": "white",
             "startlinecolor": "#2a3f5f"
            },
            "type": "carpet"
           }
          ],
          "choropleth": [
           {
            "colorbar": {
             "outlinewidth": 0,
             "ticks": ""
            },
            "type": "choropleth"
           }
          ],
          "contour": [
           {
            "colorbar": {
             "outlinewidth": 0,
             "ticks": ""
            },
            "colorscale": [
             [
              0,
              "#0d0887"
             ],
             [
              0.1111111111111111,
              "#46039f"
             ],
             [
              0.2222222222222222,
              "#7201a8"
             ],
             [
              0.3333333333333333,
              "#9c179e"
             ],
             [
              0.4444444444444444,
              "#bd3786"
             ],
             [
              0.5555555555555556,
              "#d8576b"
             ],
             [
              0.6666666666666666,
              "#ed7953"
             ],
             [
              0.7777777777777778,
              "#fb9f3a"
             ],
             [
              0.8888888888888888,
              "#fdca26"
             ],
             [
              1,
              "#f0f921"
             ]
            ],
            "type": "contour"
           }
          ],
          "contourcarpet": [
           {
            "colorbar": {
             "outlinewidth": 0,
             "ticks": ""
            },
            "type": "contourcarpet"
           }
          ],
          "heatmap": [
           {
            "colorbar": {
             "outlinewidth": 0,
             "ticks": ""
            },
            "colorscale": [
             [
              0,
              "#0d0887"
             ],
             [
              0.1111111111111111,
              "#46039f"
             ],
             [
              0.2222222222222222,
              "#7201a8"
             ],
             [
              0.3333333333333333,
              "#9c179e"
             ],
             [
              0.4444444444444444,
              "#bd3786"
             ],
             [
              0.5555555555555556,
              "#d8576b"
             ],
             [
              0.6666666666666666,
              "#ed7953"
             ],
             [
              0.7777777777777778,
              "#fb9f3a"
             ],
             [
              0.8888888888888888,
              "#fdca26"
             ],
             [
              1,
              "#f0f921"
             ]
            ],
            "type": "heatmap"
           }
          ],
          "histogram": [
           {
            "marker": {
             "pattern": {
              "fillmode": "overlay",
              "size": 10,
              "solidity": 0.2
             }
            },
            "type": "histogram"
           }
          ],
          "histogram2d": [
           {
            "colorbar": {
             "outlinewidth": 0,
             "ticks": ""
            },
            "colorscale": [
             [
              0,
              "#0d0887"
             ],
             [
              0.1111111111111111,
              "#46039f"
             ],
             [
              0.2222222222222222,
              "#7201a8"
             ],
             [
              0.3333333333333333,
              "#9c179e"
             ],
             [
              0.4444444444444444,
              "#bd3786"
             ],
             [
              0.5555555555555556,
              "#d8576b"
             ],
             [
              0.6666666666666666,
              "#ed7953"
             ],
             [
              0.7777777777777778,
              "#fb9f3a"
             ],
             [
              0.8888888888888888,
              "#fdca26"
             ],
             [
              1,
              "#f0f921"
             ]
            ],
            "type": "histogram2d"
           }
          ],
          "histogram2dcontour": [
           {
            "colorbar": {
             "outlinewidth": 0,
             "ticks": ""
            },
            "colorscale": [
             [
              0,
              "#0d0887"
             ],
             [
              0.1111111111111111,
              "#46039f"
             ],
             [
              0.2222222222222222,
              "#7201a8"
             ],
             [
              0.3333333333333333,
              "#9c179e"
             ],
             [
              0.4444444444444444,
              "#bd3786"
             ],
             [
              0.5555555555555556,
              "#d8576b"
             ],
             [
              0.6666666666666666,
              "#ed7953"
             ],
             [
              0.7777777777777778,
              "#fb9f3a"
             ],
             [
              0.8888888888888888,
              "#fdca26"
             ],
             [
              1,
              "#f0f921"
             ]
            ],
            "type": "histogram2dcontour"
           }
          ],
          "mesh3d": [
           {
            "colorbar": {
             "outlinewidth": 0,
             "ticks": ""
            },
            "type": "mesh3d"
           }
          ],
          "parcoords": [
           {
            "line": {
             "colorbar": {
              "outlinewidth": 0,
              "ticks": ""
             }
            },
            "type": "parcoords"
           }
          ],
          "pie": [
           {
            "automargin": true,
            "type": "pie"
           }
          ],
          "scatter": [
           {
            "fillpattern": {
             "fillmode": "overlay",
             "size": 10,
             "solidity": 0.2
            },
            "type": "scatter"
           }
          ],
          "scatter3d": [
           {
            "line": {
             "colorbar": {
              "outlinewidth": 0,
              "ticks": ""
             }
            },
            "marker": {
             "colorbar": {
              "outlinewidth": 0,
              "ticks": ""
             }
            },
            "type": "scatter3d"
           }
          ],
          "scattercarpet": [
           {
            "marker": {
             "colorbar": {
              "outlinewidth": 0,
              "ticks": ""
             }
            },
            "type": "scattercarpet"
           }
          ],
          "scattergeo": [
           {
            "marker": {
             "colorbar": {
              "outlinewidth": 0,
              "ticks": ""
             }
            },
            "type": "scattergeo"
           }
          ],
          "scattergl": [
           {
            "marker": {
             "colorbar": {
              "outlinewidth": 0,
              "ticks": ""
             }
            },
            "type": "scattergl"
           }
          ],
          "scattermap": [
           {
            "marker": {
             "colorbar": {
              "outlinewidth": 0,
              "ticks": ""
             }
            },
            "type": "scattermap"
           }
          ],
          "scattermapbox": [
           {
            "marker": {
             "colorbar": {
              "outlinewidth": 0,
              "ticks": ""
             }
            },
            "type": "scattermapbox"
           }
          ],
          "scatterpolar": [
           {
            "marker": {
             "colorbar": {
              "outlinewidth": 0,
              "ticks": ""
             }
            },
            "type": "scatterpolar"
           }
          ],
          "scatterpolargl": [
           {
            "marker": {
             "colorbar": {
              "outlinewidth": 0,
              "ticks": ""
             }
            },
            "type": "scatterpolargl"
           }
          ],
          "scatterternary": [
           {
            "marker": {
             "colorbar": {
              "outlinewidth": 0,
              "ticks": ""
             }
            },
            "type": "scatterternary"
           }
          ],
          "surface": [
           {
            "colorbar": {
             "outlinewidth": 0,
             "ticks": ""
            },
            "colorscale": [
             [
              0,
              "#0d0887"
             ],
             [
              0.1111111111111111,
              "#46039f"
             ],
             [
              0.2222222222222222,
              "#7201a8"
             ],
             [
              0.3333333333333333,
              "#9c179e"
             ],
             [
              0.4444444444444444,
              "#bd3786"
             ],
             [
              0.5555555555555556,
              "#d8576b"
             ],
             [
              0.6666666666666666,
              "#ed7953"
             ],
             [
              0.7777777777777778,
              "#fb9f3a"
             ],
             [
              0.8888888888888888,
              "#fdca26"
             ],
             [
              1,
              "#f0f921"
             ]
            ],
            "type": "surface"
           }
          ],
          "table": [
           {
            "cells": {
             "fill": {
              "color": "#EBF0F8"
             },
             "line": {
              "color": "white"
             }
            },
            "header": {
             "fill": {
              "color": "#C8D4E3"
             },
             "line": {
              "color": "white"
             }
            },
            "type": "table"
           }
          ]
         },
         "layout": {
          "annotationdefaults": {
           "arrowcolor": "#2a3f5f",
           "arrowhead": 0,
           "arrowwidth": 1
          },
          "autotypenumbers": "strict",
          "coloraxis": {
           "colorbar": {
            "outlinewidth": 0,
            "ticks": ""
           }
          },
          "colorscale": {
           "diverging": [
            [
             0,
             "#8e0152"
            ],
            [
             0.1,
             "#c51b7d"
            ],
            [
             0.2,
             "#de77ae"
            ],
            [
             0.3,
             "#f1b6da"
            ],
            [
             0.4,
             "#fde0ef"
            ],
            [
             0.5,
             "#f7f7f7"
            ],
            [
             0.6,
             "#e6f5d0"
            ],
            [
             0.7,
             "#b8e186"
            ],
            [
             0.8,
             "#7fbc41"
            ],
            [
             0.9,
             "#4d9221"
            ],
            [
             1,
             "#276419"
            ]
           ],
           "sequential": [
            [
             0,
             "#0d0887"
            ],
            [
             0.1111111111111111,
             "#46039f"
            ],
            [
             0.2222222222222222,
             "#7201a8"
            ],
            [
             0.3333333333333333,
             "#9c179e"
            ],
            [
             0.4444444444444444,
             "#bd3786"
            ],
            [
             0.5555555555555556,
             "#d8576b"
            ],
            [
             0.6666666666666666,
             "#ed7953"
            ],
            [
             0.7777777777777778,
             "#fb9f3a"
            ],
            [
             0.8888888888888888,
             "#fdca26"
            ],
            [
             1,
             "#f0f921"
            ]
           ],
           "sequentialminus": [
            [
             0,
             "#0d0887"
            ],
            [
             0.1111111111111111,
             "#46039f"
            ],
            [
             0.2222222222222222,
             "#7201a8"
            ],
            [
             0.3333333333333333,
             "#9c179e"
            ],
            [
             0.4444444444444444,
             "#bd3786"
            ],
            [
             0.5555555555555556,
             "#d8576b"
            ],
            [
             0.6666666666666666,
             "#ed7953"
            ],
            [
             0.7777777777777778,
             "#fb9f3a"
            ],
            [
             0.8888888888888888,
             "#fdca26"
            ],
            [
             1,
             "#f0f921"
            ]
           ]
          },
          "colorway": [
           "#636efa",
           "#EF553B",
           "#00cc96",
           "#ab63fa",
           "#FFA15A",
           "#19d3f3",
           "#FF6692",
           "#B6E880",
           "#FF97FF",
           "#FECB52"
          ],
          "font": {
           "color": "#2a3f5f"
          },
          "geo": {
           "bgcolor": "white",
           "lakecolor": "white",
           "landcolor": "#E5ECF6",
           "showlakes": true,
           "showland": true,
           "subunitcolor": "white"
          },
          "hoverlabel": {
           "align": "left"
          },
          "hovermode": "closest",
          "mapbox": {
           "style": "light"
          },
          "paper_bgcolor": "white",
          "plot_bgcolor": "#E5ECF6",
          "polar": {
           "angularaxis": {
            "gridcolor": "white",
            "linecolor": "white",
            "ticks": ""
           },
           "bgcolor": "#E5ECF6",
           "radialaxis": {
            "gridcolor": "white",
            "linecolor": "white",
            "ticks": ""
           }
          },
          "scene": {
           "xaxis": {
            "backgroundcolor": "#E5ECF6",
            "gridcolor": "white",
            "gridwidth": 2,
            "linecolor": "white",
            "showbackground": true,
            "ticks": "",
            "zerolinecolor": "white"
           },
           "yaxis": {
            "backgroundcolor": "#E5ECF6",
            "gridcolor": "white",
            "gridwidth": 2,
            "linecolor": "white",
            "showbackground": true,
            "ticks": "",
            "zerolinecolor": "white"
           },
           "zaxis": {
            "backgroundcolor": "#E5ECF6",
            "gridcolor": "white",
            "gridwidth": 2,
            "linecolor": "white",
            "showbackground": true,
            "ticks": "",
            "zerolinecolor": "white"
           }
          },
          "shapedefaults": {
           "line": {
            "color": "#2a3f5f"
           }
          },
          "ternary": {
           "aaxis": {
            "gridcolor": "white",
            "linecolor": "white",
            "ticks": ""
           },
           "baxis": {
            "gridcolor": "white",
            "linecolor": "white",
            "ticks": ""
           },
           "bgcolor": "#E5ECF6",
           "caxis": {
            "gridcolor": "white",
            "linecolor": "white",
            "ticks": ""
           }
          },
          "title": {
           "x": 0.05
          },
          "xaxis": {
           "automargin": true,
           "gridcolor": "white",
           "linecolor": "white",
           "ticks": "",
           "title": {
            "standoff": 15
           },
           "zerolinecolor": "white",
           "zerolinewidth": 2
          },
          "yaxis": {
           "automargin": true,
           "gridcolor": "white",
           "linecolor": "white",
           "ticks": "",
           "title": {
            "standoff": 15
           },
           "zerolinecolor": "white",
           "zerolinewidth": 2
          }
         }
        },
        "title": {
         "text": "Evolution along CPI"
        },
        "width": 1200,
        "xaxis": {
         "anchor": "y",
         "domain": [
          0,
          0.45
         ],
         "title": {
          "text": "Weekly_Sales"
         }
        },
        "xaxis2": {
         "anchor": "y2",
         "domain": [
          0.55,
          1
         ],
         "title": {
          "text": "Holiday_Flag"
         }
        },
        "xaxis3": {
         "anchor": "y3",
         "domain": [
          0,
          0.45
         ],
         "title": {
          "text": "Temperature"
         }
        },
        "xaxis4": {
         "anchor": "y4",
         "domain": [
          0.55,
          1
         ],
         "title": {
          "text": "Fuel_Price"
         }
        },
        "xaxis5": {
         "anchor": "y5",
         "domain": [
          0,
          0.45
         ],
         "title": {
          "text": "CPI"
         }
        },
        "xaxis6": {
         "anchor": "y6",
         "domain": [
          0.55,
          1
         ],
         "title": {
          "text": "Unemployment"
         }
        },
        "yaxis": {
         "anchor": "x",
         "domain": [
          0.7333333333333333,
          1
         ]
        },
        "yaxis2": {
         "anchor": "x2",
         "domain": [
          0.7333333333333333,
          1
         ]
        },
        "yaxis3": {
         "anchor": "x3",
         "domain": [
          0.36666666666666664,
          0.6333333333333333
         ]
        },
        "yaxis4": {
         "anchor": "x4",
         "domain": [
          0.36666666666666664,
          0.6333333333333333
         ]
        },
        "yaxis5": {
         "anchor": "x5",
         "domain": [
          0,
          0.26666666666666666
         ]
        },
        "yaxis6": {
         "anchor": "x6",
         "domain": [
          0,
          0.26666666666666666
         ]
        }
       }
      }
     },
     "metadata": {},
     "output_type": "display_data"
    }
   ],
   "source": [
    "import plotly.graph_objects as go\n",
    "from plotly.subplots import make_subplots\n",
    "\n",
    "x_axis = \"CPI\"\n",
    "\n",
    "wsales_df_for_viz = wsales_df.sort_values(by=[x_axis])\n",
    "\n",
    "cols = [\"Weekly_Sales\", \"Holiday_Flag\", \"Temperature\", \"Fuel_Price\", \"CPI\", \"Unemployment\"]\n",
    "fig = make_subplots(rows=3, cols=2)\n",
    "\n",
    "positions = [(r, c) for r in range(1, 4) for c in range(1, 3)]\n",
    "\n",
    "for i, col in enumerate(cols):\n",
    "    row, col_pos = positions[i]\n",
    "\n",
    "    fig.add_trace(go.Scatter(\n",
    "        x=wsales_df_for_viz[x_axis], y=wsales_df_for_viz[col],\n",
    "        mode=\"markers\",\n",
    "        name=\"Percentage hindered rentals\",\n",
    "    ),\n",
    "    row=row,\n",
    "    col=col_pos\n",
    "    )\n",
    "    axis_num = i + 1\n",
    "    fig.update_layout({f\"xaxis{axis_num}\": dict(title=col)})\n",
    "\n",
    "fig.update_layout(\n",
    "    height=700,\n",
    "    width=1200,\n",
    "    title_text=f\"Evolution along {x_axis}\",\n",
    "    showlegend=False\n",
    ")\n",
    "\n",
    "fig.show()"
   ]
  },
  {
   "cell_type": "code",
   "execution_count": null,
   "id": "3394c609",
   "metadata": {},
   "outputs": [
    {
     "data": {
      "application/vnd.plotly.v1+json": {
       "config": {
        "plotlyServerURL": "https://plot.ly"
       },
       "data": [
        {
         "mode": "markers",
         "name": "Percentage hindered rentals",
         "type": "scatter",
         "x": {
          "bdata": "30+Nl26SFEDlpZvEILAVQM/3U+OlGxZA+n5qvHSTFkD6fmq8dJMWQGQQWDm0yBdAXI/C9SjcF0CJQWDl0CIYQFg5tMh2PhhA0SLb+X5qGEDRItv5fmoYQNrO91PjpRhAGQRWDi0yGUAZBFYOLTIZQDMzMzMzMxlAw/UoXI9CGUDD9Shcj0IZQEJg5dAiWxlA8KfGSzeJGUAzMzMzM7MZQPhT46WbxBlA2/l+arz0GUCWQ4ts5/sZQARWDi2yHRpAPQrXo3A9GkAK16NwPYoaQA4tsp3vpxpADi2yne+nGkDfT42XbhIbQKBFtvP9VBtA7FG4HoVrG0A730+Nl24bQEW28/3UeBtAN166SQyCG0A3XrpJDIIbQArXo3A9ihtAMzMzMzOzG0Dy0k1iENgbQDEIrBxa5BtA7nw/NV46HEDufD81XjocQJLtfD81XhxAku18PzVeHEA3XrpJDIIcQK5H4XoUrhxAfT81XrrJHEB9PzVeuskcQKwcWmQ7Xx1ArBxaZDtfHUAxCKwcWmQdQES28/3UeB1A3SQGgZXDHUDhehSuR+EdQFYOLbKd7x1Az/dT46UbHkCuR+F6FC4eQKjGSzeJQR5A+FPjpZtEHkBtEoPAyqEeQG0Sg8DKoR5A7nw/NV66HkAv3SQGgRUfQNrO91PjJR9ArkfhehQuH0AIrBxaZDsfQAaBlUOLbB9AEFg5tMh2H0CxcmiR7XwfQC/dJAaBlR9AEoPAyqHFH0Dn+6nx0s0fQOf7qfHSzR9ADgIrhxbZH0B0kxgEVg4gQK5H4XoULiBArkfhehQuIECmm8QgsDIgQKabxCCwMiBAg8DKoUU2IEDNzMzMzEwgQM3MzMzMTCBAzczMzMxMIED6fmq8dFMgQCPb+X5qfCBAUI2XbhKDIEDP91PjpZsgQDMzMzMzsyBADAIrhxbZIEAMAiuHFtkgQJhuEoPACiFADAIrhxYZIUBxPQrXozAhQFg5tMh2PiFAAAAAAABAIUA/NV66ScwhQJMYBFYO7SFAMzMzMzPzIUCWQ4ts5/shQLbz/dR4qSJAtvP91HipIkDJdr6fGq8iQD81XrpJDCNAqMZLN4kBK0BGtvP91HgrQEa28/3UeCtAXI/C9ShcLEDHSzeJQaAsQAAAAAAAAPh/AAAAAAAA+H8AAAAAAAD4fwAAAAAAAPh/AAAAAAAA+H8AAAAAAAD4fwAAAAAAAPh/AAAAAAAA+H8AAAAAAAD4fwAAAAAAAPh/AAAAAAAA+H8=",
          "dtype": "f8"
         },
         "xaxis": "x",
         "y": {
          "bdata": "XI/CleIkRUGamZmZOCATQeF6FK6MEixBw/Uo3G2IP0E9CtdjBxI/QbgehesYpT5BPQrXY+cOP0EfhetRBOkZQR+F61F6ESBB7FG4nm7oPkFcj8I1lqQ7QT0K16Odmx1BH4XrUWBBKkHNzMzM4lsuQc3MzMyKCRNB9ihcj+EfK0EzMzOzx4gpQSlcj8IUkxpBrkfhesdQH0EAAAAAtVArQZqZmZk0oB1BpHA9CsjBEUHsUbgeBGoQQeF6FK4YyxBBMzMzMz26H0FSuB6F1R8nQQrXo3DFXRpBzczMzKeaGUEK16NwDWwSQa5H4Xo6bRZB4XoU7r4DOUGkcD2KFf03QY/C9ajaviJBXI/C9YYwPEEUrkdhpRA+QaRwPYouTilBj8L1aHWsNUGamZmZwc9AQXsUrseUYTdBMzMzs6poPEE9CtcjYHU7QY/C9ai2FzlBj8L1KODbNkHhehRuFJFBQaRwPcqvjjtBmpmZmTmeGEEUrkfh21cYQWZmZmazOBZBMzMzM6M6GEF7FK7HoJg5QRSuR+HYLBxBKVyPQnCPQkHhehRuuZQ7QaRwPco5djtBZmZmpvdOO0FSuB4F414+QSlcj4I60DpBKVyPwgNLFkEUrkdhyDglQRSuR6FRZDZBuB6Fq75eNkEK16PwhFMzQbgeheu2HDZBzczMLI7HQkEAAACA68w2QexRuN6PGz5BMzMzs5t9N0GamZkZ6T4iQTMzM7P9VzxBXI/CdeZpIUFcj8K1Csw+QRSuR6FVej5BAAAAwD/JOEGkcD3KYtM6QdejcD3w6RtBpHA9igdCIEFcj8L1e9k0QeF6FK7aojdBCtejcOUNOUEpXI9CryYzQcP1KFy+ZzZBCtejcE9wNUHXo3C9jD89QQAAAACfYzBBpHA9igkyIUFcj8J1RFUtQTMzM3NPxjVB16Nw/cbUPkHXo3A9SLI/QeF6FO7v+T9BrkfhOputPEEzMzMzOEYZQQrXo/DUOSNBKVyPwgjPPUG4HoXL4idBQXsUrkfyHyFBCtejcPsnLkEUrkeh5/k/QTMzMzPkay9BXI/Ctc48OEGamZnZJcsxQfYoXE/s+jpBw/UoXBMsLUFcj8L1xCkvQVK4HgXZbS1B9ihcD56PK0GamZlZ9cQzQRSuR6Ej10NB7FG4Hj0VH0FSuB7F5AI3QcP1KFwnOxJBpHA9ylorM0FSuB7FUTVAQQAAAIDNKiRBmpmZGSp0PEG4HoXrRxsqQbgehWuIyylBMzMzM7glKkE=",
          "dtype": "f8"
         },
         "yaxis": "y"
        },
        {
         "mode": "markers",
         "name": "Percentage hindered rentals",
         "type": "scatter",
         "x": {
          "bdata": "30+Nl26SFEDlpZvEILAVQM/3U+OlGxZA+n5qvHSTFkD6fmq8dJMWQGQQWDm0yBdAXI/C9SjcF0CJQWDl0CIYQFg5tMh2PhhA0SLb+X5qGEDRItv5fmoYQNrO91PjpRhAGQRWDi0yGUAZBFYOLTIZQDMzMzMzMxlAw/UoXI9CGUDD9Shcj0IZQEJg5dAiWxlA8KfGSzeJGUAzMzMzM7MZQPhT46WbxBlA2/l+arz0GUCWQ4ts5/sZQARWDi2yHRpAPQrXo3A9GkAK16NwPYoaQA4tsp3vpxpADi2yne+nGkDfT42XbhIbQKBFtvP9VBtA7FG4HoVrG0A730+Nl24bQEW28/3UeBtAN166SQyCG0A3XrpJDIIbQArXo3A9ihtAMzMzMzOzG0Dy0k1iENgbQDEIrBxa5BtA7nw/NV46HEDufD81XjocQJLtfD81XhxAku18PzVeHEA3XrpJDIIcQK5H4XoUrhxAfT81XrrJHEB9PzVeuskcQKwcWmQ7Xx1ArBxaZDtfHUAxCKwcWmQdQES28/3UeB1A3SQGgZXDHUDhehSuR+EdQFYOLbKd7x1Az/dT46UbHkCuR+F6FC4eQKjGSzeJQR5A+FPjpZtEHkBtEoPAyqEeQG0Sg8DKoR5A7nw/NV66HkAv3SQGgRUfQNrO91PjJR9ArkfhehQuH0AIrBxaZDsfQAaBlUOLbB9AEFg5tMh2H0CxcmiR7XwfQC/dJAaBlR9AEoPAyqHFH0Dn+6nx0s0fQOf7qfHSzR9ADgIrhxbZH0B0kxgEVg4gQK5H4XoULiBArkfhehQuIECmm8QgsDIgQKabxCCwMiBAg8DKoUU2IEDNzMzMzEwgQM3MzMzMTCBAzczMzMxMIED6fmq8dFMgQCPb+X5qfCBAUI2XbhKDIEDP91PjpZsgQDMzMzMzsyBADAIrhxbZIEAMAiuHFtkgQJhuEoPACiFADAIrhxYZIUBxPQrXozAhQFg5tMh2PiFAAAAAAABAIUA/NV66ScwhQJMYBFYO7SFAMzMzMzPzIUCWQ4ts5/shQLbz/dR4qSJAtvP91HipIkDJdr6fGq8iQD81XrpJDCNAqMZLN4kBK0BGtvP91HgrQEa28/3UeCtAXI/C9ShcLEDHSzeJQaAsQAAAAAAAAPh/AAAAAAAA+H8AAAAAAAD4fwAAAAAAAPh/AAAAAAAA+H8AAAAAAAD4fwAAAAAAAPh/AAAAAAAA+H8AAAAAAAD4fwAAAAAAAPh/AAAAAAAA+H8=",
          "dtype": "f8"
         },
         "xaxis": "x2",
         "y": {
          "bdata": "AAAAAAAAAAAAAAAAAAAAAAAAAAAAAAAAAAAAAAAAAAAAAAAAAAAAAAAAAAAAAAAAAAAAAAAAAAAAAAAAAAAAAAAAAAAAAAAAAAAAAAAAAAAAAAAAAAAAAAAAAAAAAAAAAAAAAAAAAAAAAAAAAADwPwAAAAAAAAAAAAAAAAAAAAAAAAAAAAAAAAAAAAAAAAAAAAAAAAAAAAAAAAAAAAAAAAAAAAAAAAAAAAAAAAAAAAAAAAAAAAAAAAAAAAAAAAAAAAAAAAAAAAAAAAAAAAAAAAAAAAAAAAAAAAAAAAAAAAAAAAAAAAAAAAAAAAAAAAAAAAAAAAAAAAAAAAAAAAAAAAAAAAAAAAAAAAAAAAAAAAAAAAAAAAAAAAAAAAAAAAAAAAAAAAAAAAAAAAAAAAAAAAAAAAAAAAAAAAAAAAAAAAAAAAAAAAAAAAAAAAAAAAAAAAAAAAAAAAAAAAAAAAAAAAAAAAAAAAAAAAAAAAAAAAAAAAAAAAAAAAAAAAAAAAAAAAAAAAAAAAAAAAAAAAAAAAAAAAAAAAAAAAAAAAAAAAAAAAAAAAAAAAAAAAAAAPA/AAAAAAAAAAAAAAAAAAAAAAAAAAAAAPA/AAAAAAAAAAAAAAAAAAAAAAAAAAAAAAAAAAAAAAAAAAAAAAAAAAAAAAAAAAAAAAAAAAAAAAAAAAAAAAAAAAAAAAAAAAAAAAAAAAAAAAAAAAAAAAAAAADwPwAAAAAAAAAAAAAAAAAAAAAAAAAAAAAAAAAAAAAAAAAAAAAAAAAAAAAAAAAAAAAAAAAAAAAAAAAAAAAAAAAAAAAAAAAAAAAAAAAAAAAAAAAAAAAAAAAA8D8AAAAAAAAAAAAAAAAAAAAAAAAAAAAAAAAAAAAAAAAAAAAAAAAAAAAAAAAAAAAA8D8AAAAAAAAAAAAAAAAAAAAAAAAAAAAAAAAAAAAAAADwPwAAAAAAAAAAAAAAAAAAAAAAAAAAAAAAAAAAAAAAAAAAAAAAAAAAAAAAAAAAAAAAAAAAAAAAAAAAAAAAAAAAAAAAAAAAAAAAAAAAAAAAAAAAAAAAAAAAAAAAAAAAAAAAAAAAAAAAAAAAAAAAAAAAAAAAAAAAAAAAAAAAAAAAAAAAAAAAAAAA8D8AAAAAAAAAAAAAAAAAAAAAAAAAAAAAAAAAAAAAAAAAAAAAAAAAAAAAAAAAAAAAAAAAAAAAAAAAAAAAAAAAAAAAAAAAAAAAAAAAAAAAAAAAAAAAAAAAAAAAAAAAAAAAAAA=",
          "dtype": "f8"
         },
         "yaxis": "y2"
        },
        {
         "mode": "markers",
         "name": "Percentage hindered rentals",
         "type": "scatter",
         "x": {
          "bdata": "30+Nl26SFEDlpZvEILAVQM/3U+OlGxZA+n5qvHSTFkD6fmq8dJMWQGQQWDm0yBdAXI/C9SjcF0CJQWDl0CIYQFg5tMh2PhhA0SLb+X5qGEDRItv5fmoYQNrO91PjpRhAGQRWDi0yGUAZBFYOLTIZQDMzMzMzMxlAw/UoXI9CGUDD9Shcj0IZQEJg5dAiWxlA8KfGSzeJGUAzMzMzM7MZQPhT46WbxBlA2/l+arz0GUCWQ4ts5/sZQARWDi2yHRpAPQrXo3A9GkAK16NwPYoaQA4tsp3vpxpADi2yne+nGkDfT42XbhIbQKBFtvP9VBtA7FG4HoVrG0A730+Nl24bQEW28/3UeBtAN166SQyCG0A3XrpJDIIbQArXo3A9ihtAMzMzMzOzG0Dy0k1iENgbQDEIrBxa5BtA7nw/NV46HEDufD81XjocQJLtfD81XhxAku18PzVeHEA3XrpJDIIcQK5H4XoUrhxAfT81XrrJHEB9PzVeuskcQKwcWmQ7Xx1ArBxaZDtfHUAxCKwcWmQdQES28/3UeB1A3SQGgZXDHUDhehSuR+EdQFYOLbKd7x1Az/dT46UbHkCuR+F6FC4eQKjGSzeJQR5A+FPjpZtEHkBtEoPAyqEeQG0Sg8DKoR5A7nw/NV66HkAv3SQGgRUfQNrO91PjJR9ArkfhehQuH0AIrBxaZDsfQAaBlUOLbB9AEFg5tMh2H0CxcmiR7XwfQC/dJAaBlR9AEoPAyqHFH0Dn+6nx0s0fQOf7qfHSzR9ADgIrhxbZH0B0kxgEVg4gQK5H4XoULiBArkfhehQuIECmm8QgsDIgQKabxCCwMiBAg8DKoUU2IEDNzMzMzEwgQM3MzMzMTCBAzczMzMxMIED6fmq8dFMgQCPb+X5qfCBAUI2XbhKDIEDP91PjpZsgQDMzMzMzsyBADAIrhxbZIEAMAiuHFtkgQJhuEoPACiFADAIrhxYZIUBxPQrXozAhQFg5tMh2PiFAAAAAAABAIUA/NV66ScwhQJMYBFYO7SFAMzMzMzPzIUCWQ4ts5/shQLbz/dR4qSJAtvP91HipIkDJdr6fGq8iQD81XrpJDCNAqMZLN4kBK0BGtvP91HgrQEa28/3UeCtAXI/C9ShcLEDHSzeJQaAsQAAAAAAAAPh/AAAAAAAA+H8AAAAAAAD4fwAAAAAAAPh/AAAAAAAA+H8AAAAAAAD4fwAAAAAAAPh/AAAAAAAA+H8AAAAAAAD4fwAAAAAAAPh/AAAAAAAA+H8=",
          "dtype": "f8"
         },
         "xaxis": "x3",
         "y": {
          "bdata": "uB6F61E4QkB7FK5H4UpRQClcj8L1aEZA9ihcj8IlVUD2KFyPwrVUQGZmZmZmdlRArkfhehSOTkBcj8L1KFxSQAAAAAAAAPh/AAAAAABASkB7FK5H4VpAQIXrUbgeJUhA4XoUrkfhSEDsUbgehatAQHsUrkfhWk5AexSuR+G6UkAUrkfhetRSQJqZmZmZ+UVAj8L1KFy/VEB7FK5H4bpUQHE9CtejoFNAuB6F61FYU0A9CtejcJ1UQHsUrkfhWlZAexSuR+H6SEBcj8L1KJxGQFyPwvUozFJAzczMzMysVECPwvUoXC9PQK5H4XoU7klAj8L1KFyPUkCuR+F6FM5NQIXrUbge5U5AzczMzMzMT0DNzMzMzPxSQClcj8L1CE5AAAAAAAAA+H/Xo3A9CvdDQAAAAAAAAPh/cT0K16NQS0AAAAAAAGBHQClcj8L1uFNACtejcD06UUAzMzMzMzNFQEjhehSut1VAw/UoXI/iUkAUrkfhevRPQOF6FK5H4VRAUrgeheuhU0CPwvUoXC9QQHsUrkfh2kZAcT0K16MQSUBxPQrXozBFQJqZmZmZ2TxASOF6FK5XUUCPwvUoXM9MQJqZmZmZeVFAXI/C9SgMVEAzMzMzM3NRQHE9CtejEFFAAAAAAAAA+H/hehSuR6FAQK5H4XoUTlVApHA9CtdjQkBSuB6F67FSQHsUrkfhylJAAAAAAAAgT0DsUbgehetMQAAAAAAAAPh/9ihcj8K1R0AUrkfherRTQPYoXI/CFVNAmpmZmZnpVkC4HoXrUVhGQGZmZmZmpkNAzczMzMxMSUCF61G4HjVSQAAAAAAAkFBA4XoUrkdBQ0CamZmZmZlLQAAAAAAAAPh/4XoUrkdhSUC4HoXrUdhNQFyPwvUofElACtejcD3KMkDXo3A9CjdJQClcj8L1iENAzczMzMxsQkAAAAAAAIBCQAAAAAAAAPh/4XoUrkfhRECuR+F6FE5CQM3MzMzMzExArkfhehSeU0BI4XoUridSQOF6FK5HIUNAAAAAAAAA+H9SuB6F63FBQMP1KFyPAkpAZmZmZmZmO0B7FK5H4WpSQBSuR+F6lFZAw/UoXI/CVkCamZmZmRlRQAAAAAAAAPh/uB6F61HoVEDD9Shcj2JKQArXo3A9ij5A4XoUrkdBVUCuR+F6FP5QQFK4HoXr4VBASOF6FK5HUUC4HoXrUdhDQAAAAAAAAPh/KVyPwvUoQUAAAAAAAAD4f1K4HoXrkUxAMzMzMzODVUA=",
          "dtype": "f8"
         },
         "yaxis": "y3"
        },
        {
         "mode": "markers",
         "name": "Percentage hindered rentals",
         "type": "scatter",
         "x": {
          "bdata": "30+Nl26SFEDlpZvEILAVQM/3U+OlGxZA+n5qvHSTFkD6fmq8dJMWQGQQWDm0yBdAXI/C9SjcF0CJQWDl0CIYQFg5tMh2PhhA0SLb+X5qGEDRItv5fmoYQNrO91PjpRhAGQRWDi0yGUAZBFYOLTIZQDMzMzMzMxlAw/UoXI9CGUDD9Shcj0IZQEJg5dAiWxlA8KfGSzeJGUAzMzMzM7MZQPhT46WbxBlA2/l+arz0GUCWQ4ts5/sZQARWDi2yHRpAPQrXo3A9GkAK16NwPYoaQA4tsp3vpxpADi2yne+nGkDfT42XbhIbQKBFtvP9VBtA7FG4HoVrG0A730+Nl24bQEW28/3UeBtAN166SQyCG0A3XrpJDIIbQArXo3A9ihtAMzMzMzOzG0Dy0k1iENgbQDEIrBxa5BtA7nw/NV46HEDufD81XjocQJLtfD81XhxAku18PzVeHEA3XrpJDIIcQK5H4XoUrhxAfT81XrrJHEB9PzVeuskcQKwcWmQ7Xx1ArBxaZDtfHUAxCKwcWmQdQES28/3UeB1A3SQGgZXDHUDhehSuR+EdQFYOLbKd7x1Az/dT46UbHkCuR+F6FC4eQKjGSzeJQR5A+FPjpZtEHkBtEoPAyqEeQG0Sg8DKoR5A7nw/NV66HkAv3SQGgRUfQNrO91PjJR9ArkfhehQuH0AIrBxaZDsfQAaBlUOLbB9AEFg5tMh2H0CxcmiR7XwfQC/dJAaBlR9AEoPAyqHFH0Dn+6nx0s0fQOf7qfHSzR9ADgIrhxbZH0B0kxgEVg4gQK5H4XoULiBArkfhehQuIECmm8QgsDIgQKabxCCwMiBAg8DKoUU2IEDNzMzMzEwgQM3MzMzMTCBAzczMzMxMIED6fmq8dFMgQCPb+X5qfCBAUI2XbhKDIEDP91PjpZsgQDMzMzMzsyBADAIrhxbZIEAMAiuHFtkgQJhuEoPACiFADAIrhxYZIUBxPQrXozAhQFg5tMh2PiFAAAAAAABAIUA/NV66ScwhQJMYBFYO7SFAMzMzMzPzIUCWQ4ts5/shQLbz/dR4qSJAtvP91HipIkDJdr6fGq8iQD81XrpJDCNAqMZLN4kBK0BGtvP91HgrQEa28/3UeCtAXI/C9ShcLEDHSzeJQaAsQAAAAAAAAPh/AAAAAAAA+H8AAAAAAAD4fwAAAAAAAPh/AAAAAAAA+H8AAAAAAAD4fwAAAAAAAPh/AAAAAAAA+H8AAAAAAAD4fwAAAAAAAPh/AAAAAAAA+H8=",
          "dtype": "f8"
         },
         "xaxis": "x4",
         "y": {
          "bdata": "/tR46SYxCUCNl24Sg8AMQMdLN4lBYA5AjZduEoPAC0BqvHSTGAQNQI/C9ShcjwxA5/up8dJNDkCNl24Sg8AMQBKDwMqhRQ1ACKwcWmQ7DEAAAAAAAAD4fwAAAAAAAA5AAAAAAAAA+H/8qfHSTWIEQMdLN4lBYApAwcqhRbbzBEAOLbKd76cEQDm0yHa+nw5Af2q8dJMYBUA730+Nl24MQIlBYOXQIgVA/tR46SYxD0AfhetRuB4FQNv5fmq8dA1AX7pJDAIrBkBSuB6F61EHQBsv3SQGgQ1A+FPjpZvECkAAAAAAAAD4f0oMAiuHFgpA2/l+arx0DkBcj8L1KFwIQOSlm8QgsAVAyXa+nxovDUAMAiuHFtkMQG3n+6nx0gZAyXa+nxovDEBWDi2yne8MQB+F61G4HgVAcT0K16NwDEAAAAAAAAD4f99PjZduEgZAPQrXo3A9BkDhehSuR+EGQIcW2c73Uw1ASOF6FK5HCkARWDm0yHYKQH9qvHSTGAVApHA9CtejBUCsHFpkO98NQPp+arx0kwRAAAAAAAAA+H97FK5H4XoLQDvfT42XbglAAAAAAAAA+H91kxgEVg4PQOF6FK5H4QVAI9v5fmq8C0Atsp3vp0YQQAAAAAAAAPh/fT81XrpJDkAdWmQ7308OQMHKoUW28wRA8KfGSzeJBkCiRbbz/dQGQBFYObTIdgZAEVg5tMh2CkD4U+Olm8QMQD81XrpJDAZAL90kBoEVEEBQjZduEoMGQM3MzMzMzAZARrbz/dR4DUADK4cW2c4HQLByaJHtfA9AO99PjZduDkDb+X5qvHQHQESLbOf7qQdA/Knx0k1iBECuR+F6FK4QQC2yne+nxg1A5dAi2/l+EEBt5/up8dIFQARWDi2yHRBAbef7qfHSCEBkO99PjRcQQE5iEFg5tAdAj8L1KFyPDUAAAAAAAAD4f8l2vp8aLxBAAAAAAAAADUCJQWDl0CIOQOF6FK5H4QtAFK5H4XoUDkA9CtejcD0GQM3MzMzMzAVAL90kBoGVDkAAAAAAAAD4f6AaL90kBgdA6SYxCKwcCUC8dJMYBFYGQAAAAAAAAPh/z/dT46WbDUATg8DKocUQQAwCK4cWWRBAJzEIrBxaCEAX2c73U+MJQKwcWmQ73whA001iEFg5BUCNl24Sg8AMQAAAAAAAAPh/c2iR7Xw/B0DpJjEIrBwEQBKDwMqhRQdAJQaBlUOLCUDazvdT46UGQO58PzVeugZAtMh2vp8aDUA=",
          "dtype": "f8"
         },
         "yaxis": "y4"
        },
        {
         "mode": "markers",
         "name": "Percentage hindered rentals",
         "type": "scatter",
         "x": {
          "bdata": "30+Nl26SFEDlpZvEILAVQM/3U+OlGxZA+n5qvHSTFkD6fmq8dJMWQGQQWDm0yBdAXI/C9SjcF0CJQWDl0CIYQFg5tMh2PhhA0SLb+X5qGEDRItv5fmoYQNrO91PjpRhAGQRWDi0yGUAZBFYOLTIZQDMzMzMzMxlAw/UoXI9CGUDD9Shcj0IZQEJg5dAiWxlA8KfGSzeJGUAzMzMzM7MZQPhT46WbxBlA2/l+arz0GUCWQ4ts5/sZQARWDi2yHRpAPQrXo3A9GkAK16NwPYoaQA4tsp3vpxpADi2yne+nGkDfT42XbhIbQKBFtvP9VBtA7FG4HoVrG0A730+Nl24bQEW28/3UeBtAN166SQyCG0A3XrpJDIIbQArXo3A9ihtAMzMzMzOzG0Dy0k1iENgbQDEIrBxa5BtA7nw/NV46HEDufD81XjocQJLtfD81XhxAku18PzVeHEA3XrpJDIIcQK5H4XoUrhxAfT81XrrJHEB9PzVeuskcQKwcWmQ7Xx1ArBxaZDtfHUAxCKwcWmQdQES28/3UeB1A3SQGgZXDHUDhehSuR+EdQFYOLbKd7x1Az/dT46UbHkCuR+F6FC4eQKjGSzeJQR5A+FPjpZtEHkBtEoPAyqEeQG0Sg8DKoR5A7nw/NV66HkAv3SQGgRUfQNrO91PjJR9ArkfhehQuH0AIrBxaZDsfQAaBlUOLbB9AEFg5tMh2H0CxcmiR7XwfQC/dJAaBlR9AEoPAyqHFH0Dn+6nx0s0fQOf7qfHSzR9ADgIrhxbZH0B0kxgEVg4gQK5H4XoULiBArkfhehQuIECmm8QgsDIgQKabxCCwMiBAg8DKoUU2IEDNzMzMzEwgQM3MzMzMTCBAzczMzMxMIED6fmq8dFMgQCPb+X5qfCBAUI2XbhKDIEDP91PjpZsgQDMzMzMzsyBADAIrhxbZIEAMAiuHFtkgQJhuEoPACiFADAIrhxYZIUBxPQrXozAhQFg5tMh2PiFAAAAAAABAIUA/NV66ScwhQJMYBFYO7SFAMzMzMzPzIUCWQ4ts5/shQLbz/dR4qSJAtvP91HipIkDJdr6fGq8iQD81XrpJDCNAqMZLN4kBK0BGtvP91HgrQEa28/3UeCtAXI/C9ShcLEDHSzeJQaAsQAAAAAAAAPh/AAAAAAAA+H8AAAAAAAD4fwAAAAAAAPh/AAAAAAAA+H8AAAAAAAD4fwAAAAAAAPh/AAAAAAAA+H8AAAAAAAD4fwAAAAAAAPh/AAAAAAAA+H8=",
          "dtype": "f8"
         },
         "xaxis": "x5",
         "y": {
          "bdata": "WybD8bw8YEBNV2YAngBsQCuSZXd3Y2BAmpmZmZkjYECUQmok0yRgQDJ3LSEfImBAVw9O+rFeYEBrPY3FAF9sQKX5vhMOxGhAX9VZLXBaYEBh5vFq70hgQN/iPPc5rWhAPMZw0PnXakC6k+Op4tNqQLRuKCE9UmtAf60BAPbdakBWVuQhHdxqQHzzGyaaGmhA/LA5YojgakAXCVwNP2JrQIVzsnkB1WpAJhhzfBkRa0Driyn9qX1qQAJrMGh8AWtAl4DzPf7takA5RUdy+aNfQFw1dFiGJ2xA2Vw1z9EpbEDiua3j7pFqQAAAAAAAAPh/N97CX3gga0BOzB944dhqQFK0F3a9sGdAsH23L5YwYEBCkChZcyZgQBDpt68Dj19AsuA0M6koa0BkHvmDwaBqQNL4Kp6fnGpA4fCCiNSIa0ChoBStXGtrQCYd5WA2jWpAyqZc4Z18akBfKcsQx7JfQJoTajwHV2BAAAAAAAAA+H8HANjKlbRrQDGbW3wl2WpAcaMS6N3PakCO23ksx6ZrQO1VdaCYzWpAAAAAAAAA+H9A9+XMthNgQEANKVCVlGlAAAAAAAAA+H9wj0pWqlRgQJEsYAL34WpAfSgsTLp3a0DCCTt7XdtgQLYcQ1sp3mBA9qOXBx/wakDCOX4Drr5gQM7aEl4ncmpAXynLEMeyX0AjCtIxzEpqQFPvBFYpkmlAXo94aA5Ha0AwMfGiCsNoQG6+tiNBil9AiVaTTLMyYUCb5h2n6IhfQAAAAAAAAPh/BFq6gm3xakDJbDWQE2JqQOyhfawgt2hAzmhQ2dWyaEAlG7T8JZNgQOMryyGzkGBAh2Lh2r9nakDaEC3DiT1hQJeQD3o2RWFARUdy+Q9BYUBDkIMSJnVqQGx4eqUsXWFApQ8Cl2ydaEAd1DTeTD9hQFVntcCee2BAiE2/n/W6Z0AAAAAAAAD4fxihjn3/PWdAJlah3NEfZ0CpZ0EobxpoQNUqVf0lTGhALMIDuXpEZ0AwM8dNKM5mQJGA0eWNtmdAzTD/MunIYEAAAAAAAAD4f9SnC2dtmGBAAAAAAAAA+H9OfSB5p5NgQBzr4jYaiF9AQpAoWXMmYEBOS2L/ayFgQPVXfs/+IWBAYnDeSVWHX0Dy9tZ2SbhfQAAAAAAAAPh/iAxQv7DcakClVHiGn+1rQChIbHcPXmpARfRr62eJYEASnzvBPl5qQKrx0k1idGBAOoA0UiXTZkDQdYZO9KJfQFYUCmwph19A++zbpD1ga0A=",
          "dtype": "f8"
         },
         "yaxis": "y5"
        },
        {
         "mode": "markers",
         "name": "Percentage hindered rentals",
         "type": "scatter",
         "x": {
          "bdata": "30+Nl26SFEDlpZvEILAVQM/3U+OlGxZA+n5qvHSTFkD6fmq8dJMWQGQQWDm0yBdAXI/C9SjcF0CJQWDl0CIYQFg5tMh2PhhA0SLb+X5qGEDRItv5fmoYQNrO91PjpRhAGQRWDi0yGUAZBFYOLTIZQDMzMzMzMxlAw/UoXI9CGUDD9Shcj0IZQEJg5dAiWxlA8KfGSzeJGUAzMzMzM7MZQPhT46WbxBlA2/l+arz0GUCWQ4ts5/sZQARWDi2yHRpAPQrXo3A9GkAK16NwPYoaQA4tsp3vpxpADi2yne+nGkDfT42XbhIbQKBFtvP9VBtA7FG4HoVrG0A730+Nl24bQEW28/3UeBtAN166SQyCG0A3XrpJDIIbQArXo3A9ihtAMzMzMzOzG0Dy0k1iENgbQDEIrBxa5BtA7nw/NV46HEDufD81XjocQJLtfD81XhxAku18PzVeHEA3XrpJDIIcQK5H4XoUrhxAfT81XrrJHEB9PzVeuskcQKwcWmQ7Xx1ArBxaZDtfHUAxCKwcWmQdQES28/3UeB1A3SQGgZXDHUDhehSuR+EdQFYOLbKd7x1Az/dT46UbHkCuR+F6FC4eQKjGSzeJQR5A+FPjpZtEHkBtEoPAyqEeQG0Sg8DKoR5A7nw/NV66HkAv3SQGgRUfQNrO91PjJR9ArkfhehQuH0AIrBxaZDsfQAaBlUOLbB9AEFg5tMh2H0CxcmiR7XwfQC/dJAaBlR9AEoPAyqHFH0Dn+6nx0s0fQOf7qfHSzR9ADgIrhxbZH0B0kxgEVg4gQK5H4XoULiBArkfhehQuIECmm8QgsDIgQKabxCCwMiBAg8DKoUU2IEDNzMzMzEwgQM3MzMzMTCBAzczMzMxMIED6fmq8dFMgQCPb+X5qfCBAUI2XbhKDIEDP91PjpZsgQDMzMzMzsyBADAIrhxbZIEAMAiuHFtkgQJhuEoPACiFADAIrhxYZIUBxPQrXozAhQFg5tMh2PiFAAAAAAABAIUA/NV66ScwhQJMYBFYO7SFAMzMzMzPzIUCWQ4ts5/shQLbz/dR4qSJAtvP91HipIkDJdr6fGq8iQD81XrpJDCNAqMZLN4kBK0BGtvP91HgrQEa28/3UeCtAXI/C9ShcLEDHSzeJQaAsQAAAAAAAAPh/AAAAAAAA+H8AAAAAAAD4fwAAAAAAAPh/AAAAAAAA+H8AAAAAAAD4fwAAAAAAAPh/AAAAAAAA+H8AAAAAAAD4fwAAAAAAAPh/AAAAAAAA+H8=",
          "dtype": "f8"
         },
         "xaxis": "x6",
         "y": {
          "bdata": "30+Nl26SFEDlpZvEILAVQM/3U+OlGxZA+n5qvHSTFkD6fmq8dJMWQGQQWDm0yBdAXI/C9SjcF0CJQWDl0CIYQFg5tMh2PhhA0SLb+X5qGEDRItv5fmoYQNrO91PjpRhAGQRWDi0yGUAZBFYOLTIZQDMzMzMzMxlAw/UoXI9CGUDD9Shcj0IZQEJg5dAiWxlA8KfGSzeJGUAzMzMzM7MZQPhT46WbxBlA2/l+arz0GUCWQ4ts5/sZQARWDi2yHRpAPQrXo3A9GkAK16NwPYoaQA4tsp3vpxpADi2yne+nGkDfT42XbhIbQKBFtvP9VBtA7FG4HoVrG0A730+Nl24bQEW28/3UeBtAN166SQyCG0A3XrpJDIIbQArXo3A9ihtAMzMzMzOzG0Dy0k1iENgbQDEIrBxa5BtA7nw/NV46HEDufD81XjocQJLtfD81XhxAku18PzVeHEA3XrpJDIIcQK5H4XoUrhxAfT81XrrJHEB9PzVeuskcQKwcWmQ7Xx1ArBxaZDtfHUAxCKwcWmQdQES28/3UeB1A3SQGgZXDHUDhehSuR+EdQFYOLbKd7x1Az/dT46UbHkCuR+F6FC4eQKjGSzeJQR5A+FPjpZtEHkBtEoPAyqEeQG0Sg8DKoR5A7nw/NV66HkAv3SQGgRUfQNrO91PjJR9ArkfhehQuH0AIrBxaZDsfQAaBlUOLbB9AEFg5tMh2H0CxcmiR7XwfQC/dJAaBlR9AEoPAyqHFH0Dn+6nx0s0fQOf7qfHSzR9ADgIrhxbZH0B0kxgEVg4gQK5H4XoULiBArkfhehQuIECmm8QgsDIgQKabxCCwMiBAg8DKoUU2IEDNzMzMzEwgQM3MzMzMTCBAzczMzMxMIED6fmq8dFMgQCPb+X5qfCBAUI2XbhKDIEDP91PjpZsgQDMzMzMzsyBADAIrhxbZIEAMAiuHFtkgQJhuEoPACiFADAIrhxYZIUBxPQrXozAhQFg5tMh2PiFAAAAAAABAIUA/NV66ScwhQJMYBFYO7SFAMzMzMzPzIUCWQ4ts5/shQLbz/dR4qSJAtvP91HipIkDJdr6fGq8iQD81XrpJDCNAqMZLN4kBK0BGtvP91HgrQEa28/3UeCtAXI/C9ShcLEDHSzeJQaAsQAAAAAAAAPh/AAAAAAAA+H8AAAAAAAD4fwAAAAAAAPh/AAAAAAAA+H8AAAAAAAD4fwAAAAAAAPh/AAAAAAAA+H8AAAAAAAD4fwAAAAAAAPh/AAAAAAAA+H8=",
          "dtype": "f8"
         },
         "yaxis": "y6"
        }
       ],
       "layout": {
        "height": 700,
        "showlegend": false,
        "template": {
         "data": {
          "bar": [
           {
            "error_x": {
             "color": "#2a3f5f"
            },
            "error_y": {
             "color": "#2a3f5f"
            },
            "marker": {
             "line": {
              "color": "#E5ECF6",
              "width": 0.5
             },
             "pattern": {
              "fillmode": "overlay",
              "size": 10,
              "solidity": 0.2
             }
            },
            "type": "bar"
           }
          ],
          "barpolar": [
           {
            "marker": {
             "line": {
              "color": "#E5ECF6",
              "width": 0.5
             },
             "pattern": {
              "fillmode": "overlay",
              "size": 10,
              "solidity": 0.2
             }
            },
            "type": "barpolar"
           }
          ],
          "carpet": [
           {
            "aaxis": {
             "endlinecolor": "#2a3f5f",
             "gridcolor": "white",
             "linecolor": "white",
             "minorgridcolor": "white",
             "startlinecolor": "#2a3f5f"
            },
            "baxis": {
             "endlinecolor": "#2a3f5f",
             "gridcolor": "white",
             "linecolor": "white",
             "minorgridcolor": "white",
             "startlinecolor": "#2a3f5f"
            },
            "type": "carpet"
           }
          ],
          "choropleth": [
           {
            "colorbar": {
             "outlinewidth": 0,
             "ticks": ""
            },
            "type": "choropleth"
           }
          ],
          "contour": [
           {
            "colorbar": {
             "outlinewidth": 0,
             "ticks": ""
            },
            "colorscale": [
             [
              0,
              "#0d0887"
             ],
             [
              0.1111111111111111,
              "#46039f"
             ],
             [
              0.2222222222222222,
              "#7201a8"
             ],
             [
              0.3333333333333333,
              "#9c179e"
             ],
             [
              0.4444444444444444,
              "#bd3786"
             ],
             [
              0.5555555555555556,
              "#d8576b"
             ],
             [
              0.6666666666666666,
              "#ed7953"
             ],
             [
              0.7777777777777778,
              "#fb9f3a"
             ],
             [
              0.8888888888888888,
              "#fdca26"
             ],
             [
              1,
              "#f0f921"
             ]
            ],
            "type": "contour"
           }
          ],
          "contourcarpet": [
           {
            "colorbar": {
             "outlinewidth": 0,
             "ticks": ""
            },
            "type": "contourcarpet"
           }
          ],
          "heatmap": [
           {
            "colorbar": {
             "outlinewidth": 0,
             "ticks": ""
            },
            "colorscale": [
             [
              0,
              "#0d0887"
             ],
             [
              0.1111111111111111,
              "#46039f"
             ],
             [
              0.2222222222222222,
              "#7201a8"
             ],
             [
              0.3333333333333333,
              "#9c179e"
             ],
             [
              0.4444444444444444,
              "#bd3786"
             ],
             [
              0.5555555555555556,
              "#d8576b"
             ],
             [
              0.6666666666666666,
              "#ed7953"
             ],
             [
              0.7777777777777778,
              "#fb9f3a"
             ],
             [
              0.8888888888888888,
              "#fdca26"
             ],
             [
              1,
              "#f0f921"
             ]
            ],
            "type": "heatmap"
           }
          ],
          "histogram": [
           {
            "marker": {
             "pattern": {
              "fillmode": "overlay",
              "size": 10,
              "solidity": 0.2
             }
            },
            "type": "histogram"
           }
          ],
          "histogram2d": [
           {
            "colorbar": {
             "outlinewidth": 0,
             "ticks": ""
            },
            "colorscale": [
             [
              0,
              "#0d0887"
             ],
             [
              0.1111111111111111,
              "#46039f"
             ],
             [
              0.2222222222222222,
              "#7201a8"
             ],
             [
              0.3333333333333333,
              "#9c179e"
             ],
             [
              0.4444444444444444,
              "#bd3786"
             ],
             [
              0.5555555555555556,
              "#d8576b"
             ],
             [
              0.6666666666666666,
              "#ed7953"
             ],
             [
              0.7777777777777778,
              "#fb9f3a"
             ],
             [
              0.8888888888888888,
              "#fdca26"
             ],
             [
              1,
              "#f0f921"
             ]
            ],
            "type": "histogram2d"
           }
          ],
          "histogram2dcontour": [
           {
            "colorbar": {
             "outlinewidth": 0,
             "ticks": ""
            },
            "colorscale": [
             [
              0,
              "#0d0887"
             ],
             [
              0.1111111111111111,
              "#46039f"
             ],
             [
              0.2222222222222222,
              "#7201a8"
             ],
             [
              0.3333333333333333,
              "#9c179e"
             ],
             [
              0.4444444444444444,
              "#bd3786"
             ],
             [
              0.5555555555555556,
              "#d8576b"
             ],
             [
              0.6666666666666666,
              "#ed7953"
             ],
             [
              0.7777777777777778,
              "#fb9f3a"
             ],
             [
              0.8888888888888888,
              "#fdca26"
             ],
             [
              1,
              "#f0f921"
             ]
            ],
            "type": "histogram2dcontour"
           }
          ],
          "mesh3d": [
           {
            "colorbar": {
             "outlinewidth": 0,
             "ticks": ""
            },
            "type": "mesh3d"
           }
          ],
          "parcoords": [
           {
            "line": {
             "colorbar": {
              "outlinewidth": 0,
              "ticks": ""
             }
            },
            "type": "parcoords"
           }
          ],
          "pie": [
           {
            "automargin": true,
            "type": "pie"
           }
          ],
          "scatter": [
           {
            "fillpattern": {
             "fillmode": "overlay",
             "size": 10,
             "solidity": 0.2
            },
            "type": "scatter"
           }
          ],
          "scatter3d": [
           {
            "line": {
             "colorbar": {
              "outlinewidth": 0,
              "ticks": ""
             }
            },
            "marker": {
             "colorbar": {
              "outlinewidth": 0,
              "ticks": ""
             }
            },
            "type": "scatter3d"
           }
          ],
          "scattercarpet": [
           {
            "marker": {
             "colorbar": {
              "outlinewidth": 0,
              "ticks": ""
             }
            },
            "type": "scattercarpet"
           }
          ],
          "scattergeo": [
           {
            "marker": {
             "colorbar": {
              "outlinewidth": 0,
              "ticks": ""
             }
            },
            "type": "scattergeo"
           }
          ],
          "scattergl": [
           {
            "marker": {
             "colorbar": {
              "outlinewidth": 0,
              "ticks": ""
             }
            },
            "type": "scattergl"
           }
          ],
          "scattermap": [
           {
            "marker": {
             "colorbar": {
              "outlinewidth": 0,
              "ticks": ""
             }
            },
            "type": "scattermap"
           }
          ],
          "scattermapbox": [
           {
            "marker": {
             "colorbar": {
              "outlinewidth": 0,
              "ticks": ""
             }
            },
            "type": "scattermapbox"
           }
          ],
          "scatterpolar": [
           {
            "marker": {
             "colorbar": {
              "outlinewidth": 0,
              "ticks": ""
             }
            },
            "type": "scatterpolar"
           }
          ],
          "scatterpolargl": [
           {
            "marker": {
             "colorbar": {
              "outlinewidth": 0,
              "ticks": ""
             }
            },
            "type": "scatterpolargl"
           }
          ],
          "scatterternary": [
           {
            "marker": {
             "colorbar": {
              "outlinewidth": 0,
              "ticks": ""
             }
            },
            "type": "scatterternary"
           }
          ],
          "surface": [
           {
            "colorbar": {
             "outlinewidth": 0,
             "ticks": ""
            },
            "colorscale": [
             [
              0,
              "#0d0887"
             ],
             [
              0.1111111111111111,
              "#46039f"
             ],
             [
              0.2222222222222222,
              "#7201a8"
             ],
             [
              0.3333333333333333,
              "#9c179e"
             ],
             [
              0.4444444444444444,
              "#bd3786"
             ],
             [
              0.5555555555555556,
              "#d8576b"
             ],
             [
              0.6666666666666666,
              "#ed7953"
             ],
             [
              0.7777777777777778,
              "#fb9f3a"
             ],
             [
              0.8888888888888888,
              "#fdca26"
             ],
             [
              1,
              "#f0f921"
             ]
            ],
            "type": "surface"
           }
          ],
          "table": [
           {
            "cells": {
             "fill": {
              "color": "#EBF0F8"
             },
             "line": {
              "color": "white"
             }
            },
            "header": {
             "fill": {
              "color": "#C8D4E3"
             },
             "line": {
              "color": "white"
             }
            },
            "type": "table"
           }
          ]
         },
         "layout": {
          "annotationdefaults": {
           "arrowcolor": "#2a3f5f",
           "arrowhead": 0,
           "arrowwidth": 1
          },
          "autotypenumbers": "strict",
          "coloraxis": {
           "colorbar": {
            "outlinewidth": 0,
            "ticks": ""
           }
          },
          "colorscale": {
           "diverging": [
            [
             0,
             "#8e0152"
            ],
            [
             0.1,
             "#c51b7d"
            ],
            [
             0.2,
             "#de77ae"
            ],
            [
             0.3,
             "#f1b6da"
            ],
            [
             0.4,
             "#fde0ef"
            ],
            [
             0.5,
             "#f7f7f7"
            ],
            [
             0.6,
             "#e6f5d0"
            ],
            [
             0.7,
             "#b8e186"
            ],
            [
             0.8,
             "#7fbc41"
            ],
            [
             0.9,
             "#4d9221"
            ],
            [
             1,
             "#276419"
            ]
           ],
           "sequential": [
            [
             0,
             "#0d0887"
            ],
            [
             0.1111111111111111,
             "#46039f"
            ],
            [
             0.2222222222222222,
             "#7201a8"
            ],
            [
             0.3333333333333333,
             "#9c179e"
            ],
            [
             0.4444444444444444,
             "#bd3786"
            ],
            [
             0.5555555555555556,
             "#d8576b"
            ],
            [
             0.6666666666666666,
             "#ed7953"
            ],
            [
             0.7777777777777778,
             "#fb9f3a"
            ],
            [
             0.8888888888888888,
             "#fdca26"
            ],
            [
             1,
             "#f0f921"
            ]
           ],
           "sequentialminus": [
            [
             0,
             "#0d0887"
            ],
            [
             0.1111111111111111,
             "#46039f"
            ],
            [
             0.2222222222222222,
             "#7201a8"
            ],
            [
             0.3333333333333333,
             "#9c179e"
            ],
            [
             0.4444444444444444,
             "#bd3786"
            ],
            [
             0.5555555555555556,
             "#d8576b"
            ],
            [
             0.6666666666666666,
             "#ed7953"
            ],
            [
             0.7777777777777778,
             "#fb9f3a"
            ],
            [
             0.8888888888888888,
             "#fdca26"
            ],
            [
             1,
             "#f0f921"
            ]
           ]
          },
          "colorway": [
           "#636efa",
           "#EF553B",
           "#00cc96",
           "#ab63fa",
           "#FFA15A",
           "#19d3f3",
           "#FF6692",
           "#B6E880",
           "#FF97FF",
           "#FECB52"
          ],
          "font": {
           "color": "#2a3f5f"
          },
          "geo": {
           "bgcolor": "white",
           "lakecolor": "white",
           "landcolor": "#E5ECF6",
           "showlakes": true,
           "showland": true,
           "subunitcolor": "white"
          },
          "hoverlabel": {
           "align": "left"
          },
          "hovermode": "closest",
          "mapbox": {
           "style": "light"
          },
          "paper_bgcolor": "white",
          "plot_bgcolor": "#E5ECF6",
          "polar": {
           "angularaxis": {
            "gridcolor": "white",
            "linecolor": "white",
            "ticks": ""
           },
           "bgcolor": "#E5ECF6",
           "radialaxis": {
            "gridcolor": "white",
            "linecolor": "white",
            "ticks": ""
           }
          },
          "scene": {
           "xaxis": {
            "backgroundcolor": "#E5ECF6",
            "gridcolor": "white",
            "gridwidth": 2,
            "linecolor": "white",
            "showbackground": true,
            "ticks": "",
            "zerolinecolor": "white"
           },
           "yaxis": {
            "backgroundcolor": "#E5ECF6",
            "gridcolor": "white",
            "gridwidth": 2,
            "linecolor": "white",
            "showbackground": true,
            "ticks": "",
            "zerolinecolor": "white"
           },
           "zaxis": {
            "backgroundcolor": "#E5ECF6",
            "gridcolor": "white",
            "gridwidth": 2,
            "linecolor": "white",
            "showbackground": true,
            "ticks": "",
            "zerolinecolor": "white"
           }
          },
          "shapedefaults": {
           "line": {
            "color": "#2a3f5f"
           }
          },
          "ternary": {
           "aaxis": {
            "gridcolor": "white",
            "linecolor": "white",
            "ticks": ""
           },
           "baxis": {
            "gridcolor": "white",
            "linecolor": "white",
            "ticks": ""
           },
           "bgcolor": "#E5ECF6",
           "caxis": {
            "gridcolor": "white",
            "linecolor": "white",
            "ticks": ""
           }
          },
          "title": {
           "x": 0.05
          },
          "xaxis": {
           "automargin": true,
           "gridcolor": "white",
           "linecolor": "white",
           "ticks": "",
           "title": {
            "standoff": 15
           },
           "zerolinecolor": "white",
           "zerolinewidth": 2
          },
          "yaxis": {
           "automargin": true,
           "gridcolor": "white",
           "linecolor": "white",
           "ticks": "",
           "title": {
            "standoff": 15
           },
           "zerolinecolor": "white",
           "zerolinewidth": 2
          }
         }
        },
        "title": {
         "text": "Evolution along Unemployment"
        },
        "width": 1200,
        "xaxis": {
         "anchor": "y",
         "domain": [
          0,
          0.45
         ],
         "title": {
          "text": "Weekly_Sales"
         }
        },
        "xaxis2": {
         "anchor": "y2",
         "domain": [
          0.55,
          1
         ],
         "title": {
          "text": "Holiday_Flag"
         }
        },
        "xaxis3": {
         "anchor": "y3",
         "domain": [
          0,
          0.45
         ],
         "title": {
          "text": "Temperature"
         }
        },
        "xaxis4": {
         "anchor": "y4",
         "domain": [
          0.55,
          1
         ],
         "title": {
          "text": "Fuel_Price"
         }
        },
        "xaxis5": {
         "anchor": "y5",
         "domain": [
          0,
          0.45
         ],
         "title": {
          "text": "CPI"
         }
        },
        "xaxis6": {
         "anchor": "y6",
         "domain": [
          0.55,
          1
         ],
         "title": {
          "text": "Unemployment"
         }
        },
        "yaxis": {
         "anchor": "x",
         "domain": [
          0.7333333333333333,
          1
         ]
        },
        "yaxis2": {
         "anchor": "x2",
         "domain": [
          0.7333333333333333,
          1
         ]
        },
        "yaxis3": {
         "anchor": "x3",
         "domain": [
          0.36666666666666664,
          0.6333333333333333
         ]
        },
        "yaxis4": {
         "anchor": "x4",
         "domain": [
          0.36666666666666664,
          0.6333333333333333
         ]
        },
        "yaxis5": {
         "anchor": "x5",
         "domain": [
          0,
          0.26666666666666666
         ]
        },
        "yaxis6": {
         "anchor": "x6",
         "domain": [
          0,
          0.26666666666666666
         ]
        }
       }
      }
     },
     "metadata": {},
     "output_type": "display_data"
    }
   ],
   "source": [
    "import plotly.graph_objects as go\n",
    "from plotly.subplots import make_subplots\n",
    "\n",
    "x_axis = \"Unemployment\"\n",
    "\n",
    "wsales_df_for_viz = wsales_df.sort_values(by=[x_axis])\n",
    "\n",
    "cols = [\"Weekly_Sales\", \"Holiday_Flag\", \"Temperature\", \"Fuel_Price\", \"CPI\", \"Unemployment\"]\n",
    "fig = make_subplots(rows=3, cols=2)\n",
    "\n",
    "positions = [(r, c) for r in range(1, 4) for c in range(1, 3)]\n",
    "\n",
    "for i, col in enumerate(cols):\n",
    "    row, col_pos = positions[i]\n",
    "\n",
    "    fig.add_trace(go.Scatter(\n",
    "        x=wsales_df_for_viz[x_axis], y=wsales_df_for_viz[col],\n",
    "        mode=\"markers\",\n",
    "        name=\"Percentage hindered rentals\",\n",
    "    ),\n",
    "    row=row,\n",
    "    col=col_pos\n",
    "    )\n",
    "    axis_num = i + 1\n",
    "    fig.update_layout({f\"xaxis{axis_num}\": dict(title=col)})\n",
    "\n",
    "fig.update_layout(\n",
    "    height=700,\n",
    "    width=1200,\n",
    "    title_text=f\"Evolution along {x_axis}\",\n",
    "    showlegend=False\n",
    ")\n",
    "\n",
    "fig.show()"
   ]
  },
  {
   "cell_type": "code",
   "execution_count": null,
   "id": "9f52f59a",
   "metadata": {},
   "outputs": [
    {
     "data": {
      "application/vnd.plotly.v1+json": {
       "config": {
        "plotlyServerURL": "https://plot.ly"
       },
       "data": [
        {
         "mode": "markers",
         "name": "Percentage hindered rentals",
         "type": "scatter",
         "x": {
          "bdata": "6SYxCKwcBED8qfHSTWIEQPyp8dJNYgRA+n5qvHSTBEAOLbKd76cEQMHKoUW28wRAwcqhRbbzBEB/arx0kxgFQH9qvHSTGAVAH4XrUbgeBUAfhetRuB4FQIlBYOXQIgVA001iEFg5BUCkcD0K16MFQOSlm8QgsAVAzczMzMzMBUBt5/up8dIFQOF6FK5H4QVAPzVeukkMBkDfT42XbhIGQF+6SQwCKwZAPQrXo3A9BkA9CtejcD0GQLx0kxgEVgZAEVg5tMh2BkBQjZduEoMGQPCnxks3iQZA2s73U+OlBkDufD81XroGQM3MzMzMzAZAbef7qfHSBkCiRbbz/dQGQOF6FK5H4QZAoBov3SQGB0BzaJHtfD8HQBKDwMqhRQdAUrgehetRB0Db+X5qvHQHQESLbOf7qQdATmIQWDm0B0ADK4cW2c4HQCcxCKwcWghAXI/C9ShcCEBt5/up8dIIQKwcWmQ73whA6SYxCKwcCUD+1HjpJjEJQDvfT42XbglAJQaBlUOLCUAX2c73U+MJQEoMAiuHFgpASOF6FK5HCkDHSzeJQWAKQBFYObTIdgpAEVg5tMh2CkD4U+Olm8QKQHsUrkfhegtAI9v5fmq8C0CNl24Sg8ALQOF6FK5H4QtAyXa+nxovDEAIrBxaZDsMQDvfT42XbgxAcT0K16NwDECPwvUoXI8MQI2XbhKDwAxAjZduEoPADECNl24Sg8AMQPhT46WbxAxADAIrhxbZDEBWDi2yne8MQAAAAAAAAA1Aarx0kxgEDUC0yHa+nxoNQMl2vp8aLw1AEoPAyqFFDUCHFtnO91MNQNv5fmq8dA1ARrbz/dR4DUAbL90kBoENQI/C9Shcjw1Az/dT46WbDUAtsp3vp8YNQKwcWmQ73w1AAAAAAAAADkAUrkfhehQOQIlBYOXQIg5AfT81XrpJDkDn+6nx0k0OQB1aZDvfTw5Ax0s3iUFgDkA730+Nl24OQNv5fmq8dA5AL90kBoGVDkA5tMh2vp8OQHWTGARWDg9A/tR46SYxD0CwcmiR7XwPQC/dJAaBFRBAZDvfT40XEEAEVg4tsh0QQMl2vp8aLxBALbKd76dGEEAMAiuHFlkQQOXQItv5fhBArkfhehSuEEATg8DKocUQQAAAAAAAAPh/AAAAAAAA+H8AAAAAAAD4fwAAAAAAAPh/AAAAAAAA+H8AAAAAAAD4fwAAAAAAAPh/AAAAAAAA+H8AAAAAAAD4fwAAAAAAAPh/AAAAAAAA+H8=",
          "dtype": "f8"
         },
         "xaxis": "x",
         "y": {
          "bdata": "UrgexVE1QEEK16Nw5Q05Qc3MzMziWy5BFK5H4dgsHEEzMzOzx4gpQfYoXI/hHytBuB6F67YcNkFmZmZmszgWQa5H4XrHUB9B7FG4HgRqEEF7FK7HlGE3QZqZmZk0oB1B7FG4Hj0VH0EzMzMzozoYQY/C9ajaviJBexSuR/IfIUHXo3C9jD89QSlcj4I60DpBMzMzs/1XPEGPwvWothc5QTMzMzM9uh9BuB6Fy+InQUGPwvUo4Ns2QZqZmdklyzFB7FG43o8bPkFcj8K1Csw+Qc3MzCyOx0JBuB6F60cbKkG4HoVriMspQRSuR6FVej5BpHA9ii5OKUEAAACA68w2QeF6FG4UkUFBMzMzM+RrL0GkcD3KWiszQQAAAIDNKiRBUrgehdUfJ0Fcj8L1e9k0QeF6FK7aojdBMzMzc0/GNUGkcD3KYtM6QfYoXA+ejytBpHA9ihX9N0GkcD2KCTIhQRSuR6Ej10NBXI/Ctc48OEFcj8KV4iRFQaRwPco5djtBmpmZGSp0PEGamZlZ9cQzQa5H4Xo6bRZBmpmZmTmeGEHNzMzMigkTQTMzM7ObfTdBFK5H4dtXGEHNzMzMp5oZQeF6FG65lDtBKVyPwgNLFkHD9SjcbYg/QQrXo/DUOSNBj8L1aHWsNUHsUbiebug+QQAAAAC1UCtBMzMzs6poPEG4HoXrGKU+QR+F61EE6RlBmpmZmTggE0FSuB7F5AI3QZqZmRnpPiJBFK5HYaUQPkGamZmZwc9AQa5H4TqbrTxBPQrXYwcSP0EzMzMzuCUqQVyPwvWGMDxBH4XrUXoRIEGkcD3Kr447QeF6FK4YyxBBAAAAwD/JOEEK16NwxV0aQdejcP3G1D5Bw/UoXBMsLUHD9Shcvmc2QXsUrsegmDlBPQrXo52bHUEpXI/CCM89QTMzMzM4RhlBuB6Fq75eNkE9Ctdj5w4/QQrXo/CEUzNB4XoUrowSLEGkcD2KB0IgQeF6FO6+AzlBCtejcPsnLkEpXI/CFJMaQVK4HgXjXj5BpHA9CsjBEUHXo3A98OkbQVyPwnXmaSFBXI/CdURVLUEAAAAAn2MwQeF6FO7v+T9BFK5HYcg4JUFSuB4F2W0tQQrXo3BPcDVBKVyPQq8mM0Fcj8L1xCkvQSlcj0Jwj0JB16NwPUiyP0FmZmam9047QR+F61FgQSpBw/UoXCc7EkH2KFxP7Po6QT0K1yNgdTtBFK5Hoef5P0Fcj8I1lqQ7QRSuR6FRZDZBCtejcA1sEkE=",
          "dtype": "f8"
         },
         "yaxis": "y"
        },
        {
         "mode": "markers",
         "name": "Percentage hindered rentals",
         "type": "scatter",
         "x": {
          "bdata": "6SYxCKwcBED8qfHSTWIEQPyp8dJNYgRA+n5qvHSTBEAOLbKd76cEQMHKoUW28wRAwcqhRbbzBEB/arx0kxgFQH9qvHSTGAVAH4XrUbgeBUAfhetRuB4FQIlBYOXQIgVA001iEFg5BUCkcD0K16MFQOSlm8QgsAVAzczMzMzMBUBt5/up8dIFQOF6FK5H4QVAPzVeukkMBkDfT42XbhIGQF+6SQwCKwZAPQrXo3A9BkA9CtejcD0GQLx0kxgEVgZAEVg5tMh2BkBQjZduEoMGQPCnxks3iQZA2s73U+OlBkDufD81XroGQM3MzMzMzAZAbef7qfHSBkCiRbbz/dQGQOF6FK5H4QZAoBov3SQGB0BzaJHtfD8HQBKDwMqhRQdAUrgehetRB0Db+X5qvHQHQESLbOf7qQdATmIQWDm0B0ADK4cW2c4HQCcxCKwcWghAXI/C9ShcCEBt5/up8dIIQKwcWmQ73whA6SYxCKwcCUD+1HjpJjEJQDvfT42XbglAJQaBlUOLCUAX2c73U+MJQEoMAiuHFgpASOF6FK5HCkDHSzeJQWAKQBFYObTIdgpAEVg5tMh2CkD4U+Olm8QKQHsUrkfhegtAI9v5fmq8C0CNl24Sg8ALQOF6FK5H4QtAyXa+nxovDEAIrBxaZDsMQDvfT42XbgxAcT0K16NwDECPwvUoXI8MQI2XbhKDwAxAjZduEoPADECNl24Sg8AMQPhT46WbxAxADAIrhxbZDEBWDi2yne8MQAAAAAAAAA1Aarx0kxgEDUC0yHa+nxoNQMl2vp8aLw1AEoPAyqFFDUCHFtnO91MNQNv5fmq8dA1ARrbz/dR4DUAbL90kBoENQI/C9Shcjw1Az/dT46WbDUAtsp3vp8YNQKwcWmQ73w1AAAAAAAAADkAUrkfhehQOQIlBYOXQIg5AfT81XrpJDkDn+6nx0k0OQB1aZDvfTw5Ax0s3iUFgDkA730+Nl24OQNv5fmq8dA5AL90kBoGVDkA5tMh2vp8OQHWTGARWDg9A/tR46SYxD0CwcmiR7XwPQC/dJAaBFRBAZDvfT40XEEAEVg4tsh0QQMl2vp8aLxBALbKd76dGEEAMAiuHFlkQQOXQItv5fhBArkfhehSuEEATg8DKocUQQAAAAAAAAPh/AAAAAAAA+H8AAAAAAAD4fwAAAAAAAPh/AAAAAAAA+H8AAAAAAAD4fwAAAAAAAPh/AAAAAAAA+H8AAAAAAAD4fwAAAAAAAPh/AAAAAAAA+H8=",
          "dtype": "f8"
         },
         "xaxis": "x2",
         "y": {
          "bdata": "AAAAAAAAAAAAAAAAAADwPwAAAAAAAPA/AAAAAAAAAAAAAAAAAAAAAAAAAAAAAAAAAAAAAAAAAAAAAAAAAAAAAAAAAAAAAAAAAAAAAAAAAAAAAAAAAAAAAAAAAAAAAAAAAAAAAAAAAAAAAAAAAAAAAAAAAAAAAAAAAAAAAAAAAAAAAAAAAAAAAAAAAAAAAPA/AAAAAAAAAAAAAAAAAAAAAAAAAAAAAAAAAAAAAAAAAAAAAAAAAAAAAAAAAAAAAAAAAAAAAAAAAAAAAAAAAAAAAAAAAAAAAAAAAAAAAAAAAAAAAAAAAAAAAAAAAAAAAAAAAAAAAAAAAAAAAAAAAAAAAAAAAAAAAAAAAAAAAAAAAAAAAAAAAAAAAAAAAAAAAAAAAAAAAAAAAAAAAAAAAAAAAAAAAAAAAAAAAAAAAAAAAAAAAAAAAAAAAAAAAAAAAPA/AAAAAAAAAAAAAAAAAADwPwAAAAAAAAAAAAAAAAAAAAAAAAAAAAAAAAAAAAAAAPA/AAAAAAAAAAAAAAAAAAAAAAAAAAAAAAAAAAAAAAAAAAAAAAAAAAAAAAAAAAAAAAAAAAAAAAAAAAAAAAAAAAAAAAAAAAAAAAAAAAAAAAAAAAAAAAAAAAAAAAAAAAAAAAAAAAAAAAAAAAAAAAAAAAAAAAAAAAAAAAAAAAAAAAAAAAAAAAAAAAAAAAAAAAAAAAAAAAAAAAAAAAAAAAAAAAAAAAAAAAAAAPA/AAAAAAAAAAAAAAAAAAAAAAAAAAAAAAAAAAAAAAAAAAAAAAAAAAAAAAAAAAAAAAAAAAAAAAAAAAAAAAAAAAAAAAAAAAAAAAAAAAAAAAAAAAAAAAAAAAAAAAAAAAAAAAAAAAAAAAAAAAAAAAAAAAAAAAAAAAAAAAAAAAAAAAAAAAAAAAAAAAAAAAAAAAAAAAAAAAAAAAAAAAAAAAAAAAAAAAAAAAAAAAAAAAAAAAAAAAAAAAAAAAAAAAAAAAAAAAAAAAAAAAAAAAAAAAAAAAAAAAAAAAAAAAAAAAAAAAAAAAAAAAAAAAAAAAAAAAAAAAAAAAAAAAAAAAAAAAAAAAAAAAAAAAAAAAAAAAAAAAAAAAAAAAAAAAAAAAAAAAAAAAAAAAAAAAAAAAAAAAAAAAAAAAAAAAAAAAAAAAAAAAAA8D8AAAAAAAAAAAAAAAAAAAAAAAAAAAAAAAAAAAAAAAAAAAAAAAAAAAAAAAAAAAAAAAAAAAAAAAAAAAAAAAAAAAAAAAAAAAAAAAA=",
          "dtype": "f8"
         },
         "yaxis": "y2"
        },
        {
         "mode": "markers",
         "name": "Percentage hindered rentals",
         "type": "scatter",
         "x": {
          "bdata": "6SYxCKwcBED8qfHSTWIEQPyp8dJNYgRA+n5qvHSTBEAOLbKd76cEQMHKoUW28wRAwcqhRbbzBEB/arx0kxgFQH9qvHSTGAVAH4XrUbgeBUAfhetRuB4FQIlBYOXQIgVA001iEFg5BUCkcD0K16MFQOSlm8QgsAVAzczMzMzMBUBt5/up8dIFQOF6FK5H4QVAPzVeukkMBkDfT42XbhIGQF+6SQwCKwZAPQrXo3A9BkA9CtejcD0GQLx0kxgEVgZAEVg5tMh2BkBQjZduEoMGQPCnxks3iQZA2s73U+OlBkDufD81XroGQM3MzMzMzAZAbef7qfHSBkCiRbbz/dQGQOF6FK5H4QZAoBov3SQGB0BzaJHtfD8HQBKDwMqhRQdAUrgehetRB0Db+X5qvHQHQESLbOf7qQdATmIQWDm0B0ADK4cW2c4HQCcxCKwcWghAXI/C9ShcCEBt5/up8dIIQKwcWmQ73whA6SYxCKwcCUD+1HjpJjEJQDvfT42XbglAJQaBlUOLCUAX2c73U+MJQEoMAiuHFgpASOF6FK5HCkDHSzeJQWAKQBFYObTIdgpAEVg5tMh2CkD4U+Olm8QKQHsUrkfhegtAI9v5fmq8C0CNl24Sg8ALQOF6FK5H4QtAyXa+nxovDEAIrBxaZDsMQDvfT42XbgxAcT0K16NwDECPwvUoXI8MQI2XbhKDwAxAjZduEoPADECNl24Sg8AMQPhT46WbxAxADAIrhxbZDEBWDi2yne8MQAAAAAAAAA1Aarx0kxgEDUC0yHa+nxoNQMl2vp8aLw1AEoPAyqFFDUCHFtnO91MNQNv5fmq8dA1ARrbz/dR4DUAbL90kBoENQI/C9Shcjw1Az/dT46WbDUAtsp3vp8YNQKwcWmQ73w1AAAAAAAAADkAUrkfhehQOQIlBYOXQIg5AfT81XrpJDkDn+6nx0k0OQB1aZDvfTw5Ax0s3iUFgDkA730+Nl24OQNv5fmq8dA5AL90kBoGVDkA5tMh2vp8OQHWTGARWDg9A/tR46SYxD0CwcmiR7XwPQC/dJAaBFRBAZDvfT40XEEAEVg4tsh0QQMl2vp8aLxBALbKd76dGEEAMAiuHFlkQQOXQItv5fhBArkfhehSuEEATg8DKocUQQAAAAAAAAPh/AAAAAAAA+H8AAAAAAAD4fwAAAAAAAPh/AAAAAAAA+H8AAAAAAAD4fwAAAAAAAPh/AAAAAAAA+H8AAAAAAAD4fwAAAAAAAPh/AAAAAAAA+H8=",
          "dtype": "f8"
         },
         "xaxis": "x3",
         "y": {
          "bdata": "uB6F61HYQ0DhehSuR0FDQOxRuB6Fq0BAexSuR+HaRkAUrkfhetRSQHsUrkfhulJArkfhehROVUDhehSuR+FUQI/C9Shcv1RAPQrXo3CdVEAAAAAAAAD4f3E9CtejoFNA4XoUrkdBVUBSuB6F66FTQIXrUbge5U5A4XoUrkchQ0C4HoXrUdhNQJqZmZmZeVFAAAAAAAAA+H8pXI/C9bhTQHsUrkfh+khASOF6FK4nUkAK16NwPTpRQHsUrkfhalJAexSuR+HKUkAUrkfherRTQKRwPQrXY0JAAAAAAAAA+H9SuB6F65FMQPYoXI/CFVNAKVyPwvUITkBSuB6F67FSQDMzMzMzM0VAw/UoXI8CSkBI4XoUrkdRQAAAAAAAAPh/XI/C9SicRkCF61G4HjVSQAAAAAAAkFBAKVyPwvWIQ0C4HoXrUVhGQLgehetR6FRArkfhehTOTUAK16NwPcoyQArXo3A9ij5AZmZmZmZmO0C4HoXrUThCQJqZmZmZ2TxAKVyPwvUoQUDD9Shcj2JKQK5H4XoU7klAw/UoXI/iUkB7FK5H4VpOQAAAAAAAIE9AFK5H4Xr0T0DNzMzMzKxUQHE9CtejMEVAXI/C9SgMVED2KFyPwiVVQM3MzMzMzExAAAAAAAAA+H8AAAAAAEBKQHsUrkfhulRAcT0K16NQS0BmZmZmZnZUQFyPwvUoXFJAexSuR+FKUUCuR+F6FP5QQOxRuB6F60xAzczMzMz8UkDXo3A9CvdDQOF6FK5H4URA9ihcj8K1VEAzMzMzM4NVQM3MzMzMzE9AAAAAAAAA+H9I4XoUrrdVQHsUrkfhWlZAmpmZmZnpVkBcj8L1KMxSQM3MzMzMbEJAw/UoXI/CVkAAAAAAAAD4f4/C9ShcL1BAhetRuB4lSECuR+F6FJ5TQK5H4XoUTkJAAAAAAAAA+H+uR+F6FI5OQOF6FK5HoUBAKVyPwvVoRkDNzMzMzExJQI/C9Shcj1JAAAAAAAAA+H+amZmZmflFQI/C9Shcz0xAuB6F61FYU0BmZmZmZqZDQPYoXI/CtUdA16NwPQo3SUBcj8L1KHxJQAAAAAAAAPh/MzMzMzNzUUAAAAAAAAD4f+F6FK5HYUlAmpmZmZmZS0CamZmZmRlRQHE9CtejEElAAAAAAACAQkBI4XoUrldRQOF6FK5H4UhAUrgehevhUEAUrkfhepRWQAAAAAAAYEdAUrgehetxQUB7FK5H4VpAQHE9CtejEFFAj8L1KFwvT0A=",
          "dtype": "f8"
         },
         "yaxis": "y3"
        },
        {
         "mode": "markers",
         "name": "Percentage hindered rentals",
         "type": "scatter",
         "x": {
          "bdata": "6SYxCKwcBED8qfHSTWIEQPyp8dJNYgRA+n5qvHSTBEAOLbKd76cEQMHKoUW28wRAwcqhRbbzBEB/arx0kxgFQH9qvHSTGAVAH4XrUbgeBUAfhetRuB4FQIlBYOXQIgVA001iEFg5BUCkcD0K16MFQOSlm8QgsAVAzczMzMzMBUBt5/up8dIFQOF6FK5H4QVAPzVeukkMBkDfT42XbhIGQF+6SQwCKwZAPQrXo3A9BkA9CtejcD0GQLx0kxgEVgZAEVg5tMh2BkBQjZduEoMGQPCnxks3iQZA2s73U+OlBkDufD81XroGQM3MzMzMzAZAbef7qfHSBkCiRbbz/dQGQOF6FK5H4QZAoBov3SQGB0BzaJHtfD8HQBKDwMqhRQdAUrgehetRB0Db+X5qvHQHQESLbOf7qQdATmIQWDm0B0ADK4cW2c4HQCcxCKwcWghAXI/C9ShcCEBt5/up8dIIQKwcWmQ73whA6SYxCKwcCUD+1HjpJjEJQDvfT42XbglAJQaBlUOLCUAX2c73U+MJQEoMAiuHFgpASOF6FK5HCkDHSzeJQWAKQBFYObTIdgpAEVg5tMh2CkD4U+Olm8QKQHsUrkfhegtAI9v5fmq8C0CNl24Sg8ALQOF6FK5H4QtAyXa+nxovDEAIrBxaZDsMQDvfT42XbgxAcT0K16NwDECPwvUoXI8MQI2XbhKDwAxAjZduEoPADECNl24Sg8AMQPhT46WbxAxADAIrhxbZDEBWDi2yne8MQAAAAAAAAA1Aarx0kxgEDUC0yHa+nxoNQMl2vp8aLw1AEoPAyqFFDUCHFtnO91MNQNv5fmq8dA1ARrbz/dR4DUAbL90kBoENQI/C9Shcjw1Az/dT46WbDUAtsp3vp8YNQKwcWmQ73w1AAAAAAAAADkAUrkfhehQOQIlBYOXQIg5AfT81XrpJDkDn+6nx0k0OQB1aZDvfTw5Ax0s3iUFgDkA730+Nl24OQNv5fmq8dA5AL90kBoGVDkA5tMh2vp8OQHWTGARWDg9A/tR46SYxD0CwcmiR7XwPQC/dJAaBFRBAZDvfT40XEEAEVg4tsh0QQMl2vp8aLxBALbKd76dGEEAMAiuHFlkQQOXQItv5fhBArkfhehSuEEATg8DKocUQQAAAAAAAAPh/AAAAAAAA+H8AAAAAAAD4fwAAAAAAAPh/AAAAAAAA+H8AAAAAAAD4fwAAAAAAAPh/AAAAAAAA+H8AAAAAAAD4fwAAAAAAAPh/AAAAAAAA+H8=",
          "dtype": "f8"
         },
         "xaxis": "x4",
         "y": {
          "bdata": "6SYxCKwcBED8qfHSTWIEQPyp8dJNYgRA+n5qvHSTBEAOLbKd76cEQMHKoUW28wRAwcqhRbbzBEB/arx0kxgFQH9qvHSTGAVAH4XrUbgeBUAfhetRuB4FQIlBYOXQIgVA001iEFg5BUCkcD0K16MFQOSlm8QgsAVAzczMzMzMBUBt5/up8dIFQOF6FK5H4QVAPzVeukkMBkDfT42XbhIGQF+6SQwCKwZAPQrXo3A9BkA9CtejcD0GQLx0kxgEVgZAEVg5tMh2BkBQjZduEoMGQPCnxks3iQZA2s73U+OlBkDufD81XroGQM3MzMzMzAZAbef7qfHSBkCiRbbz/dQGQOF6FK5H4QZAoBov3SQGB0BzaJHtfD8HQBKDwMqhRQdAUrgehetRB0Db+X5qvHQHQESLbOf7qQdATmIQWDm0B0ADK4cW2c4HQCcxCKwcWghAXI/C9ShcCEBt5/up8dIIQKwcWmQ73whA6SYxCKwcCUD+1HjpJjEJQDvfT42XbglAJQaBlUOLCUAX2c73U+MJQEoMAiuHFgpASOF6FK5HCkDHSzeJQWAKQBFYObTIdgpAEVg5tMh2CkD4U+Olm8QKQHsUrkfhegtAI9v5fmq8C0CNl24Sg8ALQOF6FK5H4QtAyXa+nxovDEAIrBxaZDsMQDvfT42XbgxAcT0K16NwDECPwvUoXI8MQI2XbhKDwAxAjZduEoPADECNl24Sg8AMQPhT46WbxAxADAIrhxbZDEBWDi2yne8MQAAAAAAAAA1Aarx0kxgEDUC0yHa+nxoNQMl2vp8aLw1AEoPAyqFFDUCHFtnO91MNQNv5fmq8dA1ARrbz/dR4DUAbL90kBoENQI/C9Shcjw1Az/dT46WbDUAtsp3vp8YNQKwcWmQ73w1AAAAAAAAADkAUrkfhehQOQIlBYOXQIg5AfT81XrpJDkDn+6nx0k0OQB1aZDvfTw5Ax0s3iUFgDkA730+Nl24OQNv5fmq8dA5AL90kBoGVDkA5tMh2vp8OQHWTGARWDg9A/tR46SYxD0CwcmiR7XwPQC/dJAaBFRBAZDvfT40XEEAEVg4tsh0QQMl2vp8aLxBALbKd76dGEEAMAiuHFlkQQOXQItv5fhBArkfhehSuEEATg8DKocUQQAAAAAAAAPh/AAAAAAAA+H8AAAAAAAD4fwAAAAAAAPh/AAAAAAAA+H8AAAAAAAD4fwAAAAAAAPh/AAAAAAAA+H8AAAAAAAD4fwAAAAAAAPh/AAAAAAAA+H8=",
          "dtype": "f8"
         },
         "yaxis": "y4"
        },
        {
         "mode": "markers",
         "name": "Percentage hindered rentals",
         "type": "scatter",
         "x": {
          "bdata": "6SYxCKwcBED8qfHSTWIEQPyp8dJNYgRA+n5qvHSTBEAOLbKd76cEQMHKoUW28wRAwcqhRbbzBEB/arx0kxgFQH9qvHSTGAVAH4XrUbgeBUAfhetRuB4FQIlBYOXQIgVA001iEFg5BUCkcD0K16MFQOSlm8QgsAVAzczMzMzMBUBt5/up8dIFQOF6FK5H4QVAPzVeukkMBkDfT42XbhIGQF+6SQwCKwZAPQrXo3A9BkA9CtejcD0GQLx0kxgEVgZAEVg5tMh2BkBQjZduEoMGQPCnxks3iQZA2s73U+OlBkDufD81XroGQM3MzMzMzAZAbef7qfHSBkCiRbbz/dQGQOF6FK5H4QZAoBov3SQGB0BzaJHtfD8HQBKDwMqhRQdAUrgehetRB0Db+X5qvHQHQESLbOf7qQdATmIQWDm0B0ADK4cW2c4HQCcxCKwcWghAXI/C9ShcCEBt5/up8dIIQKwcWmQ73whA6SYxCKwcCUD+1HjpJjEJQDvfT42XbglAJQaBlUOLCUAX2c73U+MJQEoMAiuHFgpASOF6FK5HCkDHSzeJQWAKQBFYObTIdgpAEVg5tMh2CkD4U+Olm8QKQHsUrkfhegtAI9v5fmq8C0CNl24Sg8ALQOF6FK5H4QtAyXa+nxovDEAIrBxaZDsMQDvfT42XbgxAcT0K16NwDECPwvUoXI8MQI2XbhKDwAxAjZduEoPADECNl24Sg8AMQPhT46WbxAxADAIrhxbZDEBWDi2yne8MQAAAAAAAAA1Aarx0kxgEDUC0yHa+nxoNQMl2vp8aLw1AEoPAyqFFDUCHFtnO91MNQNv5fmq8dA1ARrbz/dR4DUAbL90kBoENQI/C9Shcjw1Az/dT46WbDUAtsp3vp8YNQKwcWmQ73w1AAAAAAAAADkAUrkfhehQOQIlBYOXQIg5AfT81XrpJDkDn+6nx0k0OQB1aZDvfTw5Ax0s3iUFgDkA730+Nl24OQNv5fmq8dA5AL90kBoGVDkA5tMh2vp8OQHWTGARWDg9A/tR46SYxD0CwcmiR7XwPQC/dJAaBFRBAZDvfT40XEEAEVg4tsh0QQMl2vp8aLxBALbKd76dGEEAMAiuHFlkQQOXQItv5fhBArkfhehSuEEATg8DKocUQQAAAAAAAAPh/AAAAAAAA+H8AAAAAAAD4fwAAAAAAAPh/AAAAAAAA+H8AAAAAAAD4fwAAAAAAAPh/AAAAAAAA+H8AAAAAAAD4fwAAAAAAAPh/AAAAAAAA+H8=",
          "dtype": "f8"
         },
         "xaxis": "x5",
         "y": {
          "bdata": "Ep87wT5eakCHYuHav2dqQLqT46ni02pA7VV1oJjNakBWVuQhHdxqQH+tAQD23WpAztoSXidyakAxm1t8JdlqQPywOWKI4GpA64sp/al9akDS+Cqen5xqQIVzsnkB1WpAiAxQv7DcakBxoxLo3c9qQFK0F3a9sGdAkYDR5Y22Z0BDkIMSJnVqQJEsYAL34WpAbr62I0GKX0AmHeVgNo1qQJeA8z3+7WpAMDPHTSjOZkDKplzhnXxqQE59IHmnk2BAU+8EVimSaUCb5h2n6IhfQF8pyxDHsl9A0HWGTvSiX0BWFApsKYdfQAAAAAAAAPh/EOm3rwOPX0AjCtIxzEpqQF8pyxDHsl9A1KcLZ22YYEBF9GvrZ4lgQKrx0k1idGBAOUVHcvmjX0AlG7T8JZNgQOMryyGzkGBAVWe1wJ57YEDJbDWQE2JqQGJw3klVh19ATswfeOHYakClDwKXbJ1oQAAAAAAAAPh/AAAAAAAA+H9bJsPxvDxgQEANKVCVlGlAOoA0UiXTZkDy9tZ2SbhfQAAAAAAAAPh/AAAAAAAA+H+0bighPVJrQF6PeGgOR2tABwDYypW0a0DZXDXP0SlsQED35cy2E2BAfSgsTLp3a0CamZmZmSNgQNUqVf0lTGhAsuA0M6koa0Bf1VktcFpgQBcJXA0/YmtA4fCCiNSIa0Aydy0hHyJgQGs9jcUAX2xATVdmAJ4AbEClVHiGn+1rQDAx8aIKw2hAQpAoWXMmYEBkHvmDwaBqQCZWodzRH2dAlEJqJNMkYED77NukPWBrQLB9ty+WMGBApfm+Ew7EaECaE2o8B1dgQAJrMGh8AWtABFq6gm3xakBcNXRYhidsQIhNv5/1umdAQpAoWXMmYECXkA96NkVhQI7beSzHpmtA3+I89zmtaEAswgO5ekRnQKlnQShvGmhA9qOXBx/wakBXD076sV5gQMI5fgOuvmBAK5Jld3djYEDOaFDZ1bJoQDfewl94IGtAzTD/MunIYEB88xsmmhpoQHCPSlaqVGBAJhhzfBkRa0DsoX2sILdoQIlWk0yzMmFAHdQ03kw/YUBseHqlLF1hQBihjn3/PWdAwgk7e13bYED1V37P/iFgQEVHcvkPQWFA2hAtw4k9YUBOS2L/ayFgQAAAAAAAAPh/AAAAAAAA+H8AAAAAAAD4fzzGcND512pAKEhsdw9eakAc6+I2GohfQKGgFK1ca2tAAAAAAAAA+H9h5vFq70hgQLYcQ1sp3mBA4rmt4+6RakA=",
          "dtype": "f8"
         },
         "yaxis": "y5"
        },
        {
         "mode": "markers",
         "name": "Percentage hindered rentals",
         "type": "scatter",
         "x": {
          "bdata": "6SYxCKwcBED8qfHSTWIEQPyp8dJNYgRA+n5qvHSTBEAOLbKd76cEQMHKoUW28wRAwcqhRbbzBEB/arx0kxgFQH9qvHSTGAVAH4XrUbgeBUAfhetRuB4FQIlBYOXQIgVA001iEFg5BUCkcD0K16MFQOSlm8QgsAVAzczMzMzMBUBt5/up8dIFQOF6FK5H4QVAPzVeukkMBkDfT42XbhIGQF+6SQwCKwZAPQrXo3A9BkA9CtejcD0GQLx0kxgEVgZAEVg5tMh2BkBQjZduEoMGQPCnxks3iQZA2s73U+OlBkDufD81XroGQM3MzMzMzAZAbef7qfHSBkCiRbbz/dQGQOF6FK5H4QZAoBov3SQGB0BzaJHtfD8HQBKDwMqhRQdAUrgehetRB0Db+X5qvHQHQESLbOf7qQdATmIQWDm0B0ADK4cW2c4HQCcxCKwcWghAXI/C9ShcCEBt5/up8dIIQKwcWmQ73whA6SYxCKwcCUD+1HjpJjEJQDvfT42XbglAJQaBlUOLCUAX2c73U+MJQEoMAiuHFgpASOF6FK5HCkDHSzeJQWAKQBFYObTIdgpAEVg5tMh2CkD4U+Olm8QKQHsUrkfhegtAI9v5fmq8C0CNl24Sg8ALQOF6FK5H4QtAyXa+nxovDEAIrBxaZDsMQDvfT42XbgxAcT0K16NwDECPwvUoXI8MQI2XbhKDwAxAjZduEoPADECNl24Sg8AMQPhT46WbxAxADAIrhxbZDEBWDi2yne8MQAAAAAAAAA1Aarx0kxgEDUC0yHa+nxoNQMl2vp8aLw1AEoPAyqFFDUCHFtnO91MNQNv5fmq8dA1ARrbz/dR4DUAbL90kBoENQI/C9Shcjw1Az/dT46WbDUAtsp3vp8YNQKwcWmQ73w1AAAAAAAAADkAUrkfhehQOQIlBYOXQIg5AfT81XrpJDkDn+6nx0k0OQB1aZDvfTw5Ax0s3iUFgDkA730+Nl24OQNv5fmq8dA5AL90kBoGVDkA5tMh2vp8OQHWTGARWDg9A/tR46SYxD0CwcmiR7XwPQC/dJAaBFRBAZDvfT40XEEAEVg4tsh0QQMl2vp8aLxBALbKd76dGEEAMAiuHFlkQQOXQItv5fhBArkfhehSuEEATg8DKocUQQAAAAAAAAPh/AAAAAAAA+H8AAAAAAAD4fwAAAAAAAPh/AAAAAAAA+H8AAAAAAAD4fwAAAAAAAPh/AAAAAAAA+H8AAAAAAAD4fwAAAAAAAPh/AAAAAAAA+H8=",
          "dtype": "f8"
         },
         "xaxis": "x6",
         "y": {
          "bdata": "AAAAAAAA+H+DwMqhRTYgQBkEVg4tMhlARLbz/dR4HUDD9Shcj0IZQMP1KFyPQhlA2s73U+MlH0CsHFpkO18dQPCnxks3iRlAlkOLbOf7GUAxCKwcWuQbQPhT46WbxBlAAAAAAAAA+H+sHFpkO18dQEW28/3UeBtAkxgEVg7tIUD6fmq8dFMgQKjGSzeJQR5AL90kBoGVH0CS7Xw/NV4cQD0K16NwPRpAPzVeuknMIUCS7Xw/NV4cQMl2vp8aryJABoGVQ4tsH0Dn+6nx0s0fQK5H4XoULh9AAAAAAAAA+H8AAAAAAAD4f+f7qfHSzR9ACtejcD2KG0AIrBxaZDsfQDdeukkMghxAtvP91HipIkAAAAAAAAD4fwAAAAAAAPh/CtejcD2KGkCmm8QgsDIgQKabxCCwMiBAMzMzMzOzIEB0kxgEVg4gQFyPwvUoXCxAO99PjZduG0BQjZduEoMgQAAAAAAAAPh/tvP91HipIkDfT42XbpIUQFYOLbKd7x1AAAAAAAAA+H/HSzeJQaAsQKBFtvP9VBtAfT81XrrJHEAzMzMzMzMZQBBYObTIdh9AfT81XrrJHEAOLbKd76caQOF6FK5H4R1A+FPjpZtEHkD6fmq8dJMWQFg5tMh2PiFAMzMzMzOzG0DRItv5fmoYQDMzMzMzsxlA7nw/NV46HEBkEFg5tMgXQIlBYOXQIhhA5aWbxCCwFUAAAAAAAAD4f7FyaJHtfB9AN166SQyCG0Dy0k1iENgbQAwCK4cWGSFA+n5qvHSTFkAAAAAAAAD4fzdeukkMghtAWDm0yHY+GECuR+F6FK4cQARWDi2yHRpADgIrhxbZH0AOLbKd76caQAwCK4cW2SBAqMZLN4kBK0DNzMzMzEwgQDEIrBxaZB1A2s73U+OlGEAAAAAAAEAhQHE9CtejMCFA7nw/NV66HkBcj8L1KNwXQC/dJAaBFR9Az/dT46UbFkCuR+F6FC4gQOxRuB6FaxtAMzMzMzPzIUBCYOXQIlsZQK5H4XoULh5A2/l+arz0GUCuR+F6FC4gQBKDwMqhxR9Az/dT46WbIEAj2/l+anwgQJhuEoPACiFAbRKDwMqhHkBGtvP91HgrQM3MzMzMTCBAzczMzMxMIEBGtvP91HgrQN0kBoGVwx1ADAIrhxbZIEDP91PjpRseQBkEVg4tMhlAAAAAAAAA+H8/NV66SQwjQO58PzVeOhxAlkOLbOf7IUDRItv5fmoYQG0Sg8DKoR5A30+Nl24SG0A=",
          "dtype": "f8"
         },
         "yaxis": "y6"
        }
       ],
       "layout": {
        "height": 700,
        "showlegend": false,
        "template": {
         "data": {
          "bar": [
           {
            "error_x": {
             "color": "#2a3f5f"
            },
            "error_y": {
             "color": "#2a3f5f"
            },
            "marker": {
             "line": {
              "color": "#E5ECF6",
              "width": 0.5
             },
             "pattern": {
              "fillmode": "overlay",
              "size": 10,
              "solidity": 0.2
             }
            },
            "type": "bar"
           }
          ],
          "barpolar": [
           {
            "marker": {
             "line": {
              "color": "#E5ECF6",
              "width": 0.5
             },
             "pattern": {
              "fillmode": "overlay",
              "size": 10,
              "solidity": 0.2
             }
            },
            "type": "barpolar"
           }
          ],
          "carpet": [
           {
            "aaxis": {
             "endlinecolor": "#2a3f5f",
             "gridcolor": "white",
             "linecolor": "white",
             "minorgridcolor": "white",
             "startlinecolor": "#2a3f5f"
            },
            "baxis": {
             "endlinecolor": "#2a3f5f",
             "gridcolor": "white",
             "linecolor": "white",
             "minorgridcolor": "white",
             "startlinecolor": "#2a3f5f"
            },
            "type": "carpet"
           }
          ],
          "choropleth": [
           {
            "colorbar": {
             "outlinewidth": 0,
             "ticks": ""
            },
            "type": "choropleth"
           }
          ],
          "contour": [
           {
            "colorbar": {
             "outlinewidth": 0,
             "ticks": ""
            },
            "colorscale": [
             [
              0,
              "#0d0887"
             ],
             [
              0.1111111111111111,
              "#46039f"
             ],
             [
              0.2222222222222222,
              "#7201a8"
             ],
             [
              0.3333333333333333,
              "#9c179e"
             ],
             [
              0.4444444444444444,
              "#bd3786"
             ],
             [
              0.5555555555555556,
              "#d8576b"
             ],
             [
              0.6666666666666666,
              "#ed7953"
             ],
             [
              0.7777777777777778,
              "#fb9f3a"
             ],
             [
              0.8888888888888888,
              "#fdca26"
             ],
             [
              1,
              "#f0f921"
             ]
            ],
            "type": "contour"
           }
          ],
          "contourcarpet": [
           {
            "colorbar": {
             "outlinewidth": 0,
             "ticks": ""
            },
            "type": "contourcarpet"
           }
          ],
          "heatmap": [
           {
            "colorbar": {
             "outlinewidth": 0,
             "ticks": ""
            },
            "colorscale": [
             [
              0,
              "#0d0887"
             ],
             [
              0.1111111111111111,
              "#46039f"
             ],
             [
              0.2222222222222222,
              "#7201a8"
             ],
             [
              0.3333333333333333,
              "#9c179e"
             ],
             [
              0.4444444444444444,
              "#bd3786"
             ],
             [
              0.5555555555555556,
              "#d8576b"
             ],
             [
              0.6666666666666666,
              "#ed7953"
             ],
             [
              0.7777777777777778,
              "#fb9f3a"
             ],
             [
              0.8888888888888888,
              "#fdca26"
             ],
             [
              1,
              "#f0f921"
             ]
            ],
            "type": "heatmap"
           }
          ],
          "histogram": [
           {
            "marker": {
             "pattern": {
              "fillmode": "overlay",
              "size": 10,
              "solidity": 0.2
             }
            },
            "type": "histogram"
           }
          ],
          "histogram2d": [
           {
            "colorbar": {
             "outlinewidth": 0,
             "ticks": ""
            },
            "colorscale": [
             [
              0,
              "#0d0887"
             ],
             [
              0.1111111111111111,
              "#46039f"
             ],
             [
              0.2222222222222222,
              "#7201a8"
             ],
             [
              0.3333333333333333,
              "#9c179e"
             ],
             [
              0.4444444444444444,
              "#bd3786"
             ],
             [
              0.5555555555555556,
              "#d8576b"
             ],
             [
              0.6666666666666666,
              "#ed7953"
             ],
             [
              0.7777777777777778,
              "#fb9f3a"
             ],
             [
              0.8888888888888888,
              "#fdca26"
             ],
             [
              1,
              "#f0f921"
             ]
            ],
            "type": "histogram2d"
           }
          ],
          "histogram2dcontour": [
           {
            "colorbar": {
             "outlinewidth": 0,
             "ticks": ""
            },
            "colorscale": [
             [
              0,
              "#0d0887"
             ],
             [
              0.1111111111111111,
              "#46039f"
             ],
             [
              0.2222222222222222,
              "#7201a8"
             ],
             [
              0.3333333333333333,
              "#9c179e"
             ],
             [
              0.4444444444444444,
              "#bd3786"
             ],
             [
              0.5555555555555556,
              "#d8576b"
             ],
             [
              0.6666666666666666,
              "#ed7953"
             ],
             [
              0.7777777777777778,
              "#fb9f3a"
             ],
             [
              0.8888888888888888,
              "#fdca26"
             ],
             [
              1,
              "#f0f921"
             ]
            ],
            "type": "histogram2dcontour"
           }
          ],
          "mesh3d": [
           {
            "colorbar": {
             "outlinewidth": 0,
             "ticks": ""
            },
            "type": "mesh3d"
           }
          ],
          "parcoords": [
           {
            "line": {
             "colorbar": {
              "outlinewidth": 0,
              "ticks": ""
             }
            },
            "type": "parcoords"
           }
          ],
          "pie": [
           {
            "automargin": true,
            "type": "pie"
           }
          ],
          "scatter": [
           {
            "fillpattern": {
             "fillmode": "overlay",
             "size": 10,
             "solidity": 0.2
            },
            "type": "scatter"
           }
          ],
          "scatter3d": [
           {
            "line": {
             "colorbar": {
              "outlinewidth": 0,
              "ticks": ""
             }
            },
            "marker": {
             "colorbar": {
              "outlinewidth": 0,
              "ticks": ""
             }
            },
            "type": "scatter3d"
           }
          ],
          "scattercarpet": [
           {
            "marker": {
             "colorbar": {
              "outlinewidth": 0,
              "ticks": ""
             }
            },
            "type": "scattercarpet"
           }
          ],
          "scattergeo": [
           {
            "marker": {
             "colorbar": {
              "outlinewidth": 0,
              "ticks": ""
             }
            },
            "type": "scattergeo"
           }
          ],
          "scattergl": [
           {
            "marker": {
             "colorbar": {
              "outlinewidth": 0,
              "ticks": ""
             }
            },
            "type": "scattergl"
           }
          ],
          "scattermap": [
           {
            "marker": {
             "colorbar": {
              "outlinewidth": 0,
              "ticks": ""
             }
            },
            "type": "scattermap"
           }
          ],
          "scattermapbox": [
           {
            "marker": {
             "colorbar": {
              "outlinewidth": 0,
              "ticks": ""
             }
            },
            "type": "scattermapbox"
           }
          ],
          "scatterpolar": [
           {
            "marker": {
             "colorbar": {
              "outlinewidth": 0,
              "ticks": ""
             }
            },
            "type": "scatterpolar"
           }
          ],
          "scatterpolargl": [
           {
            "marker": {
             "colorbar": {
              "outlinewidth": 0,
              "ticks": ""
             }
            },
            "type": "scatterpolargl"
           }
          ],
          "scatterternary": [
           {
            "marker": {
             "colorbar": {
              "outlinewidth": 0,
              "ticks": ""
             }
            },
            "type": "scatterternary"
           }
          ],
          "surface": [
           {
            "colorbar": {
             "outlinewidth": 0,
             "ticks": ""
            },
            "colorscale": [
             [
              0,
              "#0d0887"
             ],
             [
              0.1111111111111111,
              "#46039f"
             ],
             [
              0.2222222222222222,
              "#7201a8"
             ],
             [
              0.3333333333333333,
              "#9c179e"
             ],
             [
              0.4444444444444444,
              "#bd3786"
             ],
             [
              0.5555555555555556,
              "#d8576b"
             ],
             [
              0.6666666666666666,
              "#ed7953"
             ],
             [
              0.7777777777777778,
              "#fb9f3a"
             ],
             [
              0.8888888888888888,
              "#fdca26"
             ],
             [
              1,
              "#f0f921"
             ]
            ],
            "type": "surface"
           }
          ],
          "table": [
           {
            "cells": {
             "fill": {
              "color": "#EBF0F8"
             },
             "line": {
              "color": "white"
             }
            },
            "header": {
             "fill": {
              "color": "#C8D4E3"
             },
             "line": {
              "color": "white"
             }
            },
            "type": "table"
           }
          ]
         },
         "layout": {
          "annotationdefaults": {
           "arrowcolor": "#2a3f5f",
           "arrowhead": 0,
           "arrowwidth": 1
          },
          "autotypenumbers": "strict",
          "coloraxis": {
           "colorbar": {
            "outlinewidth": 0,
            "ticks": ""
           }
          },
          "colorscale": {
           "diverging": [
            [
             0,
             "#8e0152"
            ],
            [
             0.1,
             "#c51b7d"
            ],
            [
             0.2,
             "#de77ae"
            ],
            [
             0.3,
             "#f1b6da"
            ],
            [
             0.4,
             "#fde0ef"
            ],
            [
             0.5,
             "#f7f7f7"
            ],
            [
             0.6,
             "#e6f5d0"
            ],
            [
             0.7,
             "#b8e186"
            ],
            [
             0.8,
             "#7fbc41"
            ],
            [
             0.9,
             "#4d9221"
            ],
            [
             1,
             "#276419"
            ]
           ],
           "sequential": [
            [
             0,
             "#0d0887"
            ],
            [
             0.1111111111111111,
             "#46039f"
            ],
            [
             0.2222222222222222,
             "#7201a8"
            ],
            [
             0.3333333333333333,
             "#9c179e"
            ],
            [
             0.4444444444444444,
             "#bd3786"
            ],
            [
             0.5555555555555556,
             "#d8576b"
            ],
            [
             0.6666666666666666,
             "#ed7953"
            ],
            [
             0.7777777777777778,
             "#fb9f3a"
            ],
            [
             0.8888888888888888,
             "#fdca26"
            ],
            [
             1,
             "#f0f921"
            ]
           ],
           "sequentialminus": [
            [
             0,
             "#0d0887"
            ],
            [
             0.1111111111111111,
             "#46039f"
            ],
            [
             0.2222222222222222,
             "#7201a8"
            ],
            [
             0.3333333333333333,
             "#9c179e"
            ],
            [
             0.4444444444444444,
             "#bd3786"
            ],
            [
             0.5555555555555556,
             "#d8576b"
            ],
            [
             0.6666666666666666,
             "#ed7953"
            ],
            [
             0.7777777777777778,
             "#fb9f3a"
            ],
            [
             0.8888888888888888,
             "#fdca26"
            ],
            [
             1,
             "#f0f921"
            ]
           ]
          },
          "colorway": [
           "#636efa",
           "#EF553B",
           "#00cc96",
           "#ab63fa",
           "#FFA15A",
           "#19d3f3",
           "#FF6692",
           "#B6E880",
           "#FF97FF",
           "#FECB52"
          ],
          "font": {
           "color": "#2a3f5f"
          },
          "geo": {
           "bgcolor": "white",
           "lakecolor": "white",
           "landcolor": "#E5ECF6",
           "showlakes": true,
           "showland": true,
           "subunitcolor": "white"
          },
          "hoverlabel": {
           "align": "left"
          },
          "hovermode": "closest",
          "mapbox": {
           "style": "light"
          },
          "paper_bgcolor": "white",
          "plot_bgcolor": "#E5ECF6",
          "polar": {
           "angularaxis": {
            "gridcolor": "white",
            "linecolor": "white",
            "ticks": ""
           },
           "bgcolor": "#E5ECF6",
           "radialaxis": {
            "gridcolor": "white",
            "linecolor": "white",
            "ticks": ""
           }
          },
          "scene": {
           "xaxis": {
            "backgroundcolor": "#E5ECF6",
            "gridcolor": "white",
            "gridwidth": 2,
            "linecolor": "white",
            "showbackground": true,
            "ticks": "",
            "zerolinecolor": "white"
           },
           "yaxis": {
            "backgroundcolor": "#E5ECF6",
            "gridcolor": "white",
            "gridwidth": 2,
            "linecolor": "white",
            "showbackground": true,
            "ticks": "",
            "zerolinecolor": "white"
           },
           "zaxis": {
            "backgroundcolor": "#E5ECF6",
            "gridcolor": "white",
            "gridwidth": 2,
            "linecolor": "white",
            "showbackground": true,
            "ticks": "",
            "zerolinecolor": "white"
           }
          },
          "shapedefaults": {
           "line": {
            "color": "#2a3f5f"
           }
          },
          "ternary": {
           "aaxis": {
            "gridcolor": "white",
            "linecolor": "white",
            "ticks": ""
           },
           "baxis": {
            "gridcolor": "white",
            "linecolor": "white",
            "ticks": ""
           },
           "bgcolor": "#E5ECF6",
           "caxis": {
            "gridcolor": "white",
            "linecolor": "white",
            "ticks": ""
           }
          },
          "title": {
           "x": 0.05
          },
          "xaxis": {
           "automargin": true,
           "gridcolor": "white",
           "linecolor": "white",
           "ticks": "",
           "title": {
            "standoff": 15
           },
           "zerolinecolor": "white",
           "zerolinewidth": 2
          },
          "yaxis": {
           "automargin": true,
           "gridcolor": "white",
           "linecolor": "white",
           "ticks": "",
           "title": {
            "standoff": 15
           },
           "zerolinecolor": "white",
           "zerolinewidth": 2
          }
         }
        },
        "title": {
         "text": "Evolution along Fuel_Price"
        },
        "width": 1200,
        "xaxis": {
         "anchor": "y",
         "domain": [
          0,
          0.45
         ],
         "title": {
          "text": "Weekly_Sales"
         }
        },
        "xaxis2": {
         "anchor": "y2",
         "domain": [
          0.55,
          1
         ],
         "title": {
          "text": "Holiday_Flag"
         }
        },
        "xaxis3": {
         "anchor": "y3",
         "domain": [
          0,
          0.45
         ],
         "title": {
          "text": "Temperature"
         }
        },
        "xaxis4": {
         "anchor": "y4",
         "domain": [
          0.55,
          1
         ],
         "title": {
          "text": "Fuel_Price"
         }
        },
        "xaxis5": {
         "anchor": "y5",
         "domain": [
          0,
          0.45
         ],
         "title": {
          "text": "CPI"
         }
        },
        "xaxis6": {
         "anchor": "y6",
         "domain": [
          0.55,
          1
         ],
         "title": {
          "text": "Unemployment"
         }
        },
        "yaxis": {
         "anchor": "x",
         "domain": [
          0.7333333333333333,
          1
         ]
        },
        "yaxis2": {
         "anchor": "x2",
         "domain": [
          0.7333333333333333,
          1
         ]
        },
        "yaxis3": {
         "anchor": "x3",
         "domain": [
          0.36666666666666664,
          0.6333333333333333
         ]
        },
        "yaxis4": {
         "anchor": "x4",
         "domain": [
          0.36666666666666664,
          0.6333333333333333
         ]
        },
        "yaxis5": {
         "anchor": "x5",
         "domain": [
          0,
          0.26666666666666666
         ]
        },
        "yaxis6": {
         "anchor": "x6",
         "domain": [
          0,
          0.26666666666666666
         ]
        }
       }
      }
     },
     "metadata": {},
     "output_type": "display_data"
    }
   ],
   "source": [
    "import plotly.graph_objects as go\n",
    "from plotly.subplots import make_subplots\n",
    "\n",
    "x_axis = \"Fuel_Price\"\n",
    "\n",
    "wsales_df_for_viz = wsales_df.sort_values(by=[x_axis])\n",
    "\n",
    "cols = [\"Weekly_Sales\", \"Holiday_Flag\", \"Temperature\", \"Fuel_Price\", \"CPI\", \"Unemployment\"]\n",
    "fig = make_subplots(rows=3, cols=2)\n",
    "\n",
    "positions = [(r, c) for r in range(1, 4) for c in range(1, 3)]\n",
    "\n",
    "for i, col in enumerate(cols):\n",
    "    row, col_pos = positions[i]\n",
    "\n",
    "    fig.add_trace(go.Scatter(\n",
    "        x=wsales_df_for_viz[x_axis], y=wsales_df_for_viz[col],\n",
    "        mode=\"markers\",\n",
    "        name=\"Percentage hindered rentals\",\n",
    "    ),\n",
    "    row=row,\n",
    "    col=col_pos\n",
    "    )\n",
    "    axis_num = i + 1\n",
    "    fig.update_layout({f\"xaxis{axis_num}\": dict(title=col)})\n",
    "\n",
    "fig.update_layout(\n",
    "    height=700,\n",
    "    width=1200,\n",
    "    title_text=f\"Evolution along {x_axis}\",\n",
    "    showlegend=False\n",
    ")\n",
    "\n",
    "fig.show()"
   ]
  },
  {
   "cell_type": "code",
   "execution_count": null,
   "id": "31f4cfd2",
   "metadata": {},
   "outputs": [
    {
     "data": {
      "application/vnd.plotly.v1+json": {
       "config": {
        "plotlyServerURL": "https://plot.ly"
       },
       "data": [
        {
         "type": "bar",
         "x": {
          "bdata": "AAAAAAAAAAAAAAAAAADwPw==",
          "dtype": "f8"
         },
         "xaxis": "x",
         "y": {
          "bdata": "04uPY14lM0H2KFx3m7YzQQ==",
          "dtype": "f8"
         },
         "yaxis": "y"
        },
        {
         "type": "bar",
         "x": {
          "bdata": "AAAAAAAAAAAAAAAAAADwPw==",
          "dtype": "f8"
         },
         "xaxis": "x2",
         "y": {
          "bdata": "AAAAAAAAAAAAAAAAAADwPw==",
          "dtype": "f8"
         },
         "yaxis": "y2"
        },
        {
         "type": "bar",
         "x": {
          "bdata": "AAAAAAAAAAAAAAAAAADwPw==",
          "dtype": "f8"
         },
         "xaxis": "x3",
         "y": {
          "bdata": "c+w2x27zTkD2KFyPwv1GQA==",
          "dtype": "f8"
         },
         "yaxis": "y3"
        },
        {
         "type": "bar",
         "x": {
          "bdata": "AAAAAAAAAAAAAAAAAADwPw==",
          "dtype": "f8"
         },
         "xaxis": "x4",
         "y": {
          "bdata": "pKoJou6DCkDOA5kfvLcHQA==",
          "dtype": "f8"
         },
         "yaxis": "y4"
        },
        {
         "type": "bar",
         "x": {
          "bdata": "AAAAAAAAAAAAAAAAAADwPw==",
          "dtype": "f8"
         },
         "xaxis": "x5",
         "y": {
          "bdata": "+5HKvH0QZkDfhStjwmdoQA==",
          "dtype": "f8"
         },
         "yaxis": "y5"
        },
        {
         "type": "bar",
         "x": {
          "bdata": "AAAAAAAAAAAAAAAAAADwPw==",
          "dtype": "f8"
         },
         "xaxis": "x6",
         "y": {
          "bdata": "DqkMxP1zHkCkcD0K1wshQA==",
          "dtype": "f8"
         },
         "yaxis": "y6"
        }
       ],
       "layout": {
        "height": 700,
        "showlegend": false,
        "template": {
         "data": {
          "bar": [
           {
            "error_x": {
             "color": "#2a3f5f"
            },
            "error_y": {
             "color": "#2a3f5f"
            },
            "marker": {
             "line": {
              "color": "#E5ECF6",
              "width": 0.5
             },
             "pattern": {
              "fillmode": "overlay",
              "size": 10,
              "solidity": 0.2
             }
            },
            "type": "bar"
           }
          ],
          "barpolar": [
           {
            "marker": {
             "line": {
              "color": "#E5ECF6",
              "width": 0.5
             },
             "pattern": {
              "fillmode": "overlay",
              "size": 10,
              "solidity": 0.2
             }
            },
            "type": "barpolar"
           }
          ],
          "carpet": [
           {
            "aaxis": {
             "endlinecolor": "#2a3f5f",
             "gridcolor": "white",
             "linecolor": "white",
             "minorgridcolor": "white",
             "startlinecolor": "#2a3f5f"
            },
            "baxis": {
             "endlinecolor": "#2a3f5f",
             "gridcolor": "white",
             "linecolor": "white",
             "minorgridcolor": "white",
             "startlinecolor": "#2a3f5f"
            },
            "type": "carpet"
           }
          ],
          "choropleth": [
           {
            "colorbar": {
             "outlinewidth": 0,
             "ticks": ""
            },
            "type": "choropleth"
           }
          ],
          "contour": [
           {
            "colorbar": {
             "outlinewidth": 0,
             "ticks": ""
            },
            "colorscale": [
             [
              0,
              "#0d0887"
             ],
             [
              0.1111111111111111,
              "#46039f"
             ],
             [
              0.2222222222222222,
              "#7201a8"
             ],
             [
              0.3333333333333333,
              "#9c179e"
             ],
             [
              0.4444444444444444,
              "#bd3786"
             ],
             [
              0.5555555555555556,
              "#d8576b"
             ],
             [
              0.6666666666666666,
              "#ed7953"
             ],
             [
              0.7777777777777778,
              "#fb9f3a"
             ],
             [
              0.8888888888888888,
              "#fdca26"
             ],
             [
              1,
              "#f0f921"
             ]
            ],
            "type": "contour"
           }
          ],
          "contourcarpet": [
           {
            "colorbar": {
             "outlinewidth": 0,
             "ticks": ""
            },
            "type": "contourcarpet"
           }
          ],
          "heatmap": [
           {
            "colorbar": {
             "outlinewidth": 0,
             "ticks": ""
            },
            "colorscale": [
             [
              0,
              "#0d0887"
             ],
             [
              0.1111111111111111,
              "#46039f"
             ],
             [
              0.2222222222222222,
              "#7201a8"
             ],
             [
              0.3333333333333333,
              "#9c179e"
             ],
             [
              0.4444444444444444,
              "#bd3786"
             ],
             [
              0.5555555555555556,
              "#d8576b"
             ],
             [
              0.6666666666666666,
              "#ed7953"
             ],
             [
              0.7777777777777778,
              "#fb9f3a"
             ],
             [
              0.8888888888888888,
              "#fdca26"
             ],
             [
              1,
              "#f0f921"
             ]
            ],
            "type": "heatmap"
           }
          ],
          "histogram": [
           {
            "marker": {
             "pattern": {
              "fillmode": "overlay",
              "size": 10,
              "solidity": 0.2
             }
            },
            "type": "histogram"
           }
          ],
          "histogram2d": [
           {
            "colorbar": {
             "outlinewidth": 0,
             "ticks": ""
            },
            "colorscale": [
             [
              0,
              "#0d0887"
             ],
             [
              0.1111111111111111,
              "#46039f"
             ],
             [
              0.2222222222222222,
              "#7201a8"
             ],
             [
              0.3333333333333333,
              "#9c179e"
             ],
             [
              0.4444444444444444,
              "#bd3786"
             ],
             [
              0.5555555555555556,
              "#d8576b"
             ],
             [
              0.6666666666666666,
              "#ed7953"
             ],
             [
              0.7777777777777778,
              "#fb9f3a"
             ],
             [
              0.8888888888888888,
              "#fdca26"
             ],
             [
              1,
              "#f0f921"
             ]
            ],
            "type": "histogram2d"
           }
          ],
          "histogram2dcontour": [
           {
            "colorbar": {
             "outlinewidth": 0,
             "ticks": ""
            },
            "colorscale": [
             [
              0,
              "#0d0887"
             ],
             [
              0.1111111111111111,
              "#46039f"
             ],
             [
              0.2222222222222222,
              "#7201a8"
             ],
             [
              0.3333333333333333,
              "#9c179e"
             ],
             [
              0.4444444444444444,
              "#bd3786"
             ],
             [
              0.5555555555555556,
              "#d8576b"
             ],
             [
              0.6666666666666666,
              "#ed7953"
             ],
             [
              0.7777777777777778,
              "#fb9f3a"
             ],
             [
              0.8888888888888888,
              "#fdca26"
             ],
             [
              1,
              "#f0f921"
             ]
            ],
            "type": "histogram2dcontour"
           }
          ],
          "mesh3d": [
           {
            "colorbar": {
             "outlinewidth": 0,
             "ticks": ""
            },
            "type": "mesh3d"
           }
          ],
          "parcoords": [
           {
            "line": {
             "colorbar": {
              "outlinewidth": 0,
              "ticks": ""
             }
            },
            "type": "parcoords"
           }
          ],
          "pie": [
           {
            "automargin": true,
            "type": "pie"
           }
          ],
          "scatter": [
           {
            "fillpattern": {
             "fillmode": "overlay",
             "size": 10,
             "solidity": 0.2
            },
            "type": "scatter"
           }
          ],
          "scatter3d": [
           {
            "line": {
             "colorbar": {
              "outlinewidth": 0,
              "ticks": ""
             }
            },
            "marker": {
             "colorbar": {
              "outlinewidth": 0,
              "ticks": ""
             }
            },
            "type": "scatter3d"
           }
          ],
          "scattercarpet": [
           {
            "marker": {
             "colorbar": {
              "outlinewidth": 0,
              "ticks": ""
             }
            },
            "type": "scattercarpet"
           }
          ],
          "scattergeo": [
           {
            "marker": {
             "colorbar": {
              "outlinewidth": 0,
              "ticks": ""
             }
            },
            "type": "scattergeo"
           }
          ],
          "scattergl": [
           {
            "marker": {
             "colorbar": {
              "outlinewidth": 0,
              "ticks": ""
             }
            },
            "type": "scattergl"
           }
          ],
          "scattermap": [
           {
            "marker": {
             "colorbar": {
              "outlinewidth": 0,
              "ticks": ""
             }
            },
            "type": "scattermap"
           }
          ],
          "scattermapbox": [
           {
            "marker": {
             "colorbar": {
              "outlinewidth": 0,
              "ticks": ""
             }
            },
            "type": "scattermapbox"
           }
          ],
          "scatterpolar": [
           {
            "marker": {
             "colorbar": {
              "outlinewidth": 0,
              "ticks": ""
             }
            },
            "type": "scatterpolar"
           }
          ],
          "scatterpolargl": [
           {
            "marker": {
             "colorbar": {
              "outlinewidth": 0,
              "ticks": ""
             }
            },
            "type": "scatterpolargl"
           }
          ],
          "scatterternary": [
           {
            "marker": {
             "colorbar": {
              "outlinewidth": 0,
              "ticks": ""
             }
            },
            "type": "scatterternary"
           }
          ],
          "surface": [
           {
            "colorbar": {
             "outlinewidth": 0,
             "ticks": ""
            },
            "colorscale": [
             [
              0,
              "#0d0887"
             ],
             [
              0.1111111111111111,
              "#46039f"
             ],
             [
              0.2222222222222222,
              "#7201a8"
             ],
             [
              0.3333333333333333,
              "#9c179e"
             ],
             [
              0.4444444444444444,
              "#bd3786"
             ],
             [
              0.5555555555555556,
              "#d8576b"
             ],
             [
              0.6666666666666666,
              "#ed7953"
             ],
             [
              0.7777777777777778,
              "#fb9f3a"
             ],
             [
              0.8888888888888888,
              "#fdca26"
             ],
             [
              1,
              "#f0f921"
             ]
            ],
            "type": "surface"
           }
          ],
          "table": [
           {
            "cells": {
             "fill": {
              "color": "#EBF0F8"
             },
             "line": {
              "color": "white"
             }
            },
            "header": {
             "fill": {
              "color": "#C8D4E3"
             },
             "line": {
              "color": "white"
             }
            },
            "type": "table"
           }
          ]
         },
         "layout": {
          "annotationdefaults": {
           "arrowcolor": "#2a3f5f",
           "arrowhead": 0,
           "arrowwidth": 1
          },
          "autotypenumbers": "strict",
          "coloraxis": {
           "colorbar": {
            "outlinewidth": 0,
            "ticks": ""
           }
          },
          "colorscale": {
           "diverging": [
            [
             0,
             "#8e0152"
            ],
            [
             0.1,
             "#c51b7d"
            ],
            [
             0.2,
             "#de77ae"
            ],
            [
             0.3,
             "#f1b6da"
            ],
            [
             0.4,
             "#fde0ef"
            ],
            [
             0.5,
             "#f7f7f7"
            ],
            [
             0.6,
             "#e6f5d0"
            ],
            [
             0.7,
             "#b8e186"
            ],
            [
             0.8,
             "#7fbc41"
            ],
            [
             0.9,
             "#4d9221"
            ],
            [
             1,
             "#276419"
            ]
           ],
           "sequential": [
            [
             0,
             "#0d0887"
            ],
            [
             0.1111111111111111,
             "#46039f"
            ],
            [
             0.2222222222222222,
             "#7201a8"
            ],
            [
             0.3333333333333333,
             "#9c179e"
            ],
            [
             0.4444444444444444,
             "#bd3786"
            ],
            [
             0.5555555555555556,
             "#d8576b"
            ],
            [
             0.6666666666666666,
             "#ed7953"
            ],
            [
             0.7777777777777778,
             "#fb9f3a"
            ],
            [
             0.8888888888888888,
             "#fdca26"
            ],
            [
             1,
             "#f0f921"
            ]
           ],
           "sequentialminus": [
            [
             0,
             "#0d0887"
            ],
            [
             0.1111111111111111,
             "#46039f"
            ],
            [
             0.2222222222222222,
             "#7201a8"
            ],
            [
             0.3333333333333333,
             "#9c179e"
            ],
            [
             0.4444444444444444,
             "#bd3786"
            ],
            [
             0.5555555555555556,
             "#d8576b"
            ],
            [
             0.6666666666666666,
             "#ed7953"
            ],
            [
             0.7777777777777778,
             "#fb9f3a"
            ],
            [
             0.8888888888888888,
             "#fdca26"
            ],
            [
             1,
             "#f0f921"
            ]
           ]
          },
          "colorway": [
           "#636efa",
           "#EF553B",
           "#00cc96",
           "#ab63fa",
           "#FFA15A",
           "#19d3f3",
           "#FF6692",
           "#B6E880",
           "#FF97FF",
           "#FECB52"
          ],
          "font": {
           "color": "#2a3f5f"
          },
          "geo": {
           "bgcolor": "white",
           "lakecolor": "white",
           "landcolor": "#E5ECF6",
           "showlakes": true,
           "showland": true,
           "subunitcolor": "white"
          },
          "hoverlabel": {
           "align": "left"
          },
          "hovermode": "closest",
          "mapbox": {
           "style": "light"
          },
          "paper_bgcolor": "white",
          "plot_bgcolor": "#E5ECF6",
          "polar": {
           "angularaxis": {
            "gridcolor": "white",
            "linecolor": "white",
            "ticks": ""
           },
           "bgcolor": "#E5ECF6",
           "radialaxis": {
            "gridcolor": "white",
            "linecolor": "white",
            "ticks": ""
           }
          },
          "scene": {
           "xaxis": {
            "backgroundcolor": "#E5ECF6",
            "gridcolor": "white",
            "gridwidth": 2,
            "linecolor": "white",
            "showbackground": true,
            "ticks": "",
            "zerolinecolor": "white"
           },
           "yaxis": {
            "backgroundcolor": "#E5ECF6",
            "gridcolor": "white",
            "gridwidth": 2,
            "linecolor": "white",
            "showbackground": true,
            "ticks": "",
            "zerolinecolor": "white"
           },
           "zaxis": {
            "backgroundcolor": "#E5ECF6",
            "gridcolor": "white",
            "gridwidth": 2,
            "linecolor": "white",
            "showbackground": true,
            "ticks": "",
            "zerolinecolor": "white"
           }
          },
          "shapedefaults": {
           "line": {
            "color": "#2a3f5f"
           }
          },
          "ternary": {
           "aaxis": {
            "gridcolor": "white",
            "linecolor": "white",
            "ticks": ""
           },
           "baxis": {
            "gridcolor": "white",
            "linecolor": "white",
            "ticks": ""
           },
           "bgcolor": "#E5ECF6",
           "caxis": {
            "gridcolor": "white",
            "linecolor": "white",
            "ticks": ""
           }
          },
          "title": {
           "x": 0.05
          },
          "xaxis": {
           "automargin": true,
           "gridcolor": "white",
           "linecolor": "white",
           "ticks": "",
           "title": {
            "standoff": 15
           },
           "zerolinecolor": "white",
           "zerolinewidth": 2
          },
          "yaxis": {
           "automargin": true,
           "gridcolor": "white",
           "linecolor": "white",
           "ticks": "",
           "title": {
            "standoff": 15
           },
           "zerolinecolor": "white",
           "zerolinewidth": 2
          }
         }
        },
        "title": {
         "text": "Evolution along Holiday_Flag"
        },
        "width": 1200,
        "xaxis": {
         "anchor": "y",
         "domain": [
          0,
          0.45
         ],
         "title": {
          "text": "Weekly_Sales"
         }
        },
        "xaxis2": {
         "anchor": "y2",
         "domain": [
          0.55,
          1
         ],
         "title": {
          "text": "Holiday_Flag"
         }
        },
        "xaxis3": {
         "anchor": "y3",
         "domain": [
          0,
          0.45
         ],
         "title": {
          "text": "Temperature"
         }
        },
        "xaxis4": {
         "anchor": "y4",
         "domain": [
          0.55,
          1
         ],
         "title": {
          "text": "Fuel_Price"
         }
        },
        "xaxis5": {
         "anchor": "y5",
         "domain": [
          0,
          0.45
         ],
         "title": {
          "text": "CPI"
         }
        },
        "xaxis6": {
         "anchor": "y6",
         "domain": [
          0.55,
          1
         ],
         "title": {
          "text": "Unemployment"
         }
        },
        "yaxis": {
         "anchor": "x",
         "domain": [
          0.7333333333333333,
          1
         ]
        },
        "yaxis2": {
         "anchor": "x2",
         "domain": [
          0.7333333333333333,
          1
         ]
        },
        "yaxis3": {
         "anchor": "x3",
         "domain": [
          0.36666666666666664,
          0.6333333333333333
         ]
        },
        "yaxis4": {
         "anchor": "x4",
         "domain": [
          0.36666666666666664,
          0.6333333333333333
         ]
        },
        "yaxis5": {
         "anchor": "x5",
         "domain": [
          0,
          0.26666666666666666
         ]
        },
        "yaxis6": {
         "anchor": "x6",
         "domain": [
          0,
          0.26666666666666666
         ]
        }
       }
      }
     },
     "metadata": {},
     "output_type": "display_data"
    }
   ],
   "source": [
    "import plotly.graph_objects as go\n",
    "from plotly.subplots import make_subplots\n",
    "\n",
    "x_axis = \"Holiday_Flag\"\n",
    "\n",
    "cols = [\"Weekly_Sales\", \"Holiday_Flag\", \"Temperature\", \"Fuel_Price\", \"CPI\", \"Unemployment\"]\n",
    "\n",
    "wsales_df_for_viz = wsales_df.groupby(by=x_axis, as_index=False)[cols].mean()\n",
    "\n",
    "fig = make_subplots(rows=3, cols=2)\n",
    "\n",
    "positions = [(r, c) for r in range(1, 4) for c in range(1, 3)]\n",
    "\n",
    "for i, col in enumerate(cols):\n",
    "    row, col_pos = positions[i]\n",
    "\n",
    "    fig.add_trace(go.Bar(\n",
    "        x=wsales_df_for_viz[x_axis], y=wsales_df_for_viz[col]\n",
    "    ),\n",
    "    row=row,\n",
    "    col=col_pos\n",
    "    )\n",
    "    axis_num = i + 1\n",
    "    fig.update_layout({f\"xaxis{axis_num}\": dict(title=col)})\n",
    "\n",
    "fig.update_layout(\n",
    "    height=700,\n",
    "    width=1200,\n",
    "    title_text=f\"Evolution along {x_axis}\",\n",
    "    showlegend=False\n",
    ")\n",
    "\n",
    "fig.show()"
   ]
  },
  {
   "cell_type": "code",
   "execution_count": null,
   "id": "de368d0e",
   "metadata": {},
   "outputs": [
    {
     "data": {
      "application/vnd.plotly.v1+json": {
       "config": {
        "plotlyServerURL": "https://plot.ly"
       },
       "data": [
        {
         "type": "bar",
         "x": {
          "bdata": "AQAAAAIAAAADAAAABAAAAAUAAAAGAAAABwAAAAgAAAAJAAAACgAAAAsAAAAMAAAA",
          "dtype": "i4"
         },
         "xaxis": "x",
         "y": {
          "bdata": "WmQ7X5AyN0GQwvWI3D03QTvfT23dWDVBPumTPj6KLEFa3hgBt68wQRsjmKg/NzJB0GkDzT1PNEFRuB7F4DczQTaVhpyc7y1BcT0KR6zNKEH2KFzPPP8sQcL1KAADdEBB",
          "dtype": "f8"
         },
         "yaxis": "y"
        },
        {
         "type": "bar",
         "x": {
          "bdata": "AQAAAAIAAAADAAAABAAAAAUAAAAGAAAABwAAAAgAAAAJAAAACgAAAAsAAAAMAAAA",
          "dtype": "i4"
         },
         "xaxis": "x2",
         "y": {
          "bdata": "AAAAAAAAAABVVVVVVVXVPwAAAAAAAAAAAAAAAAAAAAAAAAAAAAAAAAAAAAAAAAAAAAAAAAAAAAAAAAAAAAAAAJIkSZIkSdI/AAAAAAAAAAAAAAAAAADAPwAAAAAAAMA/",
          "dtype": "f8"
         },
         "yaxis": "y2"
        },
        {
         "type": "bar",
         "x": {
          "bdata": "AQAAAAIAAAADAAAABAAAAAUAAAAGAAAABwAAAAgAAAAJAAAACgAAAAsAAAAMAAAA",
          "dtype": "i4"
         },
         "xaxis": "x3",
         "y": {
          "bdata": "m8QgsHIIRUBUgjwlyPNDQNajcD0K10dAPQrXo3BxS0BjEFg5tEhPQLer7h0SBVNArH3D2jecU0D8qfHSTeJTQCIiIiIi6lFAAAAAAADgTkCmIec+u6BOQClcj8L1FENA",
          "dtype": "f8"
         },
         "yaxis": "y3"
        },
        {
         "type": "bar",
         "x": {
          "bdata": "AQAAAAIAAAADAAAABAAAAAUAAAAGAAAABwAAAAgAAAAJAAAACgAAAAsAAAAMAAAA",
          "dtype": "i4"
         },
         "xaxis": "x4",
         "y": {
          "bdata": "Jb9Y8oslCUBos+pztRUIQNTgVC9wFw1A6Pup8dItDECHWepd/doMQKO3Za2OCQlA4ME8Uf8GCUBv1FWtwzsKQNxrLiRNqQpAObTIdr6fC0Dr19o8kPkHQBq1/0IRjwhA",
          "dtype": "f8"
         },
         "yaxis": "y4"
        },
        {
         "type": "bar",
         "x": {
          "bdata": "AQAAAAIAAAADAAAABAAAAAUAAAAGAAAABwAAAAgAAAAJAAAACgAAAAsAAAAMAAAA",
          "dtype": "i4"
         },
         "xaxis": "x5",
         "y": {
          "bdata": "AR2cPmE6Z0BeNSrLqzhpQHPRNTj2JWRAc4RDpvO4ZUCPVtxh+VpmQMbxmnHTWmVAqJVmF9DzZED6DE1+8IhnQJc6kSmIomZAwl0HGGd9ZUAKJki2zJ5pQEorOmkM4GFA",
          "dtype": "f8"
         },
         "yaxis": "y5"
        },
        {
         "type": "bar",
         "x": {
          "bdata": "AQAAAAIAAAADAAAABAAAAAUAAAAGAAAABwAAAAgAAAAJAAAACgAAAAsAAAAMAAAA",
          "dtype": "i4"
         },
         "xaxis": "x6",
         "y": {
          "bdata": "EoPAyqEFHECmm8QgsLIeQO0NvjCZah1A1XjpJjGIH0CnatOSvAshQIwlv1jyyx1Ar0fhehQuHEDWxW00gFcgQHe+nxovHSBAyIID3DDLG0DtRXPibs8cQEieaYWowCBA",
          "dtype": "f8"
         },
         "yaxis": "y6"
        }
       ],
       "layout": {
        "height": 700,
        "showlegend": false,
        "template": {
         "data": {
          "bar": [
           {
            "error_x": {
             "color": "#2a3f5f"
            },
            "error_y": {
             "color": "#2a3f5f"
            },
            "marker": {
             "line": {
              "color": "#E5ECF6",
              "width": 0.5
             },
             "pattern": {
              "fillmode": "overlay",
              "size": 10,
              "solidity": 0.2
             }
            },
            "type": "bar"
           }
          ],
          "barpolar": [
           {
            "marker": {
             "line": {
              "color": "#E5ECF6",
              "width": 0.5
             },
             "pattern": {
              "fillmode": "overlay",
              "size": 10,
              "solidity": 0.2
             }
            },
            "type": "barpolar"
           }
          ],
          "carpet": [
           {
            "aaxis": {
             "endlinecolor": "#2a3f5f",
             "gridcolor": "white",
             "linecolor": "white",
             "minorgridcolor": "white",
             "startlinecolor": "#2a3f5f"
            },
            "baxis": {
             "endlinecolor": "#2a3f5f",
             "gridcolor": "white",
             "linecolor": "white",
             "minorgridcolor": "white",
             "startlinecolor": "#2a3f5f"
            },
            "type": "carpet"
           }
          ],
          "choropleth": [
           {
            "colorbar": {
             "outlinewidth": 0,
             "ticks": ""
            },
            "type": "choropleth"
           }
          ],
          "contour": [
           {
            "colorbar": {
             "outlinewidth": 0,
             "ticks": ""
            },
            "colorscale": [
             [
              0,
              "#0d0887"
             ],
             [
              0.1111111111111111,
              "#46039f"
             ],
             [
              0.2222222222222222,
              "#7201a8"
             ],
             [
              0.3333333333333333,
              "#9c179e"
             ],
             [
              0.4444444444444444,
              "#bd3786"
             ],
             [
              0.5555555555555556,
              "#d8576b"
             ],
             [
              0.6666666666666666,
              "#ed7953"
             ],
             [
              0.7777777777777778,
              "#fb9f3a"
             ],
             [
              0.8888888888888888,
              "#fdca26"
             ],
             [
              1,
              "#f0f921"
             ]
            ],
            "type": "contour"
           }
          ],
          "contourcarpet": [
           {
            "colorbar": {
             "outlinewidth": 0,
             "ticks": ""
            },
            "type": "contourcarpet"
           }
          ],
          "heatmap": [
           {
            "colorbar": {
             "outlinewidth": 0,
             "ticks": ""
            },
            "colorscale": [
             [
              0,
              "#0d0887"
             ],
             [
              0.1111111111111111,
              "#46039f"
             ],
             [
              0.2222222222222222,
              "#7201a8"
             ],
             [
              0.3333333333333333,
              "#9c179e"
             ],
             [
              0.4444444444444444,
              "#bd3786"
             ],
             [
              0.5555555555555556,
              "#d8576b"
             ],
             [
              0.6666666666666666,
              "#ed7953"
             ],
             [
              0.7777777777777778,
              "#fb9f3a"
             ],
             [
              0.8888888888888888,
              "#fdca26"
             ],
             [
              1,
              "#f0f921"
             ]
            ],
            "type": "heatmap"
           }
          ],
          "histogram": [
           {
            "marker": {
             "pattern": {
              "fillmode": "overlay",
              "size": 10,
              "solidity": 0.2
             }
            },
            "type": "histogram"
           }
          ],
          "histogram2d": [
           {
            "colorbar": {
             "outlinewidth": 0,
             "ticks": ""
            },
            "colorscale": [
             [
              0,
              "#0d0887"
             ],
             [
              0.1111111111111111,
              "#46039f"
             ],
             [
              0.2222222222222222,
              "#7201a8"
             ],
             [
              0.3333333333333333,
              "#9c179e"
             ],
             [
              0.4444444444444444,
              "#bd3786"
             ],
             [
              0.5555555555555556,
              "#d8576b"
             ],
             [
              0.6666666666666666,
              "#ed7953"
             ],
             [
              0.7777777777777778,
              "#fb9f3a"
             ],
             [
              0.8888888888888888,
              "#fdca26"
             ],
             [
              1,
              "#f0f921"
             ]
            ],
            "type": "histogram2d"
           }
          ],
          "histogram2dcontour": [
           {
            "colorbar": {
             "outlinewidth": 0,
             "ticks": ""
            },
            "colorscale": [
             [
              0,
              "#0d0887"
             ],
             [
              0.1111111111111111,
              "#46039f"
             ],
             [
              0.2222222222222222,
              "#7201a8"
             ],
             [
              0.3333333333333333,
              "#9c179e"
             ],
             [
              0.4444444444444444,
              "#bd3786"
             ],
             [
              0.5555555555555556,
              "#d8576b"
             ],
             [
              0.6666666666666666,
              "#ed7953"
             ],
             [
              0.7777777777777778,
              "#fb9f3a"
             ],
             [
              0.8888888888888888,
              "#fdca26"
             ],
             [
              1,
              "#f0f921"
             ]
            ],
            "type": "histogram2dcontour"
           }
          ],
          "mesh3d": [
           {
            "colorbar": {
             "outlinewidth": 0,
             "ticks": ""
            },
            "type": "mesh3d"
           }
          ],
          "parcoords": [
           {
            "line": {
             "colorbar": {
              "outlinewidth": 0,
              "ticks": ""
             }
            },
            "type": "parcoords"
           }
          ],
          "pie": [
           {
            "automargin": true,
            "type": "pie"
           }
          ],
          "scatter": [
           {
            "fillpattern": {
             "fillmode": "overlay",
             "size": 10,
             "solidity": 0.2
            },
            "type": "scatter"
           }
          ],
          "scatter3d": [
           {
            "line": {
             "colorbar": {
              "outlinewidth": 0,
              "ticks": ""
             }
            },
            "marker": {
             "colorbar": {
              "outlinewidth": 0,
              "ticks": ""
             }
            },
            "type": "scatter3d"
           }
          ],
          "scattercarpet": [
           {
            "marker": {
             "colorbar": {
              "outlinewidth": 0,
              "ticks": ""
             }
            },
            "type": "scattercarpet"
           }
          ],
          "scattergeo": [
           {
            "marker": {
             "colorbar": {
              "outlinewidth": 0,
              "ticks": ""
             }
            },
            "type": "scattergeo"
           }
          ],
          "scattergl": [
           {
            "marker": {
             "colorbar": {
              "outlinewidth": 0,
              "ticks": ""
             }
            },
            "type": "scattergl"
           }
          ],
          "scattermap": [
           {
            "marker": {
             "colorbar": {
              "outlinewidth": 0,
              "ticks": ""
             }
            },
            "type": "scattermap"
           }
          ],
          "scattermapbox": [
           {
            "marker": {
             "colorbar": {
              "outlinewidth": 0,
              "ticks": ""
             }
            },
            "type": "scattermapbox"
           }
          ],
          "scatterpolar": [
           {
            "marker": {
             "colorbar": {
              "outlinewidth": 0,
              "ticks": ""
             }
            },
            "type": "scatterpolar"
           }
          ],
          "scatterpolargl": [
           {
            "marker": {
             "colorbar": {
              "outlinewidth": 0,
              "ticks": ""
             }
            },
            "type": "scatterpolargl"
           }
          ],
          "scatterternary": [
           {
            "marker": {
             "colorbar": {
              "outlinewidth": 0,
              "ticks": ""
             }
            },
            "type": "scatterternary"
           }
          ],
          "surface": [
           {
            "colorbar": {
             "outlinewidth": 0,
             "ticks": ""
            },
            "colorscale": [
             [
              0,
              "#0d0887"
             ],
             [
              0.1111111111111111,
              "#46039f"
             ],
             [
              0.2222222222222222,
              "#7201a8"
             ],
             [
              0.3333333333333333,
              "#9c179e"
             ],
             [
              0.4444444444444444,
              "#bd3786"
             ],
             [
              0.5555555555555556,
              "#d8576b"
             ],
             [
              0.6666666666666666,
              "#ed7953"
             ],
             [
              0.7777777777777778,
              "#fb9f3a"
             ],
             [
              0.8888888888888888,
              "#fdca26"
             ],
             [
              1,
              "#f0f921"
             ]
            ],
            "type": "surface"
           }
          ],
          "table": [
           {
            "cells": {
             "fill": {
              "color": "#EBF0F8"
             },
             "line": {
              "color": "white"
             }
            },
            "header": {
             "fill": {
              "color": "#C8D4E3"
             },
             "line": {
              "color": "white"
             }
            },
            "type": "table"
           }
          ]
         },
         "layout": {
          "annotationdefaults": {
           "arrowcolor": "#2a3f5f",
           "arrowhead": 0,
           "arrowwidth": 1
          },
          "autotypenumbers": "strict",
          "coloraxis": {
           "colorbar": {
            "outlinewidth": 0,
            "ticks": ""
           }
          },
          "colorscale": {
           "diverging": [
            [
             0,
             "#8e0152"
            ],
            [
             0.1,
             "#c51b7d"
            ],
            [
             0.2,
             "#de77ae"
            ],
            [
             0.3,
             "#f1b6da"
            ],
            [
             0.4,
             "#fde0ef"
            ],
            [
             0.5,
             "#f7f7f7"
            ],
            [
             0.6,
             "#e6f5d0"
            ],
            [
             0.7,
             "#b8e186"
            ],
            [
             0.8,
             "#7fbc41"
            ],
            [
             0.9,
             "#4d9221"
            ],
            [
             1,
             "#276419"
            ]
           ],
           "sequential": [
            [
             0,
             "#0d0887"
            ],
            [
             0.1111111111111111,
             "#46039f"
            ],
            [
             0.2222222222222222,
             "#7201a8"
            ],
            [
             0.3333333333333333,
             "#9c179e"
            ],
            [
             0.4444444444444444,
             "#bd3786"
            ],
            [
             0.5555555555555556,
             "#d8576b"
            ],
            [
             0.6666666666666666,
             "#ed7953"
            ],
            [
             0.7777777777777778,
             "#fb9f3a"
            ],
            [
             0.8888888888888888,
             "#fdca26"
            ],
            [
             1,
             "#f0f921"
            ]
           ],
           "sequentialminus": [
            [
             0,
             "#0d0887"
            ],
            [
             0.1111111111111111,
             "#46039f"
            ],
            [
             0.2222222222222222,
             "#7201a8"
            ],
            [
             0.3333333333333333,
             "#9c179e"
            ],
            [
             0.4444444444444444,
             "#bd3786"
            ],
            [
             0.5555555555555556,
             "#d8576b"
            ],
            [
             0.6666666666666666,
             "#ed7953"
            ],
            [
             0.7777777777777778,
             "#fb9f3a"
            ],
            [
             0.8888888888888888,
             "#fdca26"
            ],
            [
             1,
             "#f0f921"
            ]
           ]
          },
          "colorway": [
           "#636efa",
           "#EF553B",
           "#00cc96",
           "#ab63fa",
           "#FFA15A",
           "#19d3f3",
           "#FF6692",
           "#B6E880",
           "#FF97FF",
           "#FECB52"
          ],
          "font": {
           "color": "#2a3f5f"
          },
          "geo": {
           "bgcolor": "white",
           "lakecolor": "white",
           "landcolor": "#E5ECF6",
           "showlakes": true,
           "showland": true,
           "subunitcolor": "white"
          },
          "hoverlabel": {
           "align": "left"
          },
          "hovermode": "closest",
          "mapbox": {
           "style": "light"
          },
          "paper_bgcolor": "white",
          "plot_bgcolor": "#E5ECF6",
          "polar": {
           "angularaxis": {
            "gridcolor": "white",
            "linecolor": "white",
            "ticks": ""
           },
           "bgcolor": "#E5ECF6",
           "radialaxis": {
            "gridcolor": "white",
            "linecolor": "white",
            "ticks": ""
           }
          },
          "scene": {
           "xaxis": {
            "backgroundcolor": "#E5ECF6",
            "gridcolor": "white",
            "gridwidth": 2,
            "linecolor": "white",
            "showbackground": true,
            "ticks": "",
            "zerolinecolor": "white"
           },
           "yaxis": {
            "backgroundcolor": "#E5ECF6",
            "gridcolor": "white",
            "gridwidth": 2,
            "linecolor": "white",
            "showbackground": true,
            "ticks": "",
            "zerolinecolor": "white"
           },
           "zaxis": {
            "backgroundcolor": "#E5ECF6",
            "gridcolor": "white",
            "gridwidth": 2,
            "linecolor": "white",
            "showbackground": true,
            "ticks": "",
            "zerolinecolor": "white"
           }
          },
          "shapedefaults": {
           "line": {
            "color": "#2a3f5f"
           }
          },
          "ternary": {
           "aaxis": {
            "gridcolor": "white",
            "linecolor": "white",
            "ticks": ""
           },
           "baxis": {
            "gridcolor": "white",
            "linecolor": "white",
            "ticks": ""
           },
           "bgcolor": "#E5ECF6",
           "caxis": {
            "gridcolor": "white",
            "linecolor": "white",
            "ticks": ""
           }
          },
          "title": {
           "x": 0.05
          },
          "xaxis": {
           "automargin": true,
           "gridcolor": "white",
           "linecolor": "white",
           "ticks": "",
           "title": {
            "standoff": 15
           },
           "zerolinecolor": "white",
           "zerolinewidth": 2
          },
          "yaxis": {
           "automargin": true,
           "gridcolor": "white",
           "linecolor": "white",
           "ticks": "",
           "title": {
            "standoff": 15
           },
           "zerolinecolor": "white",
           "zerolinewidth": 2
          }
         }
        },
        "title": {
         "text": "Evolution along Month"
        },
        "width": 1200,
        "xaxis": {
         "anchor": "y",
         "domain": [
          0,
          0.45
         ],
         "title": {
          "text": "Weekly_Sales"
         }
        },
        "xaxis2": {
         "anchor": "y2",
         "domain": [
          0.55,
          1
         ],
         "title": {
          "text": "Holiday_Flag"
         }
        },
        "xaxis3": {
         "anchor": "y3",
         "domain": [
          0,
          0.45
         ],
         "title": {
          "text": "Temperature"
         }
        },
        "xaxis4": {
         "anchor": "y4",
         "domain": [
          0.55,
          1
         ],
         "title": {
          "text": "Fuel_Price"
         }
        },
        "xaxis5": {
         "anchor": "y5",
         "domain": [
          0,
          0.45
         ],
         "title": {
          "text": "CPI"
         }
        },
        "xaxis6": {
         "anchor": "y6",
         "domain": [
          0.55,
          1
         ],
         "title": {
          "text": "Unemployment"
         }
        },
        "yaxis": {
         "anchor": "x",
         "domain": [
          0.7333333333333333,
          1
         ]
        },
        "yaxis2": {
         "anchor": "x2",
         "domain": [
          0.7333333333333333,
          1
         ]
        },
        "yaxis3": {
         "anchor": "x3",
         "domain": [
          0.36666666666666664,
          0.6333333333333333
         ]
        },
        "yaxis4": {
         "anchor": "x4",
         "domain": [
          0.36666666666666664,
          0.6333333333333333
         ]
        },
        "yaxis5": {
         "anchor": "x5",
         "domain": [
          0,
          0.26666666666666666
         ]
        },
        "yaxis6": {
         "anchor": "x6",
         "domain": [
          0,
          0.26666666666666666
         ]
        }
       }
      }
     },
     "metadata": {},
     "output_type": "display_data"
    }
   ],
   "source": [
    "import plotly.graph_objects as go\n",
    "from plotly.subplots import make_subplots\n",
    "\n",
    "x_axis = \"Month\"\n",
    "\n",
    "cols = [\"Weekly_Sales\", \"Holiday_Flag\", \"Temperature\", \"Fuel_Price\", \"CPI\", \"Unemployment\"]\n",
    "\n",
    "wsales_df_for_viz = wsales_df.groupby(by=x_axis, as_index=False)[cols].mean()\n",
    "\n",
    "fig = make_subplots(rows=3, cols=2)\n",
    "\n",
    "positions = [(r, c) for r in range(1, 4) for c in range(1, 3)]\n",
    "\n",
    "for i, col in enumerate(cols):\n",
    "    row, col_pos = positions[i]\n",
    "\n",
    "    fig.add_trace(go.Bar(\n",
    "        x=wsales_df_for_viz[x_axis], y=wsales_df_for_viz[col]\n",
    "    ),\n",
    "    row=row,\n",
    "    col=col_pos\n",
    "    )\n",
    "    axis_num = i + 1\n",
    "    fig.update_layout({f\"xaxis{axis_num}\": dict(title=col)})\n",
    "\n",
    "fig.update_layout(\n",
    "    height=700,\n",
    "    width=1200,\n",
    "    title_text=f\"Evolution along {x_axis}\",\n",
    "    showlegend=False\n",
    ")\n",
    "\n",
    "fig.show()"
   ]
  },
  {
   "cell_type": "code",
   "execution_count": null,
   "id": "813bcda6",
   "metadata": {},
   "outputs": [
    {
     "data": {
      "application/vnd.plotly.v1+json": {
       "config": {
        "plotlyServerURL": "https://plot.ly"
       },
       "data": [
        {
         "type": "bar",
         "x": {
          "bdata": "2gcAANsHAADcBwAA",
          "dtype": "i4"
         },
         "xaxis": "x",
         "y": {
          "bdata": "V/CJY9tCM0EeheuRsPQzQcm95uJFGjJB",
          "dtype": "f8"
         },
         "yaxis": "y"
        },
        {
         "type": "bar",
         "x": {
          "bdata": "2gcAANsHAADcBwAA",
          "dtype": "i4"
         },
         "xaxis": "x2",
         "y": {
          "bdata": "GRkZGRkZuT8AAAAAAAAAAJqZmZmZmbk/",
          "dtype": "f8"
         },
         "yaxis": "y2"
        },
        {
         "type": "bar",
         "x": {
          "bdata": "2gcAANsHAADcBwAA",
          "dtype": "i4"
         },
         "xaxis": "x3",
         "y": {
          "bdata": "rM0w4D3cTkCF61G4nlNQQLuA2FQa4kpA",
          "dtype": "f8"
         },
         "yaxis": "y3"
        },
        {
         "type": "bar",
         "x": {
          "bdata": "2gcAANsHAADcBwAA",
          "dtype": "i4"
         },
         "xaxis": "x4",
         "y": {
          "bdata": "8PBiEsxcBkA6W/8sWdQMQHjZwzYytg1A",
          "dtype": "f8"
         },
         "yaxis": "y4"
        },
        {
         "type": "bar",
         "x": {
          "bdata": "2gcAANsHAADcBwAA",
          "dtype": "i4"
         },
         "xaxis": "x5",
         "y": {
          "bdata": "g/sZVChEZkBQGpKyFRtmQHXJ3YwvRGZA",
          "dtype": "f8"
         },
         "yaxis": "y5"
        },
        {
         "type": "bar",
         "x": {
          "bdata": "2gcAANsHAADcBwAA",
          "dtype": "i4"
         },
         "xaxis": "x6",
         "y": {
          "bdata": "H4XrUbieH0DSTWIQWDkfQG52O8bhyxxA",
          "dtype": "f8"
         },
         "yaxis": "y6"
        }
       ],
       "layout": {
        "height": 700,
        "showlegend": false,
        "template": {
         "data": {
          "bar": [
           {
            "error_x": {
             "color": "#2a3f5f"
            },
            "error_y": {
             "color": "#2a3f5f"
            },
            "marker": {
             "line": {
              "color": "#E5ECF6",
              "width": 0.5
             },
             "pattern": {
              "fillmode": "overlay",
              "size": 10,
              "solidity": 0.2
             }
            },
            "type": "bar"
           }
          ],
          "barpolar": [
           {
            "marker": {
             "line": {
              "color": "#E5ECF6",
              "width": 0.5
             },
             "pattern": {
              "fillmode": "overlay",
              "size": 10,
              "solidity": 0.2
             }
            },
            "type": "barpolar"
           }
          ],
          "carpet": [
           {
            "aaxis": {
             "endlinecolor": "#2a3f5f",
             "gridcolor": "white",
             "linecolor": "white",
             "minorgridcolor": "white",
             "startlinecolor": "#2a3f5f"
            },
            "baxis": {
             "endlinecolor": "#2a3f5f",
             "gridcolor": "white",
             "linecolor": "white",
             "minorgridcolor": "white",
             "startlinecolor": "#2a3f5f"
            },
            "type": "carpet"
           }
          ],
          "choropleth": [
           {
            "colorbar": {
             "outlinewidth": 0,
             "ticks": ""
            },
            "type": "choropleth"
           }
          ],
          "contour": [
           {
            "colorbar": {
             "outlinewidth": 0,
             "ticks": ""
            },
            "colorscale": [
             [
              0,
              "#0d0887"
             ],
             [
              0.1111111111111111,
              "#46039f"
             ],
             [
              0.2222222222222222,
              "#7201a8"
             ],
             [
              0.3333333333333333,
              "#9c179e"
             ],
             [
              0.4444444444444444,
              "#bd3786"
             ],
             [
              0.5555555555555556,
              "#d8576b"
             ],
             [
              0.6666666666666666,
              "#ed7953"
             ],
             [
              0.7777777777777778,
              "#fb9f3a"
             ],
             [
              0.8888888888888888,
              "#fdca26"
             ],
             [
              1,
              "#f0f921"
             ]
            ],
            "type": "contour"
           }
          ],
          "contourcarpet": [
           {
            "colorbar": {
             "outlinewidth": 0,
             "ticks": ""
            },
            "type": "contourcarpet"
           }
          ],
          "heatmap": [
           {
            "colorbar": {
             "outlinewidth": 0,
             "ticks": ""
            },
            "colorscale": [
             [
              0,
              "#0d0887"
             ],
             [
              0.1111111111111111,
              "#46039f"
             ],
             [
              0.2222222222222222,
              "#7201a8"
             ],
             [
              0.3333333333333333,
              "#9c179e"
             ],
             [
              0.4444444444444444,
              "#bd3786"
             ],
             [
              0.5555555555555556,
              "#d8576b"
             ],
             [
              0.6666666666666666,
              "#ed7953"
             ],
             [
              0.7777777777777778,
              "#fb9f3a"
             ],
             [
              0.8888888888888888,
              "#fdca26"
             ],
             [
              1,
              "#f0f921"
             ]
            ],
            "type": "heatmap"
           }
          ],
          "histogram": [
           {
            "marker": {
             "pattern": {
              "fillmode": "overlay",
              "size": 10,
              "solidity": 0.2
             }
            },
            "type": "histogram"
           }
          ],
          "histogram2d": [
           {
            "colorbar": {
             "outlinewidth": 0,
             "ticks": ""
            },
            "colorscale": [
             [
              0,
              "#0d0887"
             ],
             [
              0.1111111111111111,
              "#46039f"
             ],
             [
              0.2222222222222222,
              "#7201a8"
             ],
             [
              0.3333333333333333,
              "#9c179e"
             ],
             [
              0.4444444444444444,
              "#bd3786"
             ],
             [
              0.5555555555555556,
              "#d8576b"
             ],
             [
              0.6666666666666666,
              "#ed7953"
             ],
             [
              0.7777777777777778,
              "#fb9f3a"
             ],
             [
              0.8888888888888888,
              "#fdca26"
             ],
             [
              1,
              "#f0f921"
             ]
            ],
            "type": "histogram2d"
           }
          ],
          "histogram2dcontour": [
           {
            "colorbar": {
             "outlinewidth": 0,
             "ticks": ""
            },
            "colorscale": [
             [
              0,
              "#0d0887"
             ],
             [
              0.1111111111111111,
              "#46039f"
             ],
             [
              0.2222222222222222,
              "#7201a8"
             ],
             [
              0.3333333333333333,
              "#9c179e"
             ],
             [
              0.4444444444444444,
              "#bd3786"
             ],
             [
              0.5555555555555556,
              "#d8576b"
             ],
             [
              0.6666666666666666,
              "#ed7953"
             ],
             [
              0.7777777777777778,
              "#fb9f3a"
             ],
             [
              0.8888888888888888,
              "#fdca26"
             ],
             [
              1,
              "#f0f921"
             ]
            ],
            "type": "histogram2dcontour"
           }
          ],
          "mesh3d": [
           {
            "colorbar": {
             "outlinewidth": 0,
             "ticks": ""
            },
            "type": "mesh3d"
           }
          ],
          "parcoords": [
           {
            "line": {
             "colorbar": {
              "outlinewidth": 0,
              "ticks": ""
             }
            },
            "type": "parcoords"
           }
          ],
          "pie": [
           {
            "automargin": true,
            "type": "pie"
           }
          ],
          "scatter": [
           {
            "fillpattern": {
             "fillmode": "overlay",
             "size": 10,
             "solidity": 0.2
            },
            "type": "scatter"
           }
          ],
          "scatter3d": [
           {
            "line": {
             "colorbar": {
              "outlinewidth": 0,
              "ticks": ""
             }
            },
            "marker": {
             "colorbar": {
              "outlinewidth": 0,
              "ticks": ""
             }
            },
            "type": "scatter3d"
           }
          ],
          "scattercarpet": [
           {
            "marker": {
             "colorbar": {
              "outlinewidth": 0,
              "ticks": ""
             }
            },
            "type": "scattercarpet"
           }
          ],
          "scattergeo": [
           {
            "marker": {
             "colorbar": {
              "outlinewidth": 0,
              "ticks": ""
             }
            },
            "type": "scattergeo"
           }
          ],
          "scattergl": [
           {
            "marker": {
             "colorbar": {
              "outlinewidth": 0,
              "ticks": ""
             }
            },
            "type": "scattergl"
           }
          ],
          "scattermap": [
           {
            "marker": {
             "colorbar": {
              "outlinewidth": 0,
              "ticks": ""
             }
            },
            "type": "scattermap"
           }
          ],
          "scattermapbox": [
           {
            "marker": {
             "colorbar": {
              "outlinewidth": 0,
              "ticks": ""
             }
            },
            "type": "scattermapbox"
           }
          ],
          "scatterpolar": [
           {
            "marker": {
             "colorbar": {
              "outlinewidth": 0,
              "ticks": ""
             }
            },
            "type": "scatterpolar"
           }
          ],
          "scatterpolargl": [
           {
            "marker": {
             "colorbar": {
              "outlinewidth": 0,
              "ticks": ""
             }
            },
            "type": "scatterpolargl"
           }
          ],
          "scatterternary": [
           {
            "marker": {
             "colorbar": {
              "outlinewidth": 0,
              "ticks": ""
             }
            },
            "type": "scatterternary"
           }
          ],
          "surface": [
           {
            "colorbar": {
             "outlinewidth": 0,
             "ticks": ""
            },
            "colorscale": [
             [
              0,
              "#0d0887"
             ],
             [
              0.1111111111111111,
              "#46039f"
             ],
             [
              0.2222222222222222,
              "#7201a8"
             ],
             [
              0.3333333333333333,
              "#9c179e"
             ],
             [
              0.4444444444444444,
              "#bd3786"
             ],
             [
              0.5555555555555556,
              "#d8576b"
             ],
             [
              0.6666666666666666,
              "#ed7953"
             ],
             [
              0.7777777777777778,
              "#fb9f3a"
             ],
             [
              0.8888888888888888,
              "#fdca26"
             ],
             [
              1,
              "#f0f921"
             ]
            ],
            "type": "surface"
           }
          ],
          "table": [
           {
            "cells": {
             "fill": {
              "color": "#EBF0F8"
             },
             "line": {
              "color": "white"
             }
            },
            "header": {
             "fill": {
              "color": "#C8D4E3"
             },
             "line": {
              "color": "white"
             }
            },
            "type": "table"
           }
          ]
         },
         "layout": {
          "annotationdefaults": {
           "arrowcolor": "#2a3f5f",
           "arrowhead": 0,
           "arrowwidth": 1
          },
          "autotypenumbers": "strict",
          "coloraxis": {
           "colorbar": {
            "outlinewidth": 0,
            "ticks": ""
           }
          },
          "colorscale": {
           "diverging": [
            [
             0,
             "#8e0152"
            ],
            [
             0.1,
             "#c51b7d"
            ],
            [
             0.2,
             "#de77ae"
            ],
            [
             0.3,
             "#f1b6da"
            ],
            [
             0.4,
             "#fde0ef"
            ],
            [
             0.5,
             "#f7f7f7"
            ],
            [
             0.6,
             "#e6f5d0"
            ],
            [
             0.7,
             "#b8e186"
            ],
            [
             0.8,
             "#7fbc41"
            ],
            [
             0.9,
             "#4d9221"
            ],
            [
             1,
             "#276419"
            ]
           ],
           "sequential": [
            [
             0,
             "#0d0887"
            ],
            [
             0.1111111111111111,
             "#46039f"
            ],
            [
             0.2222222222222222,
             "#7201a8"
            ],
            [
             0.3333333333333333,
             "#9c179e"
            ],
            [
             0.4444444444444444,
             "#bd3786"
            ],
            [
             0.5555555555555556,
             "#d8576b"
            ],
            [
             0.6666666666666666,
             "#ed7953"
            ],
            [
             0.7777777777777778,
             "#fb9f3a"
            ],
            [
             0.8888888888888888,
             "#fdca26"
            ],
            [
             1,
             "#f0f921"
            ]
           ],
           "sequentialminus": [
            [
             0,
             "#0d0887"
            ],
            [
             0.1111111111111111,
             "#46039f"
            ],
            [
             0.2222222222222222,
             "#7201a8"
            ],
            [
             0.3333333333333333,
             "#9c179e"
            ],
            [
             0.4444444444444444,
             "#bd3786"
            ],
            [
             0.5555555555555556,
             "#d8576b"
            ],
            [
             0.6666666666666666,
             "#ed7953"
            ],
            [
             0.7777777777777778,
             "#fb9f3a"
            ],
            [
             0.8888888888888888,
             "#fdca26"
            ],
            [
             1,
             "#f0f921"
            ]
           ]
          },
          "colorway": [
           "#636efa",
           "#EF553B",
           "#00cc96",
           "#ab63fa",
           "#FFA15A",
           "#19d3f3",
           "#FF6692",
           "#B6E880",
           "#FF97FF",
           "#FECB52"
          ],
          "font": {
           "color": "#2a3f5f"
          },
          "geo": {
           "bgcolor": "white",
           "lakecolor": "white",
           "landcolor": "#E5ECF6",
           "showlakes": true,
           "showland": true,
           "subunitcolor": "white"
          },
          "hoverlabel": {
           "align": "left"
          },
          "hovermode": "closest",
          "mapbox": {
           "style": "light"
          },
          "paper_bgcolor": "white",
          "plot_bgcolor": "#E5ECF6",
          "polar": {
           "angularaxis": {
            "gridcolor": "white",
            "linecolor": "white",
            "ticks": ""
           },
           "bgcolor": "#E5ECF6",
           "radialaxis": {
            "gridcolor": "white",
            "linecolor": "white",
            "ticks": ""
           }
          },
          "scene": {
           "xaxis": {
            "backgroundcolor": "#E5ECF6",
            "gridcolor": "white",
            "gridwidth": 2,
            "linecolor": "white",
            "showbackground": true,
            "ticks": "",
            "zerolinecolor": "white"
           },
           "yaxis": {
            "backgroundcolor": "#E5ECF6",
            "gridcolor": "white",
            "gridwidth": 2,
            "linecolor": "white",
            "showbackground": true,
            "ticks": "",
            "zerolinecolor": "white"
           },
           "zaxis": {
            "backgroundcolor": "#E5ECF6",
            "gridcolor": "white",
            "gridwidth": 2,
            "linecolor": "white",
            "showbackground": true,
            "ticks": "",
            "zerolinecolor": "white"
           }
          },
          "shapedefaults": {
           "line": {
            "color": "#2a3f5f"
           }
          },
          "ternary": {
           "aaxis": {
            "gridcolor": "white",
            "linecolor": "white",
            "ticks": ""
           },
           "baxis": {
            "gridcolor": "white",
            "linecolor": "white",
            "ticks": ""
           },
           "bgcolor": "#E5ECF6",
           "caxis": {
            "gridcolor": "white",
            "linecolor": "white",
            "ticks": ""
           }
          },
          "title": {
           "x": 0.05
          },
          "xaxis": {
           "automargin": true,
           "gridcolor": "white",
           "linecolor": "white",
           "ticks": "",
           "title": {
            "standoff": 15
           },
           "zerolinecolor": "white",
           "zerolinewidth": 2
          },
          "yaxis": {
           "automargin": true,
           "gridcolor": "white",
           "linecolor": "white",
           "ticks": "",
           "title": {
            "standoff": 15
           },
           "zerolinecolor": "white",
           "zerolinewidth": 2
          }
         }
        },
        "title": {
         "text": "Evolution along Year"
        },
        "width": 1200,
        "xaxis": {
         "anchor": "y",
         "domain": [
          0,
          0.45
         ],
         "title": {
          "text": "Weekly_Sales"
         }
        },
        "xaxis2": {
         "anchor": "y2",
         "domain": [
          0.55,
          1
         ],
         "title": {
          "text": "Holiday_Flag"
         }
        },
        "xaxis3": {
         "anchor": "y3",
         "domain": [
          0,
          0.45
         ],
         "title": {
          "text": "Temperature"
         }
        },
        "xaxis4": {
         "anchor": "y4",
         "domain": [
          0.55,
          1
         ],
         "title": {
          "text": "Fuel_Price"
         }
        },
        "xaxis5": {
         "anchor": "y5",
         "domain": [
          0,
          0.45
         ],
         "title": {
          "text": "CPI"
         }
        },
        "xaxis6": {
         "anchor": "y6",
         "domain": [
          0.55,
          1
         ],
         "title": {
          "text": "Unemployment"
         }
        },
        "yaxis": {
         "anchor": "x",
         "domain": [
          0.7333333333333333,
          1
         ]
        },
        "yaxis2": {
         "anchor": "x2",
         "domain": [
          0.7333333333333333,
          1
         ]
        },
        "yaxis3": {
         "anchor": "x3",
         "domain": [
          0.36666666666666664,
          0.6333333333333333
         ]
        },
        "yaxis4": {
         "anchor": "x4",
         "domain": [
          0.36666666666666664,
          0.6333333333333333
         ]
        },
        "yaxis5": {
         "anchor": "x5",
         "domain": [
          0,
          0.26666666666666666
         ]
        },
        "yaxis6": {
         "anchor": "x6",
         "domain": [
          0,
          0.26666666666666666
         ]
        }
       }
      }
     },
     "metadata": {},
     "output_type": "display_data"
    }
   ],
   "source": [
    "import plotly.graph_objects as go\n",
    "from plotly.subplots import make_subplots\n",
    "\n",
    "x_axis = \"Year\"\n",
    "\n",
    "cols = [\"Weekly_Sales\", \"Holiday_Flag\", \"Temperature\", \"Fuel_Price\", \"CPI\", \"Unemployment\"]\n",
    "\n",
    "wsales_df_for_viz = wsales_df.groupby(by=x_axis, as_index=False)[cols].mean()\n",
    "\n",
    "fig = make_subplots(rows=3, cols=2)\n",
    "\n",
    "positions = [(r, c) for r in range(1, 4) for c in range(1, 3)]\n",
    "\n",
    "for i, col in enumerate(cols):\n",
    "    row, col_pos = positions[i]\n",
    "\n",
    "    fig.add_trace(go.Bar(\n",
    "        x=wsales_df_for_viz[x_axis], y=wsales_df_for_viz[col]\n",
    "    ),\n",
    "    row=row,\n",
    "    col=col_pos\n",
    "    )\n",
    "    axis_num = i + 1\n",
    "    fig.update_layout({f\"xaxis{axis_num}\": dict(title=col)})\n",
    "\n",
    "fig.update_layout(\n",
    "    height=700,\n",
    "    width=1200,\n",
    "    title_text=f\"Evolution along {x_axis}\",\n",
    "    showlegend=False\n",
    ")\n",
    "\n",
    "fig.show()"
   ]
  },
  {
   "cell_type": "code",
   "execution_count": null,
   "id": "5d1759df",
   "metadata": {},
   "outputs": [
    {
     "data": {
      "application/vnd.plotly.v1+json": {
       "config": {
        "plotlyServerURL": "https://plot.ly"
       },
       "data": [
        {
         "type": "bar",
         "x": {
          "bdata": "AQAAAAIAAAADAAAABAAAAAUAAAAGAAAABwAAAAgAAAAJAAAACgAAAAsAAAAMAAAADQAAAA4AAAAPAAAAEAAAABEAAAASAAAAEwAAABQAAAAWAAAAFwAAABgAAAAZAAAAGgAAABsAAAAcAAAAHQAAAB4AAAAfAAAA",
          "dtype": "i4"
         },
         "xaxis": "x",
         "y": {
          "bdata": "SOF6VP/aNUEzMzNjcFc3QR+F67HzHTZB16NwPfh+K0GF61H4ddQvQZvEIHDOEjhBXI/C9aOjMUHD9SjcbYg/Qa5H4Xp6xyBBCSb6uyP6OkE30GmDZSogQVyPwvUDITFB16NwPb7RFUGQwvWoqNUuQW2g04b9MjRB4XoULsMHOkGamZm5u+Y1QbgehWt34DBBslremFQaLEG4HoWrxS0yQYXrUagLOTVBMzMz86PhMEEb6LTBk8k8QS8gNtWFOTVBtMh2fsNeNkHAyqEFMXwxQXh3d7evMzhB4XoUrhjLEEFLfrFktrcrQaRwPco5djtB",
          "dtype": "f8"
         },
         "yaxis": "y"
        },
        {
         "type": "bar",
         "x": {
          "bdata": "AQAAAAIAAAADAAAABAAAAAUAAAAGAAAABwAAAAgAAAAJAAAACgAAAAsAAAAMAAAADQAAAA4AAAAPAAAAEAAAABEAAAASAAAAEwAAABQAAAAWAAAAFwAAABgAAAAZAAAAGgAAABsAAAAcAAAAHQAAAB4AAAAfAAAA",
          "dtype": "i4"
         },
         "xaxis": "x2",
         "y": {
          "bdata": "AAAAAAAAAAAAAAAAAAAAAAAAAAAAAAAAAAAAAAAAAAAAAAAAAAAAAAAAAAAAAAAAAAAAAAAA0D8AAAAAAAAAAAAAAAAAAAAA27Zt27Zt2z8AAAAAAAAAAEYXXXTRRcc/AAAAAAAAAAAAAAAAAAAAAAAAAAAAAAAAAAAAAAAAAAAAAAAAAAAAAAAAAAAAAAAAAAAAAAAAAAAAAAAAAAAAAAAAAAAAAAAAAAAAAAAAAAAAAAAAAAAAAAAAAAAAAAAAmpmZmZmZyT8AAAAAAAAAAAAAAAAAAAAAAAAAAAAAAAAAAAAAAAAAAAAAAAAAAPA/",
          "dtype": "f8"
         },
         "yaxis": "y2"
        },
        {
         "type": "bar",
         "x": {
          "bdata": "AQAAAAIAAAADAAAABAAAAAUAAAAGAAAABwAAAAgAAAAJAAAACgAAAAsAAAAMAAAADQAAAA4AAAAPAAAAEAAAABEAAAASAAAAEwAAABQAAAAWAAAAFwAAABgAAAAZAAAAGgAAABsAAAAcAAAAHQAAAB4AAAAfAAAA",
          "dtype": "i4"
         },
         "xaxis": "x3",
         "y": {
          "bdata": "7FG4HoVLTkBmZmZmZh5OQB6F61G4bktA4XoUrkcpUEDsUbgehStRQNejcD0KO1FAFa5H4XqMSkD2KFyPwiVVQJqZmZmZiVFAvuIrvuKrRkCX/GLJLxZQQAAAAAAAoE1ARERERESkS0BSuB6F67FSQEjhehSuT1BARERERES0SEB7FK5H4QpIQEREREREtFFA3d3d3d3tT0AAAAAAAMBIQBvotIFO+1NA4XoUrkf5UUB3d3d3dydRQLJa3hjB5E1AH4XrUbguSUBcj8L1KIxRQLgehetRgFJAexSuR+FaVkDGSzeJQQBRQJqZmZmZ2TxA",
          "dtype": "f8"
         },
         "yaxis": "y3"
        },
        {
         "type": "bar",
         "x": {
          "bdata": "AQAAAAIAAAADAAAABAAAAAUAAAAGAAAABwAAAAgAAAAJAAAACgAAAAsAAAAMAAAADQAAAA4AAAAPAAAAEAAAABEAAAASAAAAEwAAABQAAAAWAAAAFwAAABgAAAAZAAAAGgAAABsAAAAcAAAAHQAAAB4AAAAfAAAA",
          "dtype": "i4"
         },
         "xaxis": "x4",
         "y": {
          "bdata": "qvHSTWKQCkA2XrpJDMIIQFg5tMh2vg5AN4lBYOVQC0CgGi/dJAYJQL+fGi/dZA1AmpmZmZkZCkCNl24Sg8ALQLbz/dR4aQVAat5xio7kB0CbUnH24TMKQKCHPL4MKApA8GCeqH8jDUBaZDvfTw0KQEw3iUFg5QtA4JwRpb3BC0Dn+6nx0k0JQB+F61G4ngdALm+MYKK/CUDEILByaJENQBov3SQGAQ1A9ihcj8J1DEAAAAAAAIAMQJ+ofyOU0QpAtvP91HhpCUBgdk8eFmoLQNv5fmq8dAZA2/l+arx0DUASNjy9UpYHQDvfT42XbglA",
          "dtype": "f8"
         },
         "yaxis": "y4"
        },
        {
         "type": "bar",
         "x": {
          "bdata": "AQAAAAIAAAADAAAABAAAAAUAAAAGAAAABwAAAAgAAAAJAAAACgAAAAsAAAAMAAAADQAAAA4AAAAPAAAAEAAAABEAAAASAAAAEwAAABQAAAAWAAAAFwAAABgAAAAZAAAAGgAAABsAAAAcAAAAHQAAAB4AAAAfAAAA",
          "dtype": "i4"
         },
         "xaxis": "x5",
         "y": {
          "bdata": "8AEV6RkTYEDMi13sFxhiQBMUmn8PvmVAW3XC8HYIZkD415cRg99qQP0FUMYX8WNAEQrJgRaoaECamZmZmSNgQOwT5XffQmlAL+n/hwHKYUC/5DVlHb9nQA+rEHItCGZA6D9aUsSVaUDkgcgibYdpQETeBHHw4WJA41zcqe2mYkDIX1rUZyZmQC3PTPm5ZGpAHSWvznHraUApIy4ADZZkQI+DXPMULWZAFtPxPSjUZUAKNNjUedVlQA5XlvVrQ2VA2+fnPJm0Z0B33t8D6LlmQOF6ufSUnmNAAmswaHwBa0CdvVfR44hoQEANKVCVlGlA",
          "dtype": "f8"
         },
         "yaxis": "y5"
        },
        {
         "type": "bar",
         "x": {
          "bdata": "AQAAAAIAAAADAAAABAAAAAUAAAAGAAAABwAAAAgAAAAJAAAACgAAAAsAAAAMAAAADQAAAA4AAAAPAAAAEAAAABEAAAASAAAAEwAAABQAAAAWAAAAFwAAABgAAAAZAAAAGgAAABsAAAAcAAAAHQAAAB4AAAAfAAAA",
          "dtype": "i4"
         },
         "xaxis": "x6",
         "y": {
          "bdata": "MzMzMzOzGUCBlUOLbEcgQLByaJHtPB1AI9v5fmr8HkApXI/C9ageQDGZKhiVVCJAs53vp8bLHkD6fmq8dJMWQB6F61G4nhpA0GkDnTbQIUAgsHJoke0ZQNlh6nL7Ax9AHz7DrgA5HUCwcmiR7bwbQE1iEFg59CFA+X5qvHQTG0AbL90kBjEjQKWbxCCwsh1AOIlBYOVwGEDKVMGopE4dQOSlm8QgUBtAGNnO91PjHEBgLPnFkl8bQOtRuB6FayBAAwmKH2MuIEAs9pfdk4chQGDl0CLb+R1ABFYOLbIdGkCzDHGsi9sbQFYOLbKd7x1A",
          "dtype": "f8"
         },
         "yaxis": "y6"
        }
       ],
       "layout": {
        "height": 700,
        "showlegend": false,
        "template": {
         "data": {
          "bar": [
           {
            "error_x": {
             "color": "#2a3f5f"
            },
            "error_y": {
             "color": "#2a3f5f"
            },
            "marker": {
             "line": {
              "color": "#E5ECF6",
              "width": 0.5
             },
             "pattern": {
              "fillmode": "overlay",
              "size": 10,
              "solidity": 0.2
             }
            },
            "type": "bar"
           }
          ],
          "barpolar": [
           {
            "marker": {
             "line": {
              "color": "#E5ECF6",
              "width": 0.5
             },
             "pattern": {
              "fillmode": "overlay",
              "size": 10,
              "solidity": 0.2
             }
            },
            "type": "barpolar"
           }
          ],
          "carpet": [
           {
            "aaxis": {
             "endlinecolor": "#2a3f5f",
             "gridcolor": "white",
             "linecolor": "white",
             "minorgridcolor": "white",
             "startlinecolor": "#2a3f5f"
            },
            "baxis": {
             "endlinecolor": "#2a3f5f",
             "gridcolor": "white",
             "linecolor": "white",
             "minorgridcolor": "white",
             "startlinecolor": "#2a3f5f"
            },
            "type": "carpet"
           }
          ],
          "choropleth": [
           {
            "colorbar": {
             "outlinewidth": 0,
             "ticks": ""
            },
            "type": "choropleth"
           }
          ],
          "contour": [
           {
            "colorbar": {
             "outlinewidth": 0,
             "ticks": ""
            },
            "colorscale": [
             [
              0,
              "#0d0887"
             ],
             [
              0.1111111111111111,
              "#46039f"
             ],
             [
              0.2222222222222222,
              "#7201a8"
             ],
             [
              0.3333333333333333,
              "#9c179e"
             ],
             [
              0.4444444444444444,
              "#bd3786"
             ],
             [
              0.5555555555555556,
              "#d8576b"
             ],
             [
              0.6666666666666666,
              "#ed7953"
             ],
             [
              0.7777777777777778,
              "#fb9f3a"
             ],
             [
              0.8888888888888888,
              "#fdca26"
             ],
             [
              1,
              "#f0f921"
             ]
            ],
            "type": "contour"
           }
          ],
          "contourcarpet": [
           {
            "colorbar": {
             "outlinewidth": 0,
             "ticks": ""
            },
            "type": "contourcarpet"
           }
          ],
          "heatmap": [
           {
            "colorbar": {
             "outlinewidth": 0,
             "ticks": ""
            },
            "colorscale": [
             [
              0,
              "#0d0887"
             ],
             [
              0.1111111111111111,
              "#46039f"
             ],
             [
              0.2222222222222222,
              "#7201a8"
             ],
             [
              0.3333333333333333,
              "#9c179e"
             ],
             [
              0.4444444444444444,
              "#bd3786"
             ],
             [
              0.5555555555555556,
              "#d8576b"
             ],
             [
              0.6666666666666666,
              "#ed7953"
             ],
             [
              0.7777777777777778,
              "#fb9f3a"
             ],
             [
              0.8888888888888888,
              "#fdca26"
             ],
             [
              1,
              "#f0f921"
             ]
            ],
            "type": "heatmap"
           }
          ],
          "histogram": [
           {
            "marker": {
             "pattern": {
              "fillmode": "overlay",
              "size": 10,
              "solidity": 0.2
             }
            },
            "type": "histogram"
           }
          ],
          "histogram2d": [
           {
            "colorbar": {
             "outlinewidth": 0,
             "ticks": ""
            },
            "colorscale": [
             [
              0,
              "#0d0887"
             ],
             [
              0.1111111111111111,
              "#46039f"
             ],
             [
              0.2222222222222222,
              "#7201a8"
             ],
             [
              0.3333333333333333,
              "#9c179e"
             ],
             [
              0.4444444444444444,
              "#bd3786"
             ],
             [
              0.5555555555555556,
              "#d8576b"
             ],
             [
              0.6666666666666666,
              "#ed7953"
             ],
             [
              0.7777777777777778,
              "#fb9f3a"
             ],
             [
              0.8888888888888888,
              "#fdca26"
             ],
             [
              1,
              "#f0f921"
             ]
            ],
            "type": "histogram2d"
           }
          ],
          "histogram2dcontour": [
           {
            "colorbar": {
             "outlinewidth": 0,
             "ticks": ""
            },
            "colorscale": [
             [
              0,
              "#0d0887"
             ],
             [
              0.1111111111111111,
              "#46039f"
             ],
             [
              0.2222222222222222,
              "#7201a8"
             ],
             [
              0.3333333333333333,
              "#9c179e"
             ],
             [
              0.4444444444444444,
              "#bd3786"
             ],
             [
              0.5555555555555556,
              "#d8576b"
             ],
             [
              0.6666666666666666,
              "#ed7953"
             ],
             [
              0.7777777777777778,
              "#fb9f3a"
             ],
             [
              0.8888888888888888,
              "#fdca26"
             ],
             [
              1,
              "#f0f921"
             ]
            ],
            "type": "histogram2dcontour"
           }
          ],
          "mesh3d": [
           {
            "colorbar": {
             "outlinewidth": 0,
             "ticks": ""
            },
            "type": "mesh3d"
           }
          ],
          "parcoords": [
           {
            "line": {
             "colorbar": {
              "outlinewidth": 0,
              "ticks": ""
             }
            },
            "type": "parcoords"
           }
          ],
          "pie": [
           {
            "automargin": true,
            "type": "pie"
           }
          ],
          "scatter": [
           {
            "fillpattern": {
             "fillmode": "overlay",
             "size": 10,
             "solidity": 0.2
            },
            "type": "scatter"
           }
          ],
          "scatter3d": [
           {
            "line": {
             "colorbar": {
              "outlinewidth": 0,
              "ticks": ""
             }
            },
            "marker": {
             "colorbar": {
              "outlinewidth": 0,
              "ticks": ""
             }
            },
            "type": "scatter3d"
           }
          ],
          "scattercarpet": [
           {
            "marker": {
             "colorbar": {
              "outlinewidth": 0,
              "ticks": ""
             }
            },
            "type": "scattercarpet"
           }
          ],
          "scattergeo": [
           {
            "marker": {
             "colorbar": {
              "outlinewidth": 0,
              "ticks": ""
             }
            },
            "type": "scattergeo"
           }
          ],
          "scattergl": [
           {
            "marker": {
             "colorbar": {
              "outlinewidth": 0,
              "ticks": ""
             }
            },
            "type": "scattergl"
           }
          ],
          "scattermap": [
           {
            "marker": {
             "colorbar": {
              "outlinewidth": 0,
              "ticks": ""
             }
            },
            "type": "scattermap"
           }
          ],
          "scattermapbox": [
           {
            "marker": {
             "colorbar": {
              "outlinewidth": 0,
              "ticks": ""
             }
            },
            "type": "scattermapbox"
           }
          ],
          "scatterpolar": [
           {
            "marker": {
             "colorbar": {
              "outlinewidth": 0,
              "ticks": ""
             }
            },
            "type": "scatterpolar"
           }
          ],
          "scatterpolargl": [
           {
            "marker": {
             "colorbar": {
              "outlinewidth": 0,
              "ticks": ""
             }
            },
            "type": "scatterpolargl"
           }
          ],
          "scatterternary": [
           {
            "marker": {
             "colorbar": {
              "outlinewidth": 0,
              "ticks": ""
             }
            },
            "type": "scatterternary"
           }
          ],
          "surface": [
           {
            "colorbar": {
             "outlinewidth": 0,
             "ticks": ""
            },
            "colorscale": [
             [
              0,
              "#0d0887"
             ],
             [
              0.1111111111111111,
              "#46039f"
             ],
             [
              0.2222222222222222,
              "#7201a8"
             ],
             [
              0.3333333333333333,
              "#9c179e"
             ],
             [
              0.4444444444444444,
              "#bd3786"
             ],
             [
              0.5555555555555556,
              "#d8576b"
             ],
             [
              0.6666666666666666,
              "#ed7953"
             ],
             [
              0.7777777777777778,
              "#fb9f3a"
             ],
             [
              0.8888888888888888,
              "#fdca26"
             ],
             [
              1,
              "#f0f921"
             ]
            ],
            "type": "surface"
           }
          ],
          "table": [
           {
            "cells": {
             "fill": {
              "color": "#EBF0F8"
             },
             "line": {
              "color": "white"
             }
            },
            "header": {
             "fill": {
              "color": "#C8D4E3"
             },
             "line": {
              "color": "white"
             }
            },
            "type": "table"
           }
          ]
         },
         "layout": {
          "annotationdefaults": {
           "arrowcolor": "#2a3f5f",
           "arrowhead": 0,
           "arrowwidth": 1
          },
          "autotypenumbers": "strict",
          "coloraxis": {
           "colorbar": {
            "outlinewidth": 0,
            "ticks": ""
           }
          },
          "colorscale": {
           "diverging": [
            [
             0,
             "#8e0152"
            ],
            [
             0.1,
             "#c51b7d"
            ],
            [
             0.2,
             "#de77ae"
            ],
            [
             0.3,
             "#f1b6da"
            ],
            [
             0.4,
             "#fde0ef"
            ],
            [
             0.5,
             "#f7f7f7"
            ],
            [
             0.6,
             "#e6f5d0"
            ],
            [
             0.7,
             "#b8e186"
            ],
            [
             0.8,
             "#7fbc41"
            ],
            [
             0.9,
             "#4d9221"
            ],
            [
             1,
             "#276419"
            ]
           ],
           "sequential": [
            [
             0,
             "#0d0887"
            ],
            [
             0.1111111111111111,
             "#46039f"
            ],
            [
             0.2222222222222222,
             "#7201a8"
            ],
            [
             0.3333333333333333,
             "#9c179e"
            ],
            [
             0.4444444444444444,
             "#bd3786"
            ],
            [
             0.5555555555555556,
             "#d8576b"
            ],
            [
             0.6666666666666666,
             "#ed7953"
            ],
            [
             0.7777777777777778,
             "#fb9f3a"
            ],
            [
             0.8888888888888888,
             "#fdca26"
            ],
            [
             1,
             "#f0f921"
            ]
           ],
           "sequentialminus": [
            [
             0,
             "#0d0887"
            ],
            [
             0.1111111111111111,
             "#46039f"
            ],
            [
             0.2222222222222222,
             "#7201a8"
            ],
            [
             0.3333333333333333,
             "#9c179e"
            ],
            [
             0.4444444444444444,
             "#bd3786"
            ],
            [
             0.5555555555555556,
             "#d8576b"
            ],
            [
             0.6666666666666666,
             "#ed7953"
            ],
            [
             0.7777777777777778,
             "#fb9f3a"
            ],
            [
             0.8888888888888888,
             "#fdca26"
            ],
            [
             1,
             "#f0f921"
            ]
           ]
          },
          "colorway": [
           "#636efa",
           "#EF553B",
           "#00cc96",
           "#ab63fa",
           "#FFA15A",
           "#19d3f3",
           "#FF6692",
           "#B6E880",
           "#FF97FF",
           "#FECB52"
          ],
          "font": {
           "color": "#2a3f5f"
          },
          "geo": {
           "bgcolor": "white",
           "lakecolor": "white",
           "landcolor": "#E5ECF6",
           "showlakes": true,
           "showland": true,
           "subunitcolor": "white"
          },
          "hoverlabel": {
           "align": "left"
          },
          "hovermode": "closest",
          "mapbox": {
           "style": "light"
          },
          "paper_bgcolor": "white",
          "plot_bgcolor": "#E5ECF6",
          "polar": {
           "angularaxis": {
            "gridcolor": "white",
            "linecolor": "white",
            "ticks": ""
           },
           "bgcolor": "#E5ECF6",
           "radialaxis": {
            "gridcolor": "white",
            "linecolor": "white",
            "ticks": ""
           }
          },
          "scene": {
           "xaxis": {
            "backgroundcolor": "#E5ECF6",
            "gridcolor": "white",
            "gridwidth": 2,
            "linecolor": "white",
            "showbackground": true,
            "ticks": "",
            "zerolinecolor": "white"
           },
           "yaxis": {
            "backgroundcolor": "#E5ECF6",
            "gridcolor": "white",
            "gridwidth": 2,
            "linecolor": "white",
            "showbackground": true,
            "ticks": "",
            "zerolinecolor": "white"
           },
           "zaxis": {
            "backgroundcolor": "#E5ECF6",
            "gridcolor": "white",
            "gridwidth": 2,
            "linecolor": "white",
            "showbackground": true,
            "ticks": "",
            "zerolinecolor": "white"
           }
          },
          "shapedefaults": {
           "line": {
            "color": "#2a3f5f"
           }
          },
          "ternary": {
           "aaxis": {
            "gridcolor": "white",
            "linecolor": "white",
            "ticks": ""
           },
           "baxis": {
            "gridcolor": "white",
            "linecolor": "white",
            "ticks": ""
           },
           "bgcolor": "#E5ECF6",
           "caxis": {
            "gridcolor": "white",
            "linecolor": "white",
            "ticks": ""
           }
          },
          "title": {
           "x": 0.05
          },
          "xaxis": {
           "automargin": true,
           "gridcolor": "white",
           "linecolor": "white",
           "ticks": "",
           "title": {
            "standoff": 15
           },
           "zerolinecolor": "white",
           "zerolinewidth": 2
          },
          "yaxis": {
           "automargin": true,
           "gridcolor": "white",
           "linecolor": "white",
           "ticks": "",
           "title": {
            "standoff": 15
           },
           "zerolinecolor": "white",
           "zerolinewidth": 2
          }
         }
        },
        "title": {
         "text": "Evolution along day"
        },
        "width": 1200,
        "xaxis": {
         "anchor": "y",
         "domain": [
          0,
          0.45
         ],
         "title": {
          "text": "Weekly_Sales"
         }
        },
        "xaxis2": {
         "anchor": "y2",
         "domain": [
          0.55,
          1
         ],
         "title": {
          "text": "Holiday_Flag"
         }
        },
        "xaxis3": {
         "anchor": "y3",
         "domain": [
          0,
          0.45
         ],
         "title": {
          "text": "Temperature"
         }
        },
        "xaxis4": {
         "anchor": "y4",
         "domain": [
          0.55,
          1
         ],
         "title": {
          "text": "Fuel_Price"
         }
        },
        "xaxis5": {
         "anchor": "y5",
         "domain": [
          0,
          0.45
         ],
         "title": {
          "text": "CPI"
         }
        },
        "xaxis6": {
         "anchor": "y6",
         "domain": [
          0.55,
          1
         ],
         "title": {
          "text": "Unemployment"
         }
        },
        "yaxis": {
         "anchor": "x",
         "domain": [
          0.7333333333333333,
          1
         ]
        },
        "yaxis2": {
         "anchor": "x2",
         "domain": [
          0.7333333333333333,
          1
         ]
        },
        "yaxis3": {
         "anchor": "x3",
         "domain": [
          0.36666666666666664,
          0.6333333333333333
         ]
        },
        "yaxis4": {
         "anchor": "x4",
         "domain": [
          0.36666666666666664,
          0.6333333333333333
         ]
        },
        "yaxis5": {
         "anchor": "x5",
         "domain": [
          0,
          0.26666666666666666
         ]
        },
        "yaxis6": {
         "anchor": "x6",
         "domain": [
          0,
          0.26666666666666666
         ]
        }
       }
      }
     },
     "metadata": {},
     "output_type": "display_data"
    }
   ],
   "source": [
    "import plotly.graph_objects as go\n",
    "from plotly.subplots import make_subplots\n",
    "\n",
    "x_axis = \"day\"\n",
    "\n",
    "cols = [\"Weekly_Sales\", \"Holiday_Flag\", \"Temperature\", \"Fuel_Price\", \"CPI\", \"Unemployment\"]\n",
    "\n",
    "wsales_df_for_viz = wsales_df.groupby(by=x_axis, as_index=False)[cols].mean()\n",
    "\n",
    "fig = make_subplots(rows=3, cols=2)\n",
    "\n",
    "positions = [(r, c) for r in range(1, 4) for c in range(1, 3)]\n",
    "\n",
    "for i, col in enumerate(cols):\n",
    "    row, col_pos = positions[i]\n",
    "\n",
    "    fig.add_trace(go.Bar(\n",
    "        x=wsales_df_for_viz[x_axis], y=wsales_df_for_viz[col]\n",
    "    ),\n",
    "    row=row,\n",
    "    col=col_pos\n",
    "    )\n",
    "    axis_num = i + 1\n",
    "    fig.update_layout({f\"xaxis{axis_num}\": dict(title=col)})\n",
    "\n",
    "fig.update_layout(\n",
    "    height=700,\n",
    "    width=1200,\n",
    "    title_text=f\"Evolution along {x_axis}\",\n",
    "    showlegend=False\n",
    ")\n",
    "\n",
    "fig.show()"
   ]
  },
  {
   "cell_type": "markdown",
   "id": "e2fb2caf",
   "metadata": {},
   "source": [
    "The variables are quite independent in the data, which is good. \\\n",
    "Unemployment has a few big outliers. \\\n",
    "Holiday_Flag doesn't seem to have much of an effect on average. \\\n",
    "There is a big gap in the CPI data."
   ]
  }
 ],
 "metadata": {
  "kernelspec": {
   "display_name": "walmart_env",
   "language": "python",
   "name": "python3"
  },
  "language_info": {
   "name": "python",
   "version": "3.13.5"
  }
 },
 "nbformat": 4,
 "nbformat_minor": 5
}
